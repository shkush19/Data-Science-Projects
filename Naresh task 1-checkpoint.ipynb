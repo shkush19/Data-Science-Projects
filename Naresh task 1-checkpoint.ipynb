{
 "cells": [
  {
   "cell_type": "code",
   "execution_count": 1,
   "id": "f6bf0fdc",
   "metadata": {},
   "outputs": [],
   "source": [
    "import sys\n",
    "import keyword\n",
    "import operator\n",
    "from datetime import datetime\n",
    "import os"
   ]
  },
  {
   "cell_type": "code",
   "execution_count": 2,
   "id": "af770c45",
   "metadata": {},
   "outputs": [
    {
     "name": "stdout",
     "output_type": "stream",
     "text": [
      "['False', 'None', 'True', 'and', 'as', 'assert', 'async', 'await', 'break', 'class', 'continue', 'def', 'del', 'elif', 'else', 'except', 'finally', 'for', 'from', 'global', 'if', 'import', 'in', 'is', 'lambda', 'nonlocal', 'not', 'or', 'pass', 'raise', 'return', 'try', 'while', 'with', 'yield']\n"
     ]
    }
   ],
   "source": [
    "print(keyword.kwlist)"
   ]
  },
  {
   "cell_type": "code",
   "execution_count": 3,
   "id": "b3dc6f13",
   "metadata": {},
   "outputs": [
    {
     "data": {
      "text/plain": [
       "35"
      ]
     },
     "execution_count": 3,
     "metadata": {},
     "output_type": "execute_result"
    }
   ],
   "source": [
    "len(keyword.kwlist)"
   ]
  },
  {
   "cell_type": "markdown",
   "id": "b0412d3d",
   "metadata": {},
   "source": [
    "###### Identifiers\n",
    "\n",
    "\n",
    "identifier1=30\n"
   ]
  },
  {
   "cell_type": "code",
   "execution_count": 5,
   "id": "00958473",
   "metadata": {},
   "outputs": [],
   "source": [
    "identifier_1=40"
   ]
  },
  {
   "cell_type": "code",
   "execution_count": 7,
   "id": "88066b4f",
   "metadata": {
    "scrolled": true
   },
   "outputs": [
    {
     "ename": "SyntaxError",
     "evalue": "invalid syntax (2488659358.py, line 1)",
     "output_type": "error",
     "traceback": [
      "\u001b[1;36m  Cell \u001b[1;32mIn[7], line 1\u001b[1;36m\u001b[0m\n\u001b[1;33m    identifier 1=40 # gives error because name identifier 1 is not valid\u001b[0m\n\u001b[1;37m               ^\u001b[0m\n\u001b[1;31mSyntaxError\u001b[0m\u001b[1;31m:\u001b[0m invalid syntax\n"
     ]
    }
   ],
   "source": [
    "identifier 1=40 # gives error because name identifier 1 is not valid "
   ]
  },
  {
   "cell_type": "markdown",
   "id": "99981fea",
   "metadata": {},
   "source": [
    "##### '''Practise 1 for multiline comments'''\n",
    "Val1 = 19"
   ]
  },
  {
   "cell_type": "code",
   "execution_count": 10,
   "id": "9e01a9c8",
   "metadata": {},
   "outputs": [
    {
     "ename": "SyntaxError",
     "evalue": "unterminated string literal (detected at line 1) (2530759151.py, line 1)",
     "output_type": "error",
     "traceback": [
      "\u001b[1;36m  Cell \u001b[1;32mIn[10], line 1\u001b[1;36m\u001b[0m\n\u001b[1;33m    'Practise for\u001b[0m\n\u001b[1;37m    ^\u001b[0m\n\u001b[1;31mSyntaxError\u001b[0m\u001b[1;31m:\u001b[0m unterminated string literal (detected at line 1)\n"
     ]
    }
   ],
   "source": [
    "'Practise for \n",
    "Multiline\n",
    "Comments' # throw error as '' not allowed for multiple line comments\n",
    "\n",
    "\n",
    "VAL1 = 89"
   ]
  },
  {
   "cell_type": "code",
   "execution_count": 11,
   "id": "19d1c2a5",
   "metadata": {},
   "outputs": [],
   "source": [
    "\"\"\"Practise for \n",
    "Multiline\n",
    "Comments\"\"\"\n",
    "\n",
    "Val1 = 88"
   ]
  },
  {
   "cell_type": "markdown",
   "id": "118ea8a3",
   "metadata": {},
   "source": [
    "#### DATATYPES\n"
   ]
  },
  {
   "cell_type": "code",
   "execution_count": 12,
   "id": "0582f361",
   "metadata": {},
   "outputs": [
    {
     "name": "stdout",
     "output_type": "stream",
     "text": [
      "12\n"
     ]
    }
   ],
   "source": [
    "val1=12\n",
    "print(val1)"
   ]
  },
  {
   "cell_type": "code",
   "execution_count": 13,
   "id": "6af3441d",
   "metadata": {},
   "outputs": [
    {
     "name": "stdout",
     "output_type": "stream",
     "text": [
      "<class 'int'>\n"
     ]
    }
   ],
   "source": [
    "print(type(val1))"
   ]
  },
  {
   "cell_type": "code",
   "execution_count": 14,
   "id": "e2d964fd",
   "metadata": {},
   "outputs": [
    {
     "name": "stdout",
     "output_type": "stream",
     "text": [
      "28\n"
     ]
    }
   ],
   "source": [
    "print(sys.getsizeof(val1))"
   ]
  },
  {
   "cell_type": "code",
   "execution_count": 18,
   "id": "7b6a833b",
   "metadata": {},
   "outputs": [
    {
     "name": "stdout",
     "output_type": "stream",
     "text": [
      "12 is integer? True\n"
     ]
    }
   ],
   "source": [
    "print(val1, \"is integer?\", isinstance(val1, int))"
   ]
  },
  {
   "cell_type": "code",
   "execution_count": 23,
   "id": "aa13dafd",
   "metadata": {},
   "outputs": [
    {
     "name": "stdout",
     "output_type": "stream",
     "text": [
      "66.89\n"
     ]
    }
   ],
   "source": [
    "num3=66.89\n",
    "print(num3)"
   ]
  },
  {
   "cell_type": "code",
   "execution_count": 24,
   "id": "2c37c119",
   "metadata": {},
   "outputs": [
    {
     "name": "stdout",
     "output_type": "stream",
     "text": [
      "<class 'float'>\n"
     ]
    }
   ],
   "source": [
    "print(type(num3))"
   ]
  },
  {
   "cell_type": "code",
   "execution_count": 25,
   "id": "72583abe",
   "metadata": {},
   "outputs": [
    {
     "name": "stdout",
     "output_type": "stream",
     "text": [
      "66.89 is not float?\n"
     ]
    }
   ],
   "source": [
    "print(num3, \"is not float?\")"
   ]
  },
  {
   "cell_type": "code",
   "execution_count": 26,
   "id": "13ae21ea",
   "metadata": {},
   "outputs": [
    {
     "name": "stdout",
     "output_type": "stream",
     "text": [
      "66.89 is not float? True\n"
     ]
    }
   ],
   "source": [
    "print(num3, \"is float?\", isinstance(num3, float))"
   ]
  },
  {
   "cell_type": "code",
   "execution_count": 27,
   "id": "ee845e5b",
   "metadata": {},
   "outputs": [
    {
     "data": {
      "text/plain": [
       "24"
      ]
     },
     "execution_count": 27,
     "metadata": {},
     "output_type": "execute_result"
    }
   ],
   "source": [
    "sys.getsizeof(float())"
   ]
  },
  {
   "cell_type": "markdown",
   "id": "a9dab786",
   "metadata": {},
   "source": [
    "##### Boolean"
   ]
  },
  {
   "cell_type": "code",
   "execution_count": 41,
   "id": "54e7cd9d",
   "metadata": {},
   "outputs": [],
   "source": [
    "bool1 = True"
   ]
  },
  {
   "cell_type": "code",
   "execution_count": 42,
   "id": "4d27d50a",
   "metadata": {},
   "outputs": [],
   "source": [
    "bool2 = False"
   ]
  },
  {
   "cell_type": "code",
   "execution_count": 43,
   "id": "194188fe",
   "metadata": {},
   "outputs": [
    {
     "name": "stdout",
     "output_type": "stream",
     "text": [
      "<class 'bool'>\n"
     ]
    }
   ],
   "source": [
    "print(type(bool1))"
   ]
  },
  {
   "cell_type": "code",
   "execution_count": 44,
   "id": "30af3d05",
   "metadata": {},
   "outputs": [
    {
     "name": "stdout",
     "output_type": "stream",
     "text": [
      "<class 'bool'>\n"
     ]
    }
   ],
   "source": [
    "print(type(bool2))"
   ]
  },
  {
   "cell_type": "code",
   "execution_count": 45,
   "id": "be466819",
   "metadata": {},
   "outputs": [
    {
     "name": "stdout",
     "output_type": "stream",
     "text": [
      "True is boolean True\n"
     ]
    }
   ],
   "source": [
    "print(bool1, \"is boolean\", isinstance (bool1, bool))"
   ]
  },
  {
   "cell_type": "markdown",
   "id": "eb05c30e",
   "metadata": {},
   "source": [
    "###### String"
   ]
  },
  {
   "cell_type": "code",
   "execution_count": 46,
   "id": "525eb3d9",
   "metadata": {},
   "outputs": [
    {
     "name": "stdout",
     "output_type": "stream",
     "text": [
      "My name is Shikha\n"
     ]
    }
   ],
   "source": [
    "string1= \"My name is Shikha\"\n",
    "print(string1)"
   ]
  },
  {
   "cell_type": "code",
   "execution_count": 47,
   "id": "b9a7c129",
   "metadata": {},
   "outputs": [
    {
     "name": "stdout",
     "output_type": "stream",
     "text": [
      "Starting with Python\n"
     ]
    }
   ],
   "source": [
    "string2= \"Starting with Python\"\n",
    "print(string2)"
   ]
  },
  {
   "cell_type": "code",
   "execution_count": 48,
   "id": "f11a0af1",
   "metadata": {},
   "outputs": [
    {
     "ename": "SyntaxError",
     "evalue": "unterminated string literal (detected at line 1) (1505152428.py, line 1)",
     "output_type": "error",
     "traceback": [
      "\u001b[1;36m  Cell \u001b[1;32mIn[48], line 1\u001b[1;36m\u001b[0m\n\u001b[1;33m    string3= \"studying in best\u001b[0m\n\u001b[1;37m             ^\u001b[0m\n\u001b[1;31mSyntaxError\u001b[0m\u001b[1;31m:\u001b[0m unterminated string literal (detected at line 1)\n"
     ]
    }
   ],
   "source": [
    "string3= \"studying in best\n",
    "              Institute\""
   ]
  },
  {
   "cell_type": "code",
   "execution_count": 52,
   "id": "906cd1b5",
   "metadata": {},
   "outputs": [
    {
     "name": "stdout",
     "output_type": "stream",
     "text": [
      "studying in best\n",
      "              Institute\n"
     ]
    }
   ],
   "source": [
    "string3= '''studying in best\n",
    "              Institute'''\n",
    "print(string3)"
   ]
  },
  {
   "cell_type": "code",
   "execution_count": 53,
   "id": "fb132e94",
   "metadata": {},
   "outputs": [
    {
     "name": "stdout",
     "output_type": "stream",
     "text": [
      "Lilypansymarrigoldrosedahilia\n"
     ]
    }
   ],
   "source": [
    "string_4= ('Lily'\n",
    "          'pansy'\n",
    "          'marrigold'\n",
    "          'rose'\n",
    "          'dahilia')  \n",
    "print(string_4)\n",
    "        "
   ]
  },
  {
   "cell_type": "code",
   "execution_count": 56,
   "id": "077a3465",
   "metadata": {},
   "outputs": [
    {
     "name": "stdout",
     "output_type": "stream",
     "text": [
      "Lily pansy marrigold rose dahilia\n"
     ]
    }
   ],
   "source": [
    "string_4= ('Lily ' \n",
    "          'pansy '\n",
    "          'marrigold '\n",
    "          'rose '\n",
    "          'dahilia')  \n",
    "print(string_4)"
   ]
  },
  {
   "cell_type": "code",
   "execution_count": 58,
   "id": "9f5dcc6e",
   "metadata": {},
   "outputs": [
    {
     "data": {
      "text/plain": [
       "'shikha shikha shikha shikha shikha shikha shikha shikha shikha shikha '"
      ]
     },
     "execution_count": 58,
     "metadata": {},
     "output_type": "execute_result"
    }
   ],
   "source": [
    "string_6= 'shikha '\n",
    "string_6= string_6*10\n",
    "string_6"
   ]
  },
  {
   "cell_type": "code",
   "execution_count": 60,
   "id": "8593106b",
   "metadata": {},
   "outputs": [
    {
     "data": {
      "text/plain": [
       "70"
      ]
     },
     "execution_count": 60,
     "metadata": {},
     "output_type": "execute_result"
    }
   ],
   "source": [
    "len(string_6)"
   ]
  },
  {
   "cell_type": "code",
   "execution_count": 61,
   "id": "82dce498",
   "metadata": {},
   "outputs": [
    {
     "data": {
      "text/plain": [
       "7"
      ]
     },
     "execution_count": 61,
     "metadata": {},
     "output_type": "execute_result"
    }
   ],
   "source": [
    "string_6= 'shikha '\n",
    "len(string_6)"
   ]
  },
  {
   "cell_type": "code",
   "execution_count": 62,
   "id": "542dd612",
   "metadata": {},
   "outputs": [
    {
     "data": {
      "text/plain": [
       "'My name is Shikha'"
      ]
     },
     "execution_count": 62,
     "metadata": {},
     "output_type": "execute_result"
    }
   ],
   "source": [
    "string1"
   ]
  },
  {
   "cell_type": "code",
   "execution_count": 63,
   "id": "50f739f4",
   "metadata": {},
   "outputs": [
    {
     "data": {
      "text/plain": [
       "'n'"
      ]
     },
     "execution_count": 63,
     "metadata": {},
     "output_type": "execute_result"
    }
   ],
   "source": [
    "string1[3]"
   ]
  },
  {
   "cell_type": "code",
   "execution_count": 64,
   "id": "a9f41f3d",
   "metadata": {},
   "outputs": [
    {
     "data": {
      "text/plain": [
       "'s'"
      ]
     },
     "execution_count": 64,
     "metadata": {},
     "output_type": "execute_result"
    }
   ],
   "source": [
    "string1[9]"
   ]
  },
  {
   "cell_type": "code",
   "execution_count": 65,
   "id": "e82f209f",
   "metadata": {},
   "outputs": [
    {
     "data": {
      "text/plain": [
       "'h'"
      ]
     },
     "execution_count": 65,
     "metadata": {},
     "output_type": "execute_result"
    }
   ],
   "source": [
    "string1[12]"
   ]
  },
  {
   "cell_type": "code",
   "execution_count": 69,
   "id": "f605e83d",
   "metadata": {},
   "outputs": [
    {
     "data": {
      "text/plain": [
       "'h'"
      ]
     },
     "execution_count": 69,
     "metadata": {},
     "output_type": "execute_result"
    }
   ],
   "source": [
    "string1[len(string1)-2]"
   ]
  },
  {
   "cell_type": "code",
   "execution_count": 67,
   "id": "1fe0ea7e",
   "metadata": {},
   "outputs": [
    {
     "data": {
      "text/plain": [
       "'i'"
      ]
     },
     "execution_count": 67,
     "metadata": {},
     "output_type": "execute_result"
    }
   ],
   "source": [
    "string1[-9]"
   ]
  },
  {
   "cell_type": "code",
   "execution_count": 68,
   "id": "5f02b1cd",
   "metadata": {},
   "outputs": [
    {
     "data": {
      "text/plain": [
       "' '"
      ]
     },
     "execution_count": 68,
     "metadata": {},
     "output_type": "execute_result"
    }
   ],
   "source": [
    "string1[-10]"
   ]
  },
  {
   "cell_type": "markdown",
   "id": "e61c17c2",
   "metadata": {},
   "source": [
    "###### Slicing\n"
   ]
  },
  {
   "cell_type": "code",
   "execution_count": 70,
   "id": "b9395e3d",
   "metadata": {},
   "outputs": [
    {
     "data": {
      "text/plain": [
       "'My n'"
      ]
     },
     "execution_count": 70,
     "metadata": {},
     "output_type": "execute_result"
    }
   ],
   "source": [
    "string1[0:4]"
   ]
  },
  {
   "cell_type": "code",
   "execution_count": 71,
   "id": "b92e2923",
   "metadata": {},
   "outputs": [
    {
     "data": {
      "text/plain": [
       "'ame is Shikh'"
      ]
     },
     "execution_count": 71,
     "metadata": {},
     "output_type": "execute_result"
    }
   ],
   "source": [
    "string1[4:-1]"
   ]
  },
  {
   "cell_type": "code",
   "execution_count": 72,
   "id": "e9ff98bd",
   "metadata": {},
   "outputs": [
    {
     "data": {
      "text/plain": [
       "'name'"
      ]
     },
     "execution_count": 72,
     "metadata": {},
     "output_type": "execute_result"
    }
   ],
   "source": [
    "string1[3:7]"
   ]
  },
  {
   "cell_type": "code",
   "execution_count": 73,
   "id": "bce41f66",
   "metadata": {},
   "outputs": [
    {
     "data": {
      "text/plain": [
       "'Shikha'"
      ]
     },
     "execution_count": 73,
     "metadata": {},
     "output_type": "execute_result"
    }
   ],
   "source": [
    "string1[-6:]"
   ]
  },
  {
   "cell_type": "code",
   "execution_count": 74,
   "id": "720f6684",
   "metadata": {},
   "outputs": [
    {
     "data": {
      "text/plain": [
       "''"
      ]
     },
     "execution_count": 74,
     "metadata": {},
     "output_type": "execute_result"
    }
   ],
   "source": [
    "string1[-10:3]"
   ]
  },
  {
   "cell_type": "code",
   "execution_count": 75,
   "id": "29fc53ac",
   "metadata": {},
   "outputs": [
    {
     "data": {
      "text/plain": [
       "' '"
      ]
     },
     "execution_count": 75,
     "metadata": {},
     "output_type": "execute_result"
    }
   ],
   "source": [
    "string1[-10:8]"
   ]
  },
  {
   "cell_type": "code",
   "execution_count": 76,
   "id": "2f9acdad",
   "metadata": {},
   "outputs": [
    {
     "data": {
      "text/plain": [
       "' i'"
      ]
     },
     "execution_count": 76,
     "metadata": {},
     "output_type": "execute_result"
    }
   ],
   "source": [
    "string1[-10:9]"
   ]
  },
  {
   "cell_type": "code",
   "execution_count": 77,
   "id": "f6445b07",
   "metadata": {},
   "outputs": [
    {
     "data": {
      "text/plain": [
       "'My name is Shikha'"
      ]
     },
     "execution_count": 77,
     "metadata": {},
     "output_type": "execute_result"
    }
   ],
   "source": [
    "string1[:]"
   ]
  },
  {
   "cell_type": "code",
   "execution_count": 78,
   "id": "0b10efb0",
   "metadata": {},
   "outputs": [
    {
     "data": {
      "text/plain": [
       "'My name is Shikha'"
      ]
     },
     "execution_count": 78,
     "metadata": {},
     "output_type": "execute_result"
    }
   ],
   "source": [
    "string1\n"
   ]
  },
  {
   "cell_type": "code",
   "execution_count": null,
   "id": "5878d6f7",
   "metadata": {},
   "outputs": [],
   "source": []
  },
  {
   "cell_type": "code",
   "execution_count": 80,
   "id": "41a16dec",
   "metadata": {},
   "outputs": [
    {
     "name": "stdout",
     "output_type": "stream",
     "text": [
      "2\n"
     ]
    }
   ],
   "source": [
    "print(True*2)"
   ]
  },
  {
   "cell_type": "code",
   "execution_count": 81,
   "id": "2841476a",
   "metadata": {},
   "outputs": [],
   "source": [
    "poll_data=7,"
   ]
  },
  {
   "cell_type": "code",
   "execution_count": 82,
   "id": "b1ea027f",
   "metadata": {},
   "outputs": [
    {
     "data": {
      "text/plain": [
       "tuple"
      ]
     },
     "execution_count": 82,
     "metadata": {},
     "output_type": "execute_result"
    }
   ],
   "source": [
    "type(poll_data)"
   ]
  },
  {
   "cell_type": "markdown",
   "id": "eecf66f2",
   "metadata": {},
   "source": [
    "### Type casting"
   ]
  },
  {
   "cell_type": "code",
   "execution_count": 83,
   "id": "d1c72a66",
   "metadata": {},
   "outputs": [
    {
     "ename": "ValueError",
     "evalue": "invalid literal for int() with base 10: '20.00'",
     "output_type": "error",
     "traceback": [
      "\u001b[1;31m---------------------------------------------------------------------------\u001b[0m",
      "\u001b[1;31mValueError\u001b[0m                                Traceback (most recent call last)",
      "Cell \u001b[1;32mIn[83], line 2\u001b[0m\n\u001b[0;32m      1\u001b[0m s\u001b[38;5;241m=\u001b[39m\u001b[38;5;241m20.00\u001b[39m\n\u001b[1;32m----> 2\u001b[0m s\u001b[38;5;241m=\u001b[39m\u001b[38;5;28mint\u001b[39m(\u001b[38;5;124m\"\u001b[39m\u001b[38;5;124m20.00\u001b[39m\u001b[38;5;124m\"\u001b[39m)\n\u001b[0;32m      3\u001b[0m \u001b[38;5;28mprint\u001b[39m(s)\n",
      "\u001b[1;31mValueError\u001b[0m: invalid literal for int() with base 10: '20.00'"
     ]
    }
   ],
   "source": [
    "s=20.00\n",
    "s=int(\"20.00\")\n",
    "print(s)"
   ]
  },
  {
   "cell_type": "code",
   "execution_count": 84,
   "id": "eb8ac6e1",
   "metadata": {},
   "outputs": [
    {
     "name": "stdout",
     "output_type": "stream",
     "text": [
      "89\n",
      "48.0\n"
     ]
    }
   ],
   "source": [
    "r1=int(89)\n",
    "s1=float(48)\n",
    "print(r1)\n",
    "print(s1)"
   ]
  },
  {
   "cell_type": "code",
   "execution_count": 85,
   "id": "cf61697e",
   "metadata": {},
   "outputs": [
    {
     "name": "stdout",
     "output_type": "stream",
     "text": [
      "89\n",
      "True\n"
     ]
    }
   ],
   "source": [
    "r1=int(89)\n",
    "s1=bool(r1)\n",
    "print(r1)\n",
    "print(s1)"
   ]
  },
  {
   "cell_type": "code",
   "execution_count": 87,
   "id": "e1734aa2",
   "metadata": {},
   "outputs": [
    {
     "name": "stdout",
     "output_type": "stream",
     "text": [
      "-34\n",
      "True\n"
     ]
    }
   ],
   "source": [
    "r1=int(-34)\n",
    "s1=bool(r1)\n",
    "print(r1)\n",
    "print(s1)"
   ]
  },
  {
   "cell_type": "code",
   "execution_count": 88,
   "id": "63f14ae0",
   "metadata": {},
   "outputs": [
    {
     "name": "stdout",
     "output_type": "stream",
     "text": [
      "0\n",
      "False\n"
     ]
    }
   ],
   "source": [
    "r1=int(0)\n",
    "s1=bool(r1)\n",
    "print(r1)\n",
    "print(s1)"
   ]
  },
  {
   "cell_type": "code",
   "execution_count": 92,
   "id": "62abe28d",
   "metadata": {},
   "outputs": [
    {
     "name": "stdout",
     "output_type": "stream",
     "text": [
      "0\n",
      "98\n"
     ]
    }
   ],
   "source": [
    "r1=int(0)\n",
    "s1=str(98)\n",
    "print(r1)\n",
    "print(s1)"
   ]
  },
  {
   "cell_type": "code",
   "execution_count": null,
   "id": "d897ed4c",
   "metadata": {},
   "outputs": [],
   "source": []
  }
 ],
 "metadata": {
  "kernelspec": {
   "display_name": "Python 3 (ipykernel)",
   "language": "python",
   "name": "python3"
  },
  "language_info": {
   "codemirror_mode": {
    "name": "ipython",
    "version": 3
   },
   "file_extension": ".py",
   "mimetype": "text/x-python",
   "name": "python",
   "nbconvert_exporter": "python",
   "pygments_lexer": "ipython3",
   "version": "3.11.5"
  }
 },
 "nbformat": 4,
 "nbformat_minor": 5
}
