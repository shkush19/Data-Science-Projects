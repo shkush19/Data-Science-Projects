{
 "cells": [
  {
   "cell_type": "code",
   "execution_count": 4,
   "id": "105e77e9-9ed3-4bb8-ae17-47c57e0f360a",
   "metadata": {},
   "outputs": [
    {
     "data": {
      "text/plain": [
       "'3.11.7 | packaged by Anaconda, Inc. | (main, Dec 15 2023, 18:05:47) [MSC v.1916 64 bit (AMD64)]'"
      ]
     },
     "execution_count": 4,
     "metadata": {},
     "output_type": "execute_result"
    }
   ],
   "source": [
    "import sys\n",
    "sys.version"
   ]
  },
  {
   "cell_type": "code",
   "execution_count": 5,
   "id": "f34fa4fa-f214-465d-95f0-0d0cc2804f2a",
   "metadata": {},
   "outputs": [
    {
     "data": {
      "text/plain": [
       "10.0"
      ]
     },
     "execution_count": 5,
     "metadata": {},
     "output_type": "execute_result"
    }
   ],
   "source": [
    "import math\n",
    "math.sqrt(100)"
   ]
  },
  {
   "cell_type": "code",
   "execution_count": 6,
   "id": "3019527a-ddcb-4381-8041-48ba8414949f",
   "metadata": {},
   "outputs": [
    {
     "data": {
      "text/plain": [
       "10"
      ]
     },
     "execution_count": 6,
     "metadata": {},
     "output_type": "execute_result"
    }
   ],
   "source": [
    "round(math.sqrt(100))"
   ]
  },
  {
   "cell_type": "code",
   "execution_count": 6,
   "id": "4a3a2142-a82a-470c-bce6-3e6f1c2979dd",
   "metadata": {},
   "outputs": [
    {
     "ename": "SyntaxError",
     "evalue": "unterminated string literal (detected at line 1) (3226694218.py, line 1)",
     "output_type": "error",
     "traceback": [
      "\u001b[1;36m  Cell \u001b[1;32mIn[6], line 1\u001b[1;36m\u001b[0m\n\u001b[1;33m    'welcom\u001b[0m\n\u001b[1;37m    ^\u001b[0m\n\u001b[1;31mSyntaxError\u001b[0m\u001b[1;31m:\u001b[0m unterminated string literal (detected at line 1)\n"
     ]
    }
   ],
   "source": [
    "'welcom"
   ]
  },
  {
   "cell_type": "markdown",
   "id": "cb67a205-704e-46bd-b60b-53d23be10c51",
   "metadata": {},
   "source": [
    "## PYTHON IDENTIFIER "
   ]
  },
  {
   "cell_type": "code",
   "execution_count": 8,
   "id": "190536ba-fefc-431e-ae19-755d9e8987dd",
   "metadata": {},
   "outputs": [
    {
     "data": {
      "text/plain": [
       "44"
      ]
     },
     "execution_count": 8,
     "metadata": {},
     "output_type": "execute_result"
    }
   ],
   "source": [
    "A = 33\n",
    "B = 44\n",
    "C = 55\n",
    "D = 66\n",
    "\n",
    "B"
   ]
  },
  {
   "cell_type": "code",
   "execution_count": 10,
   "id": "4b1ff9e6-84ca-47be-949a-1122a04b99a6",
   "metadata": {},
   "outputs": [
    {
     "data": {
      "text/plain": [
       "(33, 44, 55, 66)"
      ]
     },
     "execution_count": 10,
     "metadata": {},
     "output_type": "execute_result"
    }
   ],
   "source": [
    "A, B, C, D"
   ]
  },
  {
   "cell_type": "code",
   "execution_count": 9,
   "id": "72d6154c-f76a-4ba6-b884-730b7375dfb9",
   "metadata": {},
   "outputs": [
    {
     "name": "stdout",
     "output_type": "stream",
     "text": [
      "33\n",
      "44\n",
      "55\n",
      "66\n"
     ]
    }
   ],
   "source": [
    "print(A)\n",
    "print(B)\n",
    "print(C)\n",
    "print(D)"
   ]
  },
  {
   "cell_type": "code",
   "execution_count": 12,
   "id": "2de6ae3e-6553-4bca-b57a-3840aa50bc1b",
   "metadata": {},
   "outputs": [
    {
     "data": {
      "text/plain": [
       "34"
      ]
     },
     "execution_count": 12,
     "metadata": {},
     "output_type": "execute_result"
    }
   ],
   "source": [
    "A = 34\n",
    "A"
   ]
  },
  {
   "cell_type": "code",
   "execution_count": 13,
   "id": "1db19b06-9372-4643-b326-c816a4e9d34b",
   "metadata": {},
   "outputs": [
    {
     "data": {
      "text/plain": [
       "140735368906568"
      ]
     },
     "execution_count": 13,
     "metadata": {},
     "output_type": "execute_result"
    }
   ],
   "source": [
    "id(A)"
   ]
  },
  {
   "cell_type": "code",
   "execution_count": 14,
   "id": "f3b67aa3-412a-4330-bbda-7d431ff20355",
   "metadata": {},
   "outputs": [
    {
     "ename": "NameError",
     "evalue": "name 'nit' is not defined",
     "output_type": "error",
     "traceback": [
      "\u001b[1;31m---------------------------------------------------------------------------\u001b[0m",
      "\u001b[1;31mNameError\u001b[0m                                 Traceback (most recent call last)",
      "Cell \u001b[1;32mIn[14], line 2\u001b[0m\n\u001b[0;32m      1\u001b[0m NIT \u001b[38;5;241m=\u001b[39m \u001b[38;5;241m35\u001b[39m\n\u001b[1;32m----> 2\u001b[0m nit\n",
      "\u001b[1;31mNameError\u001b[0m: name 'nit' is not defined"
     ]
    }
   ],
   "source": [
    "NIT = 35\n",
    "nit"
   ]
  },
  {
   "cell_type": "code",
   "execution_count": 17,
   "id": "20a6e2f0-2034-4ad7-bd99-e5b22bc04353",
   "metadata": {},
   "outputs": [
    {
     "ename": "NameError",
     "evalue": "name 'ABC' is not defined",
     "output_type": "error",
     "traceback": [
      "\u001b[1;31m---------------------------------------------------------------------------\u001b[0m",
      "\u001b[1;31mNameError\u001b[0m                                 Traceback (most recent call last)",
      "Cell \u001b[1;32mIn[17], line 2\u001b[0m\n\u001b[0;32m      1\u001b[0m abc \u001b[38;5;241m=\u001b[39m \u001b[38;5;241m67\u001b[39m\n\u001b[1;32m----> 2\u001b[0m ABC\n",
      "\u001b[1;31mNameError\u001b[0m: name 'ABC' is not defined"
     ]
    }
   ],
   "source": [
    "abc = 67\n",
    "ABC"
   ]
  },
  {
   "cell_type": "code",
   "execution_count": 18,
   "id": "ea047526-c7e6-4eed-92da-25c99dc7448b",
   "metadata": {},
   "outputs": [
    {
     "data": {
      "text/plain": [
       "4"
      ]
     },
     "execution_count": 18,
     "metadata": {},
     "output_type": "execute_result"
    }
   ],
   "source": [
    "python = 4\n",
    "python"
   ]
  },
  {
   "cell_type": "code",
   "execution_count": 19,
   "id": "6e0103f4-5f5e-450b-898c-7185145f793b",
   "metadata": {},
   "outputs": [
    {
     "data": {
      "text/plain": [
       "5"
      ]
     },
     "execution_count": 19,
     "metadata": {},
     "output_type": "execute_result"
    }
   ],
   "source": [
    "JAVA = 5\n",
    "JAVA"
   ]
  },
  {
   "cell_type": "code",
   "execution_count": 20,
   "id": "c677e5e0-1ffa-433b-873f-7b91459b951d",
   "metadata": {},
   "outputs": [
    {
     "data": {
      "text/plain": [
       "67"
      ]
     },
     "execution_count": 20,
     "metadata": {},
     "output_type": "execute_result"
    }
   ],
   "source": [
    "Jupyter = 67\n",
    "Jupyter"
   ]
  },
  {
   "cell_type": "code",
   "execution_count": 21,
   "id": "2fb451c1-98e3-43eb-a536-a7191fbb5556",
   "metadata": {},
   "outputs": [
    {
     "ename": "SyntaxError",
     "evalue": "invalid syntax (304988847.py, line 1)",
     "output_type": "error",
     "traceback": [
      "\u001b[1;36m  Cell \u001b[1;32mIn[21], line 1\u001b[1;36m\u001b[0m\n\u001b[1;33m    nit$ = 54\u001b[0m\n\u001b[1;37m       ^\u001b[0m\n\u001b[1;31mSyntaxError\u001b[0m\u001b[1;31m:\u001b[0m invalid syntax\n"
     ]
    }
   ],
   "source": [
    "nit* = 54"
   ]
  },
  {
   "cell_type": "code",
   "execution_count": 22,
   "id": "4ee0dac1-3769-43db-b14d-82ae4ff62d96",
   "metadata": {},
   "outputs": [
    {
     "data": {
      "text/plain": [
       "78"
      ]
     },
     "execution_count": 22,
     "metadata": {},
     "output_type": "execute_result"
    }
   ],
   "source": [
    "nit_ = 78\n",
    "nit_"
   ]
  },
  {
   "cell_type": "code",
   "execution_count": 24,
   "id": "7fccc218-9b23-40a9-9f73-b3a6dcbec07d",
   "metadata": {},
   "outputs": [
    {
     "data": {
      "text/plain": [
       "80"
      ]
     },
     "execution_count": 24,
     "metadata": {},
     "output_type": "execute_result"
    }
   ],
   "source": [
    "train_ = 80\n",
    "train_"
   ]
  },
  {
   "cell_type": "code",
   "execution_count": 25,
   "id": "e8ffdd51-fdf4-4360-879c-66b16d6750fb",
   "metadata": {},
   "outputs": [
    {
     "ename": "SyntaxError",
     "evalue": "invalid syntax (3475252196.py, line 1)",
     "output_type": "error",
     "traceback": [
      "\u001b[1;36m  Cell \u001b[1;32mIn[25], line 1\u001b[1;36m\u001b[0m\n\u001b[1;33m    if = 78\u001b[0m\n\u001b[1;37m       ^\u001b[0m\n\u001b[1;31mSyntaxError\u001b[0m\u001b[1;31m:\u001b[0m invalid syntax\n"
     ]
    }
   ],
   "source": [
    "if = 78"
   ]
  },
  {
   "cell_type": "code",
   "execution_count": 29,
   "id": "4cf0ffe4-9160-4d08-90ee-4ada3cad40a9",
   "metadata": {},
   "outputs": [
    {
     "data": {
      "text/plain": [
       "['False',\n",
       " 'None',\n",
       " 'True',\n",
       " 'and',\n",
       " 'as',\n",
       " 'assert',\n",
       " 'async',\n",
       " 'await',\n",
       " 'break',\n",
       " 'class',\n",
       " 'continue',\n",
       " 'def',\n",
       " 'del',\n",
       " 'elif',\n",
       " 'else',\n",
       " 'except',\n",
       " 'finally',\n",
       " 'for',\n",
       " 'from',\n",
       " 'global',\n",
       " 'if',\n",
       " 'import',\n",
       " 'in',\n",
       " 'is',\n",
       " 'lambda',\n",
       " 'nonlocal',\n",
       " 'not',\n",
       " 'or',\n",
       " 'pass',\n",
       " 'raise',\n",
       " 'return',\n",
       " 'try',\n",
       " 'while',\n",
       " 'with',\n",
       " 'yield']"
      ]
     },
     "execution_count": 29,
     "metadata": {},
     "output_type": "execute_result"
    }
   ],
   "source": [
    "import keyword\n",
    "keyword.kwlist\n"
   ]
  },
  {
   "cell_type": "code",
   "execution_count": 28,
   "id": "5c6e4b38-bc1f-4737-a482-29ae05d2b269",
   "metadata": {},
   "outputs": [
    {
     "name": "stdout",
     "output_type": "stream",
     "text": [
      "35\n"
     ]
    }
   ],
   "source": [
    "print(len(keyword.kwlist))"
   ]
  },
  {
   "cell_type": "code",
   "execution_count": 32,
   "id": "c580067c-0f74-4903-bdea-5837397d2c57",
   "metadata": {},
   "outputs": [
    {
     "data": {
      "text/plain": [
       "78"
      ]
     },
     "execution_count": 32,
     "metadata": {},
     "output_type": "execute_result"
    }
   ],
   "source": [
    "local = 78\n",
    "local "
   ]
  },
  {
   "cell_type": "code",
   "execution_count": 33,
   "id": "57ba1178-6e82-4ee4-99c7-32e6985a35c6",
   "metadata": {},
   "outputs": [
    {
     "ename": "SyntaxError",
     "evalue": "invalid syntax (1109171799.py, line 1)",
     "output_type": "error",
     "traceback": [
      "\u001b[1;36m  Cell \u001b[1;32mIn[33], line 1\u001b[1;36m\u001b[0m\n\u001b[1;33m    nonlocal = 89\u001b[0m\n\u001b[1;37m             ^\u001b[0m\n\u001b[1;31mSyntaxError\u001b[0m\u001b[1;31m:\u001b[0m invalid syntax\n"
     ]
    }
   ],
   "source": [
    "nonlocal = 89"
   ]
  },
  {
   "cell_type": "code",
   "execution_count": 31,
   "id": "d3f1002a-7e17-48d1-a6c2-3666dbefe285",
   "metadata": {},
   "outputs": [
    {
     "ename": "SyntaxError",
     "evalue": "invalid syntax (431415220.py, line 1)",
     "output_type": "error",
     "traceback": [
      "\u001b[1;36m  Cell \u001b[1;32mIn[31], line 1\u001b[1;36m\u001b[0m\n\u001b[1;33m    import = 67\u001b[0m\n\u001b[1;37m           ^\u001b[0m\n\u001b[1;31mSyntaxError\u001b[0m\u001b[1;31m:\u001b[0m invalid syntax\n"
     ]
    }
   ],
   "source": [
    "import = 67"
   ]
  },
  {
   "cell_type": "code",
   "execution_count": 36,
   "id": "e87abce0-ec07-4e78-8006-fbe7c907bd0a",
   "metadata": {},
   "outputs": [
    {
     "name": "stdout",
     "output_type": "stream",
     "text": [
      "6\n",
      "7\n"
     ]
    }
   ],
   "source": [
    "a = 6\n",
    "b = 7\n",
    "\n",
    "print(a)\n",
    "print(b)"
   ]
  },
  {
   "cell_type": "code",
   "execution_count": 37,
   "id": "d9ae69df-bfc5-4460-8d08-5c71a7f3c807",
   "metadata": {},
   "outputs": [
    {
     "ename": "SyntaxError",
     "evalue": "invalid decimal literal (3183466522.py, line 1)",
     "output_type": "error",
     "traceback": [
      "\u001b[1;36m  Cell \u001b[1;32mIn[37], line 1\u001b[1;36m\u001b[0m\n\u001b[1;33m    1nit = 56\u001b[0m\n\u001b[1;37m    ^\u001b[0m\n\u001b[1;31mSyntaxError\u001b[0m\u001b[1;31m:\u001b[0m invalid decimal literal\n"
     ]
    }
   ],
   "source": [
    "1nit = 56"
   ]
  },
  {
   "cell_type": "code",
   "execution_count": 38,
   "id": "f4103be8-0b9c-4c25-8873-892b3d5e85f2",
   "metadata": {},
   "outputs": [
    {
     "data": {
      "text/plain": [
       "67"
      ]
     },
     "execution_count": 38,
     "metadata": {},
     "output_type": "execute_result"
    }
   ],
   "source": [
    "nit1 = 67\n",
    "nit1"
   ]
  },
  {
   "cell_type": "markdown",
   "id": "98c45672-6b26-428b-bfb7-3bb26d791d37",
   "metadata": {},
   "source": [
    "# CASE SENSITIVE\n"
   ]
  },
  {
   "cell_type": "code",
   "execution_count": 40,
   "id": "f9cf60e5-1f16-4e9c-8c0e-fe413b0079f8",
   "metadata": {},
   "outputs": [
    {
     "ename": "NameError",
     "evalue": "name 'john' is not defined",
     "output_type": "error",
     "traceback": [
      "\u001b[1;31m---------------------------------------------------------------------------\u001b[0m",
      "\u001b[1;31mNameError\u001b[0m                                 Traceback (most recent call last)",
      "Cell \u001b[1;32mIn[40], line 2\u001b[0m\n\u001b[0;32m      1\u001b[0m JOHN \u001b[38;5;241m=\u001b[39m \u001b[38;5;241m6\u001b[39m\n\u001b[1;32m----> 2\u001b[0m john\n",
      "\u001b[1;31mNameError\u001b[0m: name 'john' is not defined"
     ]
    }
   ],
   "source": [
    "JOHN = 6\n",
    "john"
   ]
  },
  {
   "cell_type": "markdown",
   "id": "83fdf009-51e5-421c-9c70-bdcee548e80c",
   "metadata": {},
   "source": [
    "# UPPER CASE & LOWER CASE "
   ]
  },
  {
   "cell_type": "code",
   "execution_count": 41,
   "id": "e219de1b-2d4d-47e0-8d09-feaea9ee6f25",
   "metadata": {},
   "outputs": [
    {
     "data": {
      "text/plain": [
       "56"
      ]
     },
     "execution_count": 41,
     "metadata": {},
     "output_type": "execute_result"
    }
   ],
   "source": [
    "JOHN = 56\n",
    "JOHN"
   ]
  },
  {
   "cell_type": "code",
   "execution_count": 42,
   "id": "08c20d4a-2c96-4e8c-a720-ae4f5beba1cd",
   "metadata": {},
   "outputs": [
    {
     "data": {
      "text/plain": [
       "78"
      ]
     },
     "execution_count": 42,
     "metadata": {},
     "output_type": "execute_result"
    }
   ],
   "source": [
    "smith = 78\n",
    "smith"
   ]
  },
  {
   "cell_type": "markdown",
   "id": "d3122a83-732d-4a24-9d2f-c235e53a4b3b",
   "metadata": {},
   "source": [
    "# keyword never assigned as an identifier "
   ]
  },
  {
   "cell_type": "code",
   "execution_count": 43,
   "id": "3071db4a-3c1f-49d7-8546-1e6513f4b434",
   "metadata": {},
   "outputs": [
    {
     "ename": "SyntaxError",
     "evalue": "invalid syntax (3475252196.py, line 1)",
     "output_type": "error",
     "traceback": [
      "\u001b[1;36m  Cell \u001b[1;32mIn[43], line 1\u001b[1;36m\u001b[0m\n\u001b[1;33m    if = 78\u001b[0m\n\u001b[1;37m       ^\u001b[0m\n\u001b[1;31mSyntaxError\u001b[0m\u001b[1;31m:\u001b[0m invalid syntax\n"
     ]
    }
   ],
   "source": [
    "if = 78"
   ]
  },
  {
   "cell_type": "code",
   "execution_count": 44,
   "id": "fb51eb48-5870-4ac3-ba9d-2698b7587c88",
   "metadata": {},
   "outputs": [
    {
     "ename": "SyntaxError",
     "evalue": "invalid syntax (1910169998.py, line 1)",
     "output_type": "error",
     "traceback": [
      "\u001b[1;36m  Cell \u001b[1;32mIn[44], line 1\u001b[1;36m\u001b[0m\n\u001b[1;33m    else = 89\u001b[0m\n\u001b[1;37m    ^\u001b[0m\n\u001b[1;31mSyntaxError\u001b[0m\u001b[1;31m:\u001b[0m invalid syntax\n"
     ]
    }
   ],
   "source": [
    "else = 89"
   ]
  },
  {
   "cell_type": "code",
   "execution_count": 46,
   "id": "d37c18b4-b699-42e3-b02c-8a677907d821",
   "metadata": {},
   "outputs": [
    {
     "ename": "SyntaxError",
     "evalue": "invalid syntax (3593895086.py, line 1)",
     "output_type": "error",
     "traceback": [
      "\u001b[1;36m  Cell \u001b[1;32mIn[46], line 1\u001b[1;36m\u001b[0m\n\u001b[1;33m    for = 78\u001b[0m\n\u001b[1;37m        ^\u001b[0m\n\u001b[1;31mSyntaxError\u001b[0m\u001b[1;31m:\u001b[0m invalid syntax\n"
     ]
    }
   ],
   "source": [
    "for = 78"
   ]
  },
  {
   "cell_type": "code",
   "execution_count": 47,
   "id": "97d90e9a-bebd-405d-84c4-aab1fd3b9ddb",
   "metadata": {},
   "outputs": [
    {
     "data": {
      "text/plain": [
       "78"
      ]
     },
     "execution_count": 47,
     "metadata": {},
     "output_type": "execute_result"
    }
   ],
   "source": [
    "FOR = 78\n",
    "FOR"
   ]
  },
  {
   "cell_type": "markdown",
   "id": "0bdb666e-41bd-4507-b0d2-2edbdd99aa6c",
   "metadata": {},
   "source": [
    "import keyword\n",
    "keyword.kwlist\n",
    "== use this code to display inbuild keywords or reserved words "
   ]
  },
  {
   "cell_type": "markdown",
   "id": "a89f1d64-4b53-49cd-8da2-3ac74af7c141",
   "metadata": {},
   "source": [
    "# special character is not allowed except underscore(_)"
   ]
  },
  {
   "cell_type": "code",
   "execution_count": 48,
   "id": "b2b242d6-fc44-41d7-8d58-9ee52e058419",
   "metadata": {},
   "outputs": [
    {
     "data": {
      "text/plain": [
       "78"
      ]
     },
     "execution_count": 48,
     "metadata": {},
     "output_type": "execute_result"
    }
   ],
   "source": [
    "jupyter_ = 78\n",
    "jupyter_"
   ]
  },
  {
   "cell_type": "code",
   "execution_count": 49,
   "id": "eeeabc3b-fc99-43cd-bddf-0effb7e15ecd",
   "metadata": {},
   "outputs": [
    {
     "ename": "SyntaxError",
     "evalue": "invalid syntax (4180950961.py, line 1)",
     "output_type": "error",
     "traceback": [
      "\u001b[1;36m  Cell \u001b[1;32mIn[49], line 1\u001b[1;36m\u001b[0m\n\u001b[1;33m    nit@ = 78\u001b[0m\n\u001b[1;37m         ^\u001b[0m\n\u001b[1;31mSyntaxError\u001b[0m\u001b[1;31m:\u001b[0m invalid syntax\n"
     ]
    }
   ],
   "source": [
    "nit@ = 78"
   ]
  },
  {
   "cell_type": "code",
   "execution_count": 50,
   "id": "fc7108a1-cd60-4a13-a56b-944684bbd454",
   "metadata": {},
   "outputs": [
    {
     "ename": "NameError",
     "evalue": "name 'ni' is not defined",
     "output_type": "error",
     "traceback": [
      "\u001b[1;31m---------------------------------------------------------------------------\u001b[0m",
      "\u001b[1;31mNameError\u001b[0m                                 Traceback (most recent call last)",
      "Cell \u001b[1;32mIn[50], line 1\u001b[0m\n\u001b[1;32m----> 1\u001b[0m ni\n",
      "\u001b[1;31mNameError\u001b[0m: name 'ni' is not defined"
     ]
    }
   ],
   "source": [
    "ni#"
   ]
  },
  {
   "cell_type": "code",
   "execution_count": 52,
   "id": "df49b253-2946-4037-bc44-7dc7157ac1c2",
   "metadata": {},
   "outputs": [
    {
     "ename": "SyntaxError",
     "evalue": "invalid syntax (3272651623.py, line 1)",
     "output_type": "error",
     "traceback": [
      "\u001b[1;36m  Cell \u001b[1;32mIn[52], line 1\u001b[1;36m\u001b[0m\n\u001b[1;33m    nit! =  0\u001b[0m\n\u001b[1;37m       ^\u001b[0m\n\u001b[1;31mSyntaxError\u001b[0m\u001b[1;31m:\u001b[0m invalid syntax\n"
     ]
    }
   ],
   "source": [
    "nit! =  0 "
   ]
  },
  {
   "cell_type": "markdown",
   "id": "de14dc43-479b-4a6e-9766-70802321466c",
   "metadata": {},
   "source": [
    "# identifier never start with digit (number)"
   ]
  },
  {
   "cell_type": "code",
   "execution_count": 54,
   "id": "da955a93-978d-4092-9898-cfe6b470f0cd",
   "metadata": {},
   "outputs": [
    {
     "ename": "SyntaxError",
     "evalue": "invalid decimal literal (2632170908.py, line 1)",
     "output_type": "error",
     "traceback": [
      "\u001b[1;36m  Cell \u001b[1;32mIn[54], line 1\u001b[1;36m\u001b[0m\n\u001b[1;33m    1hi = 67\u001b[0m\n\u001b[1;37m    ^\u001b[0m\n\u001b[1;31mSyntaxError\u001b[0m\u001b[1;31m:\u001b[0m invalid decimal literal\n"
     ]
    }
   ],
   "source": [
    "1hi = 67"
   ]
  },
  {
   "cell_type": "code",
   "execution_count": 55,
   "id": "212e82e0-0dcf-4cde-9f9e-9d0b404c647c",
   "metadata": {},
   "outputs": [
    {
     "data": {
      "text/plain": [
       "67"
      ]
     },
     "execution_count": 55,
     "metadata": {},
     "output_type": "execute_result"
    }
   ],
   "source": [
    "hi1 = 67\n",
    "hi1"
   ]
  },
  {
   "cell_type": "code",
   "execution_count": 56,
   "id": "dbc7bb87-b7a2-4cfa-8a45-fd77c02caa82",
   "metadata": {},
   "outputs": [
    {
     "ename": "SyntaxError",
     "evalue": "invalid syntax (1561431372.py, line 1)",
     "output_type": "error",
     "traceback": [
      "\u001b[1;36m  Cell \u001b[1;32mIn[56], line 1\u001b[1;36m\u001b[0m\n\u001b[1;33m    hi hello = 78\u001b[0m\n\u001b[1;37m       ^\u001b[0m\n\u001b[1;31mSyntaxError\u001b[0m\u001b[1;31m:\u001b[0m invalid syntax\n"
     ]
    }
   ],
   "source": [
    "hi hello = 78"
   ]
  },
  {
   "cell_type": "code",
   "execution_count": 57,
   "id": "5d76b216-fa77-47ed-856a-ea25efc5559f",
   "metadata": {},
   "outputs": [
    {
     "data": {
      "text/plain": [
       "'__main__'"
      ]
     },
     "execution_count": 57,
     "metadata": {},
     "output_type": "execute_result"
    }
   ],
   "source": [
    "__name__"
   ]
  },
  {
   "cell_type": "code",
   "execution_count": 1,
   "id": "7588713d-9f3b-43b3-b842-5cdb3d67504b",
   "metadata": {},
   "outputs": [
    {
     "data": {
      "text/plain": [
       "78"
      ]
     },
     "execution_count": 1,
     "metadata": {},
     "output_type": "execute_result"
    }
   ],
   "source": [
    "aaaaaaaaaaaaaaaaaaaaaaaaaaaaaaa = 78\n",
    "aaaaaaaaaaaaaaaaaaaaaaaaaaaaaaa"
   ]
  },
  {
   "cell_type": "code",
   "execution_count": 2,
   "id": "85c4bbcf-2de3-41cd-86ec-c1faba0f7ca0",
   "metadata": {},
   "outputs": [
    {
     "ename": "NameError",
     "evalue": "name 'true' is not defined",
     "output_type": "error",
     "traceback": [
      "\u001b[1;31m---------------------------------------------------------------------------\u001b[0m",
      "\u001b[1;31mNameError\u001b[0m                                 Traceback (most recent call last)",
      "Cell \u001b[1;32mIn[2], line 1\u001b[0m\n\u001b[1;32m----> 1\u001b[0m true\n",
      "\u001b[1;31mNameError\u001b[0m: name 'true' is not defined"
     ]
    }
   ],
   "source": [
    "true"
   ]
  },
  {
   "cell_type": "code",
   "execution_count": 3,
   "id": "dab5356f-234b-4f1f-b1a5-66809ad7c104",
   "metadata": {},
   "outputs": [
    {
     "data": {
      "text/plain": [
       "True"
      ]
     },
     "execution_count": 3,
     "metadata": {},
     "output_type": "execute_result"
    }
   ],
   "source": [
    "True"
   ]
  },
  {
   "cell_type": "code",
   "execution_count": 4,
   "id": "9440aee8-5103-4351-a3e8-af57a7d988d4",
   "metadata": {},
   "outputs": [
    {
     "ename": "NameError",
     "evalue": "name 'false' is not defined",
     "output_type": "error",
     "traceback": [
      "\u001b[1;31m---------------------------------------------------------------------------\u001b[0m",
      "\u001b[1;31mNameError\u001b[0m                                 Traceback (most recent call last)",
      "Cell \u001b[1;32mIn[4], line 1\u001b[0m\n\u001b[1;32m----> 1\u001b[0m false\n",
      "\u001b[1;31mNameError\u001b[0m: name 'false' is not defined"
     ]
    }
   ],
   "source": [
    "false"
   ]
  },
  {
   "cell_type": "code",
   "execution_count": 5,
   "id": "391c963b-2df0-455a-bddb-17e8acf43245",
   "metadata": {},
   "outputs": [
    {
     "data": {
      "text/plain": [
       "False"
      ]
     },
     "execution_count": 5,
     "metadata": {},
     "output_type": "execute_result"
    }
   ],
   "source": [
    "False"
   ]
  },
  {
   "cell_type": "code",
   "execution_count": 7,
   "id": "9d6f85b3-35d3-4ca8-8f2e-2835a3bb5c50",
   "metadata": {},
   "outputs": [
    {
     "ename": "NameError",
     "evalue": "name 'none' is not defined",
     "output_type": "error",
     "traceback": [
      "\u001b[1;31m---------------------------------------------------------------------------\u001b[0m",
      "\u001b[1;31mNameError\u001b[0m                                 Traceback (most recent call last)",
      "Cell \u001b[1;32mIn[7], line 1\u001b[0m\n\u001b[1;32m----> 1\u001b[0m none\n",
      "\u001b[1;31mNameError\u001b[0m: name 'none' is not defined"
     ]
    }
   ],
   "source": [
    "none"
   ]
  },
  {
   "cell_type": "code",
   "execution_count": 8,
   "id": "64948adb-ca33-4378-9d45-02359dc4ba6d",
   "metadata": {},
   "outputs": [],
   "source": [
    "None"
   ]
  },
  {
   "cell_type": "code",
   "execution_count": null,
   "id": "871873ba-908d-4227-a882-486eb0b90c78",
   "metadata": {},
   "outputs": [],
   "source": [
    "a = 67 # a is object & 67 is value "
   ]
  },
  {
   "cell_type": "markdown",
   "id": "67cb8301-79da-47d0-9411-95849c29f303",
   "metadata": {},
   "source": [
    "# python basic or inbuild data type "
   ]
  },
  {
   "cell_type": "code",
   "execution_count": 10,
   "id": "1d686b00-1c13-4bed-9c35-52622c84624a",
   "metadata": {},
   "outputs": [
    {
     "data": {
      "text/plain": [
       "34"
      ]
     },
     "execution_count": 10,
     "metadata": {},
     "output_type": "execute_result"
    }
   ],
   "source": [
    "i = 34\n",
    "i"
   ]
  },
  {
   "cell_type": "code",
   "execution_count": 11,
   "id": "183f39c4-1ff4-4cc5-8942-8a72ab29f32c",
   "metadata": {},
   "outputs": [
    {
     "data": {
      "text/plain": [
       "int"
      ]
     },
     "execution_count": 11,
     "metadata": {},
     "output_type": "execute_result"
    }
   ],
   "source": [
    "type(i)"
   ]
  },
  {
   "cell_type": "code",
   "execution_count": 12,
   "id": "bbaffe45-d44f-4fab-86a7-504379a9a939",
   "metadata": {},
   "outputs": [
    {
     "name": "stdout",
     "output_type": "stream",
     "text": [
      "<class 'int'>\n"
     ]
    }
   ],
   "source": [
    "print(type(i))"
   ]
  },
  {
   "cell_type": "code",
   "execution_count": 13,
   "id": "2ac97dc8-983e-49d7-bd9f-9247501e0dd6",
   "metadata": {},
   "outputs": [
    {
     "ename": "TypeError",
     "evalue": "cannot unpack non-iterable int object",
     "output_type": "error",
     "traceback": [
      "\u001b[1;31m---------------------------------------------------------------------------\u001b[0m",
      "\u001b[1;31mTypeError\u001b[0m                                 Traceback (most recent call last)",
      "Cell \u001b[1;32mIn[13], line 1\u001b[0m\n\u001b[1;32m----> 1\u001b[0m a, b \u001b[38;5;241m=\u001b[39m \u001b[38;5;241m56\u001b[39m\n",
      "\u001b[1;31mTypeError\u001b[0m: cannot unpack non-iterable int object"
     ]
    }
   ],
   "source": [
    "a, b = 56"
   ]
  },
  {
   "cell_type": "code",
   "execution_count": 14,
   "id": "9782b3f5-3721-4a6a-aa40-f5b280fe62d9",
   "metadata": {},
   "outputs": [],
   "source": [
    "a, b = 56, 67"
   ]
  },
  {
   "cell_type": "code",
   "execution_count": 15,
   "id": "096da23b-f4c9-4c65-b4c3-f8595e462164",
   "metadata": {},
   "outputs": [
    {
     "name": "stdout",
     "output_type": "stream",
     "text": [
      "56\n",
      "67\n"
     ]
    }
   ],
   "source": [
    "print(a)\n",
    "print(b)"
   ]
  },
  {
   "cell_type": "markdown",
   "id": "9bd31f08-4a07-454f-9db2-5a510a421083",
   "metadata": {},
   "source": [
    "# how to swap 2 variable\n"
   ]
  },
  {
   "cell_type": "code",
   "execution_count": 16,
   "id": "d1b923af-b904-4ea3-96f3-f5191bffc084",
   "metadata": {},
   "outputs": [
    {
     "data": {
      "text/plain": [
       "(56, 67)"
      ]
     },
     "execution_count": 16,
     "metadata": {},
     "output_type": "execute_result"
    }
   ],
   "source": [
    "a, b"
   ]
  },
  {
   "cell_type": "code",
   "execution_count": 19,
   "id": "d0436daf-e75d-44c5-9bd1-8e1e9215c07b",
   "metadata": {},
   "outputs": [],
   "source": [
    "a, b = b, a"
   ]
  },
  {
   "cell_type": "code",
   "execution_count": 18,
   "id": "c44a16b1-86f8-4693-ad93-4c7607b9dfbf",
   "metadata": {},
   "outputs": [
    {
     "name": "stdout",
     "output_type": "stream",
     "text": [
      "0\n",
      "1\n",
      "1\n",
      "2\n",
      "3\n"
     ]
    }
   ],
   "source": [
    "print(0)\n",
    "print(1)\n",
    "print(1)\n",
    "print(2)\n",
    "print(3)"
   ]
  },
  {
   "cell_type": "code",
   "execution_count": 20,
   "id": "bf67dc9e-d7f9-4635-80d5-7b4f676dd516",
   "metadata": {},
   "outputs": [
    {
     "data": {
      "text/plain": [
       "67"
      ]
     },
     "execution_count": 20,
     "metadata": {},
     "output_type": "execute_result"
    }
   ],
   "source": [
    "a"
   ]
  },
  {
   "cell_type": "code",
   "execution_count": 21,
   "id": "fa66e92a-d906-4ee4-9008-a80e219509b5",
   "metadata": {},
   "outputs": [
    {
     "data": {
      "text/plain": [
       "56"
      ]
     },
     "execution_count": 21,
     "metadata": {},
     "output_type": "execute_result"
    }
   ],
   "source": [
    "b"
   ]
  },
  {
   "cell_type": "code",
   "execution_count": 22,
   "id": "bc71431e-7954-43ff-86a0-b12d2e342dd0",
   "metadata": {},
   "outputs": [
    {
     "data": {
      "text/plain": [
       "34"
      ]
     },
     "execution_count": 22,
     "metadata": {},
     "output_type": "execute_result"
    }
   ],
   "source": [
    "i "
   ]
  },
  {
   "cell_type": "code",
   "execution_count": 23,
   "id": "e1791d58-f243-4770-a8a2-ded3959f201e",
   "metadata": {},
   "outputs": [
    {
     "data": {
      "text/plain": [
       "140735368906568"
      ]
     },
     "execution_count": 23,
     "metadata": {},
     "output_type": "execute_result"
    }
   ],
   "source": [
    "id(i)"
   ]
  },
  {
   "cell_type": "code",
   "execution_count": 24,
   "id": "000c6370-d5f5-49c7-be28-82aa491d2f4b",
   "metadata": {},
   "outputs": [
    {
     "ename": "SyntaxError",
     "evalue": "invalid decimal literal (1882996024.py, line 1)",
     "output_type": "error",
     "traceback": [
      "\u001b[1;36m  Cell \u001b[1;32mIn[24], line 1\u001b[1;36m\u001b[0m\n\u001b[1;33m    1i = 34\u001b[0m\n\u001b[1;37m    ^\u001b[0m\n\u001b[1;31mSyntaxError\u001b[0m\u001b[1;31m:\u001b[0m invalid decimal literal\n"
     ]
    }
   ],
   "source": [
    "1i = 34"
   ]
  },
  {
   "cell_type": "code",
   "execution_count": 25,
   "id": "5c7959bf-dfe3-4663-902c-d64294e79e63",
   "metadata": {},
   "outputs": [
    {
     "data": {
      "text/plain": [
       "34"
      ]
     },
     "execution_count": 25,
     "metadata": {},
     "output_type": "execute_result"
    }
   ],
   "source": [
    "i"
   ]
  },
  {
   "cell_type": "code",
   "execution_count": 26,
   "id": "b4a05408-94cd-4a4c-b9fa-0943fcbc6b02",
   "metadata": {},
   "outputs": [
    {
     "data": {
      "text/plain": [
       "34"
      ]
     },
     "execution_count": 26,
     "metadata": {},
     "output_type": "execute_result"
    }
   ],
   "source": [
    "i1 = 34\n",
    "i1"
   ]
  },
  {
   "cell_type": "code",
   "execution_count": 27,
   "id": "c2e60bd7-184e-430b-991c-660fe9053d3f",
   "metadata": {},
   "outputs": [
    {
     "data": {
      "text/plain": [
       "140735368906568"
      ]
     },
     "execution_count": 27,
     "metadata": {},
     "output_type": "execute_result"
    }
   ],
   "source": [
    "id(i)"
   ]
  },
  {
   "cell_type": "code",
   "execution_count": 28,
   "id": "9cc8ffb3-68fd-43d9-9d64-ca1907d9a5dd",
   "metadata": {},
   "outputs": [
    {
     "data": {
      "text/plain": [
       "140735368906568"
      ]
     },
     "execution_count": 28,
     "metadata": {},
     "output_type": "execute_result"
    }
   ],
   "source": [
    "id(i1)"
   ]
  },
  {
   "cell_type": "code",
   "execution_count": 29,
   "id": "0300daf9-279c-491c-91aa-6ab7584b9aab",
   "metadata": {},
   "outputs": [
    {
     "data": {
      "text/plain": [
       "45"
      ]
     },
     "execution_count": 29,
     "metadata": {},
     "output_type": "execute_result"
    }
   ],
   "source": [
    "i2= 45\n",
    "i2"
   ]
  },
  {
   "cell_type": "code",
   "execution_count": 30,
   "id": "2bfe784e-159a-49ca-b485-68913a08e2ef",
   "metadata": {},
   "outputs": [
    {
     "data": {
      "text/plain": [
       "34"
      ]
     },
     "execution_count": 30,
     "metadata": {},
     "output_type": "execute_result"
    }
   ],
   "source": [
    "i"
   ]
  },
  {
   "cell_type": "code",
   "execution_count": 31,
   "id": "79261642-ac0b-4758-b33d-18568cd94bff",
   "metadata": {},
   "outputs": [
    {
     "data": {
      "text/plain": [
       "34"
      ]
     },
     "execution_count": 31,
     "metadata": {},
     "output_type": "execute_result"
    }
   ],
   "source": [
    "i1"
   ]
  },
  {
   "cell_type": "code",
   "execution_count": 32,
   "id": "b3500288-baa8-4c55-a2cf-b65376f7a723",
   "metadata": {},
   "outputs": [
    {
     "data": {
      "text/plain": [
       "45"
      ]
     },
     "execution_count": 32,
     "metadata": {},
     "output_type": "execute_result"
    }
   ],
   "source": [
    "i2"
   ]
  },
  {
   "cell_type": "code",
   "execution_count": 33,
   "id": "f3027875-cb90-4f1f-80ac-aa59f9bc119b",
   "metadata": {},
   "outputs": [
    {
     "name": "stdout",
     "output_type": "stream",
     "text": [
      "140735368906568\n",
      "140735368906568\n",
      "140735368906920\n"
     ]
    }
   ],
   "source": [
    "print(id(i))\n",
    "print(id(i1))\n",
    "print(id(i2))"
   ]
  },
  {
   "cell_type": "code",
   "execution_count": 36,
   "id": "82501dc9-8e22-41d0-8670-ac93b6e26813",
   "metadata": {},
   "outputs": [
    {
     "data": {
      "text/plain": [
       "True"
      ]
     },
     "execution_count": 36,
     "metadata": {},
     "output_type": "execute_result"
    }
   ],
   "source": [
    "i == i1"
   ]
  },
  {
   "cell_type": "code",
   "execution_count": 37,
   "id": "0e5c4a05-11e6-4d01-8c58-c65447561ab4",
   "metadata": {},
   "outputs": [
    {
     "data": {
      "text/plain": [
       "False"
      ]
     },
     "execution_count": 37,
     "metadata": {},
     "output_type": "execute_result"
    }
   ],
   "source": [
    "i == i2"
   ]
  },
  {
   "cell_type": "code",
   "execution_count": 38,
   "id": "bb5b32e6-2b9a-4b6f-a086-62e563ba8dde",
   "metadata": {},
   "outputs": [
    {
     "data": {
      "text/plain": [
       "True"
      ]
     },
     "execution_count": 38,
     "metadata": {},
     "output_type": "execute_result"
    }
   ],
   "source": [
    "i != i2"
   ]
  },
  {
   "cell_type": "code",
   "execution_count": 39,
   "id": "2dc9e246-89a6-4acd-869f-6b541375aae2",
   "metadata": {},
   "outputs": [
    {
     "data": {
      "text/plain": [
       "False"
      ]
     },
     "execution_count": 39,
     "metadata": {},
     "output_type": "execute_result"
    }
   ],
   "source": [
    "i != i1"
   ]
  },
  {
   "cell_type": "code",
   "execution_count": 40,
   "id": "ce9b6c00-f445-412f-a28c-acdcee722878",
   "metadata": {},
   "outputs": [
    {
     "data": {
      "text/plain": [
       "True"
      ]
     },
     "execution_count": 40,
     "metadata": {},
     "output_type": "execute_result"
    }
   ],
   "source": [
    "True"
   ]
  },
  {
   "cell_type": "code",
   "execution_count": 41,
   "id": "78ee787c-47b6-4301-b8df-2da24bddfd31",
   "metadata": {},
   "outputs": [
    {
     "data": {
      "text/plain": [
       "2"
      ]
     },
     "execution_count": 41,
     "metadata": {},
     "output_type": "execute_result"
    }
   ],
   "source": [
    "True + True"
   ]
  },
  {
   "cell_type": "code",
   "execution_count": 42,
   "id": "1093903c-12b3-4980-b66a-dfda7733b9e5",
   "metadata": {},
   "outputs": [
    {
     "data": {
      "text/plain": [
       "1"
      ]
     },
     "execution_count": 42,
     "metadata": {},
     "output_type": "execute_result"
    }
   ],
   "source": [
    "True + False"
   ]
  },
  {
   "cell_type": "code",
   "execution_count": 43,
   "id": "73a15a98-8341-48bb-9acd-6257ebfdb34b",
   "metadata": {},
   "outputs": [
    {
     "data": {
      "text/plain": [
       "1"
      ]
     },
     "execution_count": 43,
     "metadata": {},
     "output_type": "execute_result"
    }
   ],
   "source": [
    "int(True)"
   ]
  },
  {
   "cell_type": "code",
   "execution_count": 44,
   "id": "8fcb1696-2c56-4885-a5b9-de9276845e25",
   "metadata": {},
   "outputs": [
    {
     "data": {
      "text/plain": [
       "0"
      ]
     },
     "execution_count": 44,
     "metadata": {},
     "output_type": "execute_result"
    }
   ],
   "source": [
    "int(False)"
   ]
  },
  {
   "cell_type": "code",
   "execution_count": 45,
   "id": "f262aedc-abd7-4c09-ac19-e75a9c8e3254",
   "metadata": {},
   "outputs": [
    {
     "data": {
      "text/plain": [
       "1"
      ]
     },
     "execution_count": 45,
     "metadata": {},
     "output_type": "execute_result"
    }
   ],
   "source": [
    "False + False + True"
   ]
  },
  {
   "cell_type": "code",
   "execution_count": 46,
   "id": "8281fd0f-de91-4bcc-a93b-b5391226c9e2",
   "metadata": {},
   "outputs": [
    {
     "ename": "TypeError",
     "evalue": "unsupported operand type(s) for +: 'NoneType' and 'bool'",
     "output_type": "error",
     "traceback": [
      "\u001b[1;31m---------------------------------------------------------------------------\u001b[0m",
      "\u001b[1;31mTypeError\u001b[0m                                 Traceback (most recent call last)",
      "Cell \u001b[1;32mIn[46], line 1\u001b[0m\n\u001b[1;32m----> 1\u001b[0m \u001b[38;5;28;01mNone\u001b[39;00m \u001b[38;5;241m+\u001b[39m \u001b[38;5;28;01mFalse\u001b[39;00m\n",
      "\u001b[1;31mTypeError\u001b[0m: unsupported operand type(s) for +: 'NoneType' and 'bool'"
     ]
    }
   ],
   "source": [
    "None + False\n"
   ]
  },
  {
   "cell_type": "code",
   "execution_count": 47,
   "id": "ffb7f345-15a9-4700-9f80-629c9d318abb",
   "metadata": {},
   "outputs": [
    {
     "ename": "TypeError",
     "evalue": "unsupported operand type(s) for +: 'int' and 'str'",
     "output_type": "error",
     "traceback": [
      "\u001b[1;31m---------------------------------------------------------------------------\u001b[0m",
      "\u001b[1;31mTypeError\u001b[0m                                 Traceback (most recent call last)",
      "Cell \u001b[1;32mIn[47], line 1\u001b[0m\n\u001b[1;32m----> 1\u001b[0m \u001b[38;5;241m1\u001b[39m \u001b[38;5;241m+\u001b[39m \u001b[38;5;124m'\u001b[39m\u001b[38;5;124msummer\u001b[39m\u001b[38;5;124m'\u001b[39m\n",
      "\u001b[1;31mTypeError\u001b[0m: unsupported operand type(s) for +: 'int' and 'str'"
     ]
    }
   ],
   "source": [
    "1 + 'summer'"
   ]
  },
  {
   "cell_type": "code",
   "execution_count": 49,
   "id": "02a06672-d3a2-492f-9fce-be2b3f6e55bb",
   "metadata": {},
   "outputs": [
    {
     "data": {
      "text/plain": [
       "1.2"
      ]
     },
     "execution_count": 49,
     "metadata": {},
     "output_type": "execute_result"
    }
   ],
   "source": [
    "fl = 1.2\n",
    "fl"
   ]
  },
  {
   "cell_type": "code",
   "execution_count": 50,
   "id": "df5cfbbf-04af-44d8-a6f5-922eb6f066cc",
   "metadata": {},
   "outputs": [
    {
     "name": "stdout",
     "output_type": "stream",
     "text": [
      "<class 'float'>\n"
     ]
    }
   ],
   "source": [
    "print(type(fl))"
   ]
  },
  {
   "cell_type": "code",
   "execution_count": 51,
   "id": "6f8a5079-6234-44ca-a583-4338de94ec15",
   "metadata": {},
   "outputs": [
    {
     "data": {
      "text/plain": [
       "1.0"
      ]
     },
     "execution_count": 51,
     "metadata": {},
     "output_type": "execute_result"
    }
   ],
   "source": [
    "f = 1e0\n",
    "f"
   ]
  },
  {
   "cell_type": "code",
   "execution_count": 52,
   "id": "cbd03ed4-822a-4b8d-8c98-984079c4b7e2",
   "metadata": {},
   "outputs": [
    {
     "data": {
      "text/plain": [
       "10.0"
      ]
     },
     "execution_count": 52,
     "metadata": {},
     "output_type": "execute_result"
    }
   ],
   "source": [
    "f1 = 1e1\n",
    "f1"
   ]
  },
  {
   "cell_type": "code",
   "execution_count": 54,
   "id": "41c9bdcb-9cd1-4676-be51-32ab8d26a906",
   "metadata": {},
   "outputs": [
    {
     "data": {
      "text/plain": [
       "100.0"
      ]
     },
     "execution_count": 54,
     "metadata": {},
     "output_type": "execute_result"
    }
   ],
   "source": [
    "f2 = 1e2\n",
    "f2"
   ]
  },
  {
   "cell_type": "code",
   "execution_count": 56,
   "id": "94bdbb4a-09f5-44cf-85b3-c380bb7ef5a0",
   "metadata": {},
   "outputs": [
    {
     "data": {
      "text/plain": [
       "1000.0"
      ]
     },
     "execution_count": 56,
     "metadata": {},
     "output_type": "execute_result"
    }
   ],
   "source": [
    "f3 = 1e3\n",
    "f3"
   ]
  },
  {
   "cell_type": "code",
   "execution_count": 57,
   "id": "43331f1c-ea35-4ed1-b8ee-ee46306dc075",
   "metadata": {},
   "outputs": [
    {
     "data": {
      "text/plain": [
       "40000.0"
      ]
     },
     "execution_count": 57,
     "metadata": {},
     "output_type": "execute_result"
    }
   ],
   "source": [
    "f4 = 4e4\n",
    "f4"
   ]
  },
  {
   "cell_type": "code",
   "execution_count": 58,
   "id": "b3784f08-10bb-456e-ac25-112d9cbc54d4",
   "metadata": {},
   "outputs": [
    {
     "data": {
      "text/plain": [
       "float"
      ]
     },
     "execution_count": 58,
     "metadata": {},
     "output_type": "execute_result"
    }
   ],
   "source": [
    "type(f4)"
   ]
  },
  {
   "cell_type": "code",
   "execution_count": 59,
   "id": "70fa022c-7bfc-4b40-9562-c2ca8bdf2cba",
   "metadata": {},
   "outputs": [
    {
     "ename": "NameError",
     "evalue": "name 'm5' is not defined",
     "output_type": "error",
     "traceback": [
      "\u001b[1;31m---------------------------------------------------------------------------\u001b[0m",
      "\u001b[1;31mNameError\u001b[0m                                 Traceback (most recent call last)",
      "Cell \u001b[1;32mIn[59], line 1\u001b[0m\n\u001b[1;32m----> 1\u001b[0m f5 \u001b[38;5;241m=\u001b[39m m5\n\u001b[0;32m      2\u001b[0m f5\n",
      "\u001b[1;31mNameError\u001b[0m: name 'm5' is not defined"
     ]
    }
   ],
   "source": [
    "f5 = m5\n",
    "f5"
   ]
  },
  {
   "cell_type": "markdown",
   "id": "de1d47d1-7e55-42c9-b3c3-9f22ede23da0",
   "metadata": {},
   "source": [
    "# BOOL"
   ]
  },
  {
   "cell_type": "code",
   "execution_count": 148,
   "id": "65468291-0b7a-41f7-8d81-2e8b1f63a9c2",
   "metadata": {},
   "outputs": [
    {
     "data": {
      "text/plain": [
       "True"
      ]
     },
     "execution_count": 148,
     "metadata": {},
     "output_type": "execute_result"
    }
   ],
   "source": [
    "True"
   ]
  },
  {
   "cell_type": "code",
   "execution_count": 149,
   "id": "406625a4-6a48-4a28-9744-2fa8f0eb7504",
   "metadata": {},
   "outputs": [
    {
     "data": {
      "text/plain": [
       "False"
      ]
     },
     "execution_count": 149,
     "metadata": {},
     "output_type": "execute_result"
    }
   ],
   "source": [
    "False"
   ]
  },
  {
   "cell_type": "code",
   "execution_count": 150,
   "id": "e9ca9ed3-b1de-451a-948b-e355d2e14571",
   "metadata": {},
   "outputs": [
    {
     "data": {
      "text/plain": [
       "2"
      ]
     },
     "execution_count": 150,
     "metadata": {},
     "output_type": "execute_result"
    }
   ],
   "source": [
    "True + True "
   ]
  },
  {
   "cell_type": "code",
   "execution_count": 151,
   "id": "c0dc2b30-cbc6-4f60-9f57-59f46296a59c",
   "metadata": {},
   "outputs": [
    {
     "data": {
      "text/plain": [
       "1"
      ]
     },
     "execution_count": 151,
     "metadata": {},
     "output_type": "execute_result"
    }
   ],
   "source": [
    "True + False"
   ]
  },
  {
   "cell_type": "markdown",
   "id": "71eb575e-519e-408e-a18f-9ffbcf5796a5",
   "metadata": {},
   "source": [
    "##### complex (a + bj) # a - real part b - imaginary part j -- squre root -1\n"
   ]
  },
  {
   "cell_type": "code",
   "execution_count": 152,
   "id": "30dc4462-2599-44bc-873d-8db7437c9292",
   "metadata": {},
   "outputs": [
    {
     "data": {
      "text/plain": [
       "(1+2j)"
      ]
     },
     "execution_count": 152,
     "metadata": {},
     "output_type": "execute_result"
    }
   ],
   "source": [
    "c = 1 + 2j\n",
    "c"
   ]
  },
  {
   "cell_type": "code",
   "execution_count": 154,
   "id": "060b1b2f-abe5-4796-9b79-5c045021bbf7",
   "metadata": {},
   "outputs": [
    {
     "name": "stdout",
     "output_type": "stream",
     "text": [
      "<class 'complex'>\n"
     ]
    }
   ],
   "source": [
    "print(type(c))"
   ]
  },
  {
   "cell_type": "code",
   "execution_count": 155,
   "id": "5b53b6b1-df9d-4f37-a5b1-31b9d896b3ca",
   "metadata": {},
   "outputs": [
    {
     "data": {
      "text/plain": [
       "(1+2j)"
      ]
     },
     "execution_count": 155,
     "metadata": {},
     "output_type": "execute_result"
    }
   ],
   "source": [
    "c"
   ]
  },
  {
   "cell_type": "code",
   "execution_count": 156,
   "id": "09b24b47-9750-4786-a08f-686168baddf1",
   "metadata": {},
   "outputs": [
    {
     "data": {
      "text/plain": [
       "1.0"
      ]
     },
     "execution_count": 156,
     "metadata": {},
     "output_type": "execute_result"
    }
   ],
   "source": [
    "c.real"
   ]
  },
  {
   "cell_type": "code",
   "execution_count": 164,
   "id": "2352d4b9-9a36-4b22-bb34-7674861936a9",
   "metadata": {},
   "outputs": [
    {
     "data": {
      "text/plain": [
       "(3.7+6.7j)"
      ]
     },
     "execution_count": 164,
     "metadata": {},
     "output_type": "execute_result"
    }
   ],
   "source": [
    "c3 = 3.7 + 6.7j\n",
    "c3"
   ]
  },
  {
   "cell_type": "code",
   "execution_count": 168,
   "id": "1ebbf616-59a1-4b83-a568-d088c83a7e73",
   "metadata": {},
   "outputs": [
    {
     "data": {
      "text/plain": [
       "(1+0j)"
      ]
     },
     "execution_count": 168,
     "metadata": {},
     "output_type": "execute_result"
    }
   ],
   "source": [
    "c4 = True + 0j\n",
    "c4"
   ]
  },
  {
   "cell_type": "code",
   "execution_count": 157,
   "id": "9c1be140-b72b-4ff1-876e-ef4dc885f903",
   "metadata": {},
   "outputs": [
    {
     "data": {
      "text/plain": [
       "2.0"
      ]
     },
     "execution_count": 157,
     "metadata": {},
     "output_type": "execute_result"
    }
   ],
   "source": [
    "c.imag"
   ]
  },
  {
   "cell_type": "code",
   "execution_count": 159,
   "id": "eb5fb10a-b332-4a9b-9bf6-66010ce1ef20",
   "metadata": {},
   "outputs": [
    {
     "data": {
      "text/plain": [
       "(4+5j)"
      ]
     },
     "execution_count": 159,
     "metadata": {},
     "output_type": "execute_result"
    }
   ],
   "source": [
    "d = 4 + 5j\n",
    "d"
   ]
  },
  {
   "cell_type": "code",
   "execution_count": 160,
   "id": "a2b708bc-1537-4c3a-be4e-ceb29aec4011",
   "metadata": {},
   "outputs": [
    {
     "data": {
      "text/plain": [
       "(5+7j)"
      ]
     },
     "execution_count": 160,
     "metadata": {},
     "output_type": "execute_result"
    }
   ],
   "source": [
    "c + d"
   ]
  },
  {
   "cell_type": "code",
   "execution_count": 161,
   "id": "5fc89ab9-5371-4bea-bc1d-f29dfaebfe3f",
   "metadata": {},
   "outputs": [
    {
     "data": {
      "text/plain": [
       "(1+2j)"
      ]
     },
     "execution_count": 161,
     "metadata": {},
     "output_type": "execute_result"
    }
   ],
   "source": [
    "c"
   ]
  },
  {
   "cell_type": "code",
   "execution_count": 162,
   "id": "24dc4482-85fa-4828-899e-0380c677311d",
   "metadata": {},
   "outputs": [
    {
     "data": {
      "text/plain": [
       "(4+5j)"
      ]
     },
     "execution_count": 162,
     "metadata": {},
     "output_type": "execute_result"
    }
   ],
   "source": [
    "d"
   ]
  },
  {
   "cell_type": "code",
   "execution_count": 163,
   "id": "d49a956e-a94b-40ff-9201-b45b49e6bb31",
   "metadata": {},
   "outputs": [
    {
     "data": {
      "text/plain": [
       "(5+7j)"
      ]
     },
     "execution_count": 163,
     "metadata": {},
     "output_type": "execute_result"
    }
   ],
   "source": [
    "c + d"
   ]
  },
  {
   "cell_type": "markdown",
   "id": "e84745d3-da54-4431-973c-5ac92c024a85",
   "metadata": {},
   "source": [
    "# string"
   ]
  },
  {
   "cell_type": "code",
   "execution_count": 171,
   "id": "1aad719a-d8c2-4398-94c3-e23dca9595fa",
   "metadata": {},
   "outputs": [
    {
     "ename": "NameError",
     "evalue": "name 'nit' is not defined",
     "output_type": "error",
     "traceback": [
      "\u001b[1;31m---------------------------------------------------------------------------\u001b[0m",
      "\u001b[1;31mNameError\u001b[0m                                 Traceback (most recent call last)",
      "Cell \u001b[1;32mIn[171], line 1\u001b[0m\n\u001b[1;32m----> 1\u001b[0m s \u001b[38;5;241m=\u001b[39m nit\n",
      "\u001b[1;31mNameError\u001b[0m: name 'nit' is not defined"
     ]
    }
   ],
   "source": [
    "s = nit"
   ]
  },
  {
   "cell_type": "code",
   "execution_count": 173,
   "id": "bddeadb7-19b6-45e9-964f-ff0c2bb03b3e",
   "metadata": {},
   "outputs": [
    {
     "data": {
      "text/plain": [
       "'nit'"
      ]
     },
     "execution_count": 173,
     "metadata": {},
     "output_type": "execute_result"
    }
   ],
   "source": [
    "s = 'nit'\n",
    "s"
   ]
  },
  {
   "cell_type": "code",
   "execution_count": 177,
   "id": "a99d36e6-705b-42ad-b2d8-efe0e222c860",
   "metadata": {},
   "outputs": [
    {
     "name": "stdout",
     "output_type": "stream",
     "text": [
      "<class 'str'>\n"
     ]
    }
   ],
   "source": [
    "print(type(s))"
   ]
  },
  {
   "cell_type": "code",
   "execution_count": 178,
   "id": "6b21019d-ea6c-4477-ae21-7d2c84e05da0",
   "metadata": {},
   "outputs": [
    {
     "data": {
      "text/plain": [
       "'nit'"
      ]
     },
     "execution_count": 178,
     "metadata": {},
     "output_type": "execute_result"
    }
   ],
   "source": [
    "s1 = \"nit\"\n",
    "s1"
   ]
  },
  {
   "cell_type": "code",
   "execution_count": 179,
   "id": "d45c2997-26f0-4835-8efd-4ae453b05364",
   "metadata": {},
   "outputs": [
    {
     "data": {
      "text/plain": [
       "' nit '"
      ]
     },
     "execution_count": 179,
     "metadata": {},
     "output_type": "execute_result"
    }
   ],
   "source": [
    "s2 = ''' nit '''\n",
    "s2"
   ]
  },
  {
   "cell_type": "code",
   "execution_count": 181,
   "id": "b4a8e069-520a-4076-8f76-202ae8f9554a",
   "metadata": {},
   "outputs": [
    {
     "ename": "SyntaxError",
     "evalue": "unterminated string literal (detected at line 1) (3643018313.py, line 1)",
     "output_type": "error",
     "traceback": [
      "\u001b[1;36m  Cell \u001b[1;32mIn[181], line 1\u001b[1;36m\u001b[0m\n\u001b[1;33m    s3 = 'naresh\u001b[0m\n\u001b[1;37m         ^\u001b[0m\n\u001b[1;31mSyntaxError\u001b[0m\u001b[1;31m:\u001b[0m unterminated string literal (detected at line 1)\n"
     ]
    }
   ],
   "source": [
    "s3 = 'naresh \n",
    "        it \n",
    "            technology'\n",
    "s3"
   ]
  },
  {
   "cell_type": "code",
   "execution_count": 182,
   "id": "06342833-7d89-4c5c-8495-f5433c8434b8",
   "metadata": {},
   "outputs": [
    {
     "ename": "SyntaxError",
     "evalue": "unterminated string literal (detected at line 1) (3786136121.py, line 1)",
     "output_type": "error",
     "traceback": [
      "\u001b[1;36m  Cell \u001b[1;32mIn[182], line 1\u001b[1;36m\u001b[0m\n\u001b[1;33m    s4 = \"naresh\u001b[0m\n\u001b[1;37m         ^\u001b[0m\n\u001b[1;31mSyntaxError\u001b[0m\u001b[1;31m:\u001b[0m unterminated string literal (detected at line 1)\n"
     ]
    }
   ],
   "source": [
    "s4 = \"naresh \n",
    "        it \n",
    "            technology\"\n",
    "s4"
   ]
  },
  {
   "cell_type": "code",
   "execution_count": 183,
   "id": "5eb90479-5b6e-4d61-8206-f7a63967e662",
   "metadata": {},
   "outputs": [
    {
     "data": {
      "text/plain": [
       "'naresh \\n        it \\n            technology'"
      ]
     },
     "execution_count": 183,
     "metadata": {},
     "output_type": "execute_result"
    }
   ],
   "source": [
    "s5 = '''naresh \n",
    "        it \n",
    "            technology'''\n",
    "s5"
   ]
  },
  {
   "cell_type": "code",
   "execution_count": 184,
   "id": "8f17b01d-49bc-49e2-b3e8-4d5815b2d290",
   "metadata": {},
   "outputs": [],
   "source": [
    "i_, f_, c_, b_, s_ = 29, 34.8, 1 + 2j, False, 'nit'"
   ]
  },
  {
   "cell_type": "code",
   "execution_count": 186,
   "id": "9515d1ee-7e1f-458b-99c6-6d7177abb6cc",
   "metadata": {},
   "outputs": [
    {
     "data": {
      "text/plain": [
       "34.8"
      ]
     },
     "execution_count": 186,
     "metadata": {},
     "output_type": "execute_result"
    }
   ],
   "source": [
    "f_"
   ]
  },
  {
   "cell_type": "code",
   "execution_count": 189,
   "id": "f2f4e1f9-6147-436e-a835-aa1e6cb7bc20",
   "metadata": {},
   "outputs": [
    {
     "name": "stdout",
     "output_type": "stream",
     "text": [
      "44\n",
      "44\n"
     ]
    }
   ],
   "source": [
    "p1 = p2 = 44\n",
    "print(p1)\n",
    "print(p2)"
   ]
  },
  {
   "cell_type": "code",
   "execution_count": 190,
   "id": "274c0793-32f0-4f60-bdf7-bbbc9c1d13d7",
   "metadata": {},
   "outputs": [
    {
     "data": {
      "text/plain": [
       "True"
      ]
     },
     "execution_count": 190,
     "metadata": {},
     "output_type": "execute_result"
    }
   ],
   "source": [
    "p1 == p2"
   ]
  },
  {
   "cell_type": "code",
   "execution_count": 191,
   "id": "1db7c228-987d-45cf-a7da-7016d3e2854a",
   "metadata": {},
   "outputs": [
    {
     "data": {
      "text/plain": [
       "44"
      ]
     },
     "execution_count": 191,
     "metadata": {},
     "output_type": "execute_result"
    }
   ],
   "source": [
    "p1"
   ]
  },
  {
   "cell_type": "code",
   "execution_count": 193,
   "id": "5d78e21c-5e77-4540-8fa7-1d9d6d99adc5",
   "metadata": {},
   "outputs": [
    {
     "name": "stdout",
     "output_type": "stream",
     "text": [
      "28\n"
     ]
    }
   ],
   "source": [
    "import sys\n",
    "print(sys.getsizeof(p1)) "
   ]
  },
  {
   "cell_type": "code",
   "execution_count": 195,
   "id": "8bc9ff50-79ea-4d1d-ba36-c99690a0a438",
   "metadata": {},
   "outputs": [
    {
     "data": {
      "text/plain": [
       "'nareshit'"
      ]
     },
     "execution_count": 195,
     "metadata": {},
     "output_type": "execute_result"
    }
   ],
   "source": [
    "str = 'nareshit'\n",
    "str"
   ]
  },
  {
   "cell_type": "code",
   "execution_count": 196,
   "id": "342daea1-153a-4700-b06f-722d3f53f8a6",
   "metadata": {},
   "outputs": [
    {
     "data": {
      "text/plain": [
       "'n'"
      ]
     },
     "execution_count": 196,
     "metadata": {},
     "output_type": "execute_result"
    }
   ],
   "source": [
    "str[0]"
   ]
  },
  {
   "cell_type": "code",
   "execution_count": 197,
   "id": "bebd4541-670a-47ae-ac15-ba11e616fe17",
   "metadata": {},
   "outputs": [
    {
     "data": {
      "text/plain": [
       "'t'"
      ]
     },
     "execution_count": 197,
     "metadata": {},
     "output_type": "execute_result"
    }
   ],
   "source": [
    "str[-1]"
   ]
  },
  {
   "cell_type": "code",
   "execution_count": 198,
   "id": "0b32d3fe-bfd0-44a6-b31d-74251246b859",
   "metadata": {},
   "outputs": [
    {
     "data": {
      "text/plain": [
       "'nareshit'"
      ]
     },
     "execution_count": 198,
     "metadata": {},
     "output_type": "execute_result"
    }
   ],
   "source": [
    "str"
   ]
  },
  {
   "cell_type": "code",
   "execution_count": 199,
   "id": "8a807994-27ac-4153-b4dd-f6d743245435",
   "metadata": {},
   "outputs": [
    {
     "ename": "IndexError",
     "evalue": "string index out of range",
     "output_type": "error",
     "traceback": [
      "\u001b[1;31m---------------------------------------------------------------------------\u001b[0m",
      "\u001b[1;31mIndexError\u001b[0m                                Traceback (most recent call last)",
      "Cell \u001b[1;32mIn[199], line 1\u001b[0m\n\u001b[1;32m----> 1\u001b[0m \u001b[38;5;28mstr\u001b[39m[\u001b[38;5;241m10\u001b[39m]\n",
      "\u001b[1;31mIndexError\u001b[0m: string index out of range"
     ]
    }
   ],
   "source": [
    "str[10]"
   ]
  },
  {
   "cell_type": "code",
   "execution_count": 200,
   "id": "1f779e29-25ff-4400-9555-d47ce3f25481",
   "metadata": {},
   "outputs": [
    {
     "data": {
      "text/plain": [
       "'nareshit'"
      ]
     },
     "execution_count": 200,
     "metadata": {},
     "output_type": "execute_result"
    }
   ],
   "source": [
    "str"
   ]
  },
  {
   "cell_type": "code",
   "execution_count": 201,
   "id": "220c7bd6-8655-45f8-a37f-ffcee607ce1a",
   "metadata": {},
   "outputs": [
    {
     "ename": "TypeError",
     "evalue": "'str' object is not callable",
     "output_type": "error",
     "traceback": [
      "\u001b[1;31m---------------------------------------------------------------------------\u001b[0m",
      "\u001b[1;31mTypeError\u001b[0m                                 Traceback (most recent call last)",
      "Cell \u001b[1;32mIn[201], line 1\u001b[0m\n\u001b[1;32m----> 1\u001b[0m \u001b[38;5;28mstr\u001b[39m(\u001b[38;5;241m0\u001b[39m)\n",
      "\u001b[1;31mTypeError\u001b[0m: 'str' object is not callable"
     ]
    }
   ],
   "source": [
    "str(0)"
   ]
  },
  {
   "cell_type": "code",
   "execution_count": 202,
   "id": "f905b7ff-3672-4be3-95b6-0f6655c2f34b",
   "metadata": {},
   "outputs": [
    {
     "data": {
      "text/plain": [
       "'nareshit'"
      ]
     },
     "execution_count": 202,
     "metadata": {},
     "output_type": "execute_result"
    }
   ],
   "source": [
    "str"
   ]
  },
  {
   "cell_type": "code",
   "execution_count": 203,
   "id": "e2878088-6339-4be9-a5b1-b2ca3ebc2ef5",
   "metadata": {},
   "outputs": [
    {
     "data": {
      "text/plain": [
       "'eshit'"
      ]
     },
     "execution_count": 203,
     "metadata": {},
     "output_type": "execute_result"
    }
   ],
   "source": [
    "str[3:8]"
   ]
  },
  {
   "cell_type": "code",
   "execution_count": 204,
   "id": "1de4a995-dc27-4f21-af11-39eaac900384",
   "metadata": {},
   "outputs": [
    {
     "data": {
      "text/plain": [
       "'nit'"
      ]
     },
     "execution_count": 204,
     "metadata": {},
     "output_type": "execute_result"
    }
   ],
   "source": [
    "s"
   ]
  },
  {
   "cell_type": "code",
   "execution_count": 205,
   "id": "fe17d326-91d1-45a7-9647-5c7024d4b017",
   "metadata": {},
   "outputs": [
    {
     "data": {
      "text/plain": [
       "'nit'"
      ]
     },
     "execution_count": 205,
     "metadata": {},
     "output_type": "execute_result"
    }
   ],
   "source": [
    "s1"
   ]
  },
  {
   "cell_type": "code",
   "execution_count": 206,
   "id": "516a94cb-36d2-4dc4-8af6-6c236908d998",
   "metadata": {},
   "outputs": [
    {
     "data": {
      "text/plain": [
       "'nitnit'"
      ]
     },
     "execution_count": 206,
     "metadata": {},
     "output_type": "execute_result"
    }
   ],
   "source": [
    "s + s1"
   ]
  },
  {
   "cell_type": "markdown",
   "id": "711eba81-6714-49b4-aadb-2b6f7c3a878b",
   "metadata": {},
   "source": [
    "# type casting  || type conversion \n",
    "\n",
    "chnage 1 data type to other datatype "
   ]
  },
  {
   "cell_type": "code",
   "execution_count": 207,
   "id": "376e61f3-23f6-42b4-967d-59e09b1ae995",
   "metadata": {},
   "outputs": [
    {
     "data": {
      "text/plain": [
       "5.5"
      ]
     },
     "execution_count": 207,
     "metadata": {},
     "output_type": "execute_result"
    }
   ],
   "source": [
    "5.5"
   ]
  },
  {
   "cell_type": "code",
   "execution_count": 208,
   "id": "9806ceac-6f97-40f7-9b44-3c33dcbbe662",
   "metadata": {},
   "outputs": [
    {
     "data": {
      "text/plain": [
       "5"
      ]
     },
     "execution_count": 208,
     "metadata": {},
     "output_type": "execute_result"
    }
   ],
   "source": [
    "int(5.5) # cast float argument to int argument"
   ]
  },
  {
   "cell_type": "code",
   "execution_count": 209,
   "id": "7441b6ce-20d0-46fd-bd5c-715cd10def04",
   "metadata": {},
   "outputs": [
    {
     "ename": "TypeError",
     "evalue": "'float' object cannot be interpreted as an integer",
     "output_type": "error",
     "traceback": [
      "\u001b[1;31m---------------------------------------------------------------------------\u001b[0m",
      "\u001b[1;31mTypeError\u001b[0m                                 Traceback (most recent call last)",
      "Cell \u001b[1;32mIn[209], line 1\u001b[0m\n\u001b[1;32m----> 1\u001b[0m \u001b[38;5;28mint\u001b[39m(\u001b[38;5;241m5.5\u001b[39m, \u001b[38;5;241m4.3\u001b[39m)\n",
      "\u001b[1;31mTypeError\u001b[0m: 'float' object cannot be interpreted as an integer"
     ]
    }
   ],
   "source": [
    "int(5.5, 4.3)"
   ]
  },
  {
   "cell_type": "code",
   "execution_count": 210,
   "id": "8ee1259d-7b28-4a60-8942-7696d2ab9567",
   "metadata": {},
   "outputs": [
    {
     "data": {
      "text/plain": [
       "4"
      ]
     },
     "execution_count": 210,
     "metadata": {},
     "output_type": "execute_result"
    }
   ],
   "source": [
    "int(4.3)"
   ]
  },
  {
   "cell_type": "code",
   "execution_count": 211,
   "id": "38ac6f85-f1d8-41a1-96f2-7ecc8b0931f2",
   "metadata": {},
   "outputs": [
    {
     "data": {
      "text/plain": [
       "1"
      ]
     },
     "execution_count": 211,
     "metadata": {},
     "output_type": "execute_result"
    }
   ],
   "source": [
    "int(True) # bool to int "
   ]
  },
  {
   "cell_type": "code",
   "execution_count": 215,
   "id": "a90ab342-0898-4fbf-bb18-8c05c240f192",
   "metadata": {},
   "outputs": [
    {
     "data": {
      "text/plain": [
       "int"
      ]
     },
     "execution_count": 215,
     "metadata": {},
     "output_type": "execute_result"
    }
   ],
   "source": [
    "b = int(False)\n",
    "type(b)"
   ]
  },
  {
   "cell_type": "code",
   "execution_count": 216,
   "id": "4c02a700-8b1f-4f08-b004-b653b26a5a39",
   "metadata": {},
   "outputs": [
    {
     "ename": "TypeError",
     "evalue": "int() argument must be a string, a bytes-like object or a real number, not 'complex'",
     "output_type": "error",
     "traceback": [
      "\u001b[1;31m---------------------------------------------------------------------------\u001b[0m",
      "\u001b[1;31mTypeError\u001b[0m                                 Traceback (most recent call last)",
      "Cell \u001b[1;32mIn[216], line 1\u001b[0m\n\u001b[1;32m----> 1\u001b[0m \u001b[38;5;28mint\u001b[39m(\u001b[38;5;241m10\u001b[39m\u001b[38;5;241m+\u001b[39m\u001b[38;5;241m20\u001b[39mj)\n",
      "\u001b[1;31mTypeError\u001b[0m: int() argument must be a string, a bytes-like object or a real number, not 'complex'"
     ]
    }
   ],
   "source": [
    "int(10+20j)"
   ]
  },
  {
   "cell_type": "code",
   "execution_count": 217,
   "id": "afa908bd-42d5-4660-ba19-523a25b51506",
   "metadata": {},
   "outputs": [
    {
     "ename": "TypeError",
     "evalue": "int() argument must be a string, a bytes-like object or a real number, not 'complex'",
     "output_type": "error",
     "traceback": [
      "\u001b[1;31m---------------------------------------------------------------------------\u001b[0m",
      "\u001b[1;31mTypeError\u001b[0m                                 Traceback (most recent call last)",
      "Cell \u001b[1;32mIn[217], line 1\u001b[0m\n\u001b[1;32m----> 1\u001b[0m \u001b[38;5;28mint\u001b[39m(\u001b[38;5;241m2.6\u001b[39m \u001b[38;5;241m+\u001b[39m \u001b[38;5;241m5\u001b[39mj)\n",
      "\u001b[1;31mTypeError\u001b[0m: int() argument must be a string, a bytes-like object or a real number, not 'complex'"
     ]
    }
   ],
   "source": [
    "int(2.6 + 5j)"
   ]
  },
  {
   "cell_type": "code",
   "execution_count": 218,
   "id": "4c0a9de1-0fbd-408e-9eb4-df11a1b7132c",
   "metadata": {},
   "outputs": [
    {
     "data": {
      "text/plain": [
       "10"
      ]
     },
     "execution_count": 218,
     "metadata": {},
     "output_type": "execute_result"
    }
   ],
   "source": [
    "int('10')"
   ]
  },
  {
   "cell_type": "code",
   "execution_count": 219,
   "id": "026618a7-456d-461a-9712-2b789a14a51d",
   "metadata": {},
   "outputs": [
    {
     "ename": "ValueError",
     "evalue": "invalid literal for int() with base 10: 'ten'",
     "output_type": "error",
     "traceback": [
      "\u001b[1;31m---------------------------------------------------------------------------\u001b[0m",
      "\u001b[1;31mValueError\u001b[0m                                Traceback (most recent call last)",
      "Cell \u001b[1;32mIn[219], line 1\u001b[0m\n\u001b[1;32m----> 1\u001b[0m \u001b[38;5;28mint\u001b[39m(\u001b[38;5;124m'\u001b[39m\u001b[38;5;124mten\u001b[39m\u001b[38;5;124m'\u001b[39m)\n",
      "\u001b[1;31mValueError\u001b[0m: invalid literal for int() with base 10: 'ten'"
     ]
    }
   ],
   "source": [
    "int('ten')"
   ]
  },
  {
   "cell_type": "code",
   "execution_count": 220,
   "id": "bb2edbf3-e52e-4373-b088-224c6f002608",
   "metadata": {},
   "outputs": [
    {
     "data": {
      "text/plain": [
       "10.0"
      ]
     },
     "execution_count": 220,
     "metadata": {},
     "output_type": "execute_result"
    }
   ],
   "source": [
    "float(10)"
   ]
  },
  {
   "cell_type": "code",
   "execution_count": 221,
   "id": "e8a5e849-f5d2-4296-8529-fb95d72b95c0",
   "metadata": {},
   "outputs": [
    {
     "ename": "TypeError",
     "evalue": "float() argument must be a string or a real number, not 'complex'",
     "output_type": "error",
     "traceback": [
      "\u001b[1;31m---------------------------------------------------------------------------\u001b[0m",
      "\u001b[1;31mTypeError\u001b[0m                                 Traceback (most recent call last)",
      "Cell \u001b[1;32mIn[221], line 1\u001b[0m\n\u001b[1;32m----> 1\u001b[0m \u001b[38;5;28mfloat\u001b[39m(\u001b[38;5;241m1\u001b[39m \u001b[38;5;241m+\u001b[39m \u001b[38;5;241m2\u001b[39mj )\n",
      "\u001b[1;31mTypeError\u001b[0m: float() argument must be a string or a real number, not 'complex'"
     ]
    }
   ],
   "source": [
    "float(1 + 2j )"
   ]
  },
  {
   "cell_type": "code",
   "execution_count": 222,
   "id": "b3ad0abe-1f0f-43ff-a74d-2d8bee7a02e8",
   "metadata": {},
   "outputs": [
    {
     "data": {
      "text/plain": [
       "1.0"
      ]
     },
     "execution_count": 222,
     "metadata": {},
     "output_type": "execute_result"
    }
   ],
   "source": [
    "float(True)"
   ]
  },
  {
   "cell_type": "code",
   "execution_count": 223,
   "id": "9bb4c063-0000-446c-bc13-98964108a8a9",
   "metadata": {},
   "outputs": [
    {
     "data": {
      "text/plain": [
       "1.0"
      ]
     },
     "execution_count": 223,
     "metadata": {},
     "output_type": "execute_result"
    }
   ],
   "source": [
    "float('1')"
   ]
  },
  {
   "cell_type": "code",
   "execution_count": 224,
   "id": "342106e4-9595-42be-83dd-0f05c9655c22",
   "metadata": {},
   "outputs": [
    {
     "data": {
      "text/plain": [
       "(10+0j)"
      ]
     },
     "execution_count": 224,
     "metadata": {},
     "output_type": "execute_result"
    }
   ],
   "source": [
    "complex(10)"
   ]
  },
  {
   "cell_type": "code",
   "execution_count": 225,
   "id": "404f080a-f408-4d41-be72-56707ab27128",
   "metadata": {},
   "outputs": [
    {
     "data": {
      "text/plain": [
       "(10+20j)"
      ]
     },
     "execution_count": 225,
     "metadata": {},
     "output_type": "execute_result"
    }
   ],
   "source": [
    "complex(10, 20)"
   ]
  },
  {
   "cell_type": "code",
   "execution_count": 226,
   "id": "ffc51f1a-468d-47cc-ac7f-fa8f18a130c5",
   "metadata": {},
   "outputs": [
    {
     "ename": "TypeError",
     "evalue": "complex() takes at most 2 arguments (3 given)",
     "output_type": "error",
     "traceback": [
      "\u001b[1;31m---------------------------------------------------------------------------\u001b[0m",
      "\u001b[1;31mTypeError\u001b[0m                                 Traceback (most recent call last)",
      "Cell \u001b[1;32mIn[226], line 1\u001b[0m\n\u001b[1;32m----> 1\u001b[0m \u001b[38;5;28mcomplex\u001b[39m(\u001b[38;5;241m10\u001b[39m, \u001b[38;5;241m20\u001b[39m, \u001b[38;5;241m30\u001b[39m)\n",
      "\u001b[1;31mTypeError\u001b[0m: complex() takes at most 2 arguments (3 given)"
     ]
    }
   ],
   "source": [
    "complex(10, 20, 30)"
   ]
  },
  {
   "cell_type": "code",
   "execution_count": 227,
   "id": "36ae5500-3ca9-43b1-bf7d-a60b115f9199",
   "metadata": {},
   "outputs": [
    {
     "data": {
      "text/plain": [
       "(1.2+3.4j)"
      ]
     },
     "execution_count": 227,
     "metadata": {},
     "output_type": "execute_result"
    }
   ],
   "source": [
    "complex(1.2, 3.4)"
   ]
  },
  {
   "cell_type": "code",
   "execution_count": 228,
   "id": "b25cb01f-2d73-4acb-aae8-231b8a51ff8d",
   "metadata": {},
   "outputs": [
    {
     "data": {
      "text/plain": [
       "(1+0j)"
      ]
     },
     "execution_count": 228,
     "metadata": {},
     "output_type": "execute_result"
    }
   ],
   "source": [
    "complex(True, False) #bool to complex "
   ]
  },
  {
   "cell_type": "code",
   "execution_count": 229,
   "id": "38b4f8bf-e063-4c71-bcdb-b6f51ceff1c0",
   "metadata": {},
   "outputs": [
    {
     "data": {
      "text/plain": [
       "0j"
      ]
     },
     "execution_count": 229,
     "metadata": {},
     "output_type": "execute_result"
    }
   ],
   "source": [
    "complex(False, False)"
   ]
  },
  {
   "cell_type": "code",
   "execution_count": 233,
   "id": "ddeec527-3cd6-45a4-a5a7-10da7fba9633",
   "metadata": {},
   "outputs": [
    {
     "data": {
      "text/plain": [
       "(1+0j)"
      ]
     },
     "execution_count": 233,
     "metadata": {},
     "output_type": "execute_result"
    }
   ],
   "source": [
    "complex('1')"
   ]
  },
  {
   "cell_type": "code",
   "execution_count": 234,
   "id": "1f2386d3-84f1-4b6b-a73d-82645b49de46",
   "metadata": {},
   "outputs": [
    {
     "ename": "TypeError",
     "evalue": "complex() can't take second arg if first is a string",
     "output_type": "error",
     "traceback": [
      "\u001b[1;31m---------------------------------------------------------------------------\u001b[0m",
      "\u001b[1;31mTypeError\u001b[0m                                 Traceback (most recent call last)",
      "Cell \u001b[1;32mIn[234], line 1\u001b[0m\n\u001b[1;32m----> 1\u001b[0m \u001b[38;5;28mcomplex\u001b[39m(\u001b[38;5;124m'\u001b[39m\u001b[38;5;124m1\u001b[39m\u001b[38;5;124m'\u001b[39m, \u001b[38;5;124m'\u001b[39m\u001b[38;5;124m2\u001b[39m\u001b[38;5;124m'\u001b[39m)\n",
      "\u001b[1;31mTypeError\u001b[0m: complex() can't take second arg if first is a string"
     ]
    }
   ],
   "source": [
    "complex('1', '2')"
   ]
  },
  {
   "cell_type": "code",
   "execution_count": 237,
   "id": "485b8c05-a0e9-4d98-94ba-1c6b7f1b9f3e",
   "metadata": {},
   "outputs": [
    {
     "ename": "TypeError",
     "evalue": "complex() can't take second arg if first is a string",
     "output_type": "error",
     "traceback": [
      "\u001b[1;31m---------------------------------------------------------------------------\u001b[0m",
      "\u001b[1;31mTypeError\u001b[0m                                 Traceback (most recent call last)",
      "Cell \u001b[1;32mIn[237], line 1\u001b[0m\n\u001b[1;32m----> 1\u001b[0m \u001b[38;5;28mcomplex\u001b[39m(\u001b[38;5;124m'\u001b[39m\u001b[38;5;124m1\u001b[39m\u001b[38;5;124m'\u001b[39m,\u001b[38;5;241m2\u001b[39m)\n",
      "\u001b[1;31mTypeError\u001b[0m: complex() can't take second arg if first is a string"
     ]
    }
   ],
   "source": [
    "complex('1',2)"
   ]
  },
  {
   "cell_type": "code",
   "execution_count": 238,
   "id": "8a720ea8-ba5f-4388-91fa-683ee9efe97d",
   "metadata": {},
   "outputs": [
    {
     "data": {
      "text/plain": [
       "True"
      ]
     },
     "execution_count": 238,
     "metadata": {},
     "output_type": "execute_result"
    }
   ],
   "source": [
    "bool(1)"
   ]
  },
  {
   "cell_type": "code",
   "execution_count": 239,
   "id": "16c09466-174f-4b4d-8fe1-2e96fbc7f255",
   "metadata": {},
   "outputs": [
    {
     "data": {
      "text/plain": [
       "True"
      ]
     },
     "execution_count": 239,
     "metadata": {},
     "output_type": "execute_result"
    }
   ],
   "source": [
    "bool(2.3)"
   ]
  },
  {
   "cell_type": "code",
   "execution_count": 240,
   "id": "5bc79d93-ec1d-4c9d-b4b3-18c14912174f",
   "metadata": {},
   "outputs": [
    {
     "data": {
      "text/plain": [
       "True"
      ]
     },
     "execution_count": 240,
     "metadata": {},
     "output_type": "execute_result"
    }
   ],
   "source": [
    "bool(1 + 2j )"
   ]
  },
  {
   "cell_type": "code",
   "execution_count": 241,
   "id": "0c4e6bf7-955d-4ab8-85f3-16ae8136fa0a",
   "metadata": {},
   "outputs": [
    {
     "data": {
      "text/plain": [
       "False"
      ]
     },
     "execution_count": 241,
     "metadata": {},
     "output_type": "execute_result"
    }
   ],
   "source": [
    "bool()"
   ]
  },
  {
   "cell_type": "code",
   "execution_count": 242,
   "id": "d128eeab-9d95-4158-af5d-c26a94a5f1ba",
   "metadata": {},
   "outputs": [
    {
     "data": {
      "text/plain": [
       "False"
      ]
     },
     "execution_count": 242,
     "metadata": {},
     "output_type": "execute_result"
    }
   ],
   "source": [
    "bool( )"
   ]
  },
  {
   "cell_type": "code",
   "execution_count": 243,
   "id": "ec7db2a6-d6e6-498c-99ae-ba424f8645e6",
   "metadata": {},
   "outputs": [
    {
     "data": {
      "text/plain": [
       "True"
      ]
     },
     "execution_count": 243,
     "metadata": {},
     "output_type": "execute_result"
    }
   ],
   "source": [
    "bool('3')"
   ]
  },
  {
   "cell_type": "code",
   "execution_count": 244,
   "id": "cfb08300-349a-4977-a9de-bb9a20ee822c",
   "metadata": {},
   "outputs": [
    {
     "data": {
      "text/plain": [
       "True"
      ]
     },
     "execution_count": 244,
     "metadata": {},
     "output_type": "execute_result"
    }
   ],
   "source": [
    "bool('nit')"
   ]
  },
  {
   "cell_type": "markdown",
   "id": "3e7314a3-3df8-45b4-be0e-c532d5f39c27",
   "metadata": {},
   "source": [
    "# convert non type to integer"
   ]
  },
  {
   "cell_type": "code",
   "execution_count": 62,
   "id": "784bc3b5-9491-4bd0-b06c-95aa2a2a17f6",
   "metadata": {},
   "outputs": [
    {
     "name": "stdout",
     "output_type": "stream",
     "text": [
      "123123123123123123123123123123123123123123123124\n"
     ]
    }
   ],
   "source": [
    "print(123123123123123123123123123123123123123123123123 + 1)"
   ]
  },
  {
   "cell_type": "code",
   "execution_count": 64,
   "id": "173188a2-cf09-4ec6-bec1-81626d821979",
   "metadata": {},
   "outputs": [
    {
     "name": "stdout",
     "output_type": "stream",
     "text": [
      "123123123123123123123123123123123123123123123124\n",
      "<class 'NoneType'>\n"
     ]
    }
   ],
   "source": [
    "p = print(123123123123123123123123123123123123123123123123 + 1)\n",
    "print(type(p))"
   ]
  },
  {
   "cell_type": "code",
   "execution_count": 65,
   "id": "f2bef6a1-af82-4458-870f-ce7419b4d495",
   "metadata": {},
   "outputs": [
    {
     "name": "stdout",
     "output_type": "stream",
     "text": [
      "123123123123123123124\n"
     ]
    }
   ],
   "source": [
    "print(123123123123123123123 + 1)"
   ]
  },
  {
   "cell_type": "code",
   "execution_count": 67,
   "id": "d4cd81cd-4682-4d0a-974b-cd924677b956",
   "metadata": {},
   "outputs": [
    {
     "name": "stdout",
     "output_type": "stream",
     "text": [
      "123123123123123123124\n"
     ]
    },
    {
     "data": {
      "text/plain": [
       "NoneType"
      ]
     },
     "execution_count": 67,
     "metadata": {},
     "output_type": "execute_result"
    }
   ],
   "source": [
    "p1 = print(123123123123123123123 + 1)\n",
    "type(p1)"
   ]
  },
  {
   "cell_type": "markdown",
   "id": "3d4a8515-cadf-49b0-8e21-94b3a9679a0c",
   "metadata": {},
   "source": [
    "- In this above code, print(123123123123123123123 + 1) prints the result to the console, and the print function itself returns None.\n",
    "- Therefore, when you check the type of p1, it will be <class 'NoneType'>."
   ]
  },
  {
   "cell_type": "markdown",
   "id": "4bc5496c-3f87-4a62-ad94-d962cd015213",
   "metadata": {},
   "source": [
    "- If you want to store the result of the expression 123123123123123123123 + 1 in a variable, you can do it like this:"
   ]
  },
  {
   "cell_type": "code",
   "execution_count": 68,
   "id": "f4d318fc-d39b-42a6-9cf6-21f0a97d02ea",
   "metadata": {},
   "outputs": [
    {
     "name": "stdout",
     "output_type": "stream",
     "text": [
      "123123123123123123124\n",
      "<class 'int'>\n"
     ]
    }
   ],
   "source": [
    "result = 123123123123123123123 + 1\n",
    "print(result)\n",
    "print(type(result))"
   ]
  },
  {
   "cell_type": "markdown",
   "id": "bb13b736-534d-4151-84e8-afa41846973f",
   "metadata": {},
   "source": [
    "# FLOAT"
   ]
  },
  {
   "cell_type": "code",
   "execution_count": 69,
   "id": "629054c7-36d8-4747-a417-f438bf4a0a3a",
   "metadata": {},
   "outputs": [
    {
     "data": {
      "text/plain": [
       "4.0"
      ]
     },
     "execution_count": 69,
     "metadata": {},
     "output_type": "execute_result"
    }
   ],
   "source": [
    "4."
   ]
  },
  {
   "cell_type": "code",
   "execution_count": 70,
   "id": "33050aef-8dc1-480c-be3b-7fd0635ca79a",
   "metadata": {},
   "outputs": [
    {
     "data": {
      "text/plain": [
       "float"
      ]
     },
     "execution_count": 70,
     "metadata": {},
     "output_type": "execute_result"
    }
   ],
   "source": [
    "type(4.)"
   ]
  },
  {
   "cell_type": "code",
   "execution_count": 71,
   "id": "1d68852e-94b3-46fd-803f-f189af001f00",
   "metadata": {},
   "outputs": [
    {
     "data": {
      "text/plain": [
       "0.2"
      ]
     },
     "execution_count": 71,
     "metadata": {},
     "output_type": "execute_result"
    }
   ],
   "source": [
    ".2"
   ]
  },
  {
   "cell_type": "code",
   "execution_count": 72,
   "id": "278d12ce-ca87-44aa-a5cf-3af1fe096e3c",
   "metadata": {},
   "outputs": [
    {
     "data": {
      "text/plain": [
       "float"
      ]
     },
     "execution_count": 72,
     "metadata": {},
     "output_type": "execute_result"
    }
   ],
   "source": [
    "type(.2)"
   ]
  },
  {
   "cell_type": "code",
   "execution_count": 73,
   "id": "8981293b-2125-4063-8e63-8e12ad197746",
   "metadata": {},
   "outputs": [
    {
     "data": {
      "text/plain": [
       "400.0"
      ]
     },
     "execution_count": 73,
     "metadata": {},
     "output_type": "execute_result"
    }
   ],
   "source": [
    ".4e3"
   ]
  },
  {
   "cell_type": "code",
   "execution_count": 74,
   "id": "7a79f7cf-bb7f-4c08-9638-dccef46021d2",
   "metadata": {},
   "outputs": [
    {
     "data": {
      "text/plain": [
       "0.00042"
      ]
     },
     "execution_count": 74,
     "metadata": {},
     "output_type": "execute_result"
    }
   ],
   "source": [
    " 4.2e-4 # introuduce to chatgpt"
   ]
  },
  {
   "cell_type": "markdown",
   "id": "955b3a97-113a-4e23-99cc-b0b63282d50a",
   "metadata": {},
   "source": [
    "# STRING"
   ]
  },
  {
   "cell_type": "code",
   "execution_count": 75,
   "id": "f7f7597d-4c7a-4363-a88e-2cb7c7ec5c4e",
   "metadata": {},
   "outputs": [
    {
     "data": {
      "text/plain": [
       "''"
      ]
     },
     "execution_count": 75,
     "metadata": {},
     "output_type": "execute_result"
    }
   ],
   "source": [
    "''"
   ]
  },
  {
   "cell_type": "code",
   "execution_count": 78,
   "id": "f49dabbc-b655-4fbf-a8ff-194c8f669e1e",
   "metadata": {},
   "outputs": [
    {
     "data": {
      "text/plain": [
       "str"
      ]
     },
     "execution_count": 78,
     "metadata": {},
     "output_type": "execute_result"
    }
   ],
   "source": [
    "es = ''\n",
    "type(es)"
   ]
  },
  {
   "cell_type": "code",
   "execution_count": 76,
   "id": "7e2f418f-f1ff-460e-9552-7998ff510011",
   "metadata": {},
   "outputs": [
    {
     "data": {
      "text/plain": [
       "''"
      ]
     },
     "execution_count": 76,
     "metadata": {},
     "output_type": "execute_result"
    }
   ],
   "source": [
    "\"\""
   ]
  },
  {
   "cell_type": "code",
   "execution_count": 77,
   "id": "afc476db-9f87-44c2-8aff-20d3aa626b64",
   "metadata": {},
   "outputs": [
    {
     "data": {
      "text/plain": [
       "''"
      ]
     },
     "execution_count": 77,
     "metadata": {},
     "output_type": "execute_result"
    }
   ],
   "source": [
    "''''''"
   ]
  },
  {
   "cell_type": "code",
   "execution_count": 80,
   "id": "d85a4472-1ae7-4d50-a05f-3b8e8c8ff31b",
   "metadata": {},
   "outputs": [
    {
     "name": "stdout",
     "output_type": "stream",
     "text": [
      "This string contains a single quote (') character.\n"
     ]
    }
   ],
   "source": [
    "print(\"This string contains a single quote (') character.\")"
   ]
  },
  {
   "cell_type": "code",
   "execution_count": 81,
   "id": "b9357a6a-57cc-479f-b340-50ee9c840049",
   "metadata": {},
   "outputs": [
    {
     "name": "stdout",
     "output_type": "stream",
     "text": [
      "This string contains a double quote (\") character.\n"
     ]
    }
   ],
   "source": [
    "print('This string contains a double quote (\") character.')"
   ]
  },
  {
   "cell_type": "code",
   "execution_count": 79,
   "id": "48e44369-846a-4424-a520-79cdff609107",
   "metadata": {},
   "outputs": [
    {
     "ename": "SyntaxError",
     "evalue": "unterminated string literal (detected at line 1) (1099109788.py, line 1)",
     "output_type": "error",
     "traceback": [
      "\u001b[1;36m  Cell \u001b[1;32mIn[79], line 1\u001b[1;36m\u001b[0m\n\u001b[1;33m    print('This string contains a single quote (') character.')\u001b[0m\n\u001b[1;37m                                                             ^\u001b[0m\n\u001b[1;31mSyntaxError\u001b[0m\u001b[1;31m:\u001b[0m unterminated string literal (detected at line 1)\n"
     ]
    }
   ],
   "source": [
    "print('This string contains a single quote (') character.')"
   ]
  },
  {
   "cell_type": "code",
   "execution_count": 82,
   "id": "f2dcc987-7237-42ee-9d1a-53bf0be1a42c",
   "metadata": {},
   "outputs": [
    {
     "name": "stdout",
     "output_type": "stream",
     "text": [
      "This string contains a single quote (') character.\n"
     ]
    }
   ],
   "source": [
    "print('This string contains a single quote (\\') character.')\n",
    "\n",
    "'''\n",
    "Specifying a backslash in front of the quote character in a string “escapes” it \n",
    "and causes Python to suppress its usual special meaning. \n",
    "It is then interpreted simply as a literal single quote character:\n",
    "The same works in a string delimited by double quotes as well:\n",
    "'''"
   ]
  },
  {
   "cell_type": "code",
   "execution_count": 85,
   "id": "ef367112-d4ef-4f9f-872f-f46a85878ada",
   "metadata": {},
   "outputs": [
    {
     "name": "stdout",
     "output_type": "stream",
     "text": [
      "This string contains a single quote (') character.\n"
     ]
    }
   ],
   "source": [
    "print('This string contains a single quote (\\') character.')"
   ]
  },
  {
   "cell_type": "code",
   "execution_count": 87,
   "id": "aa913c72-208d-4781-90c5-58e75ebaed16",
   "metadata": {},
   "outputs": [
    {
     "name": "stdout",
     "output_type": "stream",
     "text": [
      "This string contains a double quote (') character.\n"
     ]
    }
   ],
   "source": [
    "print(\"This string contains a double quote (\\') character.\")"
   ]
  },
  {
   "cell_type": "code",
   "execution_count": 116,
   "id": "6233423f-cb29-4505-8a21-c62b7968a4ba",
   "metadata": {},
   "outputs": [
    {
     "ename": "SyntaxError",
     "evalue": "unterminated string literal (detected at line 1) (2935268511.py, line 1)",
     "output_type": "error",
     "traceback": [
      "\u001b[1;36m  Cell \u001b[1;32mIn[116], line 1\u001b[1;36m\u001b[0m\n\u001b[1;33m    print('a\u001b[0m\n\u001b[1;37m          ^\u001b[0m\n\u001b[1;31mSyntaxError\u001b[0m\u001b[1;31m:\u001b[0m unterminated string literal (detected at line 1)\n"
     ]
    }
   ],
   "source": [
    "print('a"
   ]
  },
  {
   "cell_type": "code",
   "execution_count": 147,
   "id": "e5cf0e4a-4bf4-4ec3-bee7-a6e4e0b31618",
   "metadata": {},
   "outputs": [
    {
     "name": "stdout",
     "output_type": "stream",
     "text": [
      "abc\n"
     ]
    }
   ],
   "source": [
    ">>> print('a\\\n",
    "b\\\n",
    "c')"
   ]
  },
  {
   "cell_type": "code",
   "execution_count": 245,
   "id": "8cd69677-3634-4903-ba59-975116cfb6a8",
   "metadata": {},
   "outputs": [
    {
     "name": "stdout",
     "output_type": "stream",
     "text": [
      "***\n"
     ]
    }
   ],
   "source": [
    "print('*\\\n",
    "*\\\n",
    "*')"
   ]
  },
  {
   "cell_type": "code",
   "execution_count": 131,
   "id": "b399a275-b169-4f55-a2a4-6c4d520134a1",
   "metadata": {},
   "outputs": [
    {
     "name": "stdout",
     "output_type": "stream",
     "text": [
      "***\n",
      "#####\n",
      "*******\n"
     ]
    }
   ],
   "source": [
    "print('*\\\n",
    "*\\\n",
    "*')\n",
    "\n",
    "print('#\\\n",
    "#\\\n",
    "###')\n",
    "\n",
    "print('*\\\n",
    "***\\\n",
    "***')"
   ]
  },
  {
   "cell_type": "code",
   "execution_count": 145,
   "id": "3ae30957-c0cd-4c72-8ee0-33ddeb31b181",
   "metadata": {},
   "outputs": [
    {
     "name": "stdout",
     "output_type": "stream",
     "text": [
      "naresh\\it\n"
     ]
    }
   ],
   "source": [
    "print('naresh\\it') #To include a literal backslash in a string, escape it with a backslash:"
   ]
  },
  {
   "cell_type": "code",
   "execution_count": 127,
   "id": "b25dfe6f-82ae-4c69-8fa5-f75de30a6b6c",
   "metadata": {},
   "outputs": [
    {
     "name": "stdout",
     "output_type": "stream",
     "text": [
      "naresh\\it\n"
     ]
    }
   ],
   "source": [
    "print(\"naresh\\\\it\")"
   ]
  },
  {
   "cell_type": "code",
   "execution_count": 134,
   "id": "2d5faf24-c799-4bb3-b85c-f641ee35a54d",
   "metadata": {},
   "outputs": [
    {
     "name": "stdout",
     "output_type": "stream",
     "text": [
      "naresh\n",
      "it\n"
     ]
    }
   ],
   "source": [
    "print('naresh\\nit')"
   ]
  },
  {
   "cell_type": "markdown",
   "id": "6dcdba80-d344-41d2-9620-fd84338d15ff",
   "metadata": {},
   "source": [
    "- A raw string literal is preceded by r or R, which specifies that escape sequences \n",
    "in the associated string are not translated. \n",
    "- The backslash character is left in the string:"
   ]
  },
  {
   "cell_type": "markdown",
   "id": "3ae0d6a7-1cb6-4555-b8ee-eda6510f0e62",
   "metadata": {},
   "source": [
    "# list"
   ]
  },
  {
   "cell_type": "code",
   "execution_count": 3,
   "id": "d1c4a9ba-4381-4bc3-85e9-dae00f5abf5a",
   "metadata": {},
   "outputs": [
    {
     "data": {
      "text/plain": [
       "[]"
      ]
     },
     "execution_count": 3,
     "metadata": {},
     "output_type": "execute_result"
    }
   ],
   "source": [
    "l = []\n",
    "l"
   ]
  },
  {
   "cell_type": "code",
   "execution_count": 4,
   "id": "03d4d291-b0ee-4486-9ed5-a2afb7ffc27c",
   "metadata": {},
   "outputs": [
    {
     "data": {
      "text/plain": [
       "list"
      ]
     },
     "execution_count": 4,
     "metadata": {},
     "output_type": "execute_result"
    }
   ],
   "source": [
    "type(l)"
   ]
  },
  {
   "cell_type": "code",
   "execution_count": 5,
   "id": "e4df383b-ed61-46a4-a9e2-273405877be3",
   "metadata": {},
   "outputs": [],
   "source": [
    "l.append(10)"
   ]
  },
  {
   "cell_type": "code",
   "execution_count": 6,
   "id": "5105f1b5-6b43-4f98-91bc-4d0912e2406d",
   "metadata": {},
   "outputs": [
    {
     "data": {
      "text/plain": [
       "[10]"
      ]
     },
     "execution_count": 6,
     "metadata": {},
     "output_type": "execute_result"
    }
   ],
   "source": [
    "l"
   ]
  },
  {
   "cell_type": "code",
   "execution_count": 7,
   "id": "a3d10f7a-517a-4e19-bc63-5b4969085e85",
   "metadata": {},
   "outputs": [],
   "source": [
    "l.append(20)"
   ]
  },
  {
   "cell_type": "code",
   "execution_count": 254,
   "id": "3cf71282-f634-4704-a33d-9d62b69168d4",
   "metadata": {},
   "outputs": [
    {
     "data": {
      "text/plain": [
       "[10, 20]"
      ]
     },
     "execution_count": 254,
     "metadata": {},
     "output_type": "execute_result"
    }
   ],
   "source": [
    "l"
   ]
  },
  {
   "cell_type": "code",
   "execution_count": 8,
   "id": "6f39db8a-cb2d-4c13-8c28-63ed10fad3f8",
   "metadata": {},
   "outputs": [],
   "source": [
    "l.append(3.4)\n",
    "l.append(True)\n",
    "l.append('nit')\n",
    "l.append(1 + 2j)"
   ]
  },
  {
   "cell_type": "code",
   "execution_count": 9,
   "id": "8753c229-42fa-44c6-9c8a-b1a48df1b158",
   "metadata": {},
   "outputs": [
    {
     "data": {
      "text/plain": [
       "[10, 20, 3.4, True, 'nit', (1+2j)]"
      ]
     },
     "execution_count": 9,
     "metadata": {},
     "output_type": "execute_result"
    }
   ],
   "source": [
    "l"
   ]
  },
  {
   "cell_type": "code",
   "execution_count": 10,
   "id": "bd21cf05-a3ca-43d5-b428-99f3c7926de5",
   "metadata": {},
   "outputs": [
    {
     "data": {
      "text/plain": [
       "6"
      ]
     },
     "execution_count": 10,
     "metadata": {},
     "output_type": "execute_result"
    }
   ],
   "source": [
    "len(l)"
   ]
  },
  {
   "cell_type": "code",
   "execution_count": 12,
   "id": "f32dc796-ed8e-476b-b556-f88bfa9fd44a",
   "metadata": {},
   "outputs": [],
   "source": [
    "l1 = l.copy()"
   ]
  },
  {
   "cell_type": "code",
   "execution_count": 13,
   "id": "1e11e301-312e-4d8b-a9e1-ac9953e41144",
   "metadata": {},
   "outputs": [
    {
     "data": {
      "text/plain": [
       "[10, 20, 3.4, True, 'nit', (1+2j)]"
      ]
     },
     "execution_count": 13,
     "metadata": {},
     "output_type": "execute_result"
    }
   ],
   "source": [
    "l1"
   ]
  },
  {
   "cell_type": "code",
   "execution_count": 14,
   "id": "8efd03c5-5cde-4cc2-889c-cc692afd7f44",
   "metadata": {},
   "outputs": [
    {
     "data": {
      "text/plain": [
       "6"
      ]
     },
     "execution_count": 14,
     "metadata": {},
     "output_type": "execute_result"
    }
   ],
   "source": [
    "len(l1)"
   ]
  },
  {
   "cell_type": "code",
   "execution_count": 15,
   "id": "946d2b83-c422-427c-b4bc-820016809f5a",
   "metadata": {},
   "outputs": [
    {
     "data": {
      "text/plain": [
       "True"
      ]
     },
     "execution_count": 15,
     "metadata": {},
     "output_type": "execute_result"
    }
   ],
   "source": [
    "l == l1"
   ]
  },
  {
   "cell_type": "code",
   "execution_count": 16,
   "id": "bd1a78fa-6269-495a-b577-687e8d414780",
   "metadata": {},
   "outputs": [
    {
     "data": {
      "text/plain": [
       "[10, 20, 3.4, True, 'nit', (1+2j)]"
      ]
     },
     "execution_count": 16,
     "metadata": {},
     "output_type": "execute_result"
    }
   ],
   "source": [
    "l"
   ]
  },
  {
   "cell_type": "code",
   "execution_count": 17,
   "id": "31d9e77c-cfc8-4c42-9295-abfacba7f337",
   "metadata": {},
   "outputs": [
    {
     "data": {
      "text/plain": [
       "[10, 20, 3.4, True, 'nit', (1+2j)]"
      ]
     },
     "execution_count": 17,
     "metadata": {},
     "output_type": "execute_result"
    }
   ],
   "source": [
    "l1"
   ]
  },
  {
   "cell_type": "code",
   "execution_count": 18,
   "id": "cada0f63-5fe5-4de9-9cfc-1b7ffeb26e71",
   "metadata": {},
   "outputs": [
    {
     "name": "stdout",
     "output_type": "stream",
     "text": [
      "2782314677440\n",
      "2782314478080\n"
     ]
    }
   ],
   "source": [
    "print(id(l))\n",
    "print(id(l1))"
   ]
  },
  {
   "cell_type": "code",
   "execution_count": 19,
   "id": "cfd2432a-f4b9-4a4a-8586-0509b9812975",
   "metadata": {},
   "outputs": [],
   "source": [
    "l.append(10)"
   ]
  },
  {
   "cell_type": "code",
   "execution_count": 20,
   "id": "e05635c3-8a52-4a17-a262-3be8cb2e3821",
   "metadata": {},
   "outputs": [
    {
     "data": {
      "text/plain": [
       "[10, 20, 3.4, True, 'nit', (1+2j), 10]"
      ]
     },
     "execution_count": 20,
     "metadata": {},
     "output_type": "execute_result"
    }
   ],
   "source": [
    "l"
   ]
  },
  {
   "cell_type": "code",
   "execution_count": 21,
   "id": "53c2a9cf-0360-40a4-9a1c-e64bdaf89e3d",
   "metadata": {},
   "outputs": [
    {
     "data": {
      "text/plain": [
       "[10, 20, 3.4, True, 'nit', (1+2j)]"
      ]
     },
     "execution_count": 21,
     "metadata": {},
     "output_type": "execute_result"
    }
   ],
   "source": [
    "l1"
   ]
  },
  {
   "cell_type": "code",
   "execution_count": 22,
   "id": "f4a88be4-ea7d-4854-8d32-10ef849c619f",
   "metadata": {},
   "outputs": [
    {
     "data": {
      "text/plain": [
       "False"
      ]
     },
     "execution_count": 22,
     "metadata": {},
     "output_type": "execute_result"
    }
   ],
   "source": [
    "l== l1"
   ]
  },
  {
   "cell_type": "code",
   "execution_count": 23,
   "id": "e409bef0-2cb3-4a18-999d-26277bb41fcb",
   "metadata": {},
   "outputs": [
    {
     "data": {
      "text/plain": [
       "[10, 20, 3.4, True, 'nit', (1+2j)]"
      ]
     },
     "execution_count": 23,
     "metadata": {},
     "output_type": "execute_result"
    }
   ],
   "source": [
    "l1"
   ]
  },
  {
   "cell_type": "code",
   "execution_count": 24,
   "id": "5bb4b480-9a3c-448f-aff4-4c55bbe5bf89",
   "metadata": {},
   "outputs": [],
   "source": [
    "l1.clear()"
   ]
  },
  {
   "cell_type": "code",
   "execution_count": 25,
   "id": "56ee2562-c462-4291-bcf8-7ab31539331a",
   "metadata": {},
   "outputs": [
    {
     "data": {
      "text/plain": [
       "[]"
      ]
     },
     "execution_count": 25,
     "metadata": {},
     "output_type": "execute_result"
    }
   ],
   "source": [
    "l1"
   ]
  },
  {
   "cell_type": "code",
   "execution_count": 26,
   "id": "9ed6121d-244d-4acf-9518-7b27d4593c23",
   "metadata": {},
   "outputs": [
    {
     "data": {
      "text/plain": [
       "2782314478080"
      ]
     },
     "execution_count": 26,
     "metadata": {},
     "output_type": "execute_result"
    }
   ],
   "source": [
    "id(l1)"
   ]
  },
  {
   "cell_type": "code",
   "execution_count": 273,
   "id": "af00d85d-d675-4be3-b6ed-67beb663f037",
   "metadata": {},
   "outputs": [
    {
     "data": {
      "text/plain": [
       "7"
      ]
     },
     "execution_count": 273,
     "metadata": {},
     "output_type": "execute_result"
    }
   ],
   "source": [
    "len(l)"
   ]
  },
  {
   "cell_type": "code",
   "execution_count": 274,
   "id": "02c44b5c-74e9-4688-bb76-7b6f3c450214",
   "metadata": {},
   "outputs": [
    {
     "data": {
      "text/plain": [
       "0"
      ]
     },
     "execution_count": 274,
     "metadata": {},
     "output_type": "execute_result"
    }
   ],
   "source": [
    "len(l1)"
   ]
  },
  {
   "cell_type": "code",
   "execution_count": 27,
   "id": "c0b74da7-dbc8-4e5f-a092-a9a879266577",
   "metadata": {},
   "outputs": [],
   "source": [
    "del l1"
   ]
  },
  {
   "cell_type": "code",
   "execution_count": 28,
   "id": "4c657807-ef70-411e-a7c1-277f0b5aaca5",
   "metadata": {},
   "outputs": [
    {
     "ename": "NameError",
     "evalue": "name 'l1' is not defined",
     "output_type": "error",
     "traceback": [
      "\u001b[1;31m---------------------------------------------------------------------------\u001b[0m",
      "\u001b[1;31mNameError\u001b[0m                                 Traceback (most recent call last)",
      "Cell \u001b[1;32mIn[28], line 1\u001b[0m\n\u001b[1;32m----> 1\u001b[0m l1\n",
      "\u001b[1;31mNameError\u001b[0m: name 'l1' is not defined"
     ]
    }
   ],
   "source": [
    "l1"
   ]
  },
  {
   "cell_type": "code",
   "execution_count": 29,
   "id": "ed1b8b41-427a-4c10-bd59-861dda431775",
   "metadata": {},
   "outputs": [
    {
     "data": {
      "text/plain": [
       "[10, 20, 3.4, True, 'nit', (1+2j), 10]"
      ]
     },
     "execution_count": 29,
     "metadata": {},
     "output_type": "execute_result"
    }
   ],
   "source": [
    "l"
   ]
  },
  {
   "cell_type": "code",
   "execution_count": 30,
   "id": "f182266d-47dc-49dc-afbb-22d45af9415e",
   "metadata": {},
   "outputs": [
    {
     "ename": "TypeError",
     "evalue": "list.count() takes exactly one argument (0 given)",
     "output_type": "error",
     "traceback": [
      "\u001b[1;31m---------------------------------------------------------------------------\u001b[0m",
      "\u001b[1;31mTypeError\u001b[0m                                 Traceback (most recent call last)",
      "Cell \u001b[1;32mIn[30], line 1\u001b[0m\n\u001b[1;32m----> 1\u001b[0m l\u001b[38;5;241m.\u001b[39mcount()\n",
      "\u001b[1;31mTypeError\u001b[0m: list.count() takes exactly one argument (0 given)"
     ]
    }
   ],
   "source": [
    "l.count()"
   ]
  },
  {
   "cell_type": "code",
   "execution_count": 32,
   "id": "e34414ff-f515-463a-b61a-8a7910c8e84a",
   "metadata": {},
   "outputs": [
    {
     "data": {
      "text/plain": [
       "1"
      ]
     },
     "execution_count": 32,
     "metadata": {},
     "output_type": "execute_result"
    }
   ],
   "source": [
    "l.count(3.4)"
   ]
  },
  {
   "cell_type": "code",
   "execution_count": 280,
   "id": "9e3dde3c-95a2-4f73-bda3-e07dcfada819",
   "metadata": {},
   "outputs": [
    {
     "data": {
      "text/plain": [
       "[10, 20, 3.4, True, 'nit', (1+2j), 10]"
      ]
     },
     "execution_count": 280,
     "metadata": {},
     "output_type": "execute_result"
    }
   ],
   "source": [
    "l"
   ]
  },
  {
   "cell_type": "code",
   "execution_count": 281,
   "id": "ebbdee34-25d4-46ba-a94b-3537397fb3d6",
   "metadata": {},
   "outputs": [],
   "source": [
    "l.insert(7,'datascience')"
   ]
  },
  {
   "cell_type": "code",
   "execution_count": 282,
   "id": "1d102d82-a36f-4d04-ae0c-d0d230d51f4a",
   "metadata": {},
   "outputs": [
    {
     "data": {
      "text/plain": [
       "[10, 20, 3.4, True, 'nit', (1+2j), 10, 'datascience']"
      ]
     },
     "execution_count": 282,
     "metadata": {},
     "output_type": "execute_result"
    }
   ],
   "source": [
    "l"
   ]
  },
  {
   "cell_type": "code",
   "execution_count": 283,
   "id": "19d5078c-bf01-4820-a7d8-d09bfe8b1b23",
   "metadata": {},
   "outputs": [],
   "source": [
    "l.insert(6,'ai')"
   ]
  },
  {
   "cell_type": "code",
   "execution_count": 284,
   "id": "0ff34676-a9c3-476e-af7f-9813378130e7",
   "metadata": {},
   "outputs": [
    {
     "data": {
      "text/plain": [
       "[10, 20, 3.4, True, 'nit', (1+2j), 'ai', 10, 'datascience']"
      ]
     },
     "execution_count": 284,
     "metadata": {},
     "output_type": "execute_result"
    }
   ],
   "source": [
    "l"
   ]
  },
  {
   "cell_type": "code",
   "execution_count": 285,
   "id": "c3e35270-0af7-45c7-9df4-1a068c1cbb66",
   "metadata": {},
   "outputs": [],
   "source": [
    "l.remove('ai')"
   ]
  },
  {
   "cell_type": "code",
   "execution_count": 286,
   "id": "c66dd3a0-9b3a-4f8d-a70c-0a20fa48875d",
   "metadata": {},
   "outputs": [
    {
     "data": {
      "text/plain": [
       "[10, 20, 3.4, True, 'nit', (1+2j), 10, 'datascience']"
      ]
     },
     "execution_count": 286,
     "metadata": {},
     "output_type": "execute_result"
    }
   ],
   "source": [
    "l"
   ]
  },
  {
   "cell_type": "code",
   "execution_count": 287,
   "id": "b236bd54-fcf3-4e49-807e-bc918d8aa445",
   "metadata": {},
   "outputs": [
    {
     "ename": "TypeError",
     "evalue": "list.remove() takes exactly one argument (2 given)",
     "output_type": "error",
     "traceback": [
      "\u001b[1;31m---------------------------------------------------------------------------\u001b[0m",
      "\u001b[1;31mTypeError\u001b[0m                                 Traceback (most recent call last)",
      "Cell \u001b[1;32mIn[287], line 1\u001b[0m\n\u001b[1;32m----> 1\u001b[0m l\u001b[38;5;241m.\u001b[39mremove(\u001b[38;5;241m3.4\u001b[39m, \u001b[38;5;28;01mTrue\u001b[39;00m)\n",
      "\u001b[1;31mTypeError\u001b[0m: list.remove() takes exactly one argument (2 given)"
     ]
    }
   ],
   "source": [
    "l.remove(3.4, True)"
   ]
  },
  {
   "cell_type": "code",
   "execution_count": 288,
   "id": "c182aef8-df27-4f4b-9f22-6bfd94be6245",
   "metadata": {},
   "outputs": [
    {
     "data": {
      "text/plain": [
       "[10, 20, 3.4, True, 'nit', (1+2j), 10, 'datascience']"
      ]
     },
     "execution_count": 288,
     "metadata": {},
     "output_type": "execute_result"
    }
   ],
   "source": [
    "l"
   ]
  },
  {
   "cell_type": "code",
   "execution_count": 289,
   "id": "e79a4329-c7d0-4b4e-8851-90751d0af43a",
   "metadata": {},
   "outputs": [
    {
     "data": {
      "text/plain": [
       "'datascience'"
      ]
     },
     "execution_count": 289,
     "metadata": {},
     "output_type": "execute_result"
    }
   ],
   "source": [
    "l.pop()"
   ]
  },
  {
   "cell_type": "code",
   "execution_count": 290,
   "id": "625656dd-260e-49ce-9fe7-b2b76f094b69",
   "metadata": {},
   "outputs": [
    {
     "data": {
      "text/plain": [
       "[10, 20, 3.4, True, 'nit', (1+2j), 10]"
      ]
     },
     "execution_count": 290,
     "metadata": {},
     "output_type": "execute_result"
    }
   ],
   "source": [
    "l"
   ]
  },
  {
   "cell_type": "code",
   "execution_count": 291,
   "id": "90247b8d-11a1-4cc8-a082-3279f6dfdff5",
   "metadata": {},
   "outputs": [
    {
     "ename": "TypeError",
     "evalue": "pop expected at most 1 argument, got 2",
     "output_type": "error",
     "traceback": [
      "\u001b[1;31m---------------------------------------------------------------------------\u001b[0m",
      "\u001b[1;31mTypeError\u001b[0m                                 Traceback (most recent call last)",
      "Cell \u001b[1;32mIn[291], line 1\u001b[0m\n\u001b[1;32m----> 1\u001b[0m l\u001b[38;5;241m.\u001b[39mpop(\u001b[38;5;28;01mTrue\u001b[39;00m, (\u001b[38;5;241m1\u001b[39m\u001b[38;5;241m+\u001b[39m\u001b[38;5;241m2\u001b[39mj))\n",
      "\u001b[1;31mTypeError\u001b[0m: pop expected at most 1 argument, got 2"
     ]
    }
   ],
   "source": [
    "l.pop(True, (1+2j))"
   ]
  },
  {
   "cell_type": "code",
   "execution_count": 292,
   "id": "ffc6c25f-0171-47c9-8d07-743dfcf232f0",
   "metadata": {},
   "outputs": [
    {
     "data": {
      "text/plain": [
       "20"
      ]
     },
     "execution_count": 292,
     "metadata": {},
     "output_type": "execute_result"
    }
   ],
   "source": [
    "l.pop(True)"
   ]
  },
  {
   "cell_type": "code",
   "execution_count": 293,
   "id": "92a4f716-75dd-4309-951e-4c522db2bad7",
   "metadata": {},
   "outputs": [
    {
     "data": {
      "text/plain": [
       "[10, 3.4, True, 'nit', (1+2j), 10]"
      ]
     },
     "execution_count": 293,
     "metadata": {},
     "output_type": "execute_result"
    }
   ],
   "source": [
    "l"
   ]
  },
  {
   "cell_type": "markdown",
   "id": "70cfc6f8-96cb-4ffc-94b3-19ff02ce0edf",
   "metadata": {},
   "source": [
    "l.pop(True)\n",
    "l.pop(3.4)"
   ]
  },
  {
   "cell_type": "code",
   "execution_count": 295,
   "id": "c3a0c9c9-b254-48ba-88da-62faf0ad9d50",
   "metadata": {},
   "outputs": [
    {
     "ename": "ValueError",
     "evalue": "list.remove(x): x not in list",
     "output_type": "error",
     "traceback": [
      "\u001b[1;31m---------------------------------------------------------------------------\u001b[0m",
      "\u001b[1;31mValueError\u001b[0m                                Traceback (most recent call last)",
      "Cell \u001b[1;32mIn[295], line 2\u001b[0m\n\u001b[0;32m      1\u001b[0m l\u001b[38;5;241m.\u001b[39mpop(\u001b[38;5;28;01mTrue\u001b[39;00m)\n\u001b[1;32m----> 2\u001b[0m l\u001b[38;5;241m.\u001b[39mremove(\u001b[38;5;241m3.4\u001b[39m)\n",
      "\u001b[1;31mValueError\u001b[0m: list.remove(x): x not in list"
     ]
    }
   ],
   "source": [
    "l.pop(True)\n",
    "l.remove(3.4)"
   ]
  },
  {
   "cell_type": "code",
   "execution_count": 296,
   "id": "9db7cd26-01f7-456e-a5f3-c72b49ad7e6c",
   "metadata": {},
   "outputs": [
    {
     "data": {
      "text/plain": [
       "[10, 'nit', (1+2j), 10]"
      ]
     },
     "execution_count": 296,
     "metadata": {},
     "output_type": "execute_result"
    }
   ],
   "source": [
    "l"
   ]
  },
  {
   "cell_type": "code",
   "execution_count": 297,
   "id": "1479c6e7-286b-47ee-8e49-2523be4c2436",
   "metadata": {},
   "outputs": [],
   "source": [
    "l.append(True)\n",
    "l.append('hi')\n",
    "l.append([1,2, 3, 4.5])"
   ]
  },
  {
   "cell_type": "code",
   "execution_count": 298,
   "id": "24bf2007-299f-49cc-b0c7-fa507a1a9f06",
   "metadata": {},
   "outputs": [
    {
     "data": {
      "text/plain": [
       "[10, 'nit', (1+2j), 10, True, 'hi', [1, 2, 3, 4.5]]"
      ]
     },
     "execution_count": 298,
     "metadata": {},
     "output_type": "execute_result"
    }
   ],
   "source": [
    "l"
   ]
  },
  {
   "cell_type": "code",
   "execution_count": 299,
   "id": "d13b4a2e-5fa1-4ecd-82a2-f2400c38110d",
   "metadata": {},
   "outputs": [
    {
     "data": {
      "text/plain": [
       "7"
      ]
     },
     "execution_count": 299,
     "metadata": {},
     "output_type": "execute_result"
    }
   ],
   "source": [
    "len(l)"
   ]
  },
  {
   "cell_type": "code",
   "execution_count": 300,
   "id": "b747871a-f88d-4a05-9098-5bdc4476b596",
   "metadata": {},
   "outputs": [
    {
     "data": {
      "text/plain": [
       "1"
      ]
     },
     "execution_count": 300,
     "metadata": {},
     "output_type": "execute_result"
    }
   ],
   "source": [
    "l.count('nit')"
   ]
  },
  {
   "cell_type": "code",
   "execution_count": 301,
   "id": "4da809d7-bf1a-444a-ae3c-2bb12d84d355",
   "metadata": {},
   "outputs": [
    {
     "data": {
      "text/plain": [
       "[10, 'nit', (1+2j), 10, True, 'hi', [1, 2, 3, 4.5]]"
      ]
     },
     "execution_count": 301,
     "metadata": {},
     "output_type": "execute_result"
    }
   ],
   "source": [
    "l"
   ]
  },
  {
   "cell_type": "code",
   "execution_count": 302,
   "id": "1df07adf-1ef4-4dac-a3c8-a9f0c39105a9",
   "metadata": {},
   "outputs": [
    {
     "data": {
      "text/plain": [
       "7"
      ]
     },
     "execution_count": 302,
     "metadata": {},
     "output_type": "execute_result"
    }
   ],
   "source": [
    "len(l)"
   ]
  },
  {
   "cell_type": "code",
   "execution_count": 303,
   "id": "f850d5ef-6c0f-4194-b940-244b329d0223",
   "metadata": {},
   "outputs": [
    {
     "data": {
      "text/plain": [
       "[10, 'nit', (1+2j), 10, True, 'hi', [1, 2, 3, 4.5]]"
      ]
     },
     "execution_count": 303,
     "metadata": {},
     "output_type": "execute_result"
    }
   ],
   "source": [
    "l[:]"
   ]
  },
  {
   "cell_type": "code",
   "execution_count": 304,
   "id": "662a0f81-b914-4908-b40e-e36d8fee85f1",
   "metadata": {},
   "outputs": [
    {
     "data": {
      "text/plain": [
       "[10, 'nit', (1+2j), 10, True, 'hi', [1, 2, 3, 4.5]]"
      ]
     },
     "execution_count": 304,
     "metadata": {},
     "output_type": "execute_result"
    }
   ],
   "source": [
    "l"
   ]
  },
  {
   "cell_type": "code",
   "execution_count": 305,
   "id": "27c972ec-6e4d-4862-a0e2-2019723a9a53",
   "metadata": {},
   "outputs": [
    {
     "data": {
      "text/plain": [
       "['nit', (1+2j), 10, True, 'hi', [1, 2, 3, 4.5]]"
      ]
     },
     "execution_count": 305,
     "metadata": {},
     "output_type": "execute_result"
    }
   ],
   "source": [
    "l[1:7]"
   ]
  },
  {
   "cell_type": "code",
   "execution_count": 306,
   "id": "0670e7b2-9149-42bf-b98d-bf1ff99bf177",
   "metadata": {},
   "outputs": [
    {
     "data": {
      "text/plain": [
       "[10, 'nit', (1+2j), 10, True, 'hi', [1, 2, 3, 4.5]]"
      ]
     },
     "execution_count": 306,
     "metadata": {},
     "output_type": "execute_result"
    }
   ],
   "source": [
    "l"
   ]
  },
  {
   "cell_type": "code",
   "execution_count": 307,
   "id": "d550df60-bb30-4135-9b95-40f25f8a338b",
   "metadata": {},
   "outputs": [
    {
     "data": {
      "text/plain": [
       "[10, 'nit', (1+2j), 10, True]"
      ]
     },
     "execution_count": 307,
     "metadata": {},
     "output_type": "execute_result"
    }
   ],
   "source": [
    "l[0:5]"
   ]
  },
  {
   "cell_type": "code",
   "execution_count": 308,
   "id": "230a6bff-1cb5-4997-a517-1dfc55d7a2d8",
   "metadata": {},
   "outputs": [
    {
     "data": {
      "text/plain": [
       "[]"
      ]
     },
     "execution_count": 308,
     "metadata": {},
     "output_type": "execute_result"
    }
   ],
   "source": [
    "l[0:0]"
   ]
  },
  {
   "cell_type": "code",
   "execution_count": 309,
   "id": "e5313681-0710-46c1-9f7d-3605d001eecf",
   "metadata": {},
   "outputs": [
    {
     "data": {
      "text/plain": [
       "[10, 'nit', (1+2j), 10, True, 'hi', [1, 2, 3, 4.5]]"
      ]
     },
     "execution_count": 309,
     "metadata": {},
     "output_type": "execute_result"
    }
   ],
   "source": [
    "l"
   ]
  },
  {
   "cell_type": "code",
   "execution_count": 310,
   "id": "7895b3ef-25ba-4e1f-82d8-cee44917caab",
   "metadata": {},
   "outputs": [
    {
     "data": {
      "text/plain": [
       "10"
      ]
     },
     "execution_count": 310,
     "metadata": {},
     "output_type": "execute_result"
    }
   ],
   "source": [
    "l[0]"
   ]
  },
  {
   "cell_type": "code",
   "execution_count": 311,
   "id": "52fcb8bf-300f-4900-b85b-5f47f0c6d166",
   "metadata": {},
   "outputs": [],
   "source": [
    "l[0] = 100"
   ]
  },
  {
   "cell_type": "code",
   "execution_count": 312,
   "id": "6b1bb735-15aa-4cbd-bf3a-5e2a544cb740",
   "metadata": {},
   "outputs": [
    {
     "data": {
      "text/plain": [
       "[100, 'nit', (1+2j), 10, True, 'hi', [1, 2, 3, 4.5]]"
      ]
     },
     "execution_count": 312,
     "metadata": {},
     "output_type": "execute_result"
    }
   ],
   "source": [
    "l"
   ]
  },
  {
   "cell_type": "code",
   "execution_count": 313,
   "id": "2bd9efb8-ac03-4c8a-816f-90e5fd6ff4fe",
   "metadata": {},
   "outputs": [
    {
     "data": {
      "text/plain": [
       "'nit'"
      ]
     },
     "execution_count": 313,
     "metadata": {},
     "output_type": "execute_result"
    }
   ],
   "source": [
    "l[1]"
   ]
  },
  {
   "cell_type": "code",
   "execution_count": 314,
   "id": "e2ebc1b4-376f-4298-a1dc-419900c863ea",
   "metadata": {},
   "outputs": [
    {
     "data": {
      "text/plain": [
       "'n'"
      ]
     },
     "execution_count": 314,
     "metadata": {},
     "output_type": "execute_result"
    }
   ],
   "source": [
    "l[1][0]"
   ]
  },
  {
   "cell_type": "code",
   "execution_count": 315,
   "id": "868d3463-9076-4071-9285-f043a0f045d8",
   "metadata": {},
   "outputs": [
    {
     "data": {
      "text/plain": [
       "'nit'"
      ]
     },
     "execution_count": 315,
     "metadata": {},
     "output_type": "execute_result"
    }
   ],
   "source": [
    "l[1]"
   ]
  },
  {
   "cell_type": "code",
   "execution_count": 316,
   "id": "02c0cd63-c682-44f3-b2d4-764724759ca3",
   "metadata": {
    "scrolled": true
   },
   "outputs": [
    {
     "name": "stdout",
     "output_type": "stream",
     "text": [
      "n\n",
      "i\n",
      "t\n"
     ]
    }
   ],
   "source": [
    "print(l[1][0])\n",
    "print(l[1][1])\n",
    "print(l[1][2])"
   ]
  },
  {
   "cell_type": "code",
   "execution_count": 318,
   "id": "991125e7-a1f9-4793-88e4-224ce2065654",
   "metadata": {},
   "outputs": [
    {
     "data": {
      "text/plain": [
       "[100, 'nit', (1+2j), 10, True, 'hi', [1, 2, 3, 4.5]]"
      ]
     },
     "execution_count": 318,
     "metadata": {},
     "output_type": "execute_result"
    }
   ],
   "source": [
    "l"
   ]
  },
  {
   "cell_type": "code",
   "execution_count": 319,
   "id": "ec67f15e-4429-49ca-867d-7aa2e1359b17",
   "metadata": {},
   "outputs": [
    {
     "data": {
      "text/plain": [
       "[(1+2j), 10, True, 'hi', [1, 2, 3, 4.5]]"
      ]
     },
     "execution_count": 319,
     "metadata": {},
     "output_type": "execute_result"
    }
   ],
   "source": [
    "l[2:10]"
   ]
  },
  {
   "cell_type": "code",
   "execution_count": 320,
   "id": "a13c72e2-82dd-480e-be50-c5ab995bedc2",
   "metadata": {},
   "outputs": [
    {
     "data": {
      "text/plain": [
       "[100, 'nit', (1+2j), 10, True, 'hi', [1, 2, 3, 4.5]]"
      ]
     },
     "execution_count": 320,
     "metadata": {},
     "output_type": "execute_result"
    }
   ],
   "source": [
    "l"
   ]
  },
  {
   "cell_type": "code",
   "execution_count": 321,
   "id": "7266c5e2-8cec-40c8-9e57-a97b5fad3c93",
   "metadata": {},
   "outputs": [
    {
     "data": {
      "text/plain": [
       "[10, True, 'hi']"
      ]
     },
     "execution_count": 321,
     "metadata": {},
     "output_type": "execute_result"
    }
   ],
   "source": [
    "l[3:-1]"
   ]
  },
  {
   "cell_type": "code",
   "execution_count": 322,
   "id": "82b940c3-714f-4f33-8bcf-30912fad5332",
   "metadata": {},
   "outputs": [
    {
     "data": {
      "text/plain": [
       "[100, 'nit', (1+2j), 10, True, 'hi', [1, 2, 3, 4.5]]"
      ]
     },
     "execution_count": 322,
     "metadata": {},
     "output_type": "execute_result"
    }
   ],
   "source": [
    "l"
   ]
  },
  {
   "cell_type": "code",
   "execution_count": 323,
   "id": "04835ed5-33c2-4d1e-99ee-91586a9f3bed",
   "metadata": {},
   "outputs": [
    {
     "data": {
      "text/plain": [
       "[1, 2, 3, 4.5]"
      ]
     },
     "execution_count": 323,
     "metadata": {},
     "output_type": "execute_result"
    }
   ],
   "source": [
    "l[-1]"
   ]
  },
  {
   "cell_type": "code",
   "execution_count": 324,
   "id": "06ca4583-d6b4-4bf5-9a00-e6ae36f951d9",
   "metadata": {},
   "outputs": [
    {
     "data": {
      "text/plain": [
       "'hi'"
      ]
     },
     "execution_count": 324,
     "metadata": {},
     "output_type": "execute_result"
    }
   ],
   "source": [
    "l[-2]"
   ]
  },
  {
   "cell_type": "code",
   "execution_count": 325,
   "id": "f773f192-d1b5-4522-a96d-cc64fec9fc48",
   "metadata": {},
   "outputs": [
    {
     "data": {
      "text/plain": [
       "[100, 'nit', (1+2j), 10, True, 'hi', [1, 2, 3, 4.5]]"
      ]
     },
     "execution_count": 325,
     "metadata": {},
     "output_type": "execute_result"
    }
   ],
   "source": [
    "l"
   ]
  },
  {
   "cell_type": "code",
   "execution_count": 326,
   "id": "f8940a54-3ce4-4e41-8b85-97a9930d8013",
   "metadata": {},
   "outputs": [
    {
     "data": {
      "text/plain": [
       "[(1+2j), 10, True, 'hi']"
      ]
     },
     "execution_count": 326,
     "metadata": {},
     "output_type": "execute_result"
    }
   ],
   "source": [
    "l[-5:-1]"
   ]
  },
  {
   "cell_type": "code",
   "execution_count": 2,
   "id": "8c9c335e-96be-415a-bb6a-8c3b2d3b858d",
   "metadata": {},
   "outputs": [
    {
     "ename": "NameError",
     "evalue": "name 'l' is not defined",
     "output_type": "error",
     "traceback": [
      "\u001b[1;31m---------------------------------------------------------------------------\u001b[0m",
      "\u001b[1;31mNameError\u001b[0m                                 Traceback (most recent call last)",
      "Cell \u001b[1;32mIn[2], line 1\u001b[0m\n\u001b[1;32m----> 1\u001b[0m l\n",
      "\u001b[1;31mNameError\u001b[0m: name 'l' is not defined"
     ]
    }
   ],
   "source": [
    "l"
   ]
  },
  {
   "cell_type": "code",
   "execution_count": 33,
   "id": "621178c3-9543-488a-aa89-129739e5d2e0",
   "metadata": {},
   "outputs": [
    {
     "data": {
      "text/plain": [
       "[10, 20, 3.4, True, 'nit', (1+2j), 10]"
      ]
     },
     "execution_count": 33,
     "metadata": {},
     "output_type": "execute_result"
    }
   ],
   "source": [
    "l"
   ]
  },
  {
   "cell_type": "code",
   "execution_count": 34,
   "id": "f786c41a-2c85-4b49-a178-12a054c7567e",
   "metadata": {},
   "outputs": [
    {
     "data": {
      "text/plain": [
       "10"
      ]
     },
     "execution_count": 34,
     "metadata": {},
     "output_type": "execute_result"
    }
   ],
   "source": [
    "l[-1]"
   ]
  },
  {
   "cell_type": "code",
   "execution_count": 35,
   "id": "4ee59735-957d-4adb-b981-05d467eba42b",
   "metadata": {},
   "outputs": [],
   "source": [
    "l[-1] = 25"
   ]
  },
  {
   "cell_type": "code",
   "execution_count": 36,
   "id": "8ee0aafe-915a-4af9-b183-06b174ff681d",
   "metadata": {},
   "outputs": [
    {
     "data": {
      "text/plain": [
       "[10, 20, 3.4, True, 'nit', (1+2j), 25]"
      ]
     },
     "execution_count": 36,
     "metadata": {},
     "output_type": "execute_result"
    }
   ],
   "source": [
    "l"
   ]
  },
  {
   "cell_type": "code",
   "execution_count": 38,
   "id": "7b8b05bc-9c54-42c0-961d-ef71064cf49b",
   "metadata": {},
   "outputs": [
    {
     "data": {
      "text/plain": [
       "[10, 20, 3.4, True, 'nit', (1+2j), 25]"
      ]
     },
     "execution_count": 38,
     "metadata": {},
     "output_type": "execute_result"
    }
   ],
   "source": [
    "l[:]"
   ]
  },
  {
   "cell_type": "code",
   "execution_count": 39,
   "id": "7febcf9b-5606-4b61-87cc-8bffe647a038",
   "metadata": {},
   "outputs": [
    {
     "data": {
      "text/plain": [
       "[20, 3.4, True, 'nit']"
      ]
     },
     "execution_count": 39,
     "metadata": {},
     "output_type": "execute_result"
    }
   ],
   "source": [
    "l[1:5]"
   ]
  },
  {
   "cell_type": "code",
   "execution_count": 40,
   "id": "f34e1790-0fe3-4069-9fd4-fbf4b899afc6",
   "metadata": {},
   "outputs": [
    {
     "data": {
      "text/plain": [
       "[10, 20, 3.4, True, 'nit', (1+2j), 25]"
      ]
     },
     "execution_count": 40,
     "metadata": {},
     "output_type": "execute_result"
    }
   ],
   "source": [
    "l"
   ]
  },
  {
   "cell_type": "code",
   "execution_count": 41,
   "id": "8b6744c5-b3a1-4e3d-a192-7928ca74d3cb",
   "metadata": {},
   "outputs": [
    {
     "data": {
      "text/plain": [
       "[25, (1+2j), 'nit', True, 3.4, 20, 10]"
      ]
     },
     "execution_count": 41,
     "metadata": {},
     "output_type": "execute_result"
    }
   ],
   "source": [
    "l[::-1]"
   ]
  },
  {
   "cell_type": "code",
   "execution_count": 42,
   "id": "00910e01-732e-4016-90c5-b1ab63dabddc",
   "metadata": {},
   "outputs": [],
   "source": [
    "rev_list = l[::-1]"
   ]
  },
  {
   "cell_type": "code",
   "execution_count": 43,
   "id": "9a381aaf-2d1c-4fe0-8234-3d6a3ab9f8d7",
   "metadata": {},
   "outputs": [
    {
     "data": {
      "text/plain": [
       "[25, (1+2j), 'nit', True, 3.4, 20, 10]"
      ]
     },
     "execution_count": 43,
     "metadata": {},
     "output_type": "execute_result"
    }
   ],
   "source": [
    "rev_list"
   ]
  },
  {
   "cell_type": "code",
   "execution_count": 44,
   "id": "87292fae-05a1-4b0d-8d70-8b8e6911bf7e",
   "metadata": {},
   "outputs": [
    {
     "data": {
      "text/plain": [
       "[10, 20, 3.4, True, 'nit', (1+2j), 25]"
      ]
     },
     "execution_count": 44,
     "metadata": {},
     "output_type": "execute_result"
    }
   ],
   "source": [
    "l"
   ]
  },
  {
   "cell_type": "code",
   "execution_count": 45,
   "id": "a2a1c71b-fdb5-4993-a6e3-69685827f0ef",
   "metadata": {},
   "outputs": [],
   "source": [
    "l.reverse()"
   ]
  },
  {
   "cell_type": "code",
   "execution_count": 46,
   "id": "250b807e-6d91-432e-a5e5-8483f7bad359",
   "metadata": {},
   "outputs": [
    {
     "data": {
      "text/plain": [
       "[25, (1+2j), 'nit', True, 3.4, 20, 10]"
      ]
     },
     "execution_count": 46,
     "metadata": {},
     "output_type": "execute_result"
    }
   ],
   "source": [
    "l"
   ]
  },
  {
   "cell_type": "code",
   "execution_count": 47,
   "id": "3ae699ee-b72b-4bbf-8d6e-b51a4777292a",
   "metadata": {},
   "outputs": [
    {
     "ename": "TypeError",
     "evalue": "'<' not supported between instances of 'complex' and 'int'",
     "output_type": "error",
     "traceback": [
      "\u001b[1;31m---------------------------------------------------------------------------\u001b[0m",
      "\u001b[1;31mTypeError\u001b[0m                                 Traceback (most recent call last)",
      "Cell \u001b[1;32mIn[47], line 1\u001b[0m\n\u001b[1;32m----> 1\u001b[0m l\u001b[38;5;241m.\u001b[39msort()\n",
      "\u001b[1;31mTypeError\u001b[0m: '<' not supported between instances of 'complex' and 'int'"
     ]
    }
   ],
   "source": [
    "l.sort()"
   ]
  },
  {
   "cell_type": "code",
   "execution_count": 49,
   "id": "f9d36029-19c0-4627-bad7-c15890ee2707",
   "metadata": {},
   "outputs": [],
   "source": [
    "l3  = [20, 5, 500, 17]"
   ]
  },
  {
   "cell_type": "code",
   "execution_count": 50,
   "id": "e4b53d69-ae83-48ef-b55f-b739dc6433ec",
   "metadata": {},
   "outputs": [],
   "source": [
    "l3.sort()"
   ]
  },
  {
   "cell_type": "code",
   "execution_count": 51,
   "id": "ad4d1f26-7c6c-4022-b96a-1ebfd5666c78",
   "metadata": {},
   "outputs": [
    {
     "data": {
      "text/plain": [
       "[5, 17, 20, 500]"
      ]
     },
     "execution_count": 51,
     "metadata": {},
     "output_type": "execute_result"
    }
   ],
   "source": [
    "l3"
   ]
  },
  {
   "cell_type": "code",
   "execution_count": 52,
   "id": "8c3dfb84-cf82-4d32-8591-69efcd7cc0a8",
   "metadata": {},
   "outputs": [
    {
     "data": {
      "text/plain": [
       "[500, 20, 17, 5]"
      ]
     },
     "execution_count": 52,
     "metadata": {},
     "output_type": "execute_result"
    }
   ],
   "source": [
    "l3.sort(reverse=True)\n",
    "l3"
   ]
  },
  {
   "cell_type": "code",
   "execution_count": 53,
   "id": "a37b3e47-be01-4082-a6ab-d09696f74585",
   "metadata": {},
   "outputs": [],
   "source": [
    "l4 = ['a', 'zebra', 'nit', 'cricket', 'football']\n"
   ]
  },
  {
   "cell_type": "code",
   "execution_count": 54,
   "id": "36033de5-81d7-4581-9a36-55207163e078",
   "metadata": {},
   "outputs": [
    {
     "data": {
      "text/plain": [
       "['a', 'cricket', 'football', 'nit', 'zebra']"
      ]
     },
     "execution_count": 54,
     "metadata": {},
     "output_type": "execute_result"
    }
   ],
   "source": [
    "l4.sort()\n",
    "l4"
   ]
  },
  {
   "cell_type": "code",
   "execution_count": 55,
   "id": "85c02e32-1f6a-4108-b870-d213e68247e1",
   "metadata": {},
   "outputs": [
    {
     "data": {
      "text/plain": [
       "['zebra', 'nit', 'football', 'cricket', 'a']"
      ]
     },
     "execution_count": 55,
     "metadata": {},
     "output_type": "execute_result"
    }
   ],
   "source": [
    "l4.sort(reverse=True)\n",
    "l4"
   ]
  },
  {
   "cell_type": "code",
   "execution_count": 56,
   "id": "1e66dc2f-9c57-4f21-b7c2-92144f451aa8",
   "metadata": {},
   "outputs": [
    {
     "data": {
      "text/plain": [
       "[25, (1+2j), 'nit', True, 3.4, 20, 10]"
      ]
     },
     "execution_count": 56,
     "metadata": {},
     "output_type": "execute_result"
    }
   ],
   "source": [
    "l"
   ]
  },
  {
   "cell_type": "code",
   "execution_count": 57,
   "id": "51729b94-1544-4d1c-bf51-9b63f0d73d93",
   "metadata": {},
   "outputs": [
    {
     "data": {
      "text/plain": [
       "True"
      ]
     },
     "execution_count": 57,
     "metadata": {},
     "output_type": "execute_result"
    }
   ],
   "source": [
    "25 in l"
   ]
  },
  {
   "cell_type": "code",
   "execution_count": 58,
   "id": "7930b6ca-5013-4f17-ac2f-bb0544ee7a2d",
   "metadata": {},
   "outputs": [
    {
     "data": {
      "text/plain": [
       "False"
      ]
     },
     "execution_count": 58,
     "metadata": {},
     "output_type": "execute_result"
    }
   ],
   "source": [
    "250 in l"
   ]
  },
  {
   "cell_type": "code",
   "execution_count": 59,
   "id": "118aa3fe-9af8-435c-a641-f4dac67d3e57",
   "metadata": {},
   "outputs": [
    {
     "data": {
      "text/plain": [
       "[25, (1+2j), 'nit', True, 3.4, 20, 10]"
      ]
     },
     "execution_count": 59,
     "metadata": {},
     "output_type": "execute_result"
    }
   ],
   "source": [
    "l"
   ]
  },
  {
   "cell_type": "code",
   "execution_count": 60,
   "id": "f61c641c-ca19-4ed3-a938-ae549ba8bd95",
   "metadata": {},
   "outputs": [
    {
     "data": {
      "text/plain": [
       "[25, (1+2j), 'nit', True, 3.4, 20, 10]"
      ]
     },
     "execution_count": 60,
     "metadata": {},
     "output_type": "execute_result"
    }
   ],
   "source": [
    "l[:] # ENTIRE LIST"
   ]
  },
  {
   "cell_type": "code",
   "execution_count": 61,
   "id": "66e950d6-aa8b-4271-b2e0-5d7af4eeb457",
   "metadata": {},
   "outputs": [
    {
     "data": {
      "text/plain": [
       "[25, (1+2j), 'nit', True]"
      ]
     },
     "execution_count": 61,
     "metadata": {},
     "output_type": "execute_result"
    }
   ],
   "source": [
    "l[:4] # start till 6th "
   ]
  },
  {
   "cell_type": "code",
   "execution_count": 62,
   "id": "d37965ff-583e-459a-98e4-8a0269db0175",
   "metadata": {},
   "outputs": [
    {
     "data": {
      "text/plain": [
       "[25, (1+2j), 'nit', True, 3.4, 20, 10]"
      ]
     },
     "execution_count": 62,
     "metadata": {},
     "output_type": "execute_result"
    }
   ],
   "source": [
    "l"
   ]
  },
  {
   "cell_type": "code",
   "execution_count": 63,
   "id": "33dbac04-1a3b-4c38-a61a-d755ba6b8323",
   "metadata": {},
   "outputs": [
    {
     "data": {
      "text/plain": [
       "[3.4, 20, 10]"
      ]
     },
     "execution_count": 63,
     "metadata": {},
     "output_type": "execute_result"
    }
   ],
   "source": [
    "l[4:]"
   ]
  },
  {
   "cell_type": "code",
   "execution_count": 64,
   "id": "1786fa81-f421-456f-9cd7-ffe3c3849099",
   "metadata": {},
   "outputs": [
    {
     "data": {
      "text/plain": [
       "['nit', True, 3.4, 20, 10]"
      ]
     },
     "execution_count": 64,
     "metadata": {},
     "output_type": "execute_result"
    }
   ],
   "source": [
    "l[2:]"
   ]
  },
  {
   "cell_type": "code",
   "execution_count": 65,
   "id": "1adaa380-b629-4dc1-ac42-7615f61f983c",
   "metadata": {},
   "outputs": [
    {
     "data": {
      "text/plain": [
       "[25, (1+2j), 'nit', True, 3.4, 20, 10]"
      ]
     },
     "execution_count": 65,
     "metadata": {},
     "output_type": "execute_result"
    }
   ],
   "source": [
    "l"
   ]
  },
  {
   "cell_type": "code",
   "execution_count": 66,
   "id": "635c6b0c-b394-40df-91cf-0560a5cfbb7f",
   "metadata": {},
   "outputs": [
    {
     "data": {
      "text/plain": [
       "[(1+2j), 'nit', True, 3.4, 20]"
      ]
     },
     "execution_count": 66,
     "metadata": {},
     "output_type": "execute_result"
    }
   ],
   "source": [
    "l[1:6]"
   ]
  },
  {
   "cell_type": "code",
   "execution_count": 67,
   "id": "f6d9db40-0317-4094-a256-f362f3ced704",
   "metadata": {},
   "outputs": [
    {
     "data": {
      "text/plain": [
       "[25, (1+2j), 'nit', True, 3.4, 20, 10]"
      ]
     },
     "execution_count": 67,
     "metadata": {},
     "output_type": "execute_result"
    }
   ],
   "source": [
    "l"
   ]
  },
  {
   "cell_type": "code",
   "execution_count": 68,
   "id": "3e5bed03-969e-4c38-8cc6-9ca4b459a6b0",
   "metadata": {},
   "outputs": [
    {
     "data": {
      "text/plain": [
       "[(1+2j), True, 20]"
      ]
     },
     "execution_count": 68,
     "metadata": {},
     "output_type": "execute_result"
    }
   ],
   "source": [
    "l[1:6:2]"
   ]
  },
  {
   "cell_type": "code",
   "execution_count": 69,
   "id": "9f98dedc-b368-49b3-aedc-327acafb6cdd",
   "metadata": {},
   "outputs": [
    {
     "data": {
      "text/plain": [
       "[25, (1+2j), 'nit', True, 3.4, 20, 10]"
      ]
     },
     "execution_count": 69,
     "metadata": {},
     "output_type": "execute_result"
    }
   ],
   "source": [
    "l"
   ]
  },
  {
   "cell_type": "code",
   "execution_count": 70,
   "id": "dd0ab439-4727-4ed1-a131-c3f4c5efb1b1",
   "metadata": {},
   "outputs": [
    {
     "data": {
      "text/plain": [
       "[(1+2j), 3.4]"
      ]
     },
     "execution_count": 70,
     "metadata": {},
     "output_type": "execute_result"
    }
   ],
   "source": [
    "l[1:6:3]"
   ]
  },
  {
   "cell_type": "code",
   "execution_count": 71,
   "id": "8dd3483d-8d25-4250-bbc6-36bebe60def5",
   "metadata": {},
   "outputs": [
    {
     "data": {
      "text/plain": [
       "[25, (1+2j), 'nit', True, 3.4, 20, 10]"
      ]
     },
     "execution_count": 71,
     "metadata": {},
     "output_type": "execute_result"
    }
   ],
   "source": [
    "l"
   ]
  },
  {
   "cell_type": "code",
   "execution_count": 72,
   "id": "f9358809-f073-4368-8966-709e00b9f333",
   "metadata": {},
   "outputs": [
    {
     "data": {
      "text/plain": [
       "[10, 20, 3.4, True, 'nit', (1+2j), 25]"
      ]
     },
     "execution_count": 72,
     "metadata": {},
     "output_type": "execute_result"
    }
   ],
   "source": [
    "l[::-1]"
   ]
  },
  {
   "cell_type": "code",
   "execution_count": 73,
   "id": "557c3160-a2da-461b-b7f4-20e69208bcb2",
   "metadata": {},
   "outputs": [
    {
     "data": {
      "text/plain": [
       "[25, (1+2j), 'nit', True, 3.4, 20, 10]"
      ]
     },
     "execution_count": 73,
     "metadata": {},
     "output_type": "execute_result"
    }
   ],
   "source": [
    "l"
   ]
  },
  {
   "cell_type": "code",
   "execution_count": 74,
   "id": "9cbc720e-78d4-4263-af17-a515277e6bd5",
   "metadata": {},
   "outputs": [
    {
     "data": {
      "text/plain": [
       "[10, 3.4, 'nit', 25]"
      ]
     },
     "execution_count": 74,
     "metadata": {},
     "output_type": "execute_result"
    }
   ],
   "source": [
    "l[::-2]"
   ]
  },
  {
   "cell_type": "code",
   "execution_count": 75,
   "id": "c2f7735b-e320-4c8d-b1be-867678883088",
   "metadata": {},
   "outputs": [
    {
     "data": {
      "text/plain": [
       "[25, (1+2j), 'nit', True, 3.4, 20, 10]"
      ]
     },
     "execution_count": 75,
     "metadata": {},
     "output_type": "execute_result"
    }
   ],
   "source": [
    "l"
   ]
  },
  {
   "cell_type": "code",
   "execution_count": 76,
   "id": "fba33cca-a065-4ac1-8904-a5c566aa7817",
   "metadata": {},
   "outputs": [
    {
     "data": {
      "text/plain": [
       "[10, True, 25]"
      ]
     },
     "execution_count": 76,
     "metadata": {},
     "output_type": "execute_result"
    }
   ],
   "source": [
    "l[::-3]"
   ]
  },
  {
   "cell_type": "code",
   "execution_count": 77,
   "id": "645a065d-0c0f-409b-b3fe-ecec871a4bb1",
   "metadata": {},
   "outputs": [
    {
     "data": {
      "text/plain": [
       "[25, (1+2j), 'nit', True, 3.4, 20, 10]"
      ]
     },
     "execution_count": 77,
     "metadata": {},
     "output_type": "execute_result"
    }
   ],
   "source": [
    "l"
   ]
  },
  {
   "cell_type": "code",
   "execution_count": 79,
   "id": "145fcf14-7fe2-496a-a832-6205ad2d7821",
   "metadata": {},
   "outputs": [
    {
     "data": {
      "text/plain": [
       "True"
      ]
     },
     "execution_count": 79,
     "metadata": {},
     "output_type": "execute_result"
    }
   ],
   "source": [
    "3.4 in l "
   ]
  },
  {
   "cell_type": "code",
   "execution_count": 80,
   "id": "a9e888d0-ab46-4342-87b7-a41a5816289d",
   "metadata": {},
   "outputs": [
    {
     "data": {
      "text/plain": [
       "True"
      ]
     },
     "execution_count": 80,
     "metadata": {},
     "output_type": "execute_result"
    }
   ],
   "source": [
    "True & True"
   ]
  },
  {
   "cell_type": "code",
   "execution_count": 81,
   "id": "b46113f8-36ba-4944-9149-cc58332c521e",
   "metadata": {},
   "outputs": [
    {
     "data": {
      "text/plain": [
       "False"
      ]
     },
     "execution_count": 81,
     "metadata": {},
     "output_type": "execute_result"
    }
   ],
   "source": [
    "True & False"
   ]
  },
  {
   "cell_type": "code",
   "execution_count": null,
   "id": "8fa7731f-2610-49ab-ac3c-970169d38fcc",
   "metadata": {},
   "outputs": [],
   "source": [
    "False & True "
   ]
  },
  {
   "cell_type": "code",
   "execution_count": 83,
   "id": "ead09310-f53f-4b3b-8ff8-3ab4e0d7928d",
   "metadata": {},
   "outputs": [
    {
     "data": {
      "text/plain": [
       "[25, (1+2j), 'nit', True, 3.4, 20, 10]"
      ]
     },
     "execution_count": 83,
     "metadata": {},
     "output_type": "execute_result"
    }
   ],
   "source": [
    "l"
   ]
  },
  {
   "cell_type": "markdown",
   "id": "6a993030-b16d-41ac-bbcf-21521a402a06",
   "metadata": {},
   "source": [
    "for i in l:\n",
    "    print(i)"
   ]
  },
  {
   "cell_type": "code",
   "execution_count": 85,
   "id": "c31ea851-e3b4-4eab-83cc-80be8630afdd",
   "metadata": {},
   "outputs": [
    {
     "name": "stdout",
     "output_type": "stream",
     "text": [
      "25\n",
      "(1+2j)\n",
      "nit\n",
      "True\n",
      "3.4\n",
      "20\n",
      "10\n"
     ]
    }
   ],
   "source": [
    "for i in rev_list:\n",
    "    print(i)"
   ]
  },
  {
   "cell_type": "markdown",
   "id": "9cea3f5d-b4ee-497f-a4df-b86010f7a15f",
   "metadata": {},
   "source": [
    "# enumerate "
   ]
  },
  {
   "cell_type": "code",
   "execution_count": 87,
   "id": "7837e505-b912-4bb6-a045-f3f11aa02e56",
   "metadata": {},
   "outputs": [
    {
     "name": "stdout",
     "output_type": "stream",
     "text": [
      "(0, 25)\n",
      "(1, (1+2j))\n",
      "(2, 'nit')\n",
      "(3, True)\n",
      "(4, 3.4)\n",
      "(5, 20)\n",
      "(6, 10)\n"
     ]
    }
   ],
   "source": [
    "for i in enumerate(l):\n",
    "    print(i)"
   ]
  },
  {
   "cell_type": "code",
   "execution_count": 89,
   "id": "6e67cbd9-0c9a-416c-a612-b420731d4117",
   "metadata": {},
   "outputs": [
    {
     "data": {
      "text/plain": [
       "[500, 20, 17, 5]"
      ]
     },
     "execution_count": 89,
     "metadata": {},
     "output_type": "execute_result"
    }
   ],
   "source": [
    "l3"
   ]
  },
  {
   "cell_type": "code",
   "execution_count": 90,
   "id": "e94d5828-f974-4bed-af55-0d3a419aa5f4",
   "metadata": {},
   "outputs": [
    {
     "name": "stdout",
     "output_type": "stream",
     "text": [
      "(0, 500)\n",
      "(1, 20)\n",
      "(2, 17)\n",
      "(3, 5)\n"
     ]
    }
   ],
   "source": [
    "for i in enumerate(l3):\n",
    "    print(i)"
   ]
  },
  {
   "cell_type": "markdown",
   "id": "056c83ba-dd2c-44f1-9b45-f5f673d4d5c2",
   "metadata": {},
   "source": [
    "ALL / ANY \n",
    "\n",
    "- "
   ]
  },
  {
   "cell_type": "code",
   "execution_count": 92,
   "id": "cbd4e7c0-bbf2-4de3-90eb-665b855c480c",
   "metadata": {},
   "outputs": [
    {
     "data": {
      "text/plain": [
       "[25, (1+2j), 'nit', True, 3.4, 20, 10]"
      ]
     },
     "execution_count": 92,
     "metadata": {},
     "output_type": "execute_result"
    }
   ],
   "source": [
    "l"
   ]
  },
  {
   "cell_type": "code",
   "execution_count": 93,
   "id": "7dc03e37-5a04-4901-9471-5c5aec758e75",
   "metadata": {},
   "outputs": [
    {
     "data": {
      "text/plain": [
       "True"
      ]
     },
     "execution_count": 93,
     "metadata": {},
     "output_type": "execute_result"
    }
   ],
   "source": [
    "all(l)"
   ]
  },
  {
   "cell_type": "code",
   "execution_count": 94,
   "id": "2b0e1ffc-905b-4dfb-a85f-ce1cdeafee51",
   "metadata": {},
   "outputs": [
    {
     "data": {
      "text/plain": [
       "[25, (1+2j), 'nit', True, 3.4, 20, 10, 0]"
      ]
     },
     "execution_count": 94,
     "metadata": {},
     "output_type": "execute_result"
    }
   ],
   "source": [
    "l.append(0)\n",
    "l"
   ]
  },
  {
   "cell_type": "code",
   "execution_count": 95,
   "id": "d1f25979-b8a0-42ed-adbd-ae9aaff9af4d",
   "metadata": {},
   "outputs": [
    {
     "data": {
      "text/plain": [
       "True"
      ]
     },
     "execution_count": 95,
     "metadata": {},
     "output_type": "execute_result"
    }
   ],
   "source": [
    "any(l)"
   ]
  },
  {
   "cell_type": "code",
   "execution_count": 96,
   "id": "a4f52932-914c-47b4-9288-9bcde6908378",
   "metadata": {},
   "outputs": [
    {
     "data": {
      "text/plain": [
       "False"
      ]
     },
     "execution_count": 96,
     "metadata": {},
     "output_type": "execute_result"
    }
   ],
   "source": [
    "all(l)"
   ]
  },
  {
   "cell_type": "code",
   "execution_count": 98,
   "id": "2851d692-1db1-4c90-a9e5-e0a95026f2fd",
   "metadata": {},
   "outputs": [
    {
     "data": {
      "text/plain": [
       "[25, (1+2j), 'nit', True, 3.4, 20, 10, 0]"
      ]
     },
     "execution_count": 98,
     "metadata": {},
     "output_type": "execute_result"
    }
   ],
   "source": [
    "l"
   ]
  },
  {
   "cell_type": "code",
   "execution_count": 99,
   "id": "ff6f8c6b-f24d-47a3-86bb-24df15c1ff8b",
   "metadata": {},
   "outputs": [
    {
     "data": {
      "text/plain": [
       "0"
      ]
     },
     "execution_count": 99,
     "metadata": {},
     "output_type": "execute_result"
    }
   ],
   "source": [
    "l.pop()"
   ]
  },
  {
   "cell_type": "code",
   "execution_count": 100,
   "id": "49bace03-0991-4e6b-ac9d-16700cbd8c4c",
   "metadata": {},
   "outputs": [
    {
     "data": {
      "text/plain": [
       "[25, (1+2j), 'nit', True, 3.4, 20, 10]"
      ]
     },
     "execution_count": 100,
     "metadata": {},
     "output_type": "execute_result"
    }
   ],
   "source": [
    "l"
   ]
  },
  {
   "cell_type": "code",
   "execution_count": 103,
   "id": "23a0b349-d7d7-46aa-a4ba-014683da7712",
   "metadata": {},
   "outputs": [
    {
     "data": {
      "text/plain": [
       "(1+2j)"
      ]
     },
     "execution_count": 103,
     "metadata": {},
     "output_type": "execute_result"
    }
   ],
   "source": [
    "l.pop(True)"
   ]
  },
  {
   "cell_type": "code",
   "execution_count": 102,
   "id": "a9de6674-6bec-4c9a-967f-6ebe6cfd1d2f",
   "metadata": {},
   "outputs": [
    {
     "data": {
      "text/plain": [
       "[25, (1+2j), 'nit', 3.4, 20, 10]"
      ]
     },
     "execution_count": 102,
     "metadata": {},
     "output_type": "execute_result"
    }
   ],
   "source": [
    "l"
   ]
  },
  {
   "cell_type": "code",
   "execution_count": 104,
   "id": "18797bba-dfff-4ca3-825d-54ea649d81dd",
   "metadata": {},
   "outputs": [
    {
     "data": {
      "text/plain": [
       "2"
      ]
     },
     "execution_count": 104,
     "metadata": {},
     "output_type": "execute_result"
    }
   ],
   "source": [
    "True + True"
   ]
  },
  {
   "cell_type": "code",
   "execution_count": 105,
   "id": "86a01119-8f9c-4921-8255-690edc203d7f",
   "metadata": {},
   "outputs": [
    {
     "data": {
      "text/plain": [
       "True"
      ]
     },
     "execution_count": 105,
     "metadata": {},
     "output_type": "execute_result"
    }
   ],
   "source": [
    "True"
   ]
  },
  {
   "cell_type": "code",
   "execution_count": 1,
   "id": "bf17d87b-43f2-4051-a7e8-3045bca62892",
   "metadata": {},
   "outputs": [],
   "source": [
    "i = 1"
   ]
  },
  {
   "cell_type": "code",
   "execution_count": 2,
   "id": "aeed5388-013b-4895-afd2-ece61d38437d",
   "metadata": {},
   "outputs": [
    {
     "data": {
      "text/plain": [
       "1"
      ]
     },
     "execution_count": 2,
     "metadata": {},
     "output_type": "execute_result"
    }
   ],
   "source": [
    "i"
   ]
  },
  {
   "cell_type": "markdown",
   "id": "d613f61f-cc3f-4b84-ba49-b1476b24caa9",
   "metadata": {},
   "source": [
    "# tuple"
   ]
  },
  {
   "cell_type": "code",
   "execution_count": 4,
   "id": "c4adc9be-7b5f-4f3b-88f1-b145bef1b2da",
   "metadata": {},
   "outputs": [],
   "source": [
    "t = ()"
   ]
  },
  {
   "cell_type": "code",
   "execution_count": 5,
   "id": "f22e74d2-968b-473f-ac84-200f4a33d913",
   "metadata": {},
   "outputs": [
    {
     "data": {
      "text/plain": [
       "()"
      ]
     },
     "execution_count": 5,
     "metadata": {},
     "output_type": "execute_result"
    }
   ],
   "source": [
    "t"
   ]
  },
  {
   "cell_type": "code",
   "execution_count": 7,
   "id": "242c2d95-338d-417b-a5e7-46591c755f41",
   "metadata": {},
   "outputs": [
    {
     "data": {
      "text/plain": [
       "tuple"
      ]
     },
     "execution_count": 7,
     "metadata": {},
     "output_type": "execute_result"
    }
   ],
   "source": [
    "type(t)"
   ]
  },
  {
   "cell_type": "code",
   "execution_count": 9,
   "id": "b8dbfadf-31a1-4dd4-ae1c-c031aae4842d",
   "metadata": {},
   "outputs": [
    {
     "data": {
      "text/plain": [
       "(10, 20, 30)"
      ]
     },
     "execution_count": 9,
     "metadata": {},
     "output_type": "execute_result"
    }
   ],
   "source": [
    "t1 = (10, 20, 30)\n",
    "t1"
   ]
  },
  {
   "cell_type": "code",
   "execution_count": 10,
   "id": "34c9e853-c524-4543-87ab-fdfd5b7afbef",
   "metadata": {},
   "outputs": [
    {
     "ename": "AttributeError",
     "evalue": "'tuple' object has no attribute 'append'",
     "output_type": "error",
     "traceback": [
      "\u001b[1;31m---------------------------------------------------------------------------\u001b[0m",
      "\u001b[1;31mAttributeError\u001b[0m                            Traceback (most recent call last)",
      "Cell \u001b[1;32mIn[10], line 1\u001b[0m\n\u001b[1;32m----> 1\u001b[0m t1\u001b[38;5;241m.\u001b[39mappend(\u001b[38;5;241m40\u001b[39m)\n",
      "\u001b[1;31mAttributeError\u001b[0m: 'tuple' object has no attribute 'append'"
     ]
    }
   ],
   "source": [
    "t1.append(40)"
   ]
  },
  {
   "cell_type": "code",
   "execution_count": 11,
   "id": "f73e62f3-6018-41b6-948c-9cc95434ec56",
   "metadata": {},
   "outputs": [
    {
     "data": {
      "text/plain": [
       "(10, 20, 30)"
      ]
     },
     "execution_count": 11,
     "metadata": {},
     "output_type": "execute_result"
    }
   ],
   "source": [
    "t1"
   ]
  },
  {
   "cell_type": "code",
   "execution_count": 12,
   "id": "8ee605b8-8170-4ecf-bb40-51291baa11ad",
   "metadata": {},
   "outputs": [
    {
     "data": {
      "text/plain": [
       "(10, 20, 30)"
      ]
     },
     "execution_count": 12,
     "metadata": {},
     "output_type": "execute_result"
    }
   ],
   "source": [
    "t1[:]"
   ]
  },
  {
   "cell_type": "code",
   "execution_count": 13,
   "id": "d634bf1a-986c-47c5-a2cb-de6e67a3a419",
   "metadata": {},
   "outputs": [
    {
     "data": {
      "text/plain": [
       "(20, 30)"
      ]
     },
     "execution_count": 13,
     "metadata": {},
     "output_type": "execute_result"
    }
   ],
   "source": [
    "t1[1:]"
   ]
  },
  {
   "cell_type": "code",
   "execution_count": 14,
   "id": "6c79e359-61d1-4e74-808f-1ed4a7475181",
   "metadata": {},
   "outputs": [
    {
     "data": {
      "text/plain": [
       "10"
      ]
     },
     "execution_count": 14,
     "metadata": {},
     "output_type": "execute_result"
    }
   ],
   "source": [
    "t1[0]"
   ]
  },
  {
   "cell_type": "code",
   "execution_count": 15,
   "id": "9315fe5e-f339-4c4e-a977-57eddc444ae1",
   "metadata": {},
   "outputs": [
    {
     "data": {
      "text/plain": [
       "(10, 20, 30)"
      ]
     },
     "execution_count": 15,
     "metadata": {},
     "output_type": "execute_result"
    }
   ],
   "source": [
    "t1"
   ]
  },
  {
   "cell_type": "code",
   "execution_count": 17,
   "id": "744c02cf-3cbc-4e0f-b32e-861e35d247d3",
   "metadata": {},
   "outputs": [
    {
     "data": {
      "text/plain": [
       "1"
      ]
     },
     "execution_count": 17,
     "metadata": {},
     "output_type": "execute_result"
    }
   ],
   "source": [
    "t1.count(10)"
   ]
  },
  {
   "cell_type": "code",
   "execution_count": 21,
   "id": "4810b3e4-3adc-43eb-8b1d-020f344bed80",
   "metadata": {},
   "outputs": [
    {
     "data": {
      "text/plain": [
       "0"
      ]
     },
     "execution_count": 21,
     "metadata": {},
     "output_type": "execute_result"
    }
   ],
   "source": [
    "t1.index(10)"
   ]
  },
  {
   "cell_type": "code",
   "execution_count": 23,
   "id": "d09ff4f9-e886-4616-857a-faed1956822f",
   "metadata": {},
   "outputs": [],
   "source": [
    "l_ = [10,20]"
   ]
  },
  {
   "cell_type": "code",
   "execution_count": 24,
   "id": "bae331a8-d616-4c59-a48f-4c993d372b38",
   "metadata": {},
   "outputs": [],
   "source": [
    "l_[0] = 1000"
   ]
  },
  {
   "cell_type": "code",
   "execution_count": 25,
   "id": "11d0fb40-bf8e-4d1f-865c-ff7bff8c7501",
   "metadata": {},
   "outputs": [
    {
     "data": {
      "text/plain": [
       "[1000, 20]"
      ]
     },
     "execution_count": 25,
     "metadata": {},
     "output_type": "execute_result"
    }
   ],
   "source": [
    "l_"
   ]
  },
  {
   "cell_type": "code",
   "execution_count": 26,
   "id": "a3168a6a-312d-48af-8742-3f8c1e5b2a15",
   "metadata": {},
   "outputs": [
    {
     "data": {
      "text/plain": [
       "(10, 20, 30)"
      ]
     },
     "execution_count": 26,
     "metadata": {},
     "output_type": "execute_result"
    }
   ],
   "source": [
    "t1"
   ]
  },
  {
   "cell_type": "code",
   "execution_count": 27,
   "id": "8c9d7409-7853-4b52-bd44-a4ea21bff7df",
   "metadata": {},
   "outputs": [
    {
     "ename": "TypeError",
     "evalue": "'tuple' object does not support item assignment",
     "output_type": "error",
     "traceback": [
      "\u001b[1;31m---------------------------------------------------------------------------\u001b[0m",
      "\u001b[1;31mTypeError\u001b[0m                                 Traceback (most recent call last)",
      "Cell \u001b[1;32mIn[27], line 1\u001b[0m\n\u001b[1;32m----> 1\u001b[0m t1[\u001b[38;5;241m0\u001b[39m] \u001b[38;5;241m=\u001b[39m \u001b[38;5;241m1000\u001b[39m\n",
      "\u001b[1;31mTypeError\u001b[0m: 'tuple' object does not support item assignment"
     ]
    }
   ],
   "source": [
    "t1[0] = 1000"
   ]
  },
  {
   "cell_type": "code",
   "execution_count": 28,
   "id": "5785aa84-db3e-4f52-aba8-544099fbc57c",
   "metadata": {},
   "outputs": [
    {
     "data": {
      "text/plain": [
       "('john', '1st dec 1980', 456567, 'cizp5er')"
      ]
     },
     "execution_count": 28,
     "metadata": {},
     "output_type": "execute_result"
    }
   ],
   "source": [
    "icici = ('john', '1st dec 1980', 456567, 'cizp5er')\n",
    "icici"
   ]
  },
  {
   "cell_type": "code",
   "execution_count": 29,
   "id": "e77717df-e673-429b-bb57-a7cf04664495",
   "metadata": {},
   "outputs": [
    {
     "ename": "AttributeError",
     "evalue": "'tuple' object has no attribute 'remove'",
     "output_type": "error",
     "traceback": [
      "\u001b[1;31m---------------------------------------------------------------------------\u001b[0m",
      "\u001b[1;31mAttributeError\u001b[0m                            Traceback (most recent call last)",
      "Cell \u001b[1;32mIn[29], line 1\u001b[0m\n\u001b[1;32m----> 1\u001b[0m icici\u001b[38;5;241m.\u001b[39mremove(\u001b[38;5;124m'\u001b[39m\u001b[38;5;124mjohn\u001b[39m\u001b[38;5;124m'\u001b[39m)\n",
      "\u001b[1;31mAttributeError\u001b[0m: 'tuple' object has no attribute 'remove'"
     ]
    }
   ],
   "source": [
    "icici.remove('john')"
   ]
  },
  {
   "cell_type": "code",
   "execution_count": 30,
   "id": "3ee8fe68-85c8-4b08-b640-7d4bb50680a8",
   "metadata": {},
   "outputs": [
    {
     "data": {
      "text/plain": [
       "(10, 20, 30)"
      ]
     },
     "execution_count": 30,
     "metadata": {},
     "output_type": "execute_result"
    }
   ],
   "source": [
    "t1"
   ]
  },
  {
   "cell_type": "code",
   "execution_count": 31,
   "id": "9716f139-ccb7-4a9a-b371-0019cac7ea5e",
   "metadata": {},
   "outputs": [
    {
     "data": {
      "text/plain": [
       "(10, 20, 30, 10, 20, 30)"
      ]
     },
     "execution_count": 31,
     "metadata": {},
     "output_type": "execute_result"
    }
   ],
   "source": [
    "t1 * 2"
   ]
  },
  {
   "cell_type": "code",
   "execution_count": 32,
   "id": "c8fc534f-a0ce-4ee4-8616-dd543542ec25",
   "metadata": {},
   "outputs": [
    {
     "data": {
      "text/plain": [
       "(10, 20, 30, 10, 20, 30, 10, 20, 30)"
      ]
     },
     "execution_count": 32,
     "metadata": {},
     "output_type": "execute_result"
    }
   ],
   "source": [
    "t1 * 3"
   ]
  },
  {
   "cell_type": "code",
   "execution_count": 45,
   "id": "ff6eba55-6e08-4acd-a42d-39ac5757750f",
   "metadata": {},
   "outputs": [
    {
     "data": {
      "text/plain": [
       "(10, 10, 20, 'nit', (1+2j), True)"
      ]
     },
     "execution_count": 45,
     "metadata": {},
     "output_type": "execute_result"
    }
   ],
   "source": [
    "t2 = (10, 10, 20, 'nit', 1 +2j, True)\n",
    "t2"
   ]
  },
  {
   "cell_type": "code",
   "execution_count": 35,
   "id": "58fa1eaf-a54e-403b-8b6b-bb0f3afae1b3",
   "metadata": {},
   "outputs": [
    {
     "ename": "AttributeError",
     "evalue": "'tuple' object has no attribute 'clear'",
     "output_type": "error",
     "traceback": [
      "\u001b[1;31m---------------------------------------------------------------------------\u001b[0m",
      "\u001b[1;31mAttributeError\u001b[0m                            Traceback (most recent call last)",
      "Cell \u001b[1;32mIn[35], line 1\u001b[0m\n\u001b[1;32m----> 1\u001b[0m t2\u001b[38;5;241m.\u001b[39mclear()\n",
      "\u001b[1;31mAttributeError\u001b[0m: 'tuple' object has no attribute 'clear'"
     ]
    }
   ],
   "source": [
    "t2.clear()"
   ]
  },
  {
   "cell_type": "code",
   "execution_count": 36,
   "id": "9b6c5983-cfcd-44bc-94ee-51493bbdadc4",
   "metadata": {},
   "outputs": [],
   "source": [
    "del t2"
   ]
  },
  {
   "cell_type": "code",
   "execution_count": 37,
   "id": "1a918aa4-10f1-445d-a109-6da0e047b4cf",
   "metadata": {},
   "outputs": [
    {
     "data": {
      "text/plain": [
       "3"
      ]
     },
     "execution_count": 37,
     "metadata": {},
     "output_type": "execute_result"
    }
   ],
   "source": [
    "len(t1)"
   ]
  },
  {
   "cell_type": "code",
   "execution_count": 38,
   "id": "abf646b2-6ef9-4973-a671-77e02bb222b3",
   "metadata": {},
   "outputs": [
    {
     "ename": "NameError",
     "evalue": "name 't2' is not defined",
     "output_type": "error",
     "traceback": [
      "\u001b[1;31m---------------------------------------------------------------------------\u001b[0m",
      "\u001b[1;31mNameError\u001b[0m                                 Traceback (most recent call last)",
      "Cell \u001b[1;32mIn[38], line 1\u001b[0m\n\u001b[1;32m----> 1\u001b[0m \u001b[38;5;28mlen\u001b[39m(t2)\n",
      "\u001b[1;31mNameError\u001b[0m: name 't2' is not defined"
     ]
    }
   ],
   "source": [
    "len(t2)"
   ]
  },
  {
   "cell_type": "code",
   "execution_count": 43,
   "id": "74fde052-eabc-4f74-860a-21223044aa74",
   "metadata": {},
   "outputs": [
    {
     "data": {
      "text/plain": [
       "(10, 20, 30)"
      ]
     },
     "execution_count": 43,
     "metadata": {},
     "output_type": "execute_result"
    }
   ],
   "source": [
    "t1"
   ]
  },
  {
   "cell_type": "code",
   "execution_count": 46,
   "id": "400527e5-5ab1-4fe5-824f-f323e20f12d6",
   "metadata": {},
   "outputs": [
    {
     "data": {
      "text/plain": [
       "(10, 10, 20, 'nit', (1+2j), True)"
      ]
     },
     "execution_count": 46,
     "metadata": {},
     "output_type": "execute_result"
    }
   ],
   "source": [
    "t2"
   ]
  },
  {
   "cell_type": "code",
   "execution_count": 47,
   "id": "c9a83262-7002-4ac7-b17a-22d6df6f55c6",
   "metadata": {},
   "outputs": [
    {
     "data": {
      "text/plain": [
       "'nit'"
      ]
     },
     "execution_count": 47,
     "metadata": {},
     "output_type": "execute_result"
    }
   ],
   "source": [
    "t2[3]"
   ]
  },
  {
   "cell_type": "code",
   "execution_count": 48,
   "id": "80ef1ed1-a6b7-4ae6-a4aa-c94be92e062f",
   "metadata": {},
   "outputs": [
    {
     "ename": "IndexError",
     "evalue": "string index out of range",
     "output_type": "error",
     "traceback": [
      "\u001b[1;31m---------------------------------------------------------------------------\u001b[0m",
      "\u001b[1;31mIndexError\u001b[0m                                Traceback (most recent call last)",
      "Cell \u001b[1;32mIn[48], line 1\u001b[0m\n\u001b[1;32m----> 1\u001b[0m t2[\u001b[38;5;241m3\u001b[39m][\u001b[38;5;241m3\u001b[39m]\n",
      "\u001b[1;31mIndexError\u001b[0m: string index out of range"
     ]
    }
   ],
   "source": [
    "t2[3][3]"
   ]
  },
  {
   "cell_type": "code",
   "execution_count": 49,
   "id": "6de0e12b-c8c9-4a43-b949-702890190daf",
   "metadata": {},
   "outputs": [
    {
     "data": {
      "text/plain": [
       "'t'"
      ]
     },
     "execution_count": 49,
     "metadata": {},
     "output_type": "execute_result"
    }
   ],
   "source": [
    "t2[3][2]"
   ]
  },
  {
   "cell_type": "code",
   "execution_count": 50,
   "id": "4b665d93-2b87-4912-90a4-3c46c66e6211",
   "metadata": {},
   "outputs": [
    {
     "name": "stdout",
     "output_type": "stream",
     "text": [
      "<class 'int'>\n",
      "11\n"
     ]
    }
   ],
   "source": [
    "a, b = 5, 6\n",
    "print(type(a))\n",
    "print (a+b)"
   ]
  },
  {
   "cell_type": "code",
   "execution_count": 51,
   "id": "93be052a-324b-46eb-a7f4-a9921c6166cb",
   "metadata": {},
   "outputs": [
    {
     "name": "stdout",
     "output_type": "stream",
     "text": [
      "11\n"
     ]
    }
   ],
   "source": [
    "print(int.__add__(a,b)) # magic method "
   ]
  },
  {
   "cell_type": "code",
   "execution_count": 53,
   "id": "156f6aca-23f7-4682-b16b-24cfc5a4e341",
   "metadata": {},
   "outputs": [
    {
     "name": "stdout",
     "output_type": "stream",
     "text": [
      "-1\n"
     ]
    }
   ],
   "source": [
    "print(int.__sub__(a,b)) # magic method "
   ]
  },
  {
   "cell_type": "code",
   "execution_count": 54,
   "id": "432ce27f-2219-406f-983d-476f1e587eae",
   "metadata": {},
   "outputs": [
    {
     "name": "stdout",
     "output_type": "stream",
     "text": [
      "30\n"
     ]
    }
   ],
   "source": [
    "print(int.__mul__(a,b)) # magic method "
   ]
  },
  {
   "cell_type": "code",
   "execution_count": 55,
   "id": "0ebbd5c2-aae8-4608-b205-3089ebd42c3c",
   "metadata": {},
   "outputs": [
    {
     "data": {
      "text/plain": [
       "(10, 20, 30)"
      ]
     },
     "execution_count": 55,
     "metadata": {},
     "output_type": "execute_result"
    }
   ],
   "source": [
    "t1"
   ]
  },
  {
   "cell_type": "markdown",
   "id": "05517aea-5f6b-4f2d-bf2b-be17582b18bb",
   "metadata": {},
   "source": [
    "t1[::-1]"
   ]
  },
  {
   "cell_type": "code",
   "execution_count": 58,
   "id": "902d39e9-5277-4d93-ae02-13122c6ce8d5",
   "metadata": {},
   "outputs": [
    {
     "data": {
      "text/plain": [
       "(30, 10)"
      ]
     },
     "execution_count": 58,
     "metadata": {},
     "output_type": "execute_result"
    }
   ],
   "source": [
    "t1[::-2]"
   ]
  },
  {
   "cell_type": "code",
   "execution_count": 59,
   "id": "ecd97447-0228-4005-9787-a5930a2b05e5",
   "metadata": {},
   "outputs": [
    {
     "name": "stdout",
     "output_type": "stream",
     "text": [
      "(0, 10)\n",
      "(1, 20)\n",
      "(2, 30)\n"
     ]
    }
   ],
   "source": [
    "for i in enumerate(t1):\n",
    "    print(i)"
   ]
  },
  {
   "cell_type": "markdown",
   "id": "03951e5f-41c8-4df4-8954-3ad80419aac2",
   "metadata": {},
   "source": [
    "# tuple we are completed "
   ]
  },
  {
   "cell_type": "markdown",
   "id": "779517ab-5099-40de-9a75-d7495a5907e8",
   "metadata": {},
   "source": [
    "# RANGE"
   ]
  },
  {
   "cell_type": "code",
   "execution_count": 62,
   "id": "46b92f4c-eaae-458a-abc1-c0f5d9837a94",
   "metadata": {},
   "outputs": [
    {
     "data": {
      "text/plain": [
       "range(0, 5)"
      ]
     },
     "execution_count": 62,
     "metadata": {},
     "output_type": "execute_result"
    }
   ],
   "source": [
    "range(5)"
   ]
  },
  {
   "cell_type": "code",
   "execution_count": 63,
   "id": "caf8371b-332f-4edb-9696-cd68c822b2e3",
   "metadata": {},
   "outputs": [
    {
     "data": {
      "text/plain": [
       "[0, 1, 2, 3, 4]"
      ]
     },
     "execution_count": 63,
     "metadata": {},
     "output_type": "execute_result"
    }
   ],
   "source": [
    "list(range(5))"
   ]
  },
  {
   "cell_type": "code",
   "execution_count": 64,
   "id": "a517742a-70f4-418f-ac18-4c7e964f896b",
   "metadata": {},
   "outputs": [
    {
     "data": {
      "text/plain": [
       "range(0, 10)"
      ]
     },
     "execution_count": 64,
     "metadata": {},
     "output_type": "execute_result"
    }
   ],
   "source": [
    "r = range(10)\n",
    "r"
   ]
  },
  {
   "cell_type": "code",
   "execution_count": 65,
   "id": "90a57e9c-ca29-4707-a6ba-6b4990f36b2d",
   "metadata": {},
   "outputs": [
    {
     "name": "stdout",
     "output_type": "stream",
     "text": [
      "0\n",
      "1\n",
      "2\n",
      "3\n",
      "4\n",
      "5\n",
      "6\n",
      "7\n",
      "8\n",
      "9\n"
     ]
    }
   ],
   "source": [
    "for i in r:\n",
    "    print(i)"
   ]
  },
  {
   "cell_type": "code",
   "execution_count": 66,
   "id": "2664d412-a7b3-470b-8ac2-5f50afa79406",
   "metadata": {},
   "outputs": [
    {
     "data": {
      "text/plain": [
       "range(1, 10)"
      ]
     },
     "execution_count": 66,
     "metadata": {},
     "output_type": "execute_result"
    }
   ],
   "source": [
    "range(1, 10)"
   ]
  },
  {
   "cell_type": "code",
   "execution_count": 67,
   "id": "8908e276-26a4-4a8d-a147-f0d6a648dbb1",
   "metadata": {},
   "outputs": [
    {
     "data": {
      "text/plain": [
       "[1, 2, 3, 4, 5, 6, 7, 8, 9]"
      ]
     },
     "execution_count": 67,
     "metadata": {},
     "output_type": "execute_result"
    }
   ],
   "source": [
    "list(range(1,10))"
   ]
  },
  {
   "cell_type": "code",
   "execution_count": 68,
   "id": "af2405cb-d61b-4915-b9a0-f02f618dffdd",
   "metadata": {},
   "outputs": [
    {
     "data": {
      "text/plain": [
       "range(0, 10)"
      ]
     },
     "execution_count": 68,
     "metadata": {},
     "output_type": "execute_result"
    }
   ],
   "source": [
    "r"
   ]
  },
  {
   "cell_type": "code",
   "execution_count": 69,
   "id": "5b1e97d5-0816-426b-957f-8fefb5489591",
   "metadata": {},
   "outputs": [
    {
     "data": {
      "text/plain": [
       "0"
      ]
     },
     "execution_count": 69,
     "metadata": {},
     "output_type": "execute_result"
    }
   ],
   "source": [
    "r[0]"
   ]
  },
  {
   "cell_type": "code",
   "execution_count": 70,
   "id": "2427c83a-5e77-4067-aa66-4cd716741a30",
   "metadata": {},
   "outputs": [
    {
     "data": {
      "text/plain": [
       "5"
      ]
     },
     "execution_count": 70,
     "metadata": {},
     "output_type": "execute_result"
    }
   ],
   "source": [
    "r[5]"
   ]
  },
  {
   "cell_type": "code",
   "execution_count": 71,
   "id": "86beb675-22b7-4d4b-9518-3920d2251ea7",
   "metadata": {},
   "outputs": [
    {
     "data": {
      "text/plain": [
       "range(0, 5)"
      ]
     },
     "execution_count": 71,
     "metadata": {},
     "output_type": "execute_result"
    }
   ],
   "source": [
    "r[0:5]"
   ]
  },
  {
   "cell_type": "code",
   "execution_count": 72,
   "id": "8339235b-1f31-46a0-9270-962eb129b2f6",
   "metadata": {},
   "outputs": [
    {
     "data": {
      "text/plain": [
       "range(1, 100, 10)"
      ]
     },
     "execution_count": 72,
     "metadata": {},
     "output_type": "execute_result"
    }
   ],
   "source": [
    "range(1,100,10)"
   ]
  },
  {
   "cell_type": "code",
   "execution_count": 73,
   "id": "9ef81a36-96f6-4fb9-bb20-060a6d7eb369",
   "metadata": {},
   "outputs": [
    {
     "data": {
      "text/plain": [
       "[1, 11, 21, 31, 41, 51, 61, 71, 81, 91]"
      ]
     },
     "execution_count": 73,
     "metadata": {},
     "output_type": "execute_result"
    }
   ],
   "source": [
    "list(range(1,100,10))"
   ]
  },
  {
   "cell_type": "code",
   "execution_count": 74,
   "id": "a9d94649-b8ad-44a6-98e0-61a13f5b2fc0",
   "metadata": {},
   "outputs": [
    {
     "data": {
      "text/plain": [
       "[0, 2, 4, 6, 8]"
      ]
     },
     "execution_count": 74,
     "metadata": {},
     "output_type": "execute_result"
    }
   ],
   "source": [
    "list(range(0,10,2))"
   ]
  },
  {
   "cell_type": "code",
   "execution_count": 75,
   "id": "33fcd1d1-ffe4-4aff-9699-966d5e60c992",
   "metadata": {},
   "outputs": [
    {
     "ename": "TypeError",
     "evalue": "range expected at most 3 arguments, got 4",
     "output_type": "error",
     "traceback": [
      "\u001b[1;31m---------------------------------------------------------------------------\u001b[0m",
      "\u001b[1;31mTypeError\u001b[0m                                 Traceback (most recent call last)",
      "Cell \u001b[1;32mIn[75], line 1\u001b[0m\n\u001b[1;32m----> 1\u001b[0m \u001b[38;5;28mrange\u001b[39m(\u001b[38;5;241m0\u001b[39m,\u001b[38;5;241m10\u001b[39m,\u001b[38;5;241m2\u001b[39m,\u001b[38;5;241m1\u001b[39m)\n",
      "\u001b[1;31mTypeError\u001b[0m: range expected at most 3 arguments, got 4"
     ]
    }
   ],
   "source": [
    "range(0,10,2,1)"
   ]
  },
  {
   "cell_type": "markdown",
   "id": "186f1480-5b5c-4a65-8a95-48702efebd62",
   "metadata": {},
   "source": [
    "# Range completed "
   ]
  },
  {
   "cell_type": "markdown",
   "id": "c9f0705a-06c5-48af-9d27-f98cad182f46",
   "metadata": {},
   "source": [
    "# SET "
   ]
  },
  {
   "cell_type": "code",
   "execution_count": 78,
   "id": "0cb96f5d-0560-4e3c-bd44-b63c2fa0e8ac",
   "metadata": {},
   "outputs": [
    {
     "data": {
      "text/plain": [
       "{}"
      ]
     },
     "execution_count": 78,
     "metadata": {},
     "output_type": "execute_result"
    }
   ],
   "source": [
    "s_ = {}\n",
    "s_"
   ]
  },
  {
   "cell_type": "code",
   "execution_count": 79,
   "id": "28e7956e-15e5-42a6-94f3-051f4e8a99f5",
   "metadata": {},
   "outputs": [
    {
     "data": {
      "text/plain": [
       "{5, 10, 30, 200, 1000}"
      ]
     },
     "execution_count": 79,
     "metadata": {},
     "output_type": "execute_result"
    }
   ],
   "source": [
    "s ={10, 200, 10, 30, 5, 1000}\n",
    "s"
   ]
  },
  {
   "cell_type": "code",
   "execution_count": 80,
   "id": "9a8f869c-f575-4e8e-9d74-54c34a9e5004",
   "metadata": {},
   "outputs": [
    {
     "data": {
      "text/plain": [
       "{(1+2j), 10, 3.4, 6, True, 'nit'}"
      ]
     },
     "execution_count": 80,
     "metadata": {},
     "output_type": "execute_result"
    }
   ],
   "source": [
    "s1 = {6, 'nit', 1 + 2j, 10, True, 3.4}\n",
    "s1"
   ]
  },
  {
   "cell_type": "code",
   "execution_count": 81,
   "id": "72085f72-bf21-4bd2-9c81-a4da07969a16",
   "metadata": {},
   "outputs": [],
   "source": [
    "s1.add(False)"
   ]
  },
  {
   "cell_type": "code",
   "execution_count": 82,
   "id": "1a168ac1-7ef7-42f7-a69c-94a463477aca",
   "metadata": {},
   "outputs": [
    {
     "data": {
      "text/plain": [
       "{(1+2j), 10, 3.4, 6, False, True, 'nit'}"
      ]
     },
     "execution_count": 82,
     "metadata": {},
     "output_type": "execute_result"
    }
   ],
   "source": [
    "s1"
   ]
  },
  {
   "cell_type": "code",
   "execution_count": 84,
   "id": "ad4670f3-97f8-45a5-a18b-684043aa29b7",
   "metadata": {},
   "outputs": [],
   "source": [
    "s1.add(10)"
   ]
  },
  {
   "cell_type": "code",
   "execution_count": 85,
   "id": "c8b4c25d-aaf5-4130-99b1-2ab69c91b3ba",
   "metadata": {},
   "outputs": [
    {
     "data": {
      "text/plain": [
       "{(1+2j), 10, 3.4, 6, False, True, 'nit'}"
      ]
     },
     "execution_count": 85,
     "metadata": {},
     "output_type": "execute_result"
    }
   ],
   "source": [
    "s1"
   ]
  },
  {
   "cell_type": "code",
   "execution_count": 86,
   "id": "117d91c3-86b2-4bfd-be3b-44954cec6193",
   "metadata": {},
   "outputs": [],
   "source": [
    "s2 = s1.copy()"
   ]
  },
  {
   "cell_type": "code",
   "execution_count": 87,
   "id": "1fb1eda3-7a4e-4649-ad97-d6e8f9c651d7",
   "metadata": {},
   "outputs": [],
   "source": [
    "s3 = s1.copy()"
   ]
  },
  {
   "cell_type": "code",
   "execution_count": 88,
   "id": "d238a63c-07bb-4393-bdfa-4a81dcc4e277",
   "metadata": {},
   "outputs": [
    {
     "data": {
      "text/plain": [
       "({(1+2j), 10, 3.4, 6, False, True, 'nit'},\n",
       " {(1+2j), 10, 3.4, 6, False, True, 'nit'},\n",
       " {(1+2j), 10, 3.4, 6, False, True, 'nit'})"
      ]
     },
     "execution_count": 88,
     "metadata": {},
     "output_type": "execute_result"
    }
   ],
   "source": [
    "s1, s2, s3"
   ]
  },
  {
   "cell_type": "code",
   "execution_count": 89,
   "id": "83a476fd-0fea-48d4-8e57-701eb4ab2024",
   "metadata": {},
   "outputs": [
    {
     "name": "stdout",
     "output_type": "stream",
     "text": [
      "3235681707936\n",
      "3235682850336\n",
      "3235683266656\n"
     ]
    }
   ],
   "source": [
    "print(id(s1))\n",
    "print(id(s2))\n",
    "print(id(s3))"
   ]
  },
  {
   "cell_type": "code",
   "execution_count": 90,
   "id": "27253cf5-9619-4471-be95-a9319140bf35",
   "metadata": {},
   "outputs": [],
   "source": [
    "s3.clear()"
   ]
  },
  {
   "cell_type": "code",
   "execution_count": 91,
   "id": "29a35d0d-fb4b-42b6-a50f-af5b5338aa74",
   "metadata": {},
   "outputs": [
    {
     "data": {
      "text/plain": [
       "set()"
      ]
     },
     "execution_count": 91,
     "metadata": {},
     "output_type": "execute_result"
    }
   ],
   "source": [
    "s3"
   ]
  },
  {
   "cell_type": "code",
   "execution_count": 92,
   "id": "ec4d75e3-6cd0-4b16-8fee-69bcc73325d5",
   "metadata": {},
   "outputs": [],
   "source": [
    "del s3"
   ]
  },
  {
   "cell_type": "code",
   "execution_count": 93,
   "id": "38c6a4d9-4018-41fe-9ab7-ab45fcd07eac",
   "metadata": {},
   "outputs": [
    {
     "ename": "NameError",
     "evalue": "name 's3' is not defined",
     "output_type": "error",
     "traceback": [
      "\u001b[1;31m---------------------------------------------------------------------------\u001b[0m",
      "\u001b[1;31mNameError\u001b[0m                                 Traceback (most recent call last)",
      "Cell \u001b[1;32mIn[93], line 1\u001b[0m\n\u001b[1;32m----> 1\u001b[0m s3\n",
      "\u001b[1;31mNameError\u001b[0m: name 's3' is not defined"
     ]
    }
   ],
   "source": [
    "s3"
   ]
  },
  {
   "cell_type": "code",
   "execution_count": 94,
   "id": "13147086-4a42-4db9-ae30-58d129921590",
   "metadata": {},
   "outputs": [
    {
     "data": {
      "text/plain": [
       "{(1+2j), 10, 3.4, 6, False, True, 'nit'}"
      ]
     },
     "execution_count": 94,
     "metadata": {},
     "output_type": "execute_result"
    }
   ],
   "source": [
    "s1"
   ]
  },
  {
   "cell_type": "code",
   "execution_count": 95,
   "id": "b470de19-f9de-4c01-a6fc-1ba7f63c2a5d",
   "metadata": {},
   "outputs": [],
   "source": [
    "s1.remove(1+2j)"
   ]
  },
  {
   "cell_type": "code",
   "execution_count": 96,
   "id": "8115cea4-e62b-497f-9bed-3624241dfc6d",
   "metadata": {},
   "outputs": [
    {
     "data": {
      "text/plain": [
       "{10, 3.4, 6, False, True, 'nit'}"
      ]
     },
     "execution_count": 96,
     "metadata": {},
     "output_type": "execute_result"
    }
   ],
   "source": [
    "s1"
   ]
  },
  {
   "cell_type": "code",
   "execution_count": 97,
   "id": "d9e01b15-7ad2-456e-9d5f-8dd2f1b727e4",
   "metadata": {},
   "outputs": [
    {
     "data": {
      "text/plain": [
       "{10, 3.4, 6, False, True, 'nit'}"
      ]
     },
     "execution_count": 97,
     "metadata": {},
     "output_type": "execute_result"
    }
   ],
   "source": [
    "s1"
   ]
  },
  {
   "cell_type": "code",
   "execution_count": 98,
   "id": "24b73daa-c8bb-43af-8723-7b2beffd1f8c",
   "metadata": {},
   "outputs": [
    {
     "data": {
      "text/plain": [
       "False"
      ]
     },
     "execution_count": 98,
     "metadata": {},
     "output_type": "execute_result"
    }
   ],
   "source": [
    "s1.pop()"
   ]
  },
  {
   "cell_type": "code",
   "execution_count": 99,
   "id": "a5a0cc2c-1e12-448d-9216-3525385185f6",
   "metadata": {},
   "outputs": [
    {
     "data": {
      "text/plain": [
       "{10, 3.4, 6, True, 'nit'}"
      ]
     },
     "execution_count": 99,
     "metadata": {},
     "output_type": "execute_result"
    }
   ],
   "source": [
    "s1"
   ]
  },
  {
   "cell_type": "code",
   "execution_count": 100,
   "id": "5859c4af-8adf-4c28-87fa-111e6430d811",
   "metadata": {},
   "outputs": [
    {
     "data": {
      "text/plain": [
       "True"
      ]
     },
     "execution_count": 100,
     "metadata": {},
     "output_type": "execute_result"
    }
   ],
   "source": [
    "s1.pop()"
   ]
  },
  {
   "cell_type": "code",
   "execution_count": 101,
   "id": "73a685a7-3e69-4eeb-b7fd-c874fb2c1c3f",
   "metadata": {},
   "outputs": [
    {
     "data": {
      "text/plain": [
       "{10, 3.4, 6, 'nit'}"
      ]
     },
     "execution_count": 101,
     "metadata": {},
     "output_type": "execute_result"
    }
   ],
   "source": [
    "s1"
   ]
  },
  {
   "cell_type": "code",
   "execution_count": 103,
   "id": "43753956-0ca3-4a85-a314-db84a4f20f30",
   "metadata": {},
   "outputs": [
    {
     "ename": "TypeError",
     "evalue": "set.pop() takes no arguments (1 given)",
     "output_type": "error",
     "traceback": [
      "\u001b[1;31m---------------------------------------------------------------------------\u001b[0m",
      "\u001b[1;31mTypeError\u001b[0m                                 Traceback (most recent call last)",
      "Cell \u001b[1;32mIn[103], line 1\u001b[0m\n\u001b[1;32m----> 1\u001b[0m s1\u001b[38;5;241m.\u001b[39mpop(\u001b[38;5;241m1\u001b[39m)\n",
      "\u001b[1;31mTypeError\u001b[0m: set.pop() takes no arguments (1 given)"
     ]
    }
   ],
   "source": [
    "s1.pop(1)"
   ]
  },
  {
   "cell_type": "code",
   "execution_count": 104,
   "id": "e741b8bc-09ab-47c8-b380-9e7d19aec924",
   "metadata": {},
   "outputs": [
    {
     "data": {
      "text/plain": [
       "{10, 6, 'nit'}"
      ]
     },
     "execution_count": 104,
     "metadata": {},
     "output_type": "execute_result"
    }
   ],
   "source": [
    "s1"
   ]
  },
  {
   "cell_type": "code",
   "execution_count": 105,
   "id": "a18faa2f-ea05-4a9d-afae-c227a87a10dd",
   "metadata": {},
   "outputs": [
    {
     "ename": "TypeError",
     "evalue": "set.pop() takes no arguments (1 given)",
     "output_type": "error",
     "traceback": [
      "\u001b[1;31m---------------------------------------------------------------------------\u001b[0m",
      "\u001b[1;31mTypeError\u001b[0m                                 Traceback (most recent call last)",
      "Cell \u001b[1;32mIn[105], line 1\u001b[0m\n\u001b[1;32m----> 1\u001b[0m s1\u001b[38;5;241m.\u001b[39mpop(\u001b[38;5;124m'\u001b[39m\u001b[38;5;124mnit\u001b[39m\u001b[38;5;124m'\u001b[39m)\n",
      "\u001b[1;31mTypeError\u001b[0m: set.pop() takes no arguments (1 given)"
     ]
    }
   ],
   "source": [
    "s1.pop()"
   ]
  },
  {
   "cell_type": "code",
   "execution_count": 106,
   "id": "7594b056-af4f-401c-b404-184d66060822",
   "metadata": {},
   "outputs": [
    {
     "data": {
      "text/plain": [
       "{5, 10, 30, 200, 1000}"
      ]
     },
     "execution_count": 106,
     "metadata": {},
     "output_type": "execute_result"
    }
   ],
   "source": [
    "s"
   ]
  },
  {
   "cell_type": "code",
   "execution_count": 107,
   "id": "b65e3288-9049-427f-b0ac-64350c4c8290",
   "metadata": {},
   "outputs": [
    {
     "data": {
      "text/plain": [
       "{10, 6, 'nit'}"
      ]
     },
     "execution_count": 107,
     "metadata": {},
     "output_type": "execute_result"
    }
   ],
   "source": [
    "s1"
   ]
  },
  {
   "cell_type": "code",
   "execution_count": 108,
   "id": "654272e7-b13c-4a32-84de-ecbaa4954246",
   "metadata": {},
   "outputs": [
    {
     "data": {
      "text/plain": [
       "{(1+2j), 10, 3.4, 6, False, True, 'nit'}"
      ]
     },
     "execution_count": 108,
     "metadata": {},
     "output_type": "execute_result"
    }
   ],
   "source": [
    "s2"
   ]
  },
  {
   "cell_type": "code",
   "execution_count": 113,
   "id": "7bb038e4-9148-4ad6-b593-532f1a56dc4b",
   "metadata": {},
   "outputs": [],
   "source": [
    "s1.update([1,2])"
   ]
  },
  {
   "cell_type": "code",
   "execution_count": 111,
   "id": "7c42d9f7-bcfa-41f5-9a7a-412d7717957d",
   "metadata": {},
   "outputs": [
    {
     "data": {
      "text/plain": [
       "{1, 10, 2, 6, 'nit'}"
      ]
     },
     "execution_count": 111,
     "metadata": {},
     "output_type": "execute_result"
    }
   ],
   "source": [
    "s1"
   ]
  },
  {
   "cell_type": "code",
   "execution_count": 114,
   "id": "faf00bdb-a667-4b52-8e7d-f52f05b8a3aa",
   "metadata": {},
   "outputs": [
    {
     "data": {
      "text/plain": [
       "{1, 10, 2, 6, 'nit'}"
      ]
     },
     "execution_count": 114,
     "metadata": {},
     "output_type": "execute_result"
    }
   ],
   "source": [
    "s1"
   ]
  },
  {
   "cell_type": "code",
   "execution_count": 115,
   "id": "608dca3b-a32a-4a75-9ebf-306e182a64c9",
   "metadata": {},
   "outputs": [
    {
     "data": {
      "text/plain": [
       "5"
      ]
     },
     "execution_count": 115,
     "metadata": {},
     "output_type": "execute_result"
    }
   ],
   "source": [
    "len(s1)"
   ]
  },
  {
   "cell_type": "code",
   "execution_count": 1,
   "id": "40971831-9c7a-44d9-92bf-50271e2d6844",
   "metadata": {},
   "outputs": [
    {
     "ename": "NameError",
     "evalue": "name 's1' is not defined",
     "output_type": "error",
     "traceback": [
      "\u001b[1;31m---------------------------------------------------------------------------\u001b[0m",
      "\u001b[1;31mNameError\u001b[0m                                 Traceback (most recent call last)",
      "Cell \u001b[1;32mIn[1], line 1\u001b[0m\n\u001b[1;32m----> 1\u001b[0m s1\u001b[38;5;241m.\u001b[39mdiscard(\u001b[38;5;241m3\u001b[39m)\n",
      "\u001b[1;31mNameError\u001b[0m: name 's1' is not defined"
     ]
    }
   ],
   "source": [
    "s1.discard(3)"
   ]
  },
  {
   "cell_type": "code",
   "execution_count": 117,
   "id": "a5a28bfe-ab13-4e81-9601-5aee166ea776",
   "metadata": {},
   "outputs": [
    {
     "ename": "KeyError",
     "evalue": "3",
     "output_type": "error",
     "traceback": [
      "\u001b[1;31m---------------------------------------------------------------------------\u001b[0m",
      "\u001b[1;31mKeyError\u001b[0m                                  Traceback (most recent call last)",
      "Cell \u001b[1;32mIn[117], line 1\u001b[0m\n\u001b[1;32m----> 1\u001b[0m s1\u001b[38;5;241m.\u001b[39mremove(\u001b[38;5;241m3\u001b[39m)\n",
      "\u001b[1;31mKeyError\u001b[0m: 3"
     ]
    }
   ],
   "source": [
    "s1.remove(3)"
   ]
  },
  {
   "cell_type": "code",
   "execution_count": 118,
   "id": "5c374f97-1fc3-48fe-8d45-98fbe0c43e50",
   "metadata": {},
   "outputs": [],
   "source": [
    "A = {1,2,3,4,5}\n",
    "B = {4,5,6,7,8}\n",
    "C = {8,9,10}\n"
   ]
  },
  {
   "cell_type": "code",
   "execution_count": 120,
   "id": "fb400510-a938-46c6-86db-8109d2192ce0",
   "metadata": {},
   "outputs": [
    {
     "data": {
      "text/plain": [
       "({1, 2, 3, 4, 5}, {4, 5, 6, 7, 8}, {8, 9, 10})"
      ]
     },
     "execution_count": 120,
     "metadata": {},
     "output_type": "execute_result"
    }
   ],
   "source": [
    "A, B , C"
   ]
  },
  {
   "cell_type": "code",
   "execution_count": 121,
   "id": "8d705b8f-7699-4663-9764-cf46ac6f1b25",
   "metadata": {},
   "outputs": [
    {
     "data": {
      "text/plain": [
       "{1, 2, 3, 4, 5, 6, 7, 8}"
      ]
     },
     "execution_count": 121,
     "metadata": {},
     "output_type": "execute_result"
    }
   ],
   "source": [
    "A | B "
   ]
  },
  {
   "cell_type": "code",
   "execution_count": 122,
   "id": "11a8649b-397f-404e-b258-731780330abd",
   "metadata": {},
   "outputs": [
    {
     "data": {
      "text/plain": [
       "{1, 2, 3, 4, 5, 6, 7, 8}"
      ]
     },
     "execution_count": 122,
     "metadata": {},
     "output_type": "execute_result"
    }
   ],
   "source": [
    "A.union(B)"
   ]
  },
  {
   "cell_type": "code",
   "execution_count": 123,
   "id": "b4268948-ea2f-44d9-95e3-37037872ae69",
   "metadata": {},
   "outputs": [
    {
     "data": {
      "text/plain": [
       "{1, 2, 3, 4, 5, 6, 7, 8, 9, 10}"
      ]
     },
     "execution_count": 123,
     "metadata": {},
     "output_type": "execute_result"
    }
   ],
   "source": [
    "A.union(B, C)"
   ]
  },
  {
   "cell_type": "code",
   "execution_count": 124,
   "id": "0202f310-0f5f-4540-bb36-14c1fe1723a0",
   "metadata": {},
   "outputs": [
    {
     "data": {
      "text/plain": [
       "({1, 2, 3, 4, 5}, {4, 5, 6, 7, 8}, {8, 9, 10})"
      ]
     },
     "execution_count": 124,
     "metadata": {},
     "output_type": "execute_result"
    }
   ],
   "source": [
    "A, B, C"
   ]
  },
  {
   "cell_type": "code",
   "execution_count": 125,
   "id": "7556ec85-0723-4e33-be91-d316aed55abb",
   "metadata": {},
   "outputs": [
    {
     "data": {
      "text/plain": [
       "{1, 2, 3, 4, 5}"
      ]
     },
     "execution_count": 125,
     "metadata": {},
     "output_type": "execute_result"
    }
   ],
   "source": [
    "A"
   ]
  },
  {
   "cell_type": "code",
   "execution_count": 126,
   "id": "aa97556e-24bb-4053-a141-4b30cfbd1121",
   "metadata": {},
   "outputs": [],
   "source": [
    "A.update(B)"
   ]
  },
  {
   "cell_type": "code",
   "execution_count": 128,
   "id": "15530cc6-bef8-4a8c-9dfe-41c10eb721a4",
   "metadata": {},
   "outputs": [
    {
     "data": {
      "text/plain": [
       "({1, 2, 3, 4, 5, 6, 7, 8}, {4, 5, 6, 7, 8}, {8, 9, 10})"
      ]
     },
     "execution_count": 128,
     "metadata": {},
     "output_type": "execute_result"
    }
   ],
   "source": [
    "A, B, C"
   ]
  },
  {
   "cell_type": "code",
   "execution_count": 129,
   "id": "58f4395a-f3ed-4b7f-a711-43fa4e89fb38",
   "metadata": {},
   "outputs": [
    {
     "data": {
      "text/plain": [
       "{4, 5, 6, 7, 8}"
      ]
     },
     "execution_count": 129,
     "metadata": {},
     "output_type": "execute_result"
    }
   ],
   "source": [
    "A & B"
   ]
  },
  {
   "cell_type": "code",
   "execution_count": 130,
   "id": "deb632b5-3bd0-4063-b521-fd37b38d1acc",
   "metadata": {},
   "outputs": [
    {
     "data": {
      "text/plain": [
       "{8}"
      ]
     },
     "execution_count": 130,
     "metadata": {},
     "output_type": "execute_result"
    }
   ],
   "source": [
    "B & C"
   ]
  },
  {
   "cell_type": "code",
   "execution_count": 131,
   "id": "a434e3b4-0b53-4d94-bafc-ab5f9826ecc1",
   "metadata": {},
   "outputs": [
    {
     "data": {
      "text/plain": [
       "{8}"
      ]
     },
     "execution_count": 131,
     "metadata": {},
     "output_type": "execute_result"
    }
   ],
   "source": [
    "B.intersection(C) "
   ]
  },
  {
   "cell_type": "code",
   "execution_count": 132,
   "id": "8e035091-7781-43a1-95b4-aa297e98a95a",
   "metadata": {},
   "outputs": [
    {
     "data": {
      "text/plain": [
       "{4, 5, 6, 7, 8}"
      ]
     },
     "execution_count": 132,
     "metadata": {},
     "output_type": "execute_result"
    }
   ],
   "source": [
    "B.intersection(A)"
   ]
  },
  {
   "cell_type": "code",
   "execution_count": 133,
   "id": "b443a3cf-0545-4267-8a6d-893ec6f53a3a",
   "metadata": {},
   "outputs": [
    {
     "data": {
      "text/plain": [
       "{1, 2, 3, 4, 5, 6, 7, 8}"
      ]
     },
     "execution_count": 133,
     "metadata": {},
     "output_type": "execute_result"
    }
   ],
   "source": [
    "A"
   ]
  },
  {
   "cell_type": "code",
   "execution_count": 134,
   "id": "3cd561fa-e017-49c4-bd19-3de503f62100",
   "metadata": {},
   "outputs": [
    {
     "data": {
      "text/plain": [
       "{4, 5, 6, 7, 8}"
      ]
     },
     "execution_count": 134,
     "metadata": {},
     "output_type": "execute_result"
    }
   ],
   "source": [
    "B"
   ]
  },
  {
   "cell_type": "code",
   "execution_count": 135,
   "id": "0d5e1ed4-4657-4e26-9457-2e358fa466dd",
   "metadata": {},
   "outputs": [
    {
     "data": {
      "text/plain": [
       "{1, 2, 3}"
      ]
     },
     "execution_count": 135,
     "metadata": {},
     "output_type": "execute_result"
    }
   ],
   "source": [
    "A - B"
   ]
  },
  {
   "cell_type": "code",
   "execution_count": 137,
   "id": "743b6280-7028-4c0e-b57a-4f1d92e449ef",
   "metadata": {},
   "outputs": [
    {
     "data": {
      "text/plain": [
       "{1, 2, 3, 4, 5, 6, 7, 8}"
      ]
     },
     "execution_count": 137,
     "metadata": {},
     "output_type": "execute_result"
    }
   ],
   "source": [
    "A"
   ]
  },
  {
   "cell_type": "code",
   "execution_count": 138,
   "id": "10d51422-eccf-4964-86d0-f350821d2b21",
   "metadata": {},
   "outputs": [
    {
     "data": {
      "text/plain": [
       "{4, 5, 6, 7, 8}"
      ]
     },
     "execution_count": 138,
     "metadata": {},
     "output_type": "execute_result"
    }
   ],
   "source": [
    "B"
   ]
  },
  {
   "cell_type": "code",
   "execution_count": 139,
   "id": "d32c7d84-f6f1-446e-9d0f-a2bd1029052b",
   "metadata": {},
   "outputs": [
    {
     "data": {
      "text/plain": [
       "{8, 9, 10}"
      ]
     },
     "execution_count": 139,
     "metadata": {},
     "output_type": "execute_result"
    }
   ],
   "source": [
    "C"
   ]
  },
  {
   "cell_type": "code",
   "execution_count": 140,
   "id": "e90cded4-6310-4715-b075-2388d703c677",
   "metadata": {},
   "outputs": [
    {
     "data": {
      "text/plain": [
       "{4, 5, 6, 7, 9, 10}"
      ]
     },
     "execution_count": 140,
     "metadata": {},
     "output_type": "execute_result"
    }
   ],
   "source": [
    "B ^ C"
   ]
  },
  {
   "cell_type": "code",
   "execution_count": 141,
   "id": "6d63cd6c-0800-4466-a685-364f86a7b8e2",
   "metadata": {},
   "outputs": [
    {
     "data": {
      "text/plain": [
       "{4, 5, 6, 7}"
      ]
     },
     "execution_count": 141,
     "metadata": {},
     "output_type": "execute_result"
    }
   ],
   "source": [
    "B -C "
   ]
  },
  {
   "cell_type": "code",
   "execution_count": null,
   "id": "5ff53b56-532f-42cc-94f8-6a3ccb067e01",
   "metadata": {},
   "outputs": [],
   "source": []
  },
  {
   "cell_type": "code",
   "execution_count": null,
   "id": "e2331dab-88cc-4c2b-8856-52b4fd51182e",
   "metadata": {},
   "outputs": [],
   "source": []
  },
  {
   "cell_type": "code",
   "execution_count": null,
   "id": "e4797fc4-c693-4075-93a8-3babb5ff9877",
   "metadata": {},
   "outputs": [],
   "source": []
  },
  {
   "cell_type": "code",
   "execution_count": null,
   "id": "3542e03f-cae0-48eb-b35c-7673dacd4234",
   "metadata": {},
   "outputs": [],
   "source": []
  },
  {
   "cell_type": "code",
   "execution_count": null,
   "id": "98fb0ada-40cf-4f93-9a37-118aed9d7345",
   "metadata": {},
   "outputs": [],
   "source": []
  }
 ],
 "metadata": {
  "kernelspec": {
   "display_name": "Python 3 (ipykernel)",
   "language": "python",
   "name": "python3"
  },
  "language_info": {
   "codemirror_mode": {
    "name": "ipython",
    "version": 3
   },
   "file_extension": ".py",
   "mimetype": "text/x-python",
   "name": "python",
   "nbconvert_exporter": "python",
   "pygments_lexer": "ipython3",
   "version": "3.11.5"
  }
 },
 "nbformat": 4,
 "nbformat_minor": 5
}
