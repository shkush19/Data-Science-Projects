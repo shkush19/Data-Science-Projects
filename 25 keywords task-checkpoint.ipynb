{
 "cells": [
  {
   "cell_type": "code",
   "execution_count": 2,
   "id": "e0923642-0620-451e-8466-87eb1922c18e",
   "metadata": {},
   "outputs": [],
   "source": [
    "import keyword"
   ]
  },
  {
   "cell_type": "code",
   "execution_count": 3,
   "id": "f2ad5f08-d6ff-4cd1-8424-d66fe776fc39",
   "metadata": {},
   "outputs": [
    {
     "data": {
      "text/plain": [
       "['False',\n",
       " 'None',\n",
       " 'True',\n",
       " 'and',\n",
       " 'as',\n",
       " 'assert',\n",
       " 'async',\n",
       " 'await',\n",
       " 'break',\n",
       " 'class',\n",
       " 'continue',\n",
       " 'def',\n",
       " 'del',\n",
       " 'elif',\n",
       " 'else',\n",
       " 'except',\n",
       " 'finally',\n",
       " 'for',\n",
       " 'from',\n",
       " 'global',\n",
       " 'if',\n",
       " 'import',\n",
       " 'in',\n",
       " 'is',\n",
       " 'lambda',\n",
       " 'nonlocal',\n",
       " 'not',\n",
       " 'or',\n",
       " 'pass',\n",
       " 'raise',\n",
       " 'return',\n",
       " 'try',\n",
       " 'while',\n",
       " 'with',\n",
       " 'yield']"
      ]
     },
     "execution_count": 3,
     "metadata": {},
     "output_type": "execute_result"
    }
   ],
   "source": [
    "\n",
    "keyword.kwlist"
   ]
  },
  {
   "cell_type": "markdown",
   "id": "aec304d0-3f43-462e-ac7f-d17d784eb8d9",
   "metadata": {},
   "source": [
    "__False__"
   ]
  },
  {
   "cell_type": "code",
   "execution_count": 4,
   "id": "557bcd91-1c4d-4221-93ea-e0a9b9e3cc9c",
   "metadata": {},
   "outputs": [
    {
     "name": "stdout",
     "output_type": "stream",
     "text": [
      "The condition is False.\n"
     ]
    }
   ],
   "source": [
    "# Define a boolean variable\n",
    "condition = False\n",
    "\n",
    "# Check if the condition is False\n",
    "if condition:\n",
    "    print(\"The condition is True.\")\n",
    "else:\n",
    "    print(\"The condition is False.\")"
   ]
  },
  {
   "cell_type": "markdown",
   "id": "0b98d17d-e537-48cb-ba24-cb4d4f4b0f9f",
   "metadata": {},
   "source": [
    "__def,if,else,None__"
   ]
  },
  {
   "cell_type": "code",
   "execution_count": 5,
   "id": "d36d3957-7b2c-478a-8a02-6fd6fe344d5a",
   "metadata": {},
   "outputs": [
    {
     "name": "stdout",
     "output_type": "stream",
     "text": [
      "Hello, Alice!\n",
      "Hello, there!\n"
     ]
    }
   ],
   "source": [
    "# Define a function that returns None\n",
    "def greet(name):\n",
    "    if name:\n",
    "        print(\"Hello, \" + name + \"!\")\n",
    "    else:\n",
    "        print(\"Hello, there!\")\n",
    "\n",
    "# Call the function with a name\n",
    "greet(\"Alice\")  # Output: Hello, Alice!\n",
    "\n",
    "# Call the function without a name\n",
    "greet(None)     # Output: Hello, there!\n"
   ]
  },
  {
   "cell_type": "markdown",
   "id": "55cdbca9-ec24-43fe-8cb0-48164b8c4b84",
   "metadata": {},
   "source": [
    "__try,except,finally__"
   ]
  },
  {
   "cell_type": "code",
   "execution_count": 6,
   "id": "e6097958-bbd3-448f-b2e5-1288d5de9145",
   "metadata": {},
   "outputs": [
    {
     "name": "stdout",
     "output_type": "stream",
     "text": [
      "enter valid number\n",
      "Mistake\n",
      "program executed\n"
     ]
    }
   ],
   "source": [
    "try:\n",
    "    A = math.sqrt(134200) \n",
    "    if A<110:\n",
    "        print(\"sqaure root is:\", A)\n",
    "    else:\n",
    "        print(\"Enter correct value\")\n",
    "except:\n",
    "        print(\"enter valid number\")\n",
    "        print(\"Mistake\")\n",
    "finally:\n",
    "    print('program executed')"
   ]
  },
  {
   "cell_type": "markdown",
   "id": "75930522-afb0-4c23-99ef-826de1226d4a",
   "metadata": {},
   "source": [
    "__True__"
   ]
  },
  {
   "cell_type": "code",
   "execution_count": 7,
   "id": "e075a95c-52df-41a2-8d8b-c23ac3057482",
   "metadata": {},
   "outputs": [
    {
     "name": "stdout",
     "output_type": "stream",
     "text": [
      "possible\n"
     ]
    }
   ],
   "source": [
    "shikha_int = 23\n",
    "shikha_float = 10.07\n",
    "shikha_bool = True\n",
    "shikha_complex = 2+9j\n",
    "shikha_string = 'kushwaha'\n",
    "try:\n",
    "    shikha_int + shikha_float\n",
    "    print(\"possible\")\n",
    "except:\n",
    "    print(\"Not Possible\")"
   ]
  },
  {
   "cell_type": "code",
   "execution_count": 8,
   "id": "715ed0da-537c-40eb-9046-f8fbb80de473",
   "metadata": {},
   "outputs": [
    {
     "name": "stdout",
     "output_type": "stream",
     "text": [
      "Valid 0.0\n",
      "Code Executed\n"
     ]
    }
   ],
   "source": [
    "x = int(True)\n",
    "y = float(False)\n",
    "try:\n",
    "    if x<y:\n",
    "        print(\"Oops not a valid one\", x) \n",
    "    else:\n",
    "        print(\"Valid\", y)\n",
    "except:\n",
    "    print(\"Please enter valid inputs\")\n",
    "finally:\n",
    "    print(\"Code Executed\")\n",
    "    \n",
    "### In this code the value 0.0 is printing because we assigned Float value to the 'y'"
   ]
  },
  {
   "cell_type": "markdown",
   "id": "e7429c21-46d0-433c-960b-20468a8511b4",
   "metadata": {},
   "source": [
    "__import__"
   ]
  },
  {
   "cell_type": "code",
   "execution_count": 9,
   "id": "9533b487-4ad6-4c5f-91a8-3a2cbf26613e",
   "metadata": {},
   "outputs": [
    {
     "data": {
      "text/plain": [
       "10.0"
      ]
     },
     "execution_count": 9,
     "metadata": {},
     "output_type": "execute_result"
    }
   ],
   "source": [
    "import math\n",
    "math.sqrt(100)"
   ]
  },
  {
   "cell_type": "markdown",
   "id": "42533ddf-b623-4872-8bac-835814de3967",
   "metadata": {},
   "source": [
    "__if,elif,else__"
   ]
  },
  {
   "cell_type": "code",
   "execution_count": 10,
   "id": "1878023d-2534-4b1e-a3dd-801ea734456d",
   "metadata": {},
   "outputs": [
    {
     "name": "stdin",
     "output_type": "stream",
     "text": [
      "Enter 1st Number 45\n",
      "Enter 2nd Number 67\n"
     ]
    },
    {
     "name": "stdout",
     "output_type": "stream",
     "text": [
      "Smaller number 45\n"
     ]
    }
   ],
   "source": [
    "i =input(\"Enter 1st Number\")\n",
    "i1 =input(\"Enter 2nd Number\") \n",
    "if i < i1:print(\"Smaller number\",i)\n",
    "elif i > i1:print(\"Smaller number\",i1)\n",
    "else:\n",
    "    print(\"Enter Proper value\")"
   ]
  },
  {
   "cell_type": "markdown",
   "id": "21915424-3595-4519-aada-a00b82400fa6",
   "metadata": {},
   "source": [
    "__while__"
   ]
  },
  {
   "cell_type": "code",
   "execution_count": 11,
   "id": "5b841b2d-0293-479b-833c-f86d5ee680ac",
   "metadata": {},
   "outputs": [
    {
     "name": "stdout",
     "output_type": "stream",
     "text": [
      "data science\n",
      "data science\n",
      "data science\n",
      "data science\n",
      "data science\n"
     ]
    }
   ],
   "source": [
    "##But what if you want it 100 times or 1000 times then you need loops.\n",
    "\n",
    "i = 1  #initialize\n",
    "while i<=5: #condition\n",
    "    print('data science')\n",
    "    i=i+1 #value of i is incrementing"
   ]
  },
  {
   "cell_type": "markdown",
   "id": "4498658e-66f9-40ca-9a08-3da20fc48219",
   "metadata": {},
   "source": [
    "__break__"
   ]
  },
  {
   "cell_type": "code",
   "execution_count": 12,
   "id": "c098281f-908d-487f-8946-511c2b262849",
   "metadata": {},
   "outputs": [
    {
     "name": "stdin",
     "output_type": "stream",
     "text": [
      "How many chocolate you need:? 7\n"
     ]
    },
    {
     "name": "stdout",
     "output_type": "stream",
     "text": [
      "No stock\n",
      "Code Executed\n"
     ]
    }
   ],
   "source": [
    "stock=5\n",
    "x=int(input('How many chocolate you need:?'))\n",
    "i=1\n",
    "while i<=x:\n",
    "     if x>stock:\n",
    "        print('No stock') \n",
    "        break\n",
    "     print('chocolates')\n",
    "     i+=1\n",
    "print(\"Code Executed\")"
   ]
  },
  {
   "cell_type": "markdown",
   "id": "f1a12cf5-f502-45fa-97d7-b7e27f9e5cca",
   "metadata": {},
   "source": [
    "__for, in__"
   ]
  },
  {
   "cell_type": "code",
   "execution_count": 13,
   "id": "fb9e184b-e3e4-44a3-825c-692f6126f80f",
   "metadata": {},
   "outputs": [
    {
     "name": "stdout",
     "output_type": "stream",
     "text": [
      "3\n",
      "4\n",
      "5\n",
      "6\n",
      "7\n",
      "8\n",
      "9\n",
      "10\n"
     ]
    }
   ],
   "source": [
    "for i in range(3,11):\n",
    "    print(i)"
   ]
  },
  {
   "cell_type": "markdown",
   "id": "4d51a34d-95bb-4eec-8ef7-9111e209ad5f",
   "metadata": {},
   "source": [
    "__continue__"
   ]
  },
  {
   "cell_type": "code",
   "execution_count": 14,
   "id": "63cbecde-91af-49ac-91b2-f3baec2e4a6e",
   "metadata": {},
   "outputs": [
    {
     "name": "stdout",
     "output_type": "stream",
     "text": [
      "shikha 1\n",
      "shikha 2\n",
      "shikha 3\n",
      "shikha 4\n",
      "shikha 5\n",
      "shikha 6\n",
      "shikha 8\n",
      "shikha 9\n",
      "shikha 10\n",
      "shikha 11\n",
      "shikha 12\n",
      "shikha 13\n",
      "shikha 14\n"
     ]
    }
   ],
   "source": [
    "for i in range(1,15):\n",
    "    if i==7:\n",
    "        continue\n",
    "    print('shikha',i)"
   ]
  },
  {
   "cell_type": "markdown",
   "id": "ca5ff27b-3b25-46c7-afb1-be0ecd335ec6",
   "metadata": {},
   "source": [
    "__as__"
   ]
  },
  {
   "cell_type": "code",
   "execution_count": 15,
   "id": "f812bd2a-b298-441d-b4af-96da6192a28c",
   "metadata": {},
   "outputs": [],
   "source": [
    "import numpy as np"
   ]
  },
  {
   "cell_type": "markdown",
   "id": "f166507e-5894-4bba-8512-32fe766363b5",
   "metadata": {},
   "source": [
    "__and__"
   ]
  },
  {
   "cell_type": "code",
   "execution_count": 16,
   "id": "f96b4b24-a8ca-4588-858b-2721bc0810a6",
   "metadata": {},
   "outputs": [
    {
     "name": "stdout",
     "output_type": "stream",
     "text": [
      "3 4 5 6 7 8 9 10 11 12 13 14 15 16 17 18 19 20 22 23 24 25 26 27 28 29 30 31 32 33 34 35 36 37 38 39 40 end\n"
     ]
    }
   ],
   "source": [
    "for i in range(3,41):\n",
    "    if i%3==0 and i%7==0:\n",
    "        continue\n",
    "    print(i,end=\" \")\n",
    "print('end')"
   ]
  },
  {
   "cell_type": "markdown",
   "id": "7a40f1ce-d8c7-48ad-97db-99c273f6440b",
   "metadata": {},
   "source": [
    "__or__"
   ]
  },
  {
   "cell_type": "code",
   "execution_count": 17,
   "id": "3c134379-2d71-435d-96c5-8fb909ac9ac5",
   "metadata": {},
   "outputs": [
    {
     "name": "stdout",
     "output_type": "stream",
     "text": [
      "4 5 8 10 11 13 16 17 19 20 22 23 25 26 29 31 32 34 37 38 40 end\n"
     ]
    }
   ],
   "source": [
    "for i in range(3,41):\n",
    "    if i%3==0 or i%7==0:\n",
    "        continue\n",
    "    print(i,end=\" \")\n",
    "print('end')"
   ]
  },
  {
   "cell_type": "code",
   "execution_count": 18,
   "id": "29f76bef-d07b-4235-ad34-9cad6eb93b83",
   "metadata": {},
   "outputs": [
    {
     "name": "stdout",
     "output_type": "stream",
     "text": [
      "#  #  #  #  \n",
      "#  #  #  \n",
      "#  #  \n",
      "#  \n",
      "#  #  #  #  \n",
      "#  #  #  \n",
      "#  #  \n",
      "#  \n",
      "#  #  #  #  \n",
      "#  #  #  \n",
      "#  #  \n",
      "#  \n",
      "#  #  #  #  \n",
      "#  #  #  \n",
      "#  #  \n",
      "#  \n",
      "#  #  #  #  \n",
      "#  #  #  \n",
      "#  #  \n",
      "#  \n",
      "#  #  #  #  \n",
      "#  #  #  \n",
      "#  #  \n",
      "#  \n",
      "#  #  #  #  \n",
      "#  #  #  \n",
      "#  #  \n",
      "#  \n",
      "#  #  #  #  \n",
      "#  #  #  \n",
      "#  #  \n",
      "#  \n",
      "#  #  #  #  \n",
      "#  #  #  \n",
      "#  #  \n",
      "#  \n",
      "#  #  #  #  \n",
      "#  #  #  \n",
      "#  #  \n",
      "#  \n"
     ]
    }
   ],
   "source": [
    "for i in range(4):\n",
    "    for j in range(i+1):\n",
    "        for i in range(4):\n",
    "            for j in range(4-i):\n",
    "                print('#', end=\"  \")\n",
    "            print()"
   ]
  },
  {
   "cell_type": "markdown",
   "id": "faa17a37-fb89-4679-b09c-80a4ed827485",
   "metadata": {},
   "source": [
    "__global__"
   ]
  },
  {
   "cell_type": "code",
   "execution_count": 19,
   "id": "045aba51-bae5-4110-94c3-948d511ceb71",
   "metadata": {},
   "outputs": [
    {
     "name": "stdout",
     "output_type": "stream",
     "text": [
      "Initial global variable value: 10\n",
      "Global variable: 15\n",
      "Global variable: 20\n"
     ]
    }
   ],
   "source": [
    "# Global variable\n",
    "global_var = 10\n",
    "\n",
    "# Function to modify global variable\n",
    "def modify_global():\n",
    "    # Access global variable within the function\n",
    "    global global_var\n",
    "    # Modify global variable\n",
    "    global_var += 5\n",
    "\n",
    "# Function to print global variable\n",
    "def print_global():\n",
    "    # Access global variable within the function\n",
    "    global global_var\n",
    "    print(\"Global variable:\", global_var)\n",
    "\n",
    "# Print initial global variable value\n",
    "print(\"Initial global variable value:\", global_var)\n",
    "\n",
    "# Call function to modify global variable\n",
    "modify_global()\n",
    "\n",
    "# Call function to print global variable\n",
    "print_global()\n",
    "\n",
    "# Call function to modify global variable again\n",
    "modify_global()\n",
    "\n",
    "# Call function to print global variable again\n",
    "print_global()\n"
   ]
  },
  {
   "cell_type": "markdown",
   "id": "52d58603-4dca-4feb-8645-d9af64174236",
   "metadata": {},
   "source": [
    "__pass__"
   ]
  },
  {
   "cell_type": "code",
   "execution_count": 20,
   "id": "f38df2c5-220b-4492-abfd-e35127737911",
   "metadata": {},
   "outputs": [
    {
     "name": "stdout",
     "output_type": "stream",
     "text": [
      "0\n",
      "1\n",
      "2\n",
      "4\n"
     ]
    }
   ],
   "source": [
    "# Define a function that does nothing\n",
    "def my_function():\n",
    "    pass\n",
    "\n",
    "# Define a class with a method that does nothing\n",
    "class MyClass:\n",
    "    def my_method(self):\n",
    "        pass\n",
    "\n",
    "# Use pass in a loop\n",
    "for i in range(5):\n",
    "    if i == 3:\n",
    "        pass  # Do nothing when i is 3\n",
    "    else:\n",
    "        print(i)  # Print the value of i for other cases\n"
   ]
  },
  {
   "cell_type": "markdown",
   "id": "a9fdf14a-58fe-4b56-aa40-e960b8c53e15",
   "metadata": {},
   "source": [
    "__return__"
   ]
  },
  {
   "cell_type": "code",
   "execution_count": 21,
   "id": "7f4307f1-c1f2-4a68-a57e-41dc1313d335",
   "metadata": {},
   "outputs": [
    {
     "name": "stdout",
     "output_type": "stream",
     "text": [
      "Square of 5 is: 25\n"
     ]
    }
   ],
   "source": [
    "# Define a function to calculate the square of a number\n",
    "def square(x):\n",
    "    return x * x  # Return the square of the input number\n",
    "\n",
    "# Call the function and store the result in a variable\n",
    "result = square(5)\n",
    "\n",
    "# Print the result\n",
    "print(\"Square of 5 is:\", result)\n"
   ]
  },
  {
   "cell_type": "code",
   "execution_count": null,
   "id": "2024e18c-2cdb-4c0f-b094-3eda6e837da1",
   "metadata": {},
   "outputs": [],
   "source": []
  }
 ],
 "metadata": {
  "kernelspec": {
   "display_name": "Python 3 (ipykernel)",
   "language": "python",
   "name": "python3"
  },
  "language_info": {
   "codemirror_mode": {
    "name": "ipython",
    "version": 3
   },
   "file_extension": ".py",
   "mimetype": "text/x-python",
   "name": "python",
   "nbconvert_exporter": "python",
   "pygments_lexer": "ipython3",
   "version": "3.11.5"
  },
  "widgets": {
   "application/vnd.jupyter.widget-state+json": {
    "state": {},
    "version_major": 2,
    "version_minor": 0
   }
  }
 },
 "nbformat": 4,
 "nbformat_minor": 5
}
