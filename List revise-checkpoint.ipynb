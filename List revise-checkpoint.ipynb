{
 "cells": [
  {
   "cell_type": "code",
   "execution_count": 50,
   "id": "f1d0d381",
   "metadata": {},
   "outputs": [
    {
     "data": {
      "text/plain": [
       "[]"
      ]
     },
     "execution_count": 50,
     "metadata": {},
     "output_type": "execute_result"
    }
   ],
   "source": [
    "li_1 = []\n",
    "li_1"
   ]
  },
  {
   "cell_type": "code",
   "execution_count": 84,
   "id": "c318dda4",
   "metadata": {},
   "outputs": [
    {
     "data": {
      "text/plain": [
       "[]"
      ]
     },
     "execution_count": 84,
     "metadata": {},
     "output_type": "execute_result"
    }
   ],
   "source": [
    "li_2 = []\n",
    "li_2\n"
   ]
  },
  {
   "cell_type": "code",
   "execution_count": 4,
   "id": "3973be1c",
   "metadata": {},
   "outputs": [
    {
     "data": {
      "text/plain": [
       "[]"
      ]
     },
     "execution_count": 4,
     "metadata": {},
     "output_type": "execute_result"
    }
   ],
   "source": [
    "li_3 = []\n",
    "li_3"
   ]
  },
  {
   "cell_type": "code",
   "execution_count": 19,
   "id": "87dacb6a",
   "metadata": {},
   "outputs": [
    {
     "data": {
      "text/plain": [
       "[]"
      ]
     },
     "execution_count": 19,
     "metadata": {},
     "output_type": "execute_result"
    }
   ],
   "source": [
    "li_4 = []\n",
    "li_4"
   ]
  },
  {
   "cell_type": "code",
   "execution_count": 51,
   "id": "f0bad229",
   "metadata": {},
   "outputs": [
    {
     "data": {
      "text/plain": [
       "[10, 20.67, True, 'Shikha', (8+2j)]"
      ]
     },
     "execution_count": 51,
     "metadata": {},
     "output_type": "execute_result"
    }
   ],
   "source": [
    "li_1.append(10)\n",
    "li_1.append(20.67)\n",
    "li_1.append(True)\n",
    "li_1.append('Shikha')\n",
    "li_1.append(8+2j)\n",
    "li_1"
   ]
  },
  {
   "cell_type": "code",
   "execution_count": 85,
   "id": "ec44c33f",
   "metadata": {},
   "outputs": [
    {
     "data": {
      "text/plain": [
       "[40, 60.45, False, False, False, 'Navneet', (9+3j)]"
      ]
     },
     "execution_count": 85,
     "metadata": {},
     "output_type": "execute_result"
    }
   ],
   "source": [
    "li_2.append(40)\n",
    "li_2.append(60.45)\n",
    "li_2.append(False)\n",
    "li_2.append(False)\n",
    "li_2.append(False)\n",
    "li_2.append('Navneet')\n",
    "li_2.append(9+3j)\n",
    "li_2"
   ]
  },
  {
   "cell_type": "code",
   "execution_count": 8,
   "id": "8dd0e742",
   "metadata": {},
   "outputs": [
    {
     "data": {
      "text/plain": [
       "[24, 98.45, True, 'Sharad', (6+8j)]"
      ]
     },
     "execution_count": 8,
     "metadata": {},
     "output_type": "execute_result"
    }
   ],
   "source": [
    "li_3.append(24)\n",
    "li_3.append(98.45)\n",
    "li_3.append(True)\n",
    "li_3.append('Sharad')\n",
    "li_3.append(6+8j)\n",
    "li_3"
   ]
  },
  {
   "cell_type": "code",
   "execution_count": 20,
   "id": "42fbb981",
   "metadata": {},
   "outputs": [
    {
     "data": {
      "text/plain": [
       "[45, 78.23, False, 'Sunita', (2+7j)]"
      ]
     },
     "execution_count": 20,
     "metadata": {},
     "output_type": "execute_result"
    }
   ],
   "source": [
    "li_4.append(45)\n",
    "li_4.append(78.23)\n",
    "li_4.append(False)\n",
    "li_4.append('Sunita')\n",
    "li_4.append(2+7j)\n",
    "li_4"
   ]
  },
  {
   "cell_type": "code",
   "execution_count": 15,
   "id": "48d39a20",
   "metadata": {},
   "outputs": [
    {
     "data": {
      "text/plain": [
       "[10, 20.67, True, 'Shikha', (8+2j)]"
      ]
     },
     "execution_count": 15,
     "metadata": {},
     "output_type": "execute_result"
    }
   ],
   "source": [
    "li_1"
   ]
  },
  {
   "cell_type": "code",
   "execution_count": 16,
   "id": "9b809c73",
   "metadata": {},
   "outputs": [
    {
     "data": {
      "text/plain": [
       "(8+2j)"
      ]
     },
     "execution_count": 16,
     "metadata": {},
     "output_type": "execute_result"
    }
   ],
   "source": [
    "li_1[4]"
   ]
  },
  {
   "cell_type": "code",
   "execution_count": 21,
   "id": "83c26ee2",
   "metadata": {},
   "outputs": [
    {
     "data": {
      "text/plain": [
       "'a'"
      ]
     },
     "execution_count": 21,
     "metadata": {},
     "output_type": "execute_result"
    }
   ],
   "source": [
    "li_1[3][5]"
   ]
  },
  {
   "cell_type": "code",
   "execution_count": 22,
   "id": "ae66e180",
   "metadata": {},
   "outputs": [
    {
     "data": {
      "text/plain": [
       "[10, 20.67, True, 'Shikha']"
      ]
     },
     "execution_count": 22,
     "metadata": {},
     "output_type": "execute_result"
    }
   ],
   "source": [
    "li_1[0:4]"
   ]
  },
  {
   "cell_type": "code",
   "execution_count": 23,
   "id": "3545ea3a",
   "metadata": {},
   "outputs": [
    {
     "data": {
      "text/plain": [
       "20.67"
      ]
     },
     "execution_count": 23,
     "metadata": {},
     "output_type": "execute_result"
    }
   ],
   "source": [
    "li_1[-4]"
   ]
  },
  {
   "cell_type": "code",
   "execution_count": 24,
   "id": "0129b0d5",
   "metadata": {},
   "outputs": [
    {
     "data": {
      "text/plain": [
       "[10, 20.67, True, 'Shikha']"
      ]
     },
     "execution_count": 24,
     "metadata": {},
     "output_type": "execute_result"
    }
   ],
   "source": [
    "li_1[-5:-1]"
   ]
  },
  {
   "cell_type": "code",
   "execution_count": 25,
   "id": "e1dfef50",
   "metadata": {},
   "outputs": [
    {
     "data": {
      "text/plain": [
       "[10, 20.67, True, 'Shikha', (8+2j)]"
      ]
     },
     "execution_count": 25,
     "metadata": {},
     "output_type": "execute_result"
    }
   ],
   "source": [
    "li_1"
   ]
  },
  {
   "cell_type": "code",
   "execution_count": 118,
   "id": "d464d545",
   "metadata": {},
   "outputs": [
    {
     "data": {
      "text/plain": [
       "[10, 20.67]"
      ]
     },
     "execution_count": 118,
     "metadata": {},
     "output_type": "execute_result"
    }
   ],
   "source": [
    "li_1[-5:-3] # How ?"
   ]
  },
  {
   "cell_type": "code",
   "execution_count": 27,
   "id": "0fc416da",
   "metadata": {},
   "outputs": [
    {
     "data": {
      "text/plain": [
       "[10, 20.67, True, 'Shikha']"
      ]
     },
     "execution_count": 27,
     "metadata": {},
     "output_type": "execute_result"
    }
   ],
   "source": [
    "li_1[-5:-1] # How ?"
   ]
  },
  {
   "cell_type": "code",
   "execution_count": 28,
   "id": "ea32af20",
   "metadata": {},
   "outputs": [
    {
     "data": {
      "text/plain": [
       "[]"
      ]
     },
     "execution_count": 28,
     "metadata": {},
     "output_type": "execute_result"
    }
   ],
   "source": [
    "li_1[-1:-5]"
   ]
  },
  {
   "cell_type": "code",
   "execution_count": 32,
   "id": "7ee14235",
   "metadata": {},
   "outputs": [],
   "source": [
    "li_1.clear() # This will clear all elements from the list"
   ]
  },
  {
   "cell_type": "code",
   "execution_count": 33,
   "id": "f3434422",
   "metadata": {},
   "outputs": [
    {
     "data": {
      "text/plain": [
       "[]"
      ]
     },
     "execution_count": 33,
     "metadata": {},
     "output_type": "execute_result"
    }
   ],
   "source": [
    "li_1"
   ]
  },
  {
   "cell_type": "code",
   "execution_count": 34,
   "id": "14c56995",
   "metadata": {},
   "outputs": [
    {
     "data": {
      "text/plain": [
       "[10, 20.67, True, 'Shikha', (8+2j)]"
      ]
     },
     "execution_count": 34,
     "metadata": {},
     "output_type": "execute_result"
    }
   ],
   "source": [
    "li_1.append(10)\n",
    "li_1.append(20.67)\n",
    "li_1.append(True)\n",
    "li_1.append('Shikha')\n",
    "li_1.append(8+2j)\n",
    "li_1"
   ]
  },
  {
   "cell_type": "code",
   "execution_count": 35,
   "id": "47f8a64d",
   "metadata": {},
   "outputs": [
    {
     "data": {
      "text/plain": [
       "[45, 78.23, False, 'Sunita', (2+7j)]"
      ]
     },
     "execution_count": 35,
     "metadata": {},
     "output_type": "execute_result"
    }
   ],
   "source": [
    "li_5 = li_4.copy()\n",
    "li_5"
   ]
  },
  {
   "cell_type": "code",
   "execution_count": 36,
   "id": "111dcb57",
   "metadata": {},
   "outputs": [
    {
     "data": {
      "text/plain": [
       "[45, 78.23, False, 'Sunita', (2+7j)]"
      ]
     },
     "execution_count": 36,
     "metadata": {},
     "output_type": "execute_result"
    }
   ],
   "source": [
    "li_4"
   ]
  },
  {
   "cell_type": "code",
   "execution_count": 44,
   "id": "a397c1a5",
   "metadata": {},
   "outputs": [
    {
     "ename": "TypeError",
     "evalue": "list.count() takes exactly one argument (0 given)",
     "output_type": "error",
     "traceback": [
      "\u001b[1;31m---------------------------------------------------------------------------\u001b[0m",
      "\u001b[1;31mTypeError\u001b[0m                                 Traceback (most recent call last)",
      "Cell \u001b[1;32mIn[44], line 1\u001b[0m\n\u001b[1;32m----> 1\u001b[0m li_2\u001b[38;5;241m.\u001b[39mcount()\n\u001b[0;32m      2\u001b[0m li_2\n",
      "\u001b[1;31mTypeError\u001b[0m: list.count() takes exactly one argument (0 given)"
     ]
    }
   ],
   "source": [
    "li_2.count()\n",
    "li_2"
   ]
  },
  {
   "cell_type": "code",
   "execution_count": 45,
   "id": "71d7e3e6",
   "metadata": {},
   "outputs": [
    {
     "data": {
      "text/plain": [
       "[40, 60.45, False, False, False, 'Navneet', (9+3j)]"
      ]
     },
     "execution_count": 45,
     "metadata": {},
     "output_type": "execute_result"
    }
   ],
   "source": [
    "li_2"
   ]
  },
  {
   "cell_type": "code",
   "execution_count": 46,
   "id": "ebe2248b",
   "metadata": {},
   "outputs": [
    {
     "data": {
      "text/plain": [
       "3"
      ]
     },
     "execution_count": 46,
     "metadata": {},
     "output_type": "execute_result"
    }
   ],
   "source": [
    "li_2.count(False)"
   ]
  },
  {
   "cell_type": "code",
   "execution_count": 86,
   "id": "dcfe371b",
   "metadata": {},
   "outputs": [
    {
     "data": {
      "text/plain": [
       "[40,\n",
       " 60.45,\n",
       " False,\n",
       " False,\n",
       " False,\n",
       " 'Navneet',\n",
       " (9+3j),\n",
       " 10,\n",
       " 20.67,\n",
       " True,\n",
       " 'Shikha',\n",
       " (8+2j)]"
      ]
     },
     "execution_count": 86,
     "metadata": {},
     "output_type": "execute_result"
    }
   ],
   "source": [
    "li_2.extend(li_1)\n",
    "li_2"
   ]
  },
  {
   "cell_type": "code",
   "execution_count": 54,
   "id": "64713dcb",
   "metadata": {},
   "outputs": [
    {
     "data": {
      "text/plain": [
       "[24, 98.45, True, 'Sharad', (6+8j)]"
      ]
     },
     "execution_count": 54,
     "metadata": {},
     "output_type": "execute_result"
    }
   ],
   "source": [
    "li_3"
   ]
  },
  {
   "cell_type": "code",
   "execution_count": 56,
   "id": "e275d197",
   "metadata": {},
   "outputs": [
    {
     "data": {
      "text/plain": [
       "3"
      ]
     },
     "execution_count": 56,
     "metadata": {},
     "output_type": "execute_result"
    }
   ],
   "source": [
    "li_3.index('Sharad')"
   ]
  },
  {
   "cell_type": "code",
   "execution_count": 58,
   "id": "e9ad43aa",
   "metadata": {},
   "outputs": [
    {
     "data": {
      "text/plain": [
       "[24, 98.45, True, 'Sharad', 'Shashank', (6+8j)]"
      ]
     },
     "execution_count": 58,
     "metadata": {},
     "output_type": "execute_result"
    }
   ],
   "source": [
    "li_3.insert(4, 'Shashank')\n",
    "li_3"
   ]
  },
  {
   "cell_type": "code",
   "execution_count": 60,
   "id": "4bbf34f0",
   "metadata": {},
   "outputs": [
    {
     "data": {
      "text/plain": [
       "'Sharad'"
      ]
     },
     "execution_count": 60,
     "metadata": {},
     "output_type": "execute_result"
    }
   ],
   "source": [
    "li_3.pop(3)"
   ]
  },
  {
   "cell_type": "code",
   "execution_count": 61,
   "id": "ea2fdb8a",
   "metadata": {},
   "outputs": [
    {
     "data": {
      "text/plain": [
       "[24, 98.45, True, 'Shashank', (6+8j)]"
      ]
     },
     "execution_count": 61,
     "metadata": {},
     "output_type": "execute_result"
    }
   ],
   "source": [
    "li_3"
   ]
  },
  {
   "cell_type": "code",
   "execution_count": 64,
   "id": "ff1aac40",
   "metadata": {},
   "outputs": [
    {
     "ename": "ValueError",
     "evalue": "list.remove(x): x not in list",
     "output_type": "error",
     "traceback": [
      "\u001b[1;31m---------------------------------------------------------------------------\u001b[0m",
      "\u001b[1;31mValueError\u001b[0m                                Traceback (most recent call last)",
      "Cell \u001b[1;32mIn[64], line 1\u001b[0m\n\u001b[1;32m----> 1\u001b[0m li_3\u001b[38;5;241m.\u001b[39mremove(\u001b[38;5;241m6\u001b[39m\u001b[38;5;241m+\u001b[39m\u001b[38;5;241m8\u001b[39mj)\n",
      "\u001b[1;31mValueError\u001b[0m: list.remove(x): x not in list"
     ]
    }
   ],
   "source": [
    "li_3.remove(6+8j)"
   ]
  },
  {
   "cell_type": "code",
   "execution_count": 65,
   "id": "1b467e0e",
   "metadata": {},
   "outputs": [
    {
     "data": {
      "text/plain": [
       "[24, 98.45, True, 'Shashank']"
      ]
     },
     "execution_count": 65,
     "metadata": {},
     "output_type": "execute_result"
    }
   ],
   "source": [
    "li_3"
   ]
  },
  {
   "cell_type": "code",
   "execution_count": 66,
   "id": "ff078fc1",
   "metadata": {},
   "outputs": [],
   "source": [
    "li_3.reverse()"
   ]
  },
  {
   "cell_type": "code",
   "execution_count": 67,
   "id": "ab710d05",
   "metadata": {},
   "outputs": [
    {
     "data": {
      "text/plain": [
       "['Shashank', True, 98.45, 24]"
      ]
     },
     "execution_count": 67,
     "metadata": {},
     "output_type": "execute_result"
    }
   ],
   "source": [
    "li_3"
   ]
  },
  {
   "cell_type": "code",
   "execution_count": 69,
   "id": "ec9c585a",
   "metadata": {},
   "outputs": [
    {
     "data": {
      "text/plain": [
       "['Shashank', True, 98.45, 24, 67, 56, 45]"
      ]
     },
     "execution_count": 69,
     "metadata": {},
     "output_type": "execute_result"
    }
   ],
   "source": [
    "li_3.append(67)\n",
    "li_3.append(56)\n",
    "li_3.append(45)\n",
    "li_3"
   ]
  },
  {
   "cell_type": "code",
   "execution_count": 71,
   "id": "d86af718",
   "metadata": {},
   "outputs": [
    {
     "data": {
      "text/plain": [
       "[98.45, 24, 67, 56, 45]"
      ]
     },
     "execution_count": 71,
     "metadata": {},
     "output_type": "execute_result"
    }
   ],
   "source": [
    "li_3.remove(True)\n",
    "li_3.remove('Shashank')\n",
    "li_3"
   ]
  },
  {
   "cell_type": "code",
   "execution_count": 72,
   "id": "639a5ed2",
   "metadata": {},
   "outputs": [],
   "source": [
    "li_3.sort()"
   ]
  },
  {
   "cell_type": "code",
   "execution_count": 73,
   "id": "450bf79d",
   "metadata": {},
   "outputs": [
    {
     "data": {
      "text/plain": [
       "[24, 45, 56, 67, 98.45]"
      ]
     },
     "execution_count": 73,
     "metadata": {},
     "output_type": "execute_result"
    }
   ],
   "source": [
    "li_3"
   ]
  },
  {
   "cell_type": "code",
   "execution_count": 74,
   "id": "dba6d8ce",
   "metadata": {},
   "outputs": [
    {
     "name": "stdout",
     "output_type": "stream",
     "text": [
      "10\n",
      "20.67\n",
      "True\n",
      "Shikha\n",
      "(8+2j)\n"
     ]
    }
   ],
   "source": [
    "for i in li_1:\n",
    "    print(i)"
   ]
  },
  {
   "cell_type": "code",
   "execution_count": 76,
   "id": "b8a777f4",
   "metadata": {},
   "outputs": [
    {
     "name": "stdout",
     "output_type": "stream",
     "text": [
      "(0, 10)\n",
      "(1, 20.67)\n",
      "(2, True)\n",
      "(3, 'Shikha')\n",
      "(4, (8+2j))\n"
     ]
    }
   ],
   "source": [
    "for i in enumerate(li_1):\n",
    "    print(i)"
   ]
  },
  {
   "cell_type": "code",
   "execution_count": 79,
   "id": "a3e21276",
   "metadata": {},
   "outputs": [
    {
     "data": {
      "text/plain": [
       "True"
      ]
     },
     "execution_count": 79,
     "metadata": {},
     "output_type": "execute_result"
    }
   ],
   "source": [
    "all(li_1)"
   ]
  },
  {
   "cell_type": "code",
   "execution_count": 80,
   "id": "41971272",
   "metadata": {},
   "outputs": [
    {
     "data": {
      "text/plain": [
       "True"
      ]
     },
     "execution_count": 80,
     "metadata": {},
     "output_type": "execute_result"
    }
   ],
   "source": [
    "any(li_2)"
   ]
  },
  {
   "cell_type": "code",
   "execution_count": 81,
   "id": "a182c854",
   "metadata": {},
   "outputs": [
    {
     "data": {
      "text/plain": [
       "[24, 45, 56, 67, 98.45]"
      ]
     },
     "execution_count": 81,
     "metadata": {},
     "output_type": "execute_result"
    }
   ],
   "source": [
    "li_3"
   ]
  },
  {
   "cell_type": "code",
   "execution_count": 82,
   "id": "2b8060dd",
   "metadata": {},
   "outputs": [
    {
     "data": {
      "text/plain": [
       "[45, 78.23, False, 'Sunita', (2+7j)]"
      ]
     },
     "execution_count": 82,
     "metadata": {},
     "output_type": "execute_result"
    }
   ],
   "source": [
    "li_4"
   ]
  },
  {
   "cell_type": "code",
   "execution_count": 87,
   "id": "ce1ddd10",
   "metadata": {},
   "outputs": [
    {
     "data": {
      "text/plain": [
       "[40,\n",
       " 60.45,\n",
       " False,\n",
       " False,\n",
       " False,\n",
       " 'Navneet',\n",
       " (9+3j),\n",
       " 10,\n",
       " 20.67,\n",
       " True,\n",
       " 'Shikha',\n",
       " (8+2j)]"
      ]
     },
     "execution_count": 87,
     "metadata": {},
     "output_type": "execute_result"
    }
   ],
   "source": [
    "li_2"
   ]
  },
  {
   "cell_type": "code",
   "execution_count": 88,
   "id": "27b872d9",
   "metadata": {},
   "outputs": [
    {
     "ename": "SyntaxError",
     "evalue": "invalid syntax (516643844.py, line 1)",
     "output_type": "error",
     "traceback": [
      "\u001b[1;36m  Cell \u001b[1;32mIn[88], line 1\u001b[1;36m\u001b[0m\n\u001b[1;33m    li_2(0:3)\u001b[0m\n\u001b[1;37m          ^\u001b[0m\n\u001b[1;31mSyntaxError\u001b[0m\u001b[1;31m:\u001b[0m invalid syntax\n"
     ]
    }
   ],
   "source": [
    "li_2(0:3)"
   ]
  },
  {
   "cell_type": "code",
   "execution_count": 89,
   "id": "38893e44",
   "metadata": {},
   "outputs": [
    {
     "data": {
      "text/plain": [
       "[24, 45, 56, 67]"
      ]
     },
     "execution_count": 89,
     "metadata": {},
     "output_type": "execute_result"
    }
   ],
   "source": [
    "li_3[0:4]"
   ]
  },
  {
   "cell_type": "code",
   "execution_count": 90,
   "id": "392f6167",
   "metadata": {},
   "outputs": [
    {
     "data": {
      "text/plain": [
       "[24, 45, 56, 67, 98.45]"
      ]
     },
     "execution_count": 90,
     "metadata": {},
     "output_type": "execute_result"
    }
   ],
   "source": [
    "li_3"
   ]
  },
  {
   "cell_type": "code",
   "execution_count": 91,
   "id": "9b27b0a0",
   "metadata": {},
   "outputs": [
    {
     "data": {
      "text/plain": [
       "[]"
      ]
     },
     "execution_count": 91,
     "metadata": {},
     "output_type": "execute_result"
    }
   ],
   "source": [
    "li_3[-1:-3]"
   ]
  },
  {
   "cell_type": "code",
   "execution_count": 92,
   "id": "f12f22ef",
   "metadata": {},
   "outputs": [
    {
     "data": {
      "text/plain": [
       "[56, 67]"
      ]
     },
     "execution_count": 92,
     "metadata": {},
     "output_type": "execute_result"
    }
   ],
   "source": [
    "li_3[-3:-1]"
   ]
  },
  {
   "cell_type": "code",
   "execution_count": 93,
   "id": "01a753a9",
   "metadata": {},
   "outputs": [
    {
     "data": {
      "text/plain": [
       "[40,\n",
       " 60.45,\n",
       " False,\n",
       " False,\n",
       " False,\n",
       " 'Navneet',\n",
       " (9+3j),\n",
       " 10,\n",
       " 20.67,\n",
       " True,\n",
       " 'Shikha',\n",
       " (8+2j)]"
      ]
     },
     "execution_count": 93,
     "metadata": {},
     "output_type": "execute_result"
    }
   ],
   "source": [
    "li_2"
   ]
  },
  {
   "cell_type": "code",
   "execution_count": 94,
   "id": "80b43ae6",
   "metadata": {},
   "outputs": [
    {
     "data": {
      "text/plain": [
       "[20.67, True]"
      ]
     },
     "execution_count": 94,
     "metadata": {},
     "output_type": "execute_result"
    }
   ],
   "source": [
    "li_2[-4:-2]"
   ]
  },
  {
   "cell_type": "code",
   "execution_count": 95,
   "id": "1357dbb3",
   "metadata": {},
   "outputs": [
    {
     "data": {
      "text/plain": [
       "[24, 45, 56, 67, 98.45, 45, 78.23, False, 'Sunita', (2+7j)]"
      ]
     },
     "execution_count": 95,
     "metadata": {},
     "output_type": "execute_result"
    }
   ],
   "source": [
    "li_3+li_4"
   ]
  },
  {
   "cell_type": "code",
   "execution_count": 96,
   "id": "7e7d2bd5",
   "metadata": {},
   "outputs": [
    {
     "data": {
      "text/plain": [
       "[10, 20.67, True, 'Shikha', (8+2j)]"
      ]
     },
     "execution_count": 96,
     "metadata": {},
     "output_type": "execute_result"
    }
   ],
   "source": [
    "li_1"
   ]
  },
  {
   "cell_type": "code",
   "execution_count": 98,
   "id": "b90c1b56",
   "metadata": {},
   "outputs": [
    {
     "data": {
      "text/plain": [
       "[24, 45, 56, 67, 98.45]"
      ]
     },
     "execution_count": 98,
     "metadata": {},
     "output_type": "execute_result"
    }
   ],
   "source": [
    "li_3"
   ]
  },
  {
   "cell_type": "code",
   "execution_count": 99,
   "id": "87462c1b",
   "metadata": {},
   "outputs": [
    {
     "data": {
      "text/plain": [
       "[45, 78.23, False, 'Sunita', (2+7j)]"
      ]
     },
     "execution_count": 99,
     "metadata": {},
     "output_type": "execute_result"
    }
   ],
   "source": [
    "li_4"
   ]
  },
  {
   "cell_type": "code",
   "execution_count": 100,
   "id": "29c21fa0",
   "metadata": {},
   "outputs": [
    {
     "name": "stdout",
     "output_type": "stream",
     "text": [
      "Incorrect\n",
      "program executed\n"
     ]
    }
   ],
   "source": [
    "try:\n",
    "    if count(78.23)==2:\n",
    "        print('Correct')\n",
    "except:\n",
    "    print('Incorrect')\n",
    "finally:\n",
    "    print('program executed')"
   ]
  },
  {
   "cell_type": "code",
   "execution_count": 110,
   "id": "662a5ca5",
   "metadata": {},
   "outputs": [
    {
     "data": {
      "text/plain": [
       "5"
      ]
     },
     "execution_count": 110,
     "metadata": {},
     "output_type": "execute_result"
    }
   ],
   "source": [
    "len(li_4)"
   ]
  },
  {
   "cell_type": "code",
   "execution_count": 111,
   "id": "20aaabc0",
   "metadata": {},
   "outputs": [
    {
     "name": "stdout",
     "output_type": "stream",
     "text": [
      "Correct\n",
      "program executed\n"
     ]
    }
   ],
   "source": [
    "try:\n",
    "    if len(li_4)==5:\n",
    "        print('Correct')\n",
    "except:\n",
    "    print('Incorrect')\n",
    "finally:\n",
    "    print('program executed')"
   ]
  },
  {
   "cell_type": "code",
   "execution_count": 119,
   "id": "0bac594e",
   "metadata": {},
   "outputs": [
    {
     "name": "stdout",
     "output_type": "stream",
     "text": [
      "program executed\n"
     ]
    }
   ],
   "source": [
    "try:\n",
    "    if len(li_4)==10:\n",
    "        print('Correct')\n",
    "except:\n",
    "    print('Incorrect')\n",
    "finally:\n",
    "    print('program executed')\n",
    "    \n",
    "## Why Except block is not working ?"
   ]
  },
  {
   "cell_type": "code",
   "execution_count": 122,
   "id": "1e6fc128",
   "metadata": {},
   "outputs": [
    {
     "name": "stdout",
     "output_type": "stream",
     "text": [
      "Hello\n",
      "program executed\n"
     ]
    }
   ],
   "source": [
    "try:\n",
    "    if type(li_4)==5:\n",
    "        print('Correct')\n",
    "    else:\n",
    "        print(\"Hello\")\n",
    "except:\n",
    "    print('Incorrect')\n",
    "finally:\n",
    "    print('program executed')"
   ]
  },
  {
   "cell_type": "code",
   "execution_count": 123,
   "id": "8c13a162",
   "metadata": {},
   "outputs": [],
   "source": [
    "li_3.remove(98.45)"
   ]
  },
  {
   "cell_type": "code",
   "execution_count": 124,
   "id": "e0ab4837",
   "metadata": {},
   "outputs": [
    {
     "data": {
      "text/plain": [
       "[24, 45, 56, 67]"
      ]
     },
     "execution_count": 124,
     "metadata": {},
     "output_type": "execute_result"
    }
   ],
   "source": [
    "li_3"
   ]
  },
  {
   "cell_type": "code",
   "execution_count": 126,
   "id": "a5afd4e6",
   "metadata": {},
   "outputs": [
    {
     "name": "stdout",
     "output_type": "stream",
     "text": [
      "Hello\n",
      "program executed\n"
     ]
    }
   ],
   "source": [
    "try:\n",
    "    if type(li_3)==int:\n",
    "        print('Correct')\n",
    "    else:\n",
    "        print(\"Hello\")\n",
    "except:\n",
    "    print('Incorrect')\n",
    "finally:\n",
    "    print('program executed')"
   ]
  },
  {
   "cell_type": "code",
   "execution_count": 127,
   "id": "68b39eca",
   "metadata": {},
   "outputs": [
    {
     "data": {
      "text/plain": [
       "list"
      ]
     },
     "execution_count": 127,
     "metadata": {},
     "output_type": "execute_result"
    }
   ],
   "source": [
    "type(li_3)"
   ]
  },
  {
   "cell_type": "code",
   "execution_count": 128,
   "id": "b770633a",
   "metadata": {},
   "outputs": [
    {
     "name": "stdout",
     "output_type": "stream",
     "text": [
      "Correct\n",
      "program executed\n"
     ]
    }
   ],
   "source": [
    "try:\n",
    "    if type(li_3)==list:\n",
    "        print('Correct')\n",
    "    else:\n",
    "        print(\"Hello\")\n",
    "except:\n",
    "    print('Incorrect')\n",
    "finally:\n",
    "    print('program executed')"
   ]
  },
  {
   "cell_type": "code",
   "execution_count": 129,
   "id": "b481e730",
   "metadata": {},
   "outputs": [
    {
     "name": "stdout",
     "output_type": "stream",
     "text": [
      "Incorrect\n",
      "program executed\n"
     ]
    }
   ],
   "source": [
    "try:\n",
    "    if type(li_3)==array:\n",
    "        print('Correct')\n",
    "    else:\n",
    "        print(\"Hello\")\n",
    "except:\n",
    "    print('Incorrect')\n",
    "finally:\n",
    "    print('program executed')"
   ]
  },
  {
   "cell_type": "code",
   "execution_count": 1,
   "id": "4f627a66",
   "metadata": {},
   "outputs": [],
   "source": [
    "name = 'Alice'"
   ]
  },
  {
   "cell_type": "code",
   "execution_count": 2,
   "id": "f70feca7-be4f-4abf-9d11-6b15d9416823",
   "metadata": {},
   "outputs": [
    {
     "name": "stdout",
     "output_type": "stream",
     "text": [
      "Hello Alice!\n"
     ]
    }
   ],
   "source": [
    "if name == 'Bob':\n",
    "    print('Hello Bob!')\n",
    "else:\n",
    "    print('Hello', name + '!')"
   ]
  },
  {
   "cell_type": "code",
   "execution_count": 3,
   "id": "9c617ca3-e732-4455-9150-c69043f04e69",
   "metadata": {},
   "outputs": [],
   "source": [
    "my_list = []\n",
    "my_list = [1, 2, 3, 4, 5]\n"
   ]
  },
  {
   "cell_type": "code",
   "execution_count": 4,
   "id": "e5700acd-7ab8-49c8-935d-ea0fc90e0853",
   "metadata": {},
   "outputs": [
    {
     "name": "stdout",
     "output_type": "stream",
     "text": [
      "[1, 2, 4, 5, 6, 7, 8, 9]\n"
     ]
    }
   ],
   "source": [
    "my_list.append(6)\n",
    "\n",
    "my_list.extend([7, 8, 9])\n",
    "\n",
    "my_list.pop(2)\n",
    "\n",
    "print(my_list)"
   ]
  },
  {
   "cell_type": "code",
   "execution_count": null,
   "id": "e6f4b3d5-7601-4795-9cf9-e27cd2c7624e",
   "metadata": {},
   "outputs": [],
   "source": []
  }
 ],
 "metadata": {
  "kernelspec": {
   "display_name": "Python 3 (ipykernel)",
   "language": "python",
   "name": "python3"
  },
  "language_info": {
   "codemirror_mode": {
    "name": "ipython",
    "version": 3
   },
   "file_extension": ".py",
   "mimetype": "text/x-python",
   "name": "python",
   "nbconvert_exporter": "python",
   "pygments_lexer": "ipython3",
   "version": "3.11.5"
  },
  "widgets": {
   "application/vnd.jupyter.widget-state+json": {
    "state": {},
    "version_major": 2,
    "version_minor": 0
   }
  }
 },
 "nbformat": 4,
 "nbformat_minor": 5
}
