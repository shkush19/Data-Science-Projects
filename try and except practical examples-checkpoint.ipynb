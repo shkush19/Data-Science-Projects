{
 "cells": [
  {
   "cell_type": "code",
   "execution_count": 206,
   "id": "ee81a721",
   "metadata": {},
   "outputs": [],
   "source": [
    "import sys\n",
    "import operator\n",
    "import math"
   ]
  },
  {
   "cell_type": "markdown",
   "id": "a1a4074f",
   "metadata": {},
   "source": [
    "# importing Libraries"
   ]
  },
  {
   "cell_type": "code",
   "execution_count": 200,
   "id": "79ef7b98",
   "metadata": {},
   "outputs": [
    {
     "name": "stdout",
     "output_type": "stream",
     "text": [
      "0\n"
     ]
    }
   ],
   "source": [
    "a = 0\n",
    "print(a)"
   ]
  },
  {
   "cell_type": "code",
   "execution_count": 204,
   "id": "cfdd4c3d",
   "metadata": {},
   "outputs": [
    {
     "name": "stdout",
     "output_type": "stream",
     "text": [
      "1\n"
     ]
    }
   ],
   "source": [
    "b = 1\n",
    "print(b)"
   ]
  },
  {
   "cell_type": "markdown",
   "id": "2c9c4d48",
   "metadata": {},
   "source": [
    "# assignment of values"
   ]
  },
  {
   "cell_type": "code",
   "execution_count": 205,
   "id": "94d3a187",
   "metadata": {},
   "outputs": [],
   "source": [
    "c = a + b"
   ]
  },
  {
   "cell_type": "markdown",
   "id": "0972d46a",
   "metadata": {},
   "source": [
    "# trying to print by using print function, however, hangup in error\"ZeroDivisionError\""
   ]
  },
  {
   "cell_type": "code",
   "execution_count": 28,
   "id": "5590baec",
   "metadata": {},
   "outputs": [
    {
     "ename": "ZeroDivisionError",
     "evalue": "division by zero",
     "output_type": "error",
     "traceback": [
      "\u001b[1;31m---------------------------------------------------------------------------\u001b[0m",
      "\u001b[1;31mZeroDivisionError\u001b[0m                         Traceback (most recent call last)",
      "Cell \u001b[1;32mIn[28], line 1\u001b[0m\n\u001b[1;32m----> 1\u001b[0m \u001b[38;5;28mprint\u001b[39m(b\u001b[38;5;241m/\u001b[39ma)\n\u001b[0;32m      2\u001b[0m \u001b[38;5;28mprint\u001b[39m(a\u001b[38;5;241m-\u001b[39mb)\n\u001b[0;32m      3\u001b[0m \u001b[38;5;28mprint\u001b[39m(a\u001b[38;5;241m+\u001b[39mb)\n",
      "\u001b[1;31mZeroDivisionError\u001b[0m: division by zero"
     ]
    }
   ],
   "source": [
    "print(b/a)\n",
    "print(a-b)\n",
    "print(a+b)\n",
    "print(a*b)"
   ]
  },
  {
   "cell_type": "code",
   "execution_count": 29,
   "id": "60d31b69",
   "metadata": {},
   "outputs": [
    {
     "ename": "ZeroDivisionError",
     "evalue": "division by zero",
     "output_type": "error",
     "traceback": [
      "\u001b[1;31m---------------------------------------------------------------------------\u001b[0m",
      "\u001b[1;31mZeroDivisionError\u001b[0m                         Traceback (most recent call last)",
      "Cell \u001b[1;32mIn[29], line 1\u001b[0m\n\u001b[1;32m----> 1\u001b[0m \u001b[38;5;28mprint\u001b[39m(b\u001b[38;5;241m/\u001b[39ma)\n\u001b[0;32m      2\u001b[0m \u001b[38;5;28mprint\u001b[39m(a\u001b[38;5;241m-\u001b[39mb)\n\u001b[0;32m      3\u001b[0m \u001b[38;5;28mprint\u001b[39m(a\u001b[38;5;241m+\u001b[39mb)\n",
      "\u001b[1;31mZeroDivisionError\u001b[0m: division by zero"
     ]
    }
   ],
   "source": [
    "print(b/a)\n",
    "print(a-b)\n",
    "print(a+b)\n",
    "print(a*b)"
   ]
  },
  {
   "cell_type": "markdown",
   "id": "06b55947",
   "metadata": {},
   "source": [
    "# trying to improvise code by using try, except and finally keyword which is called exception handling in python."
   ]
  },
  {
   "cell_type": "code",
   "execution_count": 212,
   "id": "08141aff",
   "metadata": {},
   "outputs": [
    {
     "name": "stdout",
     "output_type": "stream",
     "text": [
      "Zero Division error buddy\n",
      "-1\n",
      "1\n",
      "0\n"
     ]
    }
   ],
   "source": [
    "try:\n",
    "    print(b/a)\n",
    "except:\n",
    "    print('Zero Division error buddy')\n",
    "finally:\n",
    "    print(a-b)\n",
    "    print(a+b)\n",
    "    print(a*b)"
   ]
  },
  {
   "cell_type": "code",
   "execution_count": 39,
   "id": "0bc54dcc",
   "metadata": {},
   "outputs": [
    {
     "name": "stdout",
     "output_type": "stream",
     "text": [
      "Zero Division error buddy\n"
     ]
    }
   ],
   "source": [
    "try:\n",
    "    print(b/a)\n",
    "except:\n",
    "    print('Zero Division error buddy')\n",
    "#     print(a-b)\n",
    "#     print(a+b)\n",
    "#     print(a*b)"
   ]
  },
  {
   "cell_type": "code",
   "execution_count": 207,
   "id": "7eda953e",
   "metadata": {},
   "outputs": [
    {
     "name": "stdout",
     "output_type": "stream",
     "text": [
      "Zero Division error buddy\n",
      "-1\n",
      "1\n",
      "0\n"
     ]
    }
   ],
   "source": [
    "try:\n",
    "    print(b/a)\n",
    "except:\n",
    "    print('Zero Division error buddy')\n",
    "    print(a-b)\n",
    "    print(a+b)\n",
    "    print(a*b)"
   ]
  },
  {
   "cell_type": "code",
   "execution_count": 186,
   "id": "e61c725b",
   "metadata": {},
   "outputs": [
    {
     "name": "stdout",
     "output_type": "stream",
     "text": [
      "Not square root\n",
      "Enter valid number\n",
      "program executed\n"
     ]
    }
   ],
   "source": [
    "try:\n",
    "    A = math.sqrt(1000000) \n",
    "    if A<110:\n",
    "        print(\"sqaure root is:\", A)\n",
    "    else:\n",
    "        print(\"Not square root\")\n",
    "        print(\"Enter valid number\")\n",
    "except:\n",
    "    print(\"Mistake\")\n",
    "finally:\n",
    "    print('program executed')\n"
   ]
  },
  {
   "cell_type": "code",
   "execution_count": 208,
   "id": "1eccc4bf",
   "metadata": {},
   "outputs": [
    {
     "name": "stdout",
     "output_type": "stream",
     "text": [
      "Mistake\n",
      "program executed\n"
     ]
    }
   ],
   "source": [
    "try:\n",
    "    A = math.sqrt('shikha') \n",
    "    if A<110:\n",
    "        print(\"sqaure root is:\", A)\n",
    "    else:\n",
    "        print(\"Not square root\")\n",
    "        print(\"Enter valid number\")\n",
    "except:\n",
    "    print(\"Mistake\")\n",
    "finally:\n",
    "    print('program executed')\n"
   ]
  },
  {
   "cell_type": "markdown",
   "id": "4a60b45d",
   "metadata": {},
   "source": [
    "#### Here Except will work because we are passing string value which is highly imposible for square root"
   ]
  },
  {
   "cell_type": "code",
   "execution_count": 77,
   "id": "5bff136b",
   "metadata": {},
   "outputs": [
    {
     "name": "stdout",
     "output_type": "stream",
     "text": [
      "enter valid number\n",
      "program executed\n"
     ]
    }
   ],
   "source": [
    "try:\n",
    "    A = math.sqrt(134200) \n",
    "    if A<110:\n",
    "        print(\"sqaure root is:\", A)\n",
    "    else:\n",
    "        print(\"enter valid number\")\n",
    "except:\n",
    "        print(\"Mistake\")\n",
    "finally:\n",
    "    print('program executed')"
   ]
  },
  {
   "cell_type": "code",
   "execution_count": 100,
   "id": "54ac0074",
   "metadata": {},
   "outputs": [
    {
     "name": "stdout",
     "output_type": "stream",
     "text": [
      "Enter correct value\n",
      "program executed\n"
     ]
    }
   ],
   "source": [
    "try:\n",
    "    A = math.sqrt(134200) \n",
    "    if A<110:\n",
    "        print(\"sqaure root is:\", A)\n",
    "    else:\n",
    "        print(\"Enter correct value\")\n",
    "except:\n",
    "        print(\"enter valid number\")\n",
    "        print(\"Mistake\")\n",
    "finally:\n",
    "    print('program executed')"
   ]
  },
  {
   "cell_type": "code",
   "execution_count": 140,
   "id": "4557f421",
   "metadata": {},
   "outputs": [
    {
     "name": "stdout",
     "output_type": "stream",
     "text": [
      "Number is positive\n"
     ]
    }
   ],
   "source": [
    "try:\n",
    "    num = 56\n",
    "    if num > 60:\n",
    "        print(\"Number is positive\")\n",
    "    else:\n",
    "        print(\"Number is non-positive\")\n",
    "except:\n",
    "    print(\"Please enter a valid number.\")"
   ]
  },
  {
   "cell_type": "markdown",
   "id": "30e18ea2",
   "metadata": {},
   "source": [
    "###### Why Except Block not working because try block is executing completely"
   ]
  },
  {
   "cell_type": "code",
   "execution_count": 141,
   "id": "8c308f87",
   "metadata": {},
   "outputs": [
    {
     "name": "stdout",
     "output_type": "stream",
     "text": [
      "Error: cannot add an int and a str\n"
     ]
    }
   ],
   "source": [
    "x = 5\n",
    "y = \"hello\"\n",
    "try:\n",
    "    z = x + y\n",
    "except TypeError:\n",
    "    print(\"Error: cannot add an int and a str\")"
   ]
  },
  {
   "cell_type": "code",
   "execution_count": 142,
   "id": "7d71737e",
   "metadata": {},
   "outputs": [
    {
     "ename": "SyntaxError",
     "evalue": "incomplete input (2005127117.py, line 4)",
     "output_type": "error",
     "traceback": [
      "\u001b[1;36m  Cell \u001b[1;32mIn[142], line 4\u001b[1;36m\u001b[0m\n\u001b[1;33m    z = x + y\u001b[0m\n\u001b[1;37m             ^\u001b[0m\n\u001b[1;31mSyntaxError\u001b[0m\u001b[1;31m:\u001b[0m incomplete input\n"
     ]
    }
   ],
   "source": [
    "x = 5\n",
    "y = \"hello\"\n",
    "try:\n",
    "    z = x + y"
   ]
  },
  {
   "cell_type": "code",
   "execution_count": 143,
   "id": "b707d4af",
   "metadata": {},
   "outputs": [
    {
     "ename": "TypeError",
     "evalue": "unsupported operand type(s) for +: 'int' and 'str'",
     "output_type": "error",
     "traceback": [
      "\u001b[1;31m---------------------------------------------------------------------------\u001b[0m",
      "\u001b[1;31mTypeError\u001b[0m                                 Traceback (most recent call last)",
      "Cell \u001b[1;32mIn[143], line 3\u001b[0m\n\u001b[0;32m      1\u001b[0m x \u001b[38;5;241m=\u001b[39m \u001b[38;5;241m5\u001b[39m\n\u001b[0;32m      2\u001b[0m y \u001b[38;5;241m=\u001b[39m \u001b[38;5;124m\"\u001b[39m\u001b[38;5;124mhello\u001b[39m\u001b[38;5;124m\"\u001b[39m\n\u001b[1;32m----> 3\u001b[0m z \u001b[38;5;241m=\u001b[39m x \u001b[38;5;241m+\u001b[39m y\n",
      "\u001b[1;31mTypeError\u001b[0m: unsupported operand type(s) for +: 'int' and 'str'"
     ]
    }
   ],
   "source": [
    "x = 5\n",
    "y = \"hello\"\n",
    "z = x + y\n"
   ]
  },
  {
   "cell_type": "code",
   "execution_count": 144,
   "id": "22372015",
   "metadata": {},
   "outputs": [
    {
     "name": "stdout",
     "output_type": "stream",
     "text": [
      "Error: cannot add an int and a str\n"
     ]
    }
   ],
   "source": [
    "x = 5\n",
    "y = \"hello\"\n",
    "try:\n",
    "    z = x + y\n",
    "except:\n",
    "    print(\"Error: cannot add an int and a str\")"
   ]
  },
  {
   "cell_type": "code",
   "execution_count": 146,
   "id": "b1ecd410",
   "metadata": {},
   "outputs": [
    {
     "name": "stdout",
     "output_type": "stream",
     "text": [
      "Bug:Fix me by entering valid inputs\n",
      "Hope you understood\n"
     ]
    }
   ],
   "source": [
    "x = 89\n",
    "y = \"Shikha\"\n",
    "try:\n",
    "    s = x + y\n",
    "except:\n",
    "    print(\"Bug:Fix me by entering valid inputs\")\n",
    "finally:\n",
    "    print(\"Hope you understood\")"
   ]
  },
  {
   "cell_type": "markdown",
   "id": "6641bd02",
   "metadata": {},
   "source": [
    "# trying to understand the exception handling with some logics and concepts of String, Datatypes and Basic Array System."
   ]
  },
  {
   "cell_type": "code",
   "execution_count": 153,
   "id": "deaa18f3",
   "metadata": {},
   "outputs": [
    {
     "name": "stdout",
     "output_type": "stream",
     "text": [
      "Second element = 2\n",
      "Fourth element = 3\n"
     ]
    }
   ],
   "source": [
    "a = [1, 2, 3]\n",
    "try: \n",
    "    print (\"Second element = %d\" %(a[1]))\n",
    " \n",
    "    print (\"Fourth element = %d\" %(a[2]))\n",
    " \n",
    "except:\n",
    "    print (\"An error occurred\")"
   ]
  },
  {
   "cell_type": "code",
   "execution_count": 154,
   "id": "be5e0543",
   "metadata": {},
   "outputs": [
    {
     "name": "stdout",
     "output_type": "stream",
     "text": [
      "Second element = 2\n",
      "An error occurred\n"
     ]
    }
   ],
   "source": [
    "a = [1, 2, 3]\n",
    "try: \n",
    "    print (\"Second element = %d\" %(a[1]))\n",
    " \n",
    "    print (\"Fourth element = %d\" %(a[4]))\n",
    " \n",
    "except:\n",
    "    print (\"An error occurred\")"
   ]
  },
  {
   "cell_type": "markdown",
   "id": "1ac7fd52",
   "metadata": {},
   "source": [
    "# trying to match the condition by using exception handling and Operators(==, conditions(basic if-else))"
   ]
  },
  {
   "cell_type": "code",
   "execution_count": 166,
   "id": "0219fc80",
   "metadata": {},
   "outputs": [
    {
     "name": "stdout",
     "output_type": "stream",
     "text": [
      "invalid\n"
     ]
    }
   ],
   "source": [
    "sh = 90\n",
    "aa = 98\n",
    "ma = 34\n",
    "ga = 89\n",
    "an = 90\n",
    "try:\n",
    "    if sh == ga:\n",
    "        print(\"match\")\n",
    "    else:\n",
    "        print(\"invalid\")\n",
    "except:\n",
    "    print(\"not matched\")"
   ]
  },
  {
   "cell_type": "markdown",
   "id": "31098cd8",
   "metadata": {},
   "source": [
    "# trying to check \">\" condition by using exception handling."
   ]
  },
  {
   "cell_type": "code",
   "execution_count": 172,
   "id": "b2fc673b",
   "metadata": {},
   "outputs": [
    {
     "name": "stdout",
     "output_type": "stream",
     "text": [
      "enter valid inputs\n"
     ]
    }
   ],
   "source": [
    "sh = 'shikha'\n",
    "aa = 98\n",
    "ma = 34\n",
    "ga = 89\n",
    "an = 90\n",
    "try:\n",
    "    sh > ga\n",
    "    print(\"match\")\n",
    "except:\n",
    "    print(\"enter valid inputs\")"
   ]
  },
  {
   "cell_type": "markdown",
   "id": "750f5dca",
   "metadata": {},
   "source": [
    "# trying to add two String and executing except block."
   ]
  },
  {
   "cell_type": "code",
   "execution_count": 175,
   "id": "e411d01c",
   "metadata": {},
   "outputs": [
    {
     "name": "stdout",
     "output_type": "stream",
     "text": [
      "enter valid inputs\n"
     ]
    }
   ],
   "source": [
    "sh = 'shikha'\n",
    "aa = 98\n",
    "ma = 34\n",
    "ga = 'Navneet'\n",
    "an = 90\n",
    "try:\n",
    "    sh + ma\n",
    "    print(\"match\")\n",
    "except:\n",
    "    print(\"enter valid inputs\")"
   ]
  },
  {
   "cell_type": "code",
   "execution_count": 176,
   "id": "a2e900c0",
   "metadata": {},
   "outputs": [
    {
     "name": "stdout",
     "output_type": "stream",
     "text": [
      "can be added\n"
     ]
    }
   ],
   "source": [
    "sh = 'shikha'\n",
    "aa = 98\n",
    "ma = 34\n",
    "ga = 99\n",
    "an = 90\n",
    "try:\n",
    "    aa + ga\n",
    "    print(\"can be added\")\n",
    "except:\n",
    "    print(\"enter valid inputs\")"
   ]
  },
  {
   "cell_type": "code",
   "execution_count": 177,
   "id": "4aff05e5",
   "metadata": {},
   "outputs": [
    {
     "name": "stdout",
     "output_type": "stream",
     "text": [
      "enter valid inputs\n"
     ]
    }
   ],
   "source": [
    "sh = 'shikha'\n",
    "aa = 98\n",
    "ma = 34\n",
    "ga = 99\n",
    "an = 90\n",
    "try:\n",
    "    sh + ga\n",
    "    print(\"can be added\")\n",
    "except:\n",
    "    print(\"enter valid inputs\")"
   ]
  },
  {
   "cell_type": "markdown",
   "id": "70be5cc2",
   "metadata": {},
   "source": [
    "# trying to understand Exception handling by adding Data Types."
   ]
  },
  {
   "cell_type": "code",
   "execution_count": 183,
   "id": "1c548986",
   "metadata": {},
   "outputs": [
    {
     "name": "stdout",
     "output_type": "stream",
     "text": [
      "possible\n"
     ]
    }
   ],
   "source": [
    "shikha_int = 23\n",
    "shikha_float = 10.07\n",
    "shikha_bool = True\n",
    "shikha_complex = 2+9j\n",
    "shikha_string = 'kushwaha'\n",
    "try:\n",
    "    shikha_int + shikha_float\n",
    "    print(\"possible\")\n",
    "except:\n",
    "    print(\"Not Possible\")\n"
   ]
  },
  {
   "cell_type": "code",
   "execution_count": 184,
   "id": "240f220a",
   "metadata": {},
   "outputs": [
    {
     "name": "stdout",
     "output_type": "stream",
     "text": [
      "Not Possible\n"
     ]
    }
   ],
   "source": [
    "shikha_int = 23\n",
    "shikha_float = 10.07\n",
    "shikha_bool = True\n",
    "shikha_complex = 2+9j\n",
    "shikha_string = 'kushwaha'\n",
    "try:\n",
    "    shikha_int + shikha_string\n",
    "    print(\"possible\")\n",
    "except:\n",
    "    print(\"Not Possible\")\n"
   ]
  },
  {
   "cell_type": "code",
   "execution_count": 185,
   "id": "5262b2c5",
   "metadata": {},
   "outputs": [
    {
     "name": "stdout",
     "output_type": "stream",
     "text": [
      "possible\n"
     ]
    }
   ],
   "source": [
    "shikha_int = 'navneet'\n",
    "shikha_float = 10.07\n",
    "shikha_bool = True\n",
    "shikha_complex = 2+9j\n",
    "shikha_string = 'kushwaha'\n",
    "try:\n",
    "    shikha_int + shikha_string\n",
    "    print(\"possible\")\n",
    "except:\n",
    "    print(\"Not Possible\")\n"
   ]
  },
  {
   "cell_type": "markdown",
   "id": "cca7e611",
   "metadata": {},
   "source": []
  }
 ],
 "metadata": {
  "kernelspec": {
   "display_name": "Python 3 (ipykernel)",
   "language": "python",
   "name": "python3"
  },
  "language_info": {
   "codemirror_mode": {
    "name": "ipython",
    "version": 3
   },
   "file_extension": ".py",
   "mimetype": "text/x-python",
   "name": "python",
   "nbconvert_exporter": "python",
   "pygments_lexer": "ipython3",
   "version": "3.11.5"
  }
 },
 "nbformat": 4,
 "nbformat_minor": 5
}
