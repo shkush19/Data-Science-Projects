{
 "cells": [
  {
   "cell_type": "markdown",
   "id": "a5f8c4aa-33e0-4219-b8ca-4e9d63a8b08a",
   "metadata": {},
   "source": [
    "# Python Basics\n",
    "\n",
    "#Interpreter\n",
    "\n",
    "*Translates program one statement at a time\n",
    "*Interpreter run every line item\n",
    "*Execut the single, partial line of code\n",
    "*Easy for programming\n",
    "\n",
    "#Compiler\n",
    "\n",
    "*Scans the entire program and translates it as a whole into machine code.\r",
    "*\n",
    "No execution if an error occurs*\r\n",
    "you can not fix the bug (debug) line by li\n",
    "\n",
    "However, Python is an integrated programming langauge.ne\n"
   ]
  },
  {
   "cell_type": "code",
   "execution_count": 1,
   "id": "1d730649-003f-4003-8db6-645690ad0fb0",
   "metadata": {},
   "outputs": [
    {
     "data": {
      "text/plain": [
       "12"
      ]
     },
     "execution_count": 1,
     "metadata": {},
     "output_type": "execute_result"
    }
   ],
   "source": [
    "4 + 8 #add"
   ]
  },
  {
   "cell_type": "code",
   "execution_count": 2,
   "id": "dea8ab2d-5910-4b9a-b3d8-64662cb016ff",
   "metadata": {},
   "outputs": [
    {
     "data": {
      "text/plain": [
       "-4"
      ]
     },
     "execution_count": 2,
     "metadata": {},
     "output_type": "execute_result"
    }
   ],
   "source": [
    "4-8 #Sub"
   ]
  },
  {
   "cell_type": "code",
   "execution_count": 3,
   "id": "f1a9cb2b-719f-4dfa-bab6-5d81ba595cdf",
   "metadata": {},
   "outputs": [
    {
     "data": {
      "text/plain": [
       "32"
      ]
     },
     "execution_count": 3,
     "metadata": {},
     "output_type": "execute_result"
    }
   ],
   "source": [
    "4*8 #mul"
   ]
  },
  {
   "cell_type": "code",
   "execution_count": 4,
   "id": "b6a5ec76-520c-489e-b213-6e77b002f671",
   "metadata": {},
   "outputs": [
    {
     "data": {
      "text/plain": [
       "0.5"
      ]
     },
     "execution_count": 4,
     "metadata": {},
     "output_type": "execute_result"
    }
   ],
   "source": [
    "4/8 #div"
   ]
  },
  {
   "cell_type": "code",
   "execution_count": 5,
   "id": "89447d32-a6ae-4f43-863f-f890a552c551",
   "metadata": {},
   "outputs": [
    {
     "data": {
      "text/plain": [
       "0"
      ]
     },
     "execution_count": 5,
     "metadata": {},
     "output_type": "execute_result"
    }
   ],
   "source": [
    "4//8 #int division"
   ]
  },
  {
   "cell_type": "code",
   "execution_count": 6,
   "id": "43b74bc9-e15c-4013-80f3-b7e1e5335c09",
   "metadata": {},
   "outputs": [
    {
     "data": {
      "text/plain": [
       "6"
      ]
     },
     "execution_count": 6,
     "metadata": {},
     "output_type": "execute_result"
    }
   ],
   "source": [
    "4-2+4"
   ]
  },
  {
   "cell_type": "code",
   "execution_count": 7,
   "id": "02e71b9c-47c3-46f0-ab2c-bb0a2742f663",
   "metadata": {},
   "outputs": [
    {
     "ename": "SyntaxError",
     "evalue": "invalid syntax (2081048256.py, line 1)",
     "output_type": "error",
     "traceback": [
      "\u001b[1;36m  Cell \u001b[1;32mIn[7], line 1\u001b[1;36m\u001b[0m\n\u001b[1;33m    9+4-  #error --incorrect syntax, here operand is needed for further calculation\u001b[0m\n\u001b[1;37m          ^\u001b[0m\n\u001b[1;31mSyntaxError\u001b[0m\u001b[1;31m:\u001b[0m invalid syntax\n"
     ]
    }
   ],
   "source": [
    "9+4-  #error --incorrect syntax, here operand is needed for further calculation"
   ]
  },
  {
   "cell_type": "code",
   "execution_count": 8,
   "id": "56dd40a6-0e18-4458-8e5e-3a49f725e9ea",
   "metadata": {},
   "outputs": [
    {
     "data": {
      "text/plain": [
       "12"
      ]
     },
     "execution_count": 8,
     "metadata": {},
     "output_type": "execute_result"
    }
   ],
   "source": [
    "9+4-1"
   ]
  },
  {
   "cell_type": "code",
   "execution_count": 9,
   "id": "15b95c64-2cf8-4281-80ff-4493a02fb78b",
   "metadata": {},
   "outputs": [
    {
     "data": {
      "text/plain": [
       "18"
      ]
     },
     "execution_count": 9,
     "metadata": {},
     "output_type": "execute_result"
    }
   ],
   "source": [
    "8+2*5 #Bodmass rule\n",
    "\n",
    "##Order-Bracker//Orders//Divide//multiply//add/sub"
   ]
  },
  {
   "cell_type": "code",
   "execution_count": 10,
   "id": "1195e890-26f0-46d8-ba44-78de95472d59",
   "metadata": {},
   "outputs": [
    {
     "data": {
      "text/plain": [
       "64"
      ]
     },
     "execution_count": 10,
     "metadata": {},
     "output_type": "execute_result"
    }
   ],
   "source": [
    "2*2*2*2*2*2 #Exponential"
   ]
  },
  {
   "cell_type": "code",
   "execution_count": 11,
   "id": "14d2b39f-3acd-4bff-a446-0d62a30fd6e4",
   "metadata": {},
   "outputs": [
    {
     "data": {
      "text/plain": [
       "343"
      ]
     },
     "execution_count": 11,
     "metadata": {},
     "output_type": "execute_result"
    }
   ],
   "source": [
    "7 **3"
   ]
  },
  {
   "cell_type": "code",
   "execution_count": 12,
   "id": "17ab5a43-98ea-4ace-b418-070beb54e015",
   "metadata": {},
   "outputs": [
    {
     "data": {
      "text/plain": [
       "0.875"
      ]
     },
     "execution_count": 12,
     "metadata": {},
     "output_type": "execute_result"
    }
   ],
   "source": [
    "7/8"
   ]
  },
  {
   "cell_type": "code",
   "execution_count": 13,
   "id": "ee75cf48-ba26-4d0d-87a4-a6facffb3b02",
   "metadata": {},
   "outputs": [
    {
     "data": {
      "text/plain": [
       "0"
      ]
     },
     "execution_count": 13,
     "metadata": {},
     "output_type": "execute_result"
    }
   ],
   "source": [
    "7//8"
   ]
  },
  {
   "cell_type": "code",
   "execution_count": 14,
   "id": "f7728efb-587a-4ec2-a3ae-df228612ffc1",
   "metadata": {},
   "outputs": [
    {
     "data": {
      "text/plain": [
       "0"
      ]
     },
     "execution_count": 14,
     "metadata": {},
     "output_type": "execute_result"
    }
   ],
   "source": [
    "16%8 #modulus"
   ]
  },
  {
   "cell_type": "code",
   "execution_count": 15,
   "id": "a020dcc8-12e8-4bb6-ba06-11a4b828bbd2",
   "metadata": {},
   "outputs": [
    {
     "data": {
      "text/plain": [
       "2"
      ]
     },
     "execution_count": 15,
     "metadata": {},
     "output_type": "execute_result"
    }
   ],
   "source": [
    "14%3\n",
    "\n",
    "#%% is not allowed"
   ]
  },
  {
   "cell_type": "code",
   "execution_count": 16,
   "id": "ab49b3d7-70fe-4a8d-a957-6b3408e45e44",
   "metadata": {},
   "outputs": [],
   "source": [
    "a,b,c,d,e = 98,98.45,'shikha',2+7j,True"
   ]
  },
  {
   "cell_type": "code",
   "execution_count": 17,
   "id": "0e0d01f3-6331-4b81-a8a1-b4100ab4a4f2",
   "metadata": {},
   "outputs": [
    {
     "data": {
      "text/plain": [
       "98"
      ]
     },
     "execution_count": 17,
     "metadata": {},
     "output_type": "execute_result"
    }
   ],
   "source": [
    "a"
   ]
  },
  {
   "cell_type": "code",
   "execution_count": 18,
   "id": "ce7b6a64-9a1f-4eee-ab96-2fec103f2f3d",
   "metadata": {},
   "outputs": [
    {
     "name": "stdout",
     "output_type": "stream",
     "text": [
      "98\n",
      "98.45\n",
      "shikha\n",
      "(2+7j)\n",
      "True\n"
     ]
    }
   ],
   "source": [
    "print(a)\n",
    "print(b)\n",
    "print(c)\n",
    "print(d)\n",
    "print(e)"
   ]
  },
  {
   "cell_type": "code",
   "execution_count": 20,
   "id": "07cbe3b8-1deb-4985-a1a8-a879663bc765",
   "metadata": {},
   "outputs": [
    {
     "name": "stdout",
     "output_type": "stream",
     "text": [
      "<class 'int'>\n",
      "<class 'float'>\n",
      "<class 'str'>\n",
      "<class 'complex'>\n",
      "<class 'bool'>\n"
     ]
    }
   ],
   "source": [
    "print(type(a))\n",
    "print(type(b))\n",
    "print(type(c))\n",
    "print(type(d))\n",
    "print(type(e))\n",
    "\n",
    "#3print the type of data which is available in the identifier"
   ]
  },
  {
   "cell_type": "code",
   "execution_count": 21,
   "id": "6151691a-4ba1-4ee0-8f32-9d5e8a082bfe",
   "metadata": {},
   "outputs": [
    {
     "data": {
      "text/plain": [
       "str"
      ]
     },
     "execution_count": 21,
     "metadata": {},
     "output_type": "execute_result"
    }
   ],
   "source": [
    "type(c)"
   ]
  },
  {
   "cell_type": "code",
   "execution_count": 22,
   "id": "913068dd-f9dd-4adb-ac12-1d8722b98d4a",
   "metadata": {},
   "outputs": [
    {
     "data": {
      "text/plain": [
       "'shikha'"
      ]
     },
     "execution_count": 22,
     "metadata": {},
     "output_type": "execute_result"
    }
   ],
   "source": [
    "c"
   ]
  },
  {
   "cell_type": "code",
   "execution_count": 24,
   "id": "0af0e963-d74f-4108-b9d5-130820b148f1",
   "metadata": {},
   "outputs": [
    {
     "name": "stdout",
     "output_type": "stream",
     "text": [
      "shikhakushwaha\n"
     ]
    }
   ],
   "source": [
    "print('shikhakushwaha')"
   ]
  },
  {
   "cell_type": "code",
   "execution_count": 25,
   "id": "515d550d-384d-49d0-94ad-9c1c2ef36948",
   "metadata": {},
   "outputs": [
    {
     "name": "stdout",
     "output_type": "stream",
     "text": [
      "shikha kushwaha\n"
     ]
    }
   ],
   "source": [
    "print('shikha kushwaha')"
   ]
  },
  {
   "cell_type": "code",
   "execution_count": 26,
   "id": "1ca7a8b6-de4d-4675-bda5-cc6b57edbdc4",
   "metadata": {},
   "outputs": [
    {
     "data": {
      "text/plain": [
       "'IT Department'"
      ]
     },
     "execution_count": 26,
     "metadata": {},
     "output_type": "execute_result"
    }
   ],
   "source": [
    "\"IT Department\""
   ]
  },
  {
   "cell_type": "code",
   "execution_count": 27,
   "id": "59588a48-58b1-4f77-a623-7c8730fd6613",
   "metadata": {},
   "outputs": [],
   "source": [
    "str = \"Modernization is an important part of our country\""
   ]
  },
  {
   "cell_type": "code",
   "execution_count": 28,
   "id": "0bd1a600-38d4-4553-b5d0-b17f1199c4e3",
   "metadata": {},
   "outputs": [
    {
     "data": {
      "text/plain": [
       "'Modernization is an important part of our country'"
      ]
     },
     "execution_count": 28,
     "metadata": {},
     "output_type": "execute_result"
    }
   ],
   "source": [
    "str"
   ]
  },
  {
   "cell_type": "code",
   "execution_count": 34,
   "id": "e1bc10a5-2f79-40dc-bfd8-9ec3992cfc29",
   "metadata": {},
   "outputs": [
    {
     "data": {
      "text/plain": [
       "12"
      ]
     },
     "execution_count": 34,
     "metadata": {},
     "output_type": "execute_result"
    }
   ],
   "source": [
    "a=3\n",
    "b=9\n",
    "c=a+b\n",
    "c"
   ]
  },
  {
   "cell_type": "code",
   "execution_count": 35,
   "id": "ae0b0b74-c39f-49ab-a923-cc3b3b7a5133",
   "metadata": {},
   "outputs": [
    {
     "data": {
      "text/plain": [
       "str"
      ]
     },
     "execution_count": 35,
     "metadata": {},
     "output_type": "execute_result"
    }
   ],
   "source": [
    "a=3\n",
    "b='Shikha'\n",
    "type(b)"
   ]
  },
  {
   "cell_type": "code",
   "execution_count": 42,
   "id": "a09597e8-91de-4ae2-971c-4206c0f08a30",
   "metadata": {},
   "outputs": [
    {
     "ename": "SyntaxError",
     "evalue": "invalid syntax. Perhaps you forgot a comma? (2103874056.py, line 1)",
     "output_type": "error",
     "traceback": [
      "\u001b[1;36m  Cell \u001b[1;32mIn[42], line 1\u001b[1;36m\u001b[0m\n\u001b[1;33m    print('it's 'Weekend') #'s is for new line, and its an error as for multiline we need to use\" \")\u001b[0m\n\u001b[1;37m          ^\u001b[0m\n\u001b[1;31mSyntaxError\u001b[0m\u001b[1;31m:\u001b[0m invalid syntax. Perhaps you forgot a comma?\n"
     ]
    }
   ],
   "source": [
    "print('it's 'Weekend') #'s is for new line, and its an error as for multiline we need to use\" \")"
   ]
  },
  {
   "cell_type": "code",
   "execution_count": 43,
   "id": "27f4cbda-c6f2-495a-abe6-45616df4a0bd",
   "metadata": {},
   "outputs": [
    {
     "name": "stdout",
     "output_type": "stream",
     "text": [
      "it's\"Weekend\"\n"
     ]
    }
   ],
   "source": [
    "print('it\\'s\"Weekend\"') # use \\s for bug free code"
   ]
  },
  {
   "cell_type": "code",
   "execution_count": 44,
   "id": "45d8ca4a-363c-430b-bd42-173d743b5571",
   "metadata": {},
   "outputs": [
    {
     "name": "stdout",
     "output_type": "stream",
     "text": [
      "it\\s Weekend\n"
     ]
    }
   ],
   "source": [
    "print('it\\s',   'Weekend')"
   ]
  },
  {
   "cell_type": "code",
   "execution_count": 46,
   "id": "efe96741-1fa7-4b6f-bacd-6ef76985cc07",
   "metadata": {},
   "outputs": [
    {
     "name": "stdout",
     "output_type": "stream",
     "text": [
      "it\\s',   'Weekend\n"
     ]
    }
   ],
   "source": [
    "print(\"it\\s',   'Weekend\")"
   ]
  },
  {
   "cell_type": "code",
   "execution_count": 47,
   "id": "7b094707-6ff4-4a72-95a1-698157d69ddb",
   "metadata": {},
   "outputs": [
    {
     "data": {
      "text/plain": [
       "'ShikhaShikha'"
      ]
     },
     "execution_count": 47,
     "metadata": {},
     "output_type": "execute_result"
    }
   ],
   "source": [
    "#print 'Shikha' 2 times\n",
    "'Shikha'+'Shikha'"
   ]
  },
  {
   "cell_type": "code",
   "execution_count": 48,
   "id": "9f20ba8d-5f77-448e-abea-d15627d4ed8c",
   "metadata": {},
   "outputs": [
    {
     "data": {
      "text/plain": [
       "'Shikha Shikha'"
      ]
     },
     "execution_count": 48,
     "metadata": {},
     "output_type": "execute_result"
    }
   ],
   "source": [
    "'Shikha'+' Shikha'"
   ]
  },
  {
   "cell_type": "code",
   "execution_count": 49,
   "id": "f2d0898f-cbfd-4832-8e5c-9a1e751c4370",
   "metadata": {},
   "outputs": [
    {
     "data": {
      "text/plain": [
       "'ShikhaShikhaShikhaShikhaShikhaShikhaShikha'"
      ]
     },
     "execution_count": 49,
     "metadata": {},
     "output_type": "execute_result"
    }
   ],
   "source": [
    "7*'Shikha'"
   ]
  },
  {
   "cell_type": "code",
   "execution_count": 50,
   "id": "fb75b93a-4aa9-40ea-8476-53141302009e",
   "metadata": {},
   "outputs": [
    {
     "data": {
      "text/plain": [
       "' Shikha Shikha Shikha Shikha Shikha Shikha Shikha'"
      ]
     },
     "execution_count": 50,
     "metadata": {},
     "output_type": "execute_result"
    }
   ],
   "source": [
    "7*' Shikha'"
   ]
  },
  {
   "cell_type": "code",
   "execution_count": 51,
   "id": "6b7f52b0-ba30-4129-8877-a55efb50dd2e",
   "metadata": {},
   "outputs": [
    {
     "name": "stdout",
     "output_type": "stream",
     "text": [
      "c:\\personal\n"
     ]
    }
   ],
   "source": [
    "print(r'c:\\personal')# r is for raw string"
   ]
  },
  {
   "cell_type": "code",
   "execution_count": 52,
   "id": "83dc10ab-86c7-4e64-9cb5-fa474b1bb09c",
   "metadata": {},
   "outputs": [
    {
     "data": {
      "text/plain": [
       "2"
      ]
     },
     "execution_count": 52,
     "metadata": {},
     "output_type": "execute_result"
    }
   ],
   "source": [
    "2"
   ]
  },
  {
   "cell_type": "code",
   "execution_count": 55,
   "id": "4d1f8d48-134e-4179-9bb1-ff76ff1c63ba",
   "metadata": {},
   "outputs": [
    {
     "data": {
      "text/plain": [
       "10"
      ]
     },
     "execution_count": 55,
     "metadata": {},
     "output_type": "execute_result"
    }
   ],
   "source": [
    "x=10\n",
    "x"
   ]
  },
  {
   "cell_type": "code",
   "execution_count": 56,
   "id": "3ce980ab-b399-498e-b96c-88492cee8041",
   "metadata": {},
   "outputs": [
    {
     "data": {
      "text/plain": [
       "18"
      ]
     },
     "execution_count": 56,
     "metadata": {},
     "output_type": "execute_result"
    }
   ],
   "source": [
    "x+8"
   ]
  },
  {
   "cell_type": "code",
   "execution_count": 57,
   "id": "b60e2354-c390-4c13-81f7-e179415e94b9",
   "metadata": {},
   "outputs": [
    {
     "data": {
      "text/plain": [
       "3"
      ]
     },
     "execution_count": 57,
     "metadata": {},
     "output_type": "execute_result"
    }
   ],
   "source": [
    "y=3\n",
    "y"
   ]
  },
  {
   "cell_type": "code",
   "execution_count": 58,
   "id": "d0df20a8-34ac-424a-a687-d41fe7610574",
   "metadata": {},
   "outputs": [
    {
     "data": {
      "text/plain": [
       "13"
      ]
     },
     "execution_count": 58,
     "metadata": {},
     "output_type": "execute_result"
    }
   ],
   "source": [
    "x + y"
   ]
  },
  {
   "cell_type": "code",
   "execution_count": 59,
   "id": "c7fde000-bc9a-4250-9ef2-338d0c808e71",
   "metadata": {},
   "outputs": [
    {
     "data": {
      "text/plain": [
       "4"
      ]
     },
     "execution_count": 59,
     "metadata": {},
     "output_type": "execute_result"
    }
   ],
   "source": [
    "x=4\n",
    "x"
   ]
  },
  {
   "cell_type": "code",
   "execution_count": 60,
   "id": "a6a49f1a-c9ce-442a-a376-91193de09f9c",
   "metadata": {},
   "outputs": [
    {
     "data": {
      "text/plain": [
       "7"
      ]
     },
     "execution_count": 60,
     "metadata": {},
     "output_type": "execute_result"
    }
   ],
   "source": [
    "x+y"
   ]
  },
  {
   "cell_type": "code",
   "execution_count": 61,
   "id": "81d1f6d3-294b-4f85-b42b-03d60be0177c",
   "metadata": {},
   "outputs": [
    {
     "data": {
      "text/plain": [
       "13"
      ]
     },
     "execution_count": 61,
     "metadata": {},
     "output_type": "execute_result"
    }
   ],
   "source": [
    "x+9"
   ]
  },
  {
   "cell_type": "code",
   "execution_count": 62,
   "id": "ab6bfeff-bf01-4402-8c54-d8c1c3caf7fc",
   "metadata": {},
   "outputs": [
    {
     "data": {
      "text/plain": [
       "16"
      ]
     },
     "execution_count": 62,
     "metadata": {},
     "output_type": "execute_result"
    }
   ],
   "source": [
    "_+y"
   ]
  },
  {
   "cell_type": "code",
   "execution_count": 63,
   "id": "c8e82724-31be-407f-b6ab-fe7881f178ef",
   "metadata": {},
   "outputs": [
    {
     "data": {
      "text/plain": [
       "23"
      ]
     },
     "execution_count": 63,
     "metadata": {},
     "output_type": "execute_result"
    }
   ],
   "source": [
    "_+7"
   ]
  },
  {
   "cell_type": "code",
   "execution_count": 64,
   "id": "69675e5e-cc10-4492-98c8-7e9ca6c50ae9",
   "metadata": {},
   "outputs": [
    {
     "data": {
      "text/plain": [
       "'navneet'"
      ]
     },
     "execution_count": 64,
     "metadata": {},
     "output_type": "execute_result"
    }
   ],
   "source": [
    "na='navneet'\n",
    "na"
   ]
  },
  {
   "cell_type": "code",
   "execution_count": 65,
   "id": "4addff8b-c8e9-4df5-8393-a6260d8c0c77",
   "metadata": {},
   "outputs": [
    {
     "data": {
      "text/plain": [
       "'navneet'"
      ]
     },
     "execution_count": 65,
     "metadata": {},
     "output_type": "execute_result"
    }
   ],
   "source": [
    "na"
   ]
  },
  {
   "cell_type": "code",
   "execution_count": 66,
   "id": "a3c09ef1-9933-4c72-85d0-1ee23833fd1b",
   "metadata": {},
   "outputs": [
    {
     "data": {
      "text/plain": [
       "'navneetkushwaha'"
      ]
     },
     "execution_count": 66,
     "metadata": {},
     "output_type": "execute_result"
    }
   ],
   "source": [
    "na+'kushwaha'"
   ]
  },
  {
   "cell_type": "code",
   "execution_count": 67,
   "id": "29d35ff4-a966-4ebc-bac7-d2460a22687e",
   "metadata": {},
   "outputs": [
    {
     "data": {
      "text/plain": [
       "'navneet kushwaha'"
      ]
     },
     "execution_count": 67,
     "metadata": {},
     "output_type": "execute_result"
    }
   ],
   "source": [
    "na+' kushwaha'"
   ]
  },
  {
   "cell_type": "code",
   "execution_count": 68,
   "id": "3ccecedf-3278-4d4d-a2e5-5934b35b2544",
   "metadata": {},
   "outputs": [
    {
     "data": {
      "text/plain": [
       "'navneet'"
      ]
     },
     "execution_count": 68,
     "metadata": {},
     "output_type": "execute_result"
    }
   ],
   "source": [
    "na"
   ]
  },
  {
   "cell_type": "code",
   "execution_count": 69,
   "id": "dee6f9cc-a3c5-48f3-aacd-84fb3f1fa366",
   "metadata": {},
   "outputs": [
    {
     "data": {
      "text/plain": [
       "7"
      ]
     },
     "execution_count": 69,
     "metadata": {},
     "output_type": "execute_result"
    }
   ],
   "source": [
    "len(na)"
   ]
  },
  {
   "cell_type": "code",
   "execution_count": 70,
   "id": "9340e20d-fc85-47b1-8ed8-27ecf2810d3a",
   "metadata": {},
   "outputs": [
    {
     "data": {
      "text/plain": [
       "'a'"
      ]
     },
     "execution_count": 70,
     "metadata": {},
     "output_type": "execute_result"
    }
   ],
   "source": [
    "na[1]"
   ]
  },
  {
   "cell_type": "code",
   "execution_count": 71,
   "id": "a19234a4-9b80-47e7-a6e3-5248836071fc",
   "metadata": {},
   "outputs": [
    {
     "data": {
      "text/plain": [
       "'t'"
      ]
     },
     "execution_count": 71,
     "metadata": {},
     "output_type": "execute_result"
    }
   ],
   "source": [
    "na[6]"
   ]
  },
  {
   "cell_type": "code",
   "execution_count": 72,
   "id": "5095947d-e46d-4168-ab8e-d20ed5be7be2",
   "metadata": {},
   "outputs": [
    {
     "data": {
      "text/plain": [
       "'e'"
      ]
     },
     "execution_count": 72,
     "metadata": {},
     "output_type": "execute_result"
    }
   ],
   "source": [
    "na[-3]"
   ]
  },
  {
   "cell_type": "code",
   "execution_count": 73,
   "id": "f6b868ca-9019-4111-9e87-6273325774ff",
   "metadata": {},
   "outputs": [
    {
     "data": {
      "text/plain": [
       "'a'"
      ]
     },
     "execution_count": 73,
     "metadata": {},
     "output_type": "execute_result"
    }
   ],
   "source": [
    "na[-6]"
   ]
  },
  {
   "cell_type": "markdown",
   "id": "d0d4d29f-c969-40fc-b066-e57d4a84b941",
   "metadata": {},
   "source": [
    "###### Slicing"
   ]
  },
  {
   "cell_type": "code",
   "execution_count": 74,
   "id": "9e4d6487-c7b2-496d-b617-f2c0a459ba1d",
   "metadata": {},
   "outputs": [
    {
     "data": {
      "text/plain": [
       "'ne'"
      ]
     },
     "execution_count": 74,
     "metadata": {},
     "output_type": "execute_result"
    }
   ],
   "source": [
    "na[3:5]"
   ]
  },
  {
   "cell_type": "code",
   "execution_count": 76,
   "id": "2c6e1056-15c1-41dd-8e36-c21e10e488ed",
   "metadata": {},
   "outputs": [
    {
     "data": {
      "text/plain": [
       "'et'"
      ]
     },
     "execution_count": 76,
     "metadata": {},
     "output_type": "execute_result"
    }
   ],
   "source": [
    "na[5:7]"
   ]
  },
  {
   "cell_type": "code",
   "execution_count": 77,
   "id": "2ef6b400-0111-4851-8ee3-3278f7e7210f",
   "metadata": {},
   "outputs": [
    {
     "data": {
      "text/plain": [
       "'avn'"
      ]
     },
     "execution_count": 77,
     "metadata": {},
     "output_type": "execute_result"
    }
   ],
   "source": [
    "na[1:4]"
   ]
  },
  {
   "cell_type": "code",
   "execution_count": 78,
   "id": "010c2de6-11d2-48e4-8bc2-8b4f550033f2",
   "metadata": {},
   "outputs": [
    {
     "data": {
      "text/plain": [
       "'vneet'"
      ]
     },
     "execution_count": 78,
     "metadata": {},
     "output_type": "execute_result"
    }
   ],
   "source": [
    "na[2:]"
   ]
  },
  {
   "cell_type": "code",
   "execution_count": 79,
   "id": "1910dcb4-d874-4a5f-a772-5aff13d46df8",
   "metadata": {},
   "outputs": [
    {
     "data": {
      "text/plain": [
       "'navn'"
      ]
     },
     "execution_count": 79,
     "metadata": {},
     "output_type": "execute_result"
    }
   ],
   "source": [
    "na[:4]"
   ]
  },
  {
   "cell_type": "code",
   "execution_count": 81,
   "id": "643f272b-35e1-4945-ac87-ffb1e82694f9",
   "metadata": {},
   "outputs": [
    {
     "data": {
      "text/plain": [
       "'eet'"
      ]
     },
     "execution_count": 81,
     "metadata": {},
     "output_type": "execute_result"
    }
   ],
   "source": [
    "na[4:9]"
   ]
  },
  {
   "cell_type": "code",
   "execution_count": 87,
   "id": "fb960b65-2239-45a8-9a65-28f0185ded03",
   "metadata": {},
   "outputs": [
    {
     "data": {
      "text/plain": [
       "'mug'"
      ]
     },
     "execution_count": 87,
     "metadata": {},
     "output_type": "execute_result"
    }
   ],
   "source": [
    "na1='mug'\n",
    "na1"
   ]
  },
  {
   "cell_type": "code",
   "execution_count": 83,
   "id": "5c9daec4-f573-41ed-82b3-b0f2b1b3b77b",
   "metadata": {},
   "outputs": [
    {
     "data": {
      "text/plain": [
       "'mu'"
      ]
     },
     "execution_count": 83,
     "metadata": {},
     "output_type": "execute_result"
    }
   ],
   "source": [
    "na1[0:2]"
   ]
  },
  {
   "cell_type": "code",
   "execution_count": 84,
   "id": "8d66363b-e755-4720-ba43-d798b76c34ac",
   "metadata": {},
   "outputs": [
    {
     "data": {
      "text/plain": [
       "'m'"
      ]
     },
     "execution_count": 84,
     "metadata": {},
     "output_type": "execute_result"
    }
   ],
   "source": [
    "na1[0:1]"
   ]
  },
  {
   "cell_type": "code",
   "execution_count": 88,
   "id": "cd473a3e-4750-43d6-8658-43dd4f566cf1",
   "metadata": {},
   "outputs": [
    {
     "ename": "TypeError",
     "evalue": "'str' object does not support item assignment",
     "output_type": "error",
     "traceback": [
      "\u001b[1;31m---------------------------------------------------------------------------\u001b[0m",
      "\u001b[1;31mTypeError\u001b[0m                                 Traceback (most recent call last)",
      "Cell \u001b[1;32mIn[88], line 1\u001b[0m\n\u001b[1;32m----> 1\u001b[0m na1[\u001b[38;5;241m0\u001b[39m:\u001b[38;5;241m1\u001b[39m] \u001b[38;5;241m=\u001b[39m \u001b[38;5;124m'\u001b[39m\u001b[38;5;124mj\u001b[39m\u001b[38;5;124m'\u001b[39m\n",
      "\u001b[1;31mTypeError\u001b[0m: 'str' object does not support item assignment"
     ]
    }
   ],
   "source": [
    "na1[0:1] = 'j'"
   ]
  },
  {
   "cell_type": "code",
   "execution_count": 89,
   "id": "6f10a7b4-06a1-4a09-9666-91952dcd6a03",
   "metadata": {},
   "outputs": [
    {
     "data": {
      "text/plain": [
       "'mug'"
      ]
     },
     "execution_count": 89,
     "metadata": {},
     "output_type": "execute_result"
    }
   ],
   "source": [
    "na1"
   ]
  },
  {
   "cell_type": "code",
   "execution_count": 90,
   "id": "5b837cc8-cbfb-4ce6-87a5-4fa85926c40e",
   "metadata": {},
   "outputs": [
    {
     "data": {
      "text/plain": [
       "'ug'"
      ]
     },
     "execution_count": 90,
     "metadata": {},
     "output_type": "execute_result"
    }
   ],
   "source": [
    "na1[1:]"
   ]
  },
  {
   "cell_type": "code",
   "execution_count": 91,
   "id": "372e3b57-716c-48ae-b7a9-af9dd086beb5",
   "metadata": {},
   "outputs": [
    {
     "data": {
      "text/plain": [
       "'jug'"
      ]
     },
     "execution_count": 91,
     "metadata": {},
     "output_type": "execute_result"
    }
   ],
   "source": [
    "'j' + na1[1:]"
   ]
  },
  {
   "cell_type": "code",
   "execution_count": 92,
   "id": "87afdce1-ef20-472e-b338-54a0b15e33c2",
   "metadata": {},
   "outputs": [
    {
     "data": {
      "text/plain": [
       "3"
      ]
     },
     "execution_count": 92,
     "metadata": {},
     "output_type": "execute_result"
    }
   ],
   "source": [
    "len(na1)"
   ]
  },
  {
   "cell_type": "markdown",
   "id": "cd766adc-4724-4c2a-b31d-3daadcdb6ba9",
   "metadata": {},
   "source": [
    "###### List"
   ]
  },
  {
   "cell_type": "code",
   "execution_count": 93,
   "id": "7d2f9b07-eebc-493c-8c87-2ee00926be42",
   "metadata": {},
   "outputs": [
    {
     "data": {
      "text/plain": [
       "[20, 40, 60]"
      ]
     },
     "execution_count": 93,
     "metadata": {},
     "output_type": "execute_result"
    }
   ],
   "source": [
    "li1 = [20,40,60]\n",
    "li1"
   ]
  },
  {
   "cell_type": "code",
   "execution_count": 94,
   "id": "f34483bb-507e-4ab3-b00d-22b4d6d76035",
   "metadata": {},
   "outputs": [
    {
     "data": {
      "text/plain": [
       "20"
      ]
     },
     "execution_count": 94,
     "metadata": {},
     "output_type": "execute_result"
    }
   ],
   "source": [
    "li1[0]"
   ]
  },
  {
   "cell_type": "code",
   "execution_count": 95,
   "id": "31f22a95-fae8-4d2b-ab93-0236608d347f",
   "metadata": {},
   "outputs": [
    {
     "data": {
      "text/plain": [
       "60"
      ]
     },
     "execution_count": 95,
     "metadata": {},
     "output_type": "execute_result"
    }
   ],
   "source": [
    "li1[2]"
   ]
  },
  {
   "cell_type": "code",
   "execution_count": 96,
   "id": "3cbbb80f-8a19-4e30-ac75-247a92789bc3",
   "metadata": {},
   "outputs": [
    {
     "data": {
      "text/plain": [
       "40"
      ]
     },
     "execution_count": 96,
     "metadata": {},
     "output_type": "execute_result"
    }
   ],
   "source": [
    "li1[-2]"
   ]
  },
  {
   "cell_type": "code",
   "execution_count": 97,
   "id": "b5c8315b-f0f7-4481-a5b3-34aed014e037",
   "metadata": {},
   "outputs": [
    {
     "data": {
      "text/plain": [
       "40"
      ]
     },
     "execution_count": 97,
     "metadata": {},
     "output_type": "execute_result"
    }
   ],
   "source": [
    "li1[--1]"
   ]
  },
  {
   "cell_type": "code",
   "execution_count": 98,
   "id": "c1bac552-c1f9-49f6-9050-3ec795ef782b",
   "metadata": {},
   "outputs": [
    {
     "data": {
      "text/plain": [
       "[]"
      ]
     },
     "execution_count": 98,
     "metadata": {},
     "output_type": "execute_result"
    }
   ],
   "source": [
    "li1[-1:-1]"
   ]
  },
  {
   "cell_type": "code",
   "execution_count": 99,
   "id": "9cda9320-2e20-411a-b406-43034677d600",
   "metadata": {},
   "outputs": [
    {
     "data": {
      "text/plain": [
       "[20, 40]"
      ]
     },
     "execution_count": 99,
     "metadata": {},
     "output_type": "execute_result"
    }
   ],
   "source": [
    "li1[:-1]"
   ]
  },
  {
   "cell_type": "code",
   "execution_count": 100,
   "id": "55363699-5b2f-45c0-b7b8-9a5c97175e59",
   "metadata": {},
   "outputs": [],
   "source": [
    "li1 = ['hello','hi']"
   ]
  },
  {
   "cell_type": "code",
   "execution_count": 101,
   "id": "eb3935b1-618d-48d5-8598-bba94ae85ce4",
   "metadata": {},
   "outputs": [
    {
     "data": {
      "text/plain": [
       "['hello', 'hi']"
      ]
     },
     "execution_count": 101,
     "metadata": {},
     "output_type": "execute_result"
    }
   ],
   "source": [
    "li1"
   ]
  },
  {
   "cell_type": "code",
   "execution_count": 102,
   "id": "f6769248-623e-46d9-a630-9587c6a005d8",
   "metadata": {},
   "outputs": [
    {
     "data": {
      "text/plain": [
       "[90, 80]"
      ]
     },
     "execution_count": 102,
     "metadata": {},
     "output_type": "execute_result"
    }
   ],
   "source": [
    "li2 = [90,80]\n",
    "li2"
   ]
  },
  {
   "cell_type": "code",
   "execution_count": 103,
   "id": "ce254ab0-9d38-459a-85bc-aa7c49c55638",
   "metadata": {},
   "outputs": [
    {
     "data": {
      "text/plain": [
       "['hello', 'hi', 90, 80]"
      ]
     },
     "execution_count": 103,
     "metadata": {},
     "output_type": "execute_result"
    }
   ],
   "source": [
    "li1 + li2"
   ]
  },
  {
   "cell_type": "code",
   "execution_count": 104,
   "id": "49202f83-070d-4824-b980-49a3858de484",
   "metadata": {},
   "outputs": [],
   "source": [
    "li3 = [li1,li2]"
   ]
  },
  {
   "cell_type": "code",
   "execution_count": 105,
   "id": "dc3e161c-7257-493c-ba7d-ba6508f5bd76",
   "metadata": {},
   "outputs": [
    {
     "data": {
      "text/plain": [
       "[['hello', 'hi'], [90, 80]]"
      ]
     },
     "execution_count": 105,
     "metadata": {},
     "output_type": "execute_result"
    }
   ],
   "source": [
    "li3"
   ]
  },
  {
   "cell_type": "code",
   "execution_count": 106,
   "id": "ee239126-98de-46fa-a61d-08f2bf070f2d",
   "metadata": {},
   "outputs": [
    {
     "data": {
      "text/plain": [
       "['hello', 'hi']"
      ]
     },
     "execution_count": 106,
     "metadata": {},
     "output_type": "execute_result"
    }
   ],
   "source": [
    "li3[0]"
   ]
  },
  {
   "cell_type": "code",
   "execution_count": 109,
   "id": "cd6b3345-5f9f-43bd-b96d-38758fc2b601",
   "metadata": {},
   "outputs": [],
   "source": [
    "li3.append(4)"
   ]
  },
  {
   "cell_type": "code",
   "execution_count": 110,
   "id": "10bd7e68-7092-4dd8-a0a9-de700bf7d115",
   "metadata": {},
   "outputs": [
    {
     "data": {
      "text/plain": [
       "[['hello', 'hi'], [90, 80], 4]"
      ]
     },
     "execution_count": 110,
     "metadata": {},
     "output_type": "execute_result"
    }
   ],
   "source": [
    "li3"
   ]
  },
  {
   "cell_type": "code",
   "execution_count": 111,
   "id": "c11e15aa-0208-4750-82d6-06beba764371",
   "metadata": {},
   "outputs": [],
   "source": [
    "li3.remove(4)"
   ]
  },
  {
   "cell_type": "code",
   "execution_count": 112,
   "id": "0433b1d1-4687-4f34-9d08-def7963bb403",
   "metadata": {},
   "outputs": [
    {
     "data": {
      "text/plain": [
       "[['hello', 'hi'], [90, 80]]"
      ]
     },
     "execution_count": 112,
     "metadata": {},
     "output_type": "execute_result"
    }
   ],
   "source": [
    "li3"
   ]
  },
  {
   "cell_type": "code",
   "execution_count": 113,
   "id": "fa10503f-9523-41b7-b218-0babb8813d84",
   "metadata": {},
   "outputs": [
    {
     "data": {
      "text/plain": [
       "['hello', 'hi']"
      ]
     },
     "execution_count": 113,
     "metadata": {},
     "output_type": "execute_result"
    }
   ],
   "source": [
    "li3.pop(0)"
   ]
  },
  {
   "cell_type": "code",
   "execution_count": 114,
   "id": "95639224-8d9d-4049-94ea-94b2b33c1263",
   "metadata": {},
   "outputs": [
    {
     "data": {
      "text/plain": [
       "[[90, 80]]"
      ]
     },
     "execution_count": 114,
     "metadata": {},
     "output_type": "execute_result"
    }
   ],
   "source": [
    "li3"
   ]
  },
  {
   "cell_type": "code",
   "execution_count": 117,
   "id": "74c2cb4f-a763-4b2f-8df4-b09c54ef48b0",
   "metadata": {},
   "outputs": [
    {
     "data": {
      "text/plain": [
       "['hello', 'hi', 'shikha', 'shikha']"
      ]
     },
     "execution_count": 117,
     "metadata": {},
     "output_type": "execute_result"
    }
   ],
   "source": [
    "li1.insert(5,'shikha')\n",
    "li1"
   ]
  },
  {
   "cell_type": "code",
   "execution_count": 118,
   "id": "6991518b-6f76-44a1-a7ee-3089e7bc12f4",
   "metadata": {},
   "outputs": [],
   "source": [
    "li2.insert(2,89)"
   ]
  },
  {
   "cell_type": "code",
   "execution_count": 119,
   "id": "303e676c-3bb8-49ef-a72a-9506dcb1dd6b",
   "metadata": {},
   "outputs": [
    {
     "data": {
      "text/plain": [
       "[90, 80, 89]"
      ]
     },
     "execution_count": 119,
     "metadata": {},
     "output_type": "execute_result"
    }
   ],
   "source": [
    "li2"
   ]
  },
  {
   "cell_type": "code",
   "execution_count": 120,
   "id": "7eb47b1c-5988-4aad-9208-a6e766216707",
   "metadata": {},
   "outputs": [],
   "source": [
    "li3.extend([7,1,'Kushwaha'])"
   ]
  },
  {
   "cell_type": "code",
   "execution_count": 121,
   "id": "21d3bdea-c488-45bd-8922-1a85ecb89c6d",
   "metadata": {},
   "outputs": [
    {
     "data": {
      "text/plain": [
       "[[90, 80, 89], 7, 1, 'Kushwaha']"
      ]
     },
     "execution_count": 121,
     "metadata": {},
     "output_type": "execute_result"
    }
   ],
   "source": [
    "li3 ## min function will not work because it has string values."
   ]
  },
  {
   "cell_type": "code",
   "execution_count": 123,
   "id": "d5013317-eaeb-4bb3-8a17-98d06e88f043",
   "metadata": {},
   "outputs": [
    {
     "data": {
      "text/plain": [
       "80"
      ]
     },
     "execution_count": 123,
     "metadata": {},
     "output_type": "execute_result"
    }
   ],
   "source": [
    "min(li2)"
   ]
  },
  {
   "cell_type": "code",
   "execution_count": 124,
   "id": "f0a4e44f-9ec4-492b-94fe-6263ff49c7f2",
   "metadata": {},
   "outputs": [
    {
     "data": {
      "text/plain": [
       "90"
      ]
     },
     "execution_count": 124,
     "metadata": {},
     "output_type": "execute_result"
    }
   ],
   "source": [
    "max(li2)"
   ]
  },
  {
   "cell_type": "code",
   "execution_count": 125,
   "id": "ad8655c2-85d8-4d9a-b0cf-9d5bb7a6a236",
   "metadata": {},
   "outputs": [],
   "source": [
    "li2.sort()"
   ]
  },
  {
   "cell_type": "code",
   "execution_count": 126,
   "id": "e0c600bf-5321-4fa8-9844-f87b4bdae8b8",
   "metadata": {},
   "outputs": [
    {
     "data": {
      "text/plain": [
       "[80, 89, 90]"
      ]
     },
     "execution_count": 126,
     "metadata": {},
     "output_type": "execute_result"
    }
   ],
   "source": [
    "li2"
   ]
  },
  {
   "cell_type": "code",
   "execution_count": 127,
   "id": "cfc354db-1c44-4918-a57f-3f7fd1495e6b",
   "metadata": {},
   "outputs": [
    {
     "data": {
      "text/plain": [
       "259"
      ]
     },
     "execution_count": 127,
     "metadata": {},
     "output_type": "execute_result"
    }
   ],
   "source": [
    "sum(li2)"
   ]
  },
  {
   "cell_type": "markdown",
   "id": "2c19eb37-eb9c-4342-af0e-2da662fae8df",
   "metadata": {},
   "source": [
    "#### Tuple"
   ]
  },
  {
   "cell_type": "code",
   "execution_count": 128,
   "id": "c3d7320e-e09c-4b9c-aeec-2cd6ac3f17bf",
   "metadata": {},
   "outputs": [
    {
     "data": {
      "text/plain": [
       "(55, 66, 77)"
      ]
     },
     "execution_count": 128,
     "metadata": {},
     "output_type": "execute_result"
    }
   ],
   "source": [
    "tup1 = (55,66,77)\n",
    "tup1"
   ]
  },
  {
   "cell_type": "code",
   "execution_count": 131,
   "id": "2b95b220-14f1-46bd-bb59-421a8a16698f",
   "metadata": {},
   "outputs": [
    {
     "data": {
      "text/plain": [
       "66"
      ]
     },
     "execution_count": 131,
     "metadata": {},
     "output_type": "execute_result"
    }
   ],
   "source": [
    "tup1[1]"
   ]
  },
  {
   "cell_type": "code",
   "execution_count": 132,
   "id": "d9875ba3-be2a-4b95-aa7c-f61b81d29dd0",
   "metadata": {},
   "outputs": [
    {
     "data": {
      "text/plain": [
       "77"
      ]
     },
     "execution_count": 132,
     "metadata": {},
     "output_type": "execute_result"
    }
   ],
   "source": [
    "tup1[2]"
   ]
  },
  {
   "cell_type": "markdown",
   "id": "5711bbd6-abd7-430c-ad06-ce68def54144",
   "metadata": {},
   "source": [
    "###### SET"
   ]
  },
  {
   "cell_type": "code",
   "execution_count": 133,
   "id": "fcaaab09-47f2-4210-aa04-303c692bec9b",
   "metadata": {},
   "outputs": [],
   "source": [
    "S={}"
   ]
  },
  {
   "cell_type": "code",
   "execution_count": 135,
   "id": "50bfc514-d93f-46cc-8eb0-9f009c451579",
   "metadata": {},
   "outputs": [
    {
     "data": {
      "text/plain": [
       "{40, 50, 60, 70}"
      ]
     },
     "execution_count": 135,
     "metadata": {},
     "output_type": "execute_result"
    }
   ],
   "source": [
    "S1 = {40,50,60,70}\n",
    "S1"
   ]
  },
  {
   "cell_type": "code",
   "execution_count": 136,
   "id": "55eb827f-d985-4842-9a51-11ca307004b6",
   "metadata": {},
   "outputs": [],
   "source": [
    "S2 = {70,20,'shikha',45}"
   ]
  },
  {
   "cell_type": "code",
   "execution_count": 137,
   "id": "bd795d20-5843-43e7-a965-397eb478a9b1",
   "metadata": {},
   "outputs": [
    {
     "data": {
      "text/plain": [
       "{20, 45, 70, 'shikha'}"
      ]
     },
     "execution_count": 137,
     "metadata": {},
     "output_type": "execute_result"
    }
   ],
   "source": [
    "S2"
   ]
  },
  {
   "cell_type": "code",
   "execution_count": 139,
   "id": "ae6d7c48-9b81-4bbc-9f47-4b0d3b0beac4",
   "metadata": {},
   "outputs": [
    {
     "data": {
      "text/plain": [
       "{20, 40, 45, 50, 60, 70, 'shikha'}"
      ]
     },
     "execution_count": 139,
     "metadata": {},
     "output_type": "execute_result"
    }
   ],
   "source": [
    "S2.union(S1)"
   ]
  },
  {
   "cell_type": "code",
   "execution_count": 140,
   "id": "e092451f-7d82-418c-8187-5c04479beb0a",
   "metadata": {},
   "outputs": [
    {
     "data": {
      "text/plain": [
       "{40, 50, 60}"
      ]
     },
     "execution_count": 140,
     "metadata": {},
     "output_type": "execute_result"
    }
   ],
   "source": [
    "S1.difference(S2)"
   ]
  },
  {
   "cell_type": "code",
   "execution_count": 141,
   "id": "a1b174b5-ee95-4dc6-accb-23660384f0d4",
   "metadata": {},
   "outputs": [
    {
     "data": {
      "text/plain": [
       "{70}"
      ]
     },
     "execution_count": 141,
     "metadata": {},
     "output_type": "execute_result"
    }
   ],
   "source": [
    "S1.intersection(S2)"
   ]
  },
  {
   "cell_type": "markdown",
   "id": "6bc77f27-2f52-457e-9350-f7767ff86b67",
   "metadata": {},
   "source": [
    "## DICTIONARY"
   ]
  },
  {
   "cell_type": "code",
   "execution_count": 142,
   "id": "fff9aa20-0079-43ab-890d-68a2f45b76fe",
   "metadata": {},
   "outputs": [],
   "source": [
    "D1 = {3:'Cherry',6:'Banana',9:'Mango'}"
   ]
  },
  {
   "cell_type": "code",
   "execution_count": 143,
   "id": "574da3a3-7728-49bb-af92-b66a61086651",
   "metadata": {},
   "outputs": [
    {
     "data": {
      "text/plain": [
       "{3: 'Cherry', 6: 'Banana', 9: 'Mango'}"
      ]
     },
     "execution_count": 143,
     "metadata": {},
     "output_type": "execute_result"
    }
   ],
   "source": [
    "D1"
   ]
  },
  {
   "cell_type": "code",
   "execution_count": 144,
   "id": "97503d37-f7d5-4433-94c8-39c15fab1c3c",
   "metadata": {},
   "outputs": [
    {
     "data": {
      "text/plain": [
       "'Cherry'"
      ]
     },
     "execution_count": 144,
     "metadata": {},
     "output_type": "execute_result"
    }
   ],
   "source": [
    "D1[3]"
   ]
  },
  {
   "cell_type": "code",
   "execution_count": 145,
   "id": "121a6099-84fd-42ce-80a4-a7952821e054",
   "metadata": {},
   "outputs": [
    {
     "ename": "KeyError",
     "evalue": "2",
     "output_type": "error",
     "traceback": [
      "\u001b[1;31m---------------------------------------------------------------------------\u001b[0m",
      "\u001b[1;31mKeyError\u001b[0m                                  Traceback (most recent call last)",
      "Cell \u001b[1;32mIn[145], line 1\u001b[0m\n\u001b[1;32m----> 1\u001b[0m D1[\u001b[38;5;241m2\u001b[39m]\n",
      "\u001b[1;31mKeyError\u001b[0m: 2"
     ]
    }
   ],
   "source": [
    "D1[2]"
   ]
  },
  {
   "cell_type": "code",
   "execution_count": 147,
   "id": "6ada5b94-e693-4d4e-ac6d-1fe18108b4ae",
   "metadata": {},
   "outputs": [
    {
     "ename": "KeyError",
     "evalue": "'Cherry'",
     "output_type": "error",
     "traceback": [
      "\u001b[1;31m---------------------------------------------------------------------------\u001b[0m",
      "\u001b[1;31mKeyError\u001b[0m                                  Traceback (most recent call last)",
      "Cell \u001b[1;32mIn[147], line 1\u001b[0m\n\u001b[1;32m----> 1\u001b[0m D1[\u001b[38;5;124m'\u001b[39m\u001b[38;5;124mCherry\u001b[39m\u001b[38;5;124m'\u001b[39m]\n",
      "\u001b[1;31mKeyError\u001b[0m: 'Cherry'"
     ]
    }
   ],
   "source": [
    "D1['Cherry']"
   ]
  },
  {
   "cell_type": "code",
   "execution_count": 149,
   "id": "622dbf36-f8a8-46d5-870a-a907484de2cb",
   "metadata": {},
   "outputs": [
    {
     "data": {
      "text/plain": [
       "'Mango'"
      ]
     },
     "execution_count": 149,
     "metadata": {},
     "output_type": "execute_result"
    }
   ],
   "source": [
    "D1.get(9)"
   ]
  },
  {
   "cell_type": "code",
   "execution_count": 150,
   "id": "84040bbe-6746-4fe3-b18b-0de641a24caa",
   "metadata": {},
   "outputs": [
    {
     "data": {
      "text/plain": [
       "'Cherry'"
      ]
     },
     "execution_count": 150,
     "metadata": {},
     "output_type": "execute_result"
    }
   ],
   "source": [
    "D1[3]"
   ]
  },
  {
   "cell_type": "code",
   "execution_count": 165,
   "id": "03b3aa9f-3ee1-4544-8443-d5d98f2811a3",
   "metadata": {},
   "outputs": [],
   "source": [
    "D = {'python':['vscode', 'pycharm'], 'machine learning' : 'sklearn', 'datascience':['jupyter','spyder'] }"
   ]
  },
  {
   "cell_type": "code",
   "execution_count": 166,
   "id": "08d77109-a262-4edc-bc50-d417204bf77d",
   "metadata": {},
   "outputs": [
    {
     "data": {
      "text/plain": [
       "{'python': ['vscode', 'pycharm'],\n",
       " 'machine learning': 'sklearn',\n",
       " 'datascience': ['jupyter', 'spyder']}"
      ]
     },
     "execution_count": 166,
     "metadata": {},
     "output_type": "execute_result"
    }
   ],
   "source": [
    "D"
   ]
  },
  {
   "cell_type": "code",
   "execution_count": 169,
   "id": "f6e6b729-5ef4-418a-9af9-7540449a620b",
   "metadata": {},
   "outputs": [
    {
     "data": {
      "text/plain": [
       "'sklearn'"
      ]
     },
     "execution_count": 169,
     "metadata": {},
     "output_type": "execute_result"
    }
   ],
   "source": [
    "D['machine learning']"
   ]
  },
  {
   "cell_type": "code",
   "execution_count": 170,
   "id": "3d33733c-76d2-46bb-98cb-c7ce50dcdc5e",
   "metadata": {},
   "outputs": [
    {
     "name": "stdout",
     "output_type": "stream",
     "text": [
      "Help on class list in module builtins:\n",
      "\n",
      "class list(object)\n",
      " |  list(iterable=(), /)\n",
      " |  \n",
      " |  Built-in mutable sequence.\n",
      " |  \n",
      " |  If no argument is given, the constructor creates a new empty list.\n",
      " |  The argument must be an iterable if specified.\n",
      " |  \n",
      " |  Methods defined here:\n",
      " |  \n",
      " |  __add__(self, value, /)\n",
      " |      Return self+value.\n",
      " |  \n",
      " |  __contains__(self, key, /)\n",
      " |      Return key in self.\n",
      " |  \n",
      " |  __delitem__(self, key, /)\n",
      " |      Delete self[key].\n",
      " |  \n",
      " |  __eq__(self, value, /)\n",
      " |      Return self==value.\n",
      " |  \n",
      " |  __ge__(self, value, /)\n",
      " |      Return self>=value.\n",
      " |  \n",
      " |  __getattribute__(self, name, /)\n",
      " |      Return getattr(self, name).\n",
      " |  \n",
      " |  __getitem__(...)\n",
      " |      x.__getitem__(y) <==> x[y]\n",
      " |  \n",
      " |  __gt__(self, value, /)\n",
      " |      Return self>value.\n",
      " |  \n",
      " |  __iadd__(self, value, /)\n",
      " |      Implement self+=value.\n",
      " |  \n",
      " |  __imul__(self, value, /)\n",
      " |      Implement self*=value.\n",
      " |  \n",
      " |  __init__(self, /, *args, **kwargs)\n",
      " |      Initialize self.  See help(type(self)) for accurate signature.\n",
      " |  \n",
      " |  __iter__(self, /)\n",
      " |      Implement iter(self).\n",
      " |  \n",
      " |  __le__(self, value, /)\n",
      " |      Return self<=value.\n",
      " |  \n",
      " |  __len__(self, /)\n",
      " |      Return len(self).\n",
      " |  \n",
      " |  __lt__(self, value, /)\n",
      " |      Return self<value.\n",
      " |  \n",
      " |  __mul__(self, value, /)\n",
      " |      Return self*value.\n",
      " |  \n",
      " |  __ne__(self, value, /)\n",
      " |      Return self!=value.\n",
      " |  \n",
      " |  __repr__(self, /)\n",
      " |      Return repr(self).\n",
      " |  \n",
      " |  __reversed__(self, /)\n",
      " |      Return a reverse iterator over the list.\n",
      " |  \n",
      " |  __rmul__(self, value, /)\n",
      " |      Return value*self.\n",
      " |  \n",
      " |  __setitem__(self, key, value, /)\n",
      " |      Set self[key] to value.\n",
      " |  \n",
      " |  __sizeof__(self, /)\n",
      " |      Return the size of the list in memory, in bytes.\n",
      " |  \n",
      " |  append(self, object, /)\n",
      " |      Append object to the end of the list.\n",
      " |  \n",
      " |  clear(self, /)\n",
      " |      Remove all items from list.\n",
      " |  \n",
      " |  copy(self, /)\n",
      " |      Return a shallow copy of the list.\n",
      " |  \n",
      " |  count(self, value, /)\n",
      " |      Return number of occurrences of value.\n",
      " |  \n",
      " |  extend(self, iterable, /)\n",
      " |      Extend list by appending elements from the iterable.\n",
      " |  \n",
      " |  index(self, value, start=0, stop=9223372036854775807, /)\n",
      " |      Return first index of value.\n",
      " |      \n",
      " |      Raises ValueError if the value is not present.\n",
      " |  \n",
      " |  insert(self, index, object, /)\n",
      " |      Insert object before index.\n",
      " |  \n",
      " |  pop(self, index=-1, /)\n",
      " |      Remove and return item at index (default last).\n",
      " |      \n",
      " |      Raises IndexError if list is empty or index is out of range.\n",
      " |  \n",
      " |  remove(self, value, /)\n",
      " |      Remove first occurrence of value.\n",
      " |      \n",
      " |      Raises ValueError if the value is not present.\n",
      " |  \n",
      " |  reverse(self, /)\n",
      " |      Reverse *IN PLACE*.\n",
      " |  \n",
      " |  sort(self, /, *, key=None, reverse=False)\n",
      " |      Sort the list in ascending order and return None.\n",
      " |      \n",
      " |      The sort is in-place (i.e. the list itself is modified) and stable (i.e. the\n",
      " |      order of two equal elements is maintained).\n",
      " |      \n",
      " |      If a key function is given, apply it once to each list item and sort them,\n",
      " |      ascending or descending, according to their function values.\n",
      " |      \n",
      " |      The reverse flag can be set to sort in descending order.\n",
      " |  \n",
      " |  ----------------------------------------------------------------------\n",
      " |  Class methods defined here:\n",
      " |  \n",
      " |  __class_getitem__(...) from builtins.type\n",
      " |      See PEP 585\n",
      " |  \n",
      " |  ----------------------------------------------------------------------\n",
      " |  Static methods defined here:\n",
      " |  \n",
      " |  __new__(*args, **kwargs) from builtins.type\n",
      " |      Create and return a new object.  See help(type) for accurate signature.\n",
      " |  \n",
      " |  ----------------------------------------------------------------------\n",
      " |  Data and other attributes defined here:\n",
      " |  \n",
      " |  __hash__ = None\n",
      "\n"
     ]
    }
   ],
   "source": [
    "help(list)"
   ]
  },
  {
   "cell_type": "markdown",
   "id": "266c9e6b-6ff1-49aa-9c0c-4071ca21c559",
   "metadata": {},
   "source": [
    "## ID"
   ]
  },
  {
   "cell_type": "code",
   "execution_count": 171,
   "id": "ce42a6b3-27b4-43ca-933e-5048f477e055",
   "metadata": {},
   "outputs": [
    {
     "data": {
      "text/plain": [
       "2134608656832"
      ]
     },
     "execution_count": 171,
     "metadata": {},
     "output_type": "execute_result"
    }
   ],
   "source": [
    "id(li1)"
   ]
  },
  {
   "cell_type": "code",
   "execution_count": 172,
   "id": "1ea9df67-2586-45c6-9b5c-f80a13d46b01",
   "metadata": {},
   "outputs": [],
   "source": [
    "sh = 'Information Technology'"
   ]
  },
  {
   "cell_type": "code",
   "execution_count": 173,
   "id": "b59329d8-3e2e-4b21-b49d-dbdf99ceb2bb",
   "metadata": {},
   "outputs": [
    {
     "data": {
      "text/plain": [
       "'Information Technology'"
      ]
     },
     "execution_count": 173,
     "metadata": {},
     "output_type": "execute_result"
    }
   ],
   "source": [
    "sh"
   ]
  },
  {
   "cell_type": "code",
   "execution_count": 176,
   "id": "502f4119-4ef3-45a7-95e8-287749a84b3e",
   "metadata": {},
   "outputs": [
    {
     "data": {
      "text/plain": [
       "140735441572936"
      ]
     },
     "execution_count": 176,
     "metadata": {},
     "output_type": "execute_result"
    }
   ],
   "source": [
    "d = 10\n",
    "id(d)"
   ]
  },
  {
   "cell_type": "code",
   "execution_count": 177,
   "id": "da845797-04c6-4de3-a50d-d94ec471ffda",
   "metadata": {},
   "outputs": [],
   "source": [
    "b=a"
   ]
  },
  {
   "cell_type": "code",
   "execution_count": 178,
   "id": "db4cefca-f3b4-40dc-8f90-05b7e80b1abd",
   "metadata": {},
   "outputs": [
    {
     "data": {
      "text/plain": [
       "140735441572936"
      ]
     },
     "execution_count": 178,
     "metadata": {},
     "output_type": "execute_result"
    }
   ],
   "source": [
    "id(10)"
   ]
  },
  {
   "cell_type": "code",
   "execution_count": 179,
   "id": "fe52f430-2bd7-4768-b570-a9ed667fa45b",
   "metadata": {},
   "outputs": [],
   "source": [
    "PI = 3.14"
   ]
  },
  {
   "cell_type": "code",
   "execution_count": 180,
   "id": "554b5ac1-1daf-429c-a973-91a6bb3fd75e",
   "metadata": {},
   "outputs": [
    {
     "data": {
      "text/plain": [
       "3.14"
      ]
     },
     "execution_count": 180,
     "metadata": {},
     "output_type": "execute_result"
    }
   ],
   "source": [
    "PI"
   ]
  },
  {
   "cell_type": "code",
   "execution_count": 181,
   "id": "f176980a-d85a-4052-96ae-f693ebef06e3",
   "metadata": {},
   "outputs": [
    {
     "data": {
      "text/plain": [
       "2.8"
      ]
     },
     "execution_count": 181,
     "metadata": {},
     "output_type": "execute_result"
    }
   ],
   "source": [
    "PI = 2.8\n",
    "PI"
   ]
  },
  {
   "cell_type": "code",
   "execution_count": 182,
   "id": "ad3a4b77-3678-4e1c-9c54-bd6aebdad412",
   "metadata": {},
   "outputs": [
    {
     "data": {
      "text/plain": [
       "float"
      ]
     },
     "execution_count": 182,
     "metadata": {},
     "output_type": "execute_result"
    }
   ],
   "source": [
    "type(PI)"
   ]
  },
  {
   "cell_type": "code",
   "execution_count": 183,
   "id": "9ad333cc-e0ec-4537-8020-b8e6d8b07715",
   "metadata": {},
   "outputs": [
    {
     "data": {
      "text/plain": [
       "float"
      ]
     },
     "execution_count": 183,
     "metadata": {},
     "output_type": "execute_result"
    }
   ],
   "source": [
    "w = 4.6\n",
    "type(w)"
   ]
  },
  {
   "cell_type": "code",
   "execution_count": 184,
   "id": "e6288fd3-94b6-47b0-a51c-38b21c4ea203",
   "metadata": {},
   "outputs": [
    {
     "data": {
      "text/plain": [
       "10"
      ]
     },
     "execution_count": 184,
     "metadata": {},
     "output_type": "execute_result"
    }
   ],
   "source": [
    "a"
   ]
  },
  {
   "cell_type": "code",
   "execution_count": 185,
   "id": "b9eab7e3-a99a-44d6-90e4-9e1b395ecda1",
   "metadata": {},
   "outputs": [
    {
     "data": {
      "text/plain": [
       "10"
      ]
     },
     "execution_count": 185,
     "metadata": {},
     "output_type": "execute_result"
    }
   ],
   "source": [
    "(a)"
   ]
  },
  {
   "cell_type": "code",
   "execution_count": 186,
   "id": "713ff34e-7ed3-448b-b900-56de681ba585",
   "metadata": {},
   "outputs": [
    {
     "data": {
      "text/plain": [
       "complex"
      ]
     },
     "execution_count": 186,
     "metadata": {},
     "output_type": "execute_result"
    }
   ],
   "source": [
    "w1 = 5+3j\n",
    "type(w1)"
   ]
  },
  {
   "cell_type": "code",
   "execution_count": 187,
   "id": "2db93833-3c29-49ec-a4f9-282faf088f37",
   "metadata": {},
   "outputs": [],
   "source": [
    "b=4.6\n",
    "b1 = int(b)"
   ]
  },
  {
   "cell_type": "code",
   "execution_count": 188,
   "id": "2f5d95f7-4439-4951-b2f1-03044ad848c2",
   "metadata": {},
   "outputs": [
    {
     "data": {
      "text/plain": [
       "4"
      ]
     },
     "execution_count": 188,
     "metadata": {},
     "output_type": "execute_result"
    }
   ],
   "source": [
    "b1"
   ]
  },
  {
   "cell_type": "code",
   "execution_count": 189,
   "id": "6af8a846-d8f1-4256-a24b-db0bf1a4e120",
   "metadata": {},
   "outputs": [
    {
     "data": {
      "text/plain": [
       "int"
      ]
     },
     "execution_count": 189,
     "metadata": {},
     "output_type": "execute_result"
    }
   ],
   "source": [
    "type(b1)"
   ]
  },
  {
   "cell_type": "code",
   "execution_count": 190,
   "id": "0deec54e-92cd-44a0-aaec-2b98a113239d",
   "metadata": {},
   "outputs": [],
   "source": [
    "k=float(b)"
   ]
  },
  {
   "cell_type": "code",
   "execution_count": 191,
   "id": "43d8be03-bc2d-4238-a946-e235c30bfbf9",
   "metadata": {},
   "outputs": [
    {
     "data": {
      "text/plain": [
       "4.6"
      ]
     },
     "execution_count": 191,
     "metadata": {},
     "output_type": "execute_result"
    }
   ],
   "source": [
    "k"
   ]
  },
  {
   "cell_type": "code",
   "execution_count": 192,
   "id": "08902bad-edb4-42c2-a614-5bf0dc4ad88e",
   "metadata": {},
   "outputs": [
    {
     "name": "stdout",
     "output_type": "stream",
     "text": [
      "4.6\n",
      "4.6\n",
      "4\n"
     ]
    }
   ],
   "source": [
    "print(k)\n",
    "print(b)\n",
    "print(b1)"
   ]
  },
  {
   "cell_type": "code",
   "execution_count": 193,
   "id": "b86c5bd1-478e-4d40-bc30-396ffab49ca4",
   "metadata": {},
   "outputs": [],
   "source": [
    "k1=complex(b)##changing from float to complex"
   ]
  },
  {
   "cell_type": "code",
   "execution_count": 194,
   "id": "5c0a1b20-1b3b-4036-b6c3-4680fdb91508",
   "metadata": {},
   "outputs": [
    {
     "data": {
      "text/plain": [
       "(4.6+0j)"
      ]
     },
     "execution_count": 194,
     "metadata": {},
     "output_type": "execute_result"
    }
   ],
   "source": [
    "k1"
   ]
  },
  {
   "cell_type": "code",
   "execution_count": 197,
   "id": "a810c3dc-17e9-4806-a9e8-33cd2097bfcd",
   "metadata": {},
   "outputs": [],
   "source": [
    "cond=b1<b #not supported the comparision between int and complex"
   ]
  },
  {
   "cell_type": "code",
   "execution_count": 198,
   "id": "38ddbed3-a6b3-4a11-a9f6-7964234fc687",
   "metadata": {},
   "outputs": [
    {
     "data": {
      "text/plain": [
       "bool"
      ]
     },
     "execution_count": 198,
     "metadata": {},
     "output_type": "execute_result"
    }
   ],
   "source": [
    "type(cond)"
   ]
  },
  {
   "cell_type": "code",
   "execution_count": 199,
   "id": "2587ed2f-15bd-4ba6-866e-166285200f76",
   "metadata": {},
   "outputs": [
    {
     "data": {
      "text/plain": [
       "1"
      ]
     },
     "execution_count": 199,
     "metadata": {},
     "output_type": "execute_result"
    }
   ],
   "source": [
    "int(True)"
   ]
  },
  {
   "cell_type": "code",
   "execution_count": 200,
   "id": "3aad3922-68a4-4c1e-a5d5-ca3e3debee05",
   "metadata": {},
   "outputs": [
    {
     "data": {
      "text/plain": [
       "0"
      ]
     },
     "execution_count": 200,
     "metadata": {},
     "output_type": "execute_result"
    }
   ],
   "source": [
    "int(False)"
   ]
  },
  {
   "cell_type": "code",
   "execution_count": 201,
   "id": "02783ef1-6ef4-46b6-a10c-8df73476779a",
   "metadata": {},
   "outputs": [
    {
     "name": "stdout",
     "output_type": "stream",
     "text": [
      "[1, 3, 5, 7, 9]\n"
     ]
    },
    {
     "data": {
      "text/plain": [
       "list"
      ]
     },
     "execution_count": 201,
     "metadata": {},
     "output_type": "execute_result"
    }
   ],
   "source": [
    "lis=[1,3,5,7,9]\n",
    "print(lis)\n",
    "type(lis)"
   ]
  },
  {
   "cell_type": "code",
   "execution_count": 202,
   "id": "f8b9b268-d865-4bb7-aca9-e67e9e778e24",
   "metadata": {},
   "outputs": [
    {
     "name": "stdout",
     "output_type": "stream",
     "text": [
      "[2, 4, 6, 8]\n"
     ]
    }
   ],
   "source": [
    "ev=[2,4,6,8]\n",
    "type(ev)\n",
    "print(ev)"
   ]
  },
  {
   "cell_type": "code",
   "execution_count": 204,
   "id": "3e563361-a516-4c28-8438-db38398d035d",
   "metadata": {},
   "outputs": [
    {
     "name": "stdout",
     "output_type": "stream",
     "text": [
      "{10, 20, 5, 15}\n"
     ]
    }
   ],
   "source": [
    "set1 = {5,10,15,20}\n",
    "type(set1)\n",
    "print(set1)"
   ]
  },
  {
   "cell_type": "code",
   "execution_count": 205,
   "id": "8e0f1604-b8ef-47eb-b82b-312f41c2f493",
   "metadata": {},
   "outputs": [
    {
     "data": {
      "text/plain": [
       "set"
      ]
     },
     "execution_count": 205,
     "metadata": {},
     "output_type": "execute_result"
    }
   ],
   "source": [
    "set1 = {5,10,15,20}\n",
    "type(set1)\n"
   ]
  },
  {
   "cell_type": "markdown",
   "id": "a9f2a07d-b0af-4f8d-9f8e-c0d436b22ba8",
   "metadata": {},
   "source": [
    "###### Range()"
   ]
  },
  {
   "cell_type": "code",
   "execution_count": 208,
   "id": "5bed4807-9d60-408f-8aae-28964c5562dd",
   "metadata": {},
   "outputs": [
    {
     "data": {
      "text/plain": [
       "[4, 5, 6, 7, 8]"
      ]
     },
     "execution_count": 208,
     "metadata": {},
     "output_type": "execute_result"
    }
   ],
   "source": [
    "ra=range(4,9)##print the series from 4 to 8\n",
    "list(ra)##printing elements"
   ]
  },
  {
   "cell_type": "code",
   "execution_count": 211,
   "id": "546a47aa-01e0-4836-a508-806319b11709",
   "metadata": {},
   "outputs": [
    {
     "data": {
      "text/plain": [
       "[2, 4, 6, 8, 10, 12, 14, 16, 18]"
      ]
     },
     "execution_count": 211,
     "metadata": {},
     "output_type": "execute_result"
    }
   ],
   "source": [
    "ev_n=list(range(2,20,2))\n",
    "ev_n"
   ]
  },
  {
   "cell_type": "code",
   "execution_count": 212,
   "id": "cf952bd4-0c20-4b20-bb6f-4d1d07e7f63d",
   "metadata": {},
   "outputs": [
    {
     "data": {
      "text/plain": [
       "{4: 'Doll', 8: 'Teddy', 12: 'Donkey'}"
      ]
     },
     "execution_count": 212,
     "metadata": {},
     "output_type": "execute_result"
    }
   ],
   "source": [
    "d1 = {4:'Doll',8:'Teddy',12:'Donkey'}\n",
    "d1"
   ]
  },
  {
   "cell_type": "code",
   "execution_count": 215,
   "id": "1fae4b16-efec-45a2-aa7d-e1c98c670862",
   "metadata": {},
   "outputs": [
    {
     "data": {
      "text/plain": [
       "dict_keys([4, 8, 12])"
      ]
     },
     "execution_count": 215,
     "metadata": {},
     "output_type": "execute_result"
    }
   ],
   "source": [
    "d1.keys()"
   ]
  },
  {
   "cell_type": "code",
   "execution_count": 214,
   "id": "352be601-dc73-437b-a41f-102d2be4e8e0",
   "metadata": {},
   "outputs": [
    {
     "data": {
      "text/plain": [
       "dict_values(['Doll', 'Teddy', 'Donkey'])"
      ]
     },
     "execution_count": 214,
     "metadata": {},
     "output_type": "execute_result"
    }
   ],
   "source": [
    "d1.values()"
   ]
  },
  {
   "cell_type": "code",
   "execution_count": 217,
   "id": "b58db350-38b0-4703-bf98-6ef1609ef956",
   "metadata": {},
   "outputs": [
    {
     "data": {
      "text/plain": [
       "'Doll'"
      ]
     },
     "execution_count": 217,
     "metadata": {},
     "output_type": "execute_result"
    }
   ],
   "source": [
    "d1[4]"
   ]
  },
  {
   "cell_type": "code",
   "execution_count": 219,
   "id": "f065b88c-40d0-4bd8-bf5e-407b6f63b5a6",
   "metadata": {},
   "outputs": [
    {
     "data": {
      "text/plain": [
       "'Doll'"
      ]
     },
     "execution_count": 219,
     "metadata": {},
     "output_type": "execute_result"
    }
   ],
   "source": [
    "d1.get(4)"
   ]
  },
  {
   "cell_type": "code",
   "execution_count": 220,
   "id": "31f3a82d-7ee4-443a-b380-7dc4492e3750",
   "metadata": {},
   "outputs": [],
   "source": [
    "d1.get(2)##always be blank output as no key available"
   ]
  },
  {
   "cell_type": "markdown",
   "id": "5cfeb6cb-f1dd-4715-9dfc-facebd1258fa",
   "metadata": {},
   "source": [
    "###### Arithmetic Operator"
   ]
  },
  {
   "cell_type": "code",
   "execution_count": 221,
   "id": "0b10f4ee-420e-4aa5-ae61-68e3083fb3b1",
   "metadata": {},
   "outputs": [],
   "source": [
    "v1,v2 = 19,29"
   ]
  },
  {
   "cell_type": "code",
   "execution_count": 222,
   "id": "80aee61e-814a-4a9d-90cc-9258e9722cd4",
   "metadata": {},
   "outputs": [
    {
     "data": {
      "text/plain": [
       "48"
      ]
     },
     "execution_count": 222,
     "metadata": {},
     "output_type": "execute_result"
    }
   ],
   "source": [
    "v1+v2"
   ]
  },
  {
   "cell_type": "code",
   "execution_count": 223,
   "id": "787a6621-9408-403c-aa3f-573180d5a3b7",
   "metadata": {},
   "outputs": [
    {
     "data": {
      "text/plain": [
       "-10"
      ]
     },
     "execution_count": 223,
     "metadata": {},
     "output_type": "execute_result"
    }
   ],
   "source": [
    "v1-v2"
   ]
  },
  {
   "cell_type": "code",
   "execution_count": 224,
   "id": "b810fb63-3a26-49ec-8293-9e677da52231",
   "metadata": {},
   "outputs": [
    {
     "data": {
      "text/plain": [
       "551"
      ]
     },
     "execution_count": 224,
     "metadata": {},
     "output_type": "execute_result"
    }
   ],
   "source": [
    "v1*v2"
   ]
  },
  {
   "cell_type": "code",
   "execution_count": 225,
   "id": "cd64c140-9e9f-4f12-acbb-626e235ebe92",
   "metadata": {},
   "outputs": [
    {
     "data": {
      "text/plain": [
       "0.6551724137931034"
      ]
     },
     "execution_count": 225,
     "metadata": {},
     "output_type": "execute_result"
    }
   ],
   "source": [
    "v1/v2"
   ]
  },
  {
   "cell_type": "code",
   "execution_count": 226,
   "id": "04a35c28-2e1b-4ff6-8c2b-426edad7d8ca",
   "metadata": {},
   "outputs": [
    {
     "data": {
      "text/plain": [
       "0"
      ]
     },
     "execution_count": 226,
     "metadata": {},
     "output_type": "execute_result"
    }
   ],
   "source": [
    "v1//v2"
   ]
  },
  {
   "cell_type": "code",
   "execution_count": 227,
   "id": "9a3d190e-d232-4a5b-af03-55727a425caa",
   "metadata": {},
   "outputs": [
    {
     "data": {
      "text/plain": [
       "19"
      ]
     },
     "execution_count": 227,
     "metadata": {},
     "output_type": "execute_result"
    }
   ],
   "source": [
    "v1%v2"
   ]
  },
  {
   "cell_type": "code",
   "execution_count": 228,
   "id": "03932249-1d98-442b-9fa6-f0ebcbd20b83",
   "metadata": {},
   "outputs": [
    {
     "data": {
      "text/plain": [
       "12129821994589221844500501021364910179"
      ]
     },
     "execution_count": 228,
     "metadata": {},
     "output_type": "execute_result"
    }
   ],
   "source": [
    "v1**v2 ##19 to the power 29"
   ]
  },
  {
   "cell_type": "markdown",
   "id": "44ac8f8c-ea10-496c-a227-8ec27453ce0c",
   "metadata": {},
   "source": [
    "###### Assignment Operator"
   ]
  },
  {
   "cell_type": "code",
   "execution_count": 229,
   "id": "f5a33283-b1d1-4e08-a54f-bbfc62121864",
   "metadata": {},
   "outputs": [],
   "source": [
    "c=3"
   ]
  },
  {
   "cell_type": "code",
   "execution_count": 230,
   "id": "9ab58a86-f65b-43a1-94fc-d1cfe13434d6",
   "metadata": {},
   "outputs": [],
   "source": [
    "c=c+34"
   ]
  },
  {
   "cell_type": "code",
   "execution_count": 231,
   "id": "a1039e22-2f4d-4004-b170-ff1c8f6b0377",
   "metadata": {},
   "outputs": [
    {
     "data": {
      "text/plain": [
       "37"
      ]
     },
     "execution_count": 231,
     "metadata": {},
     "output_type": "execute_result"
    }
   ],
   "source": [
    "c"
   ]
  },
  {
   "cell_type": "code",
   "execution_count": 232,
   "id": "e310d8c0-12f9-444b-bb98-a3cb44f2aecf",
   "metadata": {},
   "outputs": [],
   "source": [
    "c+=4"
   ]
  },
  {
   "cell_type": "code",
   "execution_count": 233,
   "id": "93b8e97c-d7d2-453e-a7d5-72c0664017ca",
   "metadata": {},
   "outputs": [
    {
     "data": {
      "text/plain": [
       "41"
      ]
     },
     "execution_count": 233,
     "metadata": {},
     "output_type": "execute_result"
    }
   ],
   "source": [
    "c"
   ]
  },
  {
   "cell_type": "code",
   "execution_count": 234,
   "id": "77fb622c-3bc9-469f-94e3-d4758ef247ef",
   "metadata": {},
   "outputs": [],
   "source": [
    "c*=9"
   ]
  },
  {
   "cell_type": "code",
   "execution_count": 235,
   "id": "fcec8b62-0220-4f65-ad69-c49d8ec34236",
   "metadata": {},
   "outputs": [
    {
     "data": {
      "text/plain": [
       "369"
      ]
     },
     "execution_count": 235,
     "metadata": {},
     "output_type": "execute_result"
    }
   ],
   "source": [
    "c"
   ]
  },
  {
   "cell_type": "markdown",
   "id": "c1b02f35-77af-4c18-b8ac-49796f11de8a",
   "metadata": {},
   "source": [
    "###### Unary Operator"
   ]
  },
  {
   "cell_type": "code",
   "execution_count": 236,
   "id": "dbf008c0-aa69-4529-8710-675f8c4fc719",
   "metadata": {},
   "outputs": [],
   "source": [
    "neg=8"
   ]
  },
  {
   "cell_type": "code",
   "execution_count": 237,
   "id": "0b9f6e85-655d-4191-b305-3a6f8663b9f2",
   "metadata": {},
   "outputs": [],
   "source": [
    "neg1=-(neg)"
   ]
  },
  {
   "cell_type": "code",
   "execution_count": 238,
   "id": "289669a7-a89d-432b-9241-ab1a65fcd71e",
   "metadata": {},
   "outputs": [
    {
     "data": {
      "text/plain": [
       "-8"
      ]
     },
     "execution_count": 238,
     "metadata": {},
     "output_type": "execute_result"
    }
   ],
   "source": [
    "neg1"
   ]
  },
  {
   "cell_type": "code",
   "execution_count": 239,
   "id": "bc4684aa-09c2-48e0-8232-95e764e5ddc3",
   "metadata": {},
   "outputs": [
    {
     "data": {
      "text/plain": [
       "8"
      ]
     },
     "execution_count": 239,
     "metadata": {},
     "output_type": "execute_result"
    }
   ],
   "source": [
    "neg"
   ]
  },
  {
   "cell_type": "markdown",
   "id": "ed380a03-eda7-4a4c-a197-dc601387c4c9",
   "metadata": {},
   "source": [
    "###### Relational Operator"
   ]
  },
  {
   "cell_type": "code",
   "execution_count": 240,
   "id": "557a5a91-e25b-49e0-a2da-e62a2795dedf",
   "metadata": {},
   "outputs": [
    {
     "data": {
      "text/plain": [
       "False"
      ]
     },
     "execution_count": 240,
     "metadata": {},
     "output_type": "execute_result"
    }
   ],
   "source": [
    "rel=4\n",
    "rel2=6\n",
    "rel==rel2"
   ]
  },
  {
   "cell_type": "code",
   "execution_count": 241,
   "id": "77a42d74-a05a-4f53-b766-b0262156d3ed",
   "metadata": {},
   "outputs": [
    {
     "data": {
      "text/plain": [
       "True"
      ]
     },
     "execution_count": 241,
     "metadata": {},
     "output_type": "execute_result"
    }
   ],
   "source": [
    "rel=4\n",
    "rel2=4\n",
    "rel==rel2"
   ]
  },
  {
   "cell_type": "code",
   "execution_count": 244,
   "id": "a4c0272a-b75e-4df0-bd25-0df8fdfdd256",
   "metadata": {},
   "outputs": [],
   "source": [
    "rel=4\n",
    "rel2=9"
   ]
  },
  {
   "cell_type": "code",
   "execution_count": 243,
   "id": "e195acef-c496-48b1-9f55-73cbd045fd1f",
   "metadata": {},
   "outputs": [
    {
     "data": {
      "text/plain": [
       "False"
      ]
     },
     "execution_count": 243,
     "metadata": {},
     "output_type": "execute_result"
    }
   ],
   "source": [
    "rel>rel2"
   ]
  },
  {
   "cell_type": "code",
   "execution_count": 245,
   "id": "653547ea-e3bc-4bee-9c26-193aba7a1d2f",
   "metadata": {},
   "outputs": [
    {
     "data": {
      "text/plain": [
       "True"
      ]
     },
     "execution_count": 245,
     "metadata": {},
     "output_type": "execute_result"
    }
   ],
   "source": [
    "rel<rel2"
   ]
  },
  {
   "cell_type": "code",
   "execution_count": 246,
   "id": "7a843f90-dba9-42ed-a0d4-a340a70da95c",
   "metadata": {},
   "outputs": [
    {
     "data": {
      "text/plain": [
       "False"
      ]
     },
     "execution_count": 246,
     "metadata": {},
     "output_type": "execute_result"
    }
   ],
   "source": [
    "rel==rel2"
   ]
  },
  {
   "cell_type": "code",
   "execution_count": 247,
   "id": "fb900d30-d1b5-46ff-b2dd-f60a1020d361",
   "metadata": {},
   "outputs": [
    {
     "data": {
      "text/plain": [
       "True"
      ]
     },
     "execution_count": 247,
     "metadata": {},
     "output_type": "execute_result"
    }
   ],
   "source": [
    "rel!=rel2"
   ]
  },
  {
   "cell_type": "code",
   "execution_count": 250,
   "id": "c61d8312-9c31-4e45-93de-6d2565b63289",
   "metadata": {},
   "outputs": [],
   "source": [
    "rel=4\n",
    "rel2=4"
   ]
  },
  {
   "cell_type": "code",
   "execution_count": 251,
   "id": "33c6601e-d3aa-4012-965e-2aa012a4e306",
   "metadata": {},
   "outputs": [
    {
     "data": {
      "text/plain": [
       "False"
      ]
     },
     "execution_count": 251,
     "metadata": {},
     "output_type": "execute_result"
    }
   ],
   "source": [
    "rel!=rel2"
   ]
  },
  {
   "cell_type": "markdown",
   "id": "ec0aced2-8a48-443d-8ec7-e98f876a70c0",
   "metadata": {},
   "source": [
    "###### Logical Operator(AND,OR,NOT)"
   ]
  },
  {
   "cell_type": "code",
   "execution_count": 252,
   "id": "c7a26577-fd5c-4ed3-89fe-a28cd3a38ac8",
   "metadata": {},
   "outputs": [],
   "source": [
    "log=9\n",
    "log1=57"
   ]
  },
  {
   "cell_type": "code",
   "execution_count": 253,
   "id": "155d8e67-3767-40ed-9b0d-c78f7010f1a5",
   "metadata": {},
   "outputs": [
    {
     "data": {
      "text/plain": [
       "False"
      ]
     },
     "execution_count": 253,
     "metadata": {},
     "output_type": "execute_result"
    }
   ],
   "source": [
    "log<log1 and log>log1   "
   ]
  },
  {
   "cell_type": "code",
   "execution_count": 258,
   "id": "98661868-221f-4e66-a6b2-3260243577de",
   "metadata": {},
   "outputs": [
    {
     "data": {
      "text/plain": [
       "False"
      ]
     },
     "execution_count": 258,
     "metadata": {},
     "output_type": "execute_result"
    }
   ],
   "source": [
    "log>0 and log1<2 ##True and False is 0(False)"
   ]
  },
  {
   "cell_type": "code",
   "execution_count": 259,
   "id": "9951d0b8-d139-49a6-bba1-6cf742863af5",
   "metadata": {},
   "outputs": [
    {
     "data": {
      "text/plain": [
       "True"
      ]
     },
     "execution_count": 259,
     "metadata": {},
     "output_type": "execute_result"
    }
   ],
   "source": [
    "log>8 and log1<100"
   ]
  },
  {
   "cell_type": "code",
   "execution_count": 260,
   "id": "ce6e3216-81d8-4c52-ad70-185fba76c977",
   "metadata": {},
   "outputs": [
    {
     "data": {
      "text/plain": [
       "False"
      ]
     },
     "execution_count": 260,
     "metadata": {},
     "output_type": "execute_result"
    }
   ],
   "source": [
    "log>9 or log1<56"
   ]
  },
  {
   "cell_type": "code",
   "execution_count": 261,
   "id": "e12f5e9d-fd03-4426-ade4-3919afdafa5c",
   "metadata": {},
   "outputs": [
    {
     "data": {
      "text/plain": [
       "True"
      ]
     },
     "execution_count": 261,
     "metadata": {},
     "output_type": "execute_result"
    }
   ],
   "source": [
    "log>=9 or log1<56"
   ]
  },
  {
   "cell_type": "code",
   "execution_count": 262,
   "id": "9d9fdc05-e26a-4ad0-8a04-4dc86be4b4d9",
   "metadata": {},
   "outputs": [
    {
     "data": {
      "text/plain": [
       "True"
      ]
     },
     "execution_count": 262,
     "metadata": {},
     "output_type": "execute_result"
    }
   ],
   "source": [
    "lo=True\n",
    "lo"
   ]
  },
  {
   "cell_type": "code",
   "execution_count": 264,
   "id": "56aecf17-2011-40e5-88ab-5554b9e1bf8e",
   "metadata": {},
   "outputs": [
    {
     "data": {
      "text/plain": [
       "False"
      ]
     },
     "execution_count": 264,
     "metadata": {},
     "output_type": "execute_result"
    }
   ],
   "source": [
    "not lo"
   ]
  },
  {
   "cell_type": "code",
   "execution_count": 265,
   "id": "2616c1d1-11a1-4e43-b9df-7e19c01c7ba3",
   "metadata": {},
   "outputs": [
    {
     "data": {
      "text/plain": [
       "True"
      ]
     },
     "execution_count": 265,
     "metadata": {},
     "output_type": "execute_result"
    }
   ],
   "source": [
    "lo=False\n",
    "not lo"
   ]
  },
  {
   "cell_type": "markdown",
   "id": "1bc6e3f4-6fcd-4058-8f8c-c079211fb4ad",
   "metadata": {},
   "source": [
    "###### Intro to Number System\n",
    "Some Facts to remember\n",
    "\n",
    "*binary=base2(0-1)     octal=base8(0-7)      hexadecimal=base16(0-9,a-f)\n",
    "*binary=o/p =True/False \n",
    "*In hexadecimal after 9 , 10 will be a, 11 will be b.........\n",
    "*Real time, IPV6 address of system uses this\n",
    "\n",
    "eg---00110 then binary will\n",
    "2^4*0 + 2^3*0 + 2^2*1 + 2^1*1 + 2^0*0\n",
    "\n",
    "Octal will\n",
    "8^4*0 + 8^3*0 + 8^2*1 + 8^1*1 + 8^0*0\n",
    "\n",
    "Hexadecimal will\n",
    "16^4*0 + 16^3*0 + 16^2*1 + 16^1*1 + 16^0*0"
   ]
  },
  {
   "cell_type": "code",
   "execution_count": 266,
   "id": "8fab8428-5a45-465a-8368-904c00a87246",
   "metadata": {},
   "outputs": [
    {
     "data": {
      "text/plain": [
       "67"
      ]
     },
     "execution_count": 266,
     "metadata": {},
     "output_type": "execute_result"
    }
   ],
   "source": [
    "67"
   ]
  },
  {
   "cell_type": "code",
   "execution_count": 267,
   "id": "c6243a0d-c5c7-47dc-9044-987063d567d2",
   "metadata": {},
   "outputs": [
    {
     "data": {
      "text/plain": [
       "'0b1000011'"
      ]
     },
     "execution_count": 267,
     "metadata": {},
     "output_type": "execute_result"
    }
   ],
   "source": [
    "bin(67)"
   ]
  },
  {
   "cell_type": "code",
   "execution_count": 268,
   "id": "fe0623f4-c3ea-44df-a539-8b7a96e0f747",
   "metadata": {},
   "outputs": [
    {
     "data": {
      "text/plain": [
       "'0b101101'"
      ]
     },
     "execution_count": 268,
     "metadata": {},
     "output_type": "execute_result"
    }
   ],
   "source": [
    "bin(45)"
   ]
  },
  {
   "cell_type": "code",
   "execution_count": 269,
   "id": "1af36790-50e3-40ff-bc36-efff6ca5926e",
   "metadata": {},
   "outputs": [
    {
     "data": {
      "text/plain": [
       "45"
      ]
     },
     "execution_count": 269,
     "metadata": {},
     "output_type": "execute_result"
    }
   ],
   "source": [
    "int(0b101101)"
   ]
  },
  {
   "cell_type": "code",
   "execution_count": 270,
   "id": "74f2757d-878a-4a62-a56d-9f7db160cd21",
   "metadata": {},
   "outputs": [
    {
     "data": {
      "text/plain": [
       "'0o30'"
      ]
     },
     "execution_count": 270,
     "metadata": {},
     "output_type": "execute_result"
    }
   ],
   "source": [
    "oct(24)"
   ]
  },
  {
   "cell_type": "code",
   "execution_count": 271,
   "id": "0b748118-6402-464c-8fe4-8e9be10a8d5b",
   "metadata": {},
   "outputs": [
    {
     "data": {
      "text/plain": [
       "'0x2d'"
      ]
     },
     "execution_count": 271,
     "metadata": {},
     "output_type": "execute_result"
    }
   ],
   "source": [
    "hex(45)"
   ]
  },
  {
   "cell_type": "markdown",
   "id": "e4b0436c-d821-4689-b4e6-f6b8b4eee5b0",
   "metadata": {},
   "source": [
    "###### Swapping of 2 variables in python===we have many methods, but we use the simple one as a,b=b,a"
   ]
  },
  {
   "cell_type": "markdown",
   "id": "822ba818-2a03-488f-a323-f9a882837953",
   "metadata": {},
   "source": [
    "##(a,b = 3,1) After swap we should get ==> (a, b = 1,3 )"
   ]
  },
  {
   "cell_type": "code",
   "execution_count": 273,
   "id": "362ac39e-8ca0-4380-8edf-8f2824953321",
   "metadata": {},
   "outputs": [],
   "source": [
    "a=3\n",
    "b=1"
   ]
  },
  {
   "cell_type": "code",
   "execution_count": 274,
   "id": "0908cd40-88c1-44bd-a01c-bb9a24f8475e",
   "metadata": {},
   "outputs": [],
   "source": [
    "a=b\n",
    "b=a"
   ]
  },
  {
   "cell_type": "code",
   "execution_count": 275,
   "id": "0b73baec-ea83-41c1-900b-b35f204a0e09",
   "metadata": {},
   "outputs": [
    {
     "name": "stdout",
     "output_type": "stream",
     "text": [
      "1\n",
      "1\n"
     ]
    }
   ],
   "source": [
    "print(a)\n",
    "print(b)\n",
    "\n",
    "##incorrect as we lost the value 3"
   ]
  },
  {
   "cell_type": "code",
   "execution_count": 276,
   "id": "a400798c-9ad5-47af-aa8b-910e33de0c31",
   "metadata": {},
   "outputs": [],
   "source": [
    "a1=5\n",
    "b1=4"
   ]
  },
  {
   "cell_type": "code",
   "execution_count": 277,
   "id": "910c8e98-b171-4b7d-bfce-b9dcd21c032f",
   "metadata": {},
   "outputs": [],
   "source": [
    "##by using third variable\n",
    "t=a1\n",
    "a1=b1\n",
    "b1=t"
   ]
  },
  {
   "cell_type": "code",
   "execution_count": 278,
   "id": "687a6e26-f87a-4b48-aaeb-c0d1fb917eeb",
   "metadata": {},
   "outputs": [
    {
     "name": "stdout",
     "output_type": "stream",
     "text": [
      "4\n",
      "5\n"
     ]
    }
   ],
   "source": [
    "print(a1)\n",
    "print(b1)"
   ]
  },
  {
   "cell_type": "code",
   "execution_count": 282,
   "id": "8f5f56de-fb08-4ebd-96ee-2074e718d808",
   "metadata": {},
   "outputs": [],
   "source": [
    "#by swapping variables\n",
    "a2 = 9\n",
    "b2 = 4\n",
    "\n"
   ]
  },
  {
   "cell_type": "code",
   "execution_count": 283,
   "id": "a6aafa32-3f25-4b64-a7e5-79c3b921936e",
   "metadata": {},
   "outputs": [],
   "source": [
    "a2 = a2 + b2\n",
    "b2 = a2 - b2\n",
    "a2 = a2 - b2\n",
    "\n",
    "#Remember this logic"
   ]
  },
  {
   "cell_type": "code",
   "execution_count": 284,
   "id": "c707e421-211a-4956-8b2f-1beadbbcfda3",
   "metadata": {},
   "outputs": [
    {
     "name": "stdout",
     "output_type": "stream",
     "text": [
      "4\n",
      "9\n"
     ]
    }
   ],
   "source": [
    "print(a2)\n",
    "print(b2)"
   ]
  },
  {
   "cell_type": "code",
   "execution_count": 286,
   "id": "3a1565ac-3528-421a-bb87-04eb177ebd40",
   "metadata": {},
   "outputs": [
    {
     "name": "stdout",
     "output_type": "stream",
     "text": [
      "0b100\n",
      "0b1001\n"
     ]
    }
   ],
   "source": [
    "print(bin(a2))\n",
    "print(bin(b2))\n",
    "\n",
    "##By using binary values"
   ]
  },
  {
   "cell_type": "code",
   "execution_count": 288,
   "id": "b32520b3-d59e-42fa-bfd6-56e6decb8cb1",
   "metadata": {},
   "outputs": [
    {
     "name": "stdout",
     "output_type": "stream",
     "text": [
      "0b1001\n",
      "0b100\n"
     ]
    }
   ],
   "source": [
    "print(bin(b2))\n",
    "print(bin(a1))"
   ]
  },
  {
   "cell_type": "code",
   "execution_count": 289,
   "id": "76b3e6b9-0fac-4894-b799-7b1b9c27b6f9",
   "metadata": {},
   "outputs": [],
   "source": [
    "#there is other way to work using swap variable also which is XOR because it will not waste extra bit\n",
    "#remember this logic\n",
    "a2 = a2 ^ b2\n",
    "b2 = a2 ^ b2\n",
    "a2 = a2 ^ b2"
   ]
  },
  {
   "cell_type": "code",
   "execution_count": 290,
   "id": "3e2019c5-fd20-4928-aab4-fcb929a899ed",
   "metadata": {},
   "outputs": [
    {
     "name": "stdout",
     "output_type": "stream",
     "text": [
      "9\n",
      "4\n"
     ]
    }
   ],
   "source": [
    "print(a2)\n",
    "print(b2)"
   ]
  },
  {
   "cell_type": "code",
   "execution_count": 291,
   "id": "d1796790-6f3a-4293-a921-5d3625aaa3b2",
   "metadata": {},
   "outputs": [],
   "source": [
    "a2 , b2 = b2, a2##Best way of swapping"
   ]
  },
  {
   "cell_type": "code",
   "execution_count": 292,
   "id": "7993f982-864a-41ca-906c-3fe4710c0d4d",
   "metadata": {},
   "outputs": [
    {
     "name": "stdout",
     "output_type": "stream",
     "text": [
      "4\n",
      "9\n"
     ]
    }
   ],
   "source": [
    "print(a2)\n",
    "print(b2)"
   ]
  },
  {
   "cell_type": "markdown",
   "id": "2f4ffc63-6da1-4110-b31b-f7193e00de9b",
   "metadata": {},
   "source": [
    "###### Bitwise Operator\n",
    "##WE HAVE 6 OPERATORS COMPLEMENT ( ~ ) || AND ( & ) || OR ( | ) || XOR ( ^ ) || LEFT SHIFT ( << ) || RIGHT SHIFT ( >> )"
   ]
  },
  {
   "cell_type": "code",
   "execution_count": 294,
   "id": "d5dd1173-853e-4c95-bd19-852ee7fe4666",
   "metadata": {},
   "outputs": [
    {
     "name": "stdout",
     "output_type": "stream",
     "text": [
      "0b1110\n",
      "0b10010\n"
     ]
    }
   ],
   "source": [
    "print(bin(14))\n",
    "print(bin(18))"
   ]
  },
  {
   "cell_type": "markdown",
   "id": "b3d062ff-eda1-4f0e-85af-db38bddd89fa",
   "metadata": {},
   "source": [
    "###### Let's understand the 2's complement\n",
    "## one's complement+1 = 2's complement\n",
    "\n",
    "# 0001110--------------14\n",
    "  1110001--------------Complement+1\n",
    "  +     1\n",
    "_________ \n",
    "  1111111\n",
    "_________"
   ]
  },
  {
   "cell_type": "markdown",
   "id": "391ad686-e191-40ab-9a6c-5ebc38718e2b",
   "metadata": {},
   "source": [
    "###### Let's understand the concept via coding\n"
   ]
  },
  {
   "cell_type": "code",
   "execution_count": 299,
   "id": "41f28993-730c-46c5-8b15-bd3a4aced3a5",
   "metadata": {},
   "outputs": [
    {
     "data": {
      "text/plain": [
       "14"
      ]
     },
     "execution_count": 299,
     "metadata": {},
     "output_type": "execute_result"
    }
   ],
   "source": [
    "14"
   ]
  },
  {
   "cell_type": "code",
   "execution_count": 309,
   "id": "a2f3f397-68bf-46dc-aa0b-84415be210e0",
   "metadata": {},
   "outputs": [
    {
     "data": {
      "text/plain": [
       "'0b1110'"
      ]
     },
     "execution_count": 309,
     "metadata": {},
     "output_type": "execute_result"
    }
   ],
   "source": [
    "bin(14)\n"
   ]
  },
  {
   "cell_type": "code",
   "execution_count": 310,
   "id": "a4f118f0-19f0-4587-89f8-cf5908a5b8cf",
   "metadata": {},
   "outputs": [
    {
     "data": {
      "text/plain": [
       "-15"
      ]
     },
     "execution_count": 310,
     "metadata": {},
     "output_type": "execute_result"
    }
   ],
   "source": [
    "~14"
   ]
  },
  {
   "cell_type": "code",
   "execution_count": 311,
   "id": "080ec07f-ab6e-44a0-b2df-172656192b72",
   "metadata": {},
   "outputs": [
    {
     "data": {
      "text/plain": [
       "'-0b1111'"
      ]
     },
     "execution_count": 311,
     "metadata": {},
     "output_type": "execute_result"
    }
   ],
   "source": [
    "bin(-15)"
   ]
  },
  {
   "cell_type": "markdown",
   "id": "01c821ea-4daa-4028-a455-c20ef881d218",
   "metadata": {},
   "source": [
    "### bit wise and operator"
   ]
  },
  {
   "cell_type": "code",
   "execution_count": 312,
   "id": "a52db4ae-1761-4795-8fad-1df52b84dc1f",
   "metadata": {},
   "outputs": [
    {
     "data": {
      "text/plain": [
       "1"
      ]
     },
     "execution_count": 312,
     "metadata": {},
     "output_type": "execute_result"
    }
   ],
   "source": [
    "45 & 67"
   ]
  },
  {
   "cell_type": "code",
   "execution_count": 313,
   "id": "0418e9cf-5cfd-4b9e-9a19-9e57f185c26a",
   "metadata": {},
   "outputs": [
    {
     "data": {
      "text/plain": [
       "1"
      ]
     },
     "execution_count": 313,
     "metadata": {},
     "output_type": "execute_result"
    }
   ],
   "source": [
    "1 | 1"
   ]
  },
  {
   "cell_type": "code",
   "execution_count": 314,
   "id": "095220ba-c60b-4d01-822a-c84ffe46f919",
   "metadata": {},
   "outputs": [
    {
     "data": {
      "text/plain": [
       "0"
      ]
     },
     "execution_count": 314,
     "metadata": {},
     "output_type": "execute_result"
    }
   ],
   "source": [
    "1&0"
   ]
  },
  {
   "cell_type": "code",
   "execution_count": 315,
   "id": "f20bd83d-0aef-49d6-ab61-d7f3d66e1b8e",
   "metadata": {},
   "outputs": [
    {
     "data": {
      "text/plain": [
       "1"
      ]
     },
     "execution_count": 315,
     "metadata": {},
     "output_type": "execute_result"
    }
   ],
   "source": [
    "45&67"
   ]
  },
  {
   "cell_type": "code",
   "execution_count": 316,
   "id": "1f2037b4-ea94-46ef-be14-11e129158a3c",
   "metadata": {},
   "outputs": [
    {
     "data": {
      "text/plain": [
       "'0b101101'"
      ]
     },
     "execution_count": 316,
     "metadata": {},
     "output_type": "execute_result"
    }
   ],
   "source": [
    "bin(45)"
   ]
  },
  {
   "cell_type": "code",
   "execution_count": 317,
   "id": "57528f81-1502-4f9a-b7f3-a23205c35bbe",
   "metadata": {},
   "outputs": [
    {
     "data": {
      "text/plain": [
       "'0b1000011'"
      ]
     },
     "execution_count": 317,
     "metadata": {},
     "output_type": "execute_result"
    }
   ],
   "source": [
    "bin(67)"
   ]
  },
  {
   "cell_type": "code",
   "execution_count": 324,
   "id": "41171ebb-212d-4778-9ca2-375a19b0708e",
   "metadata": {},
   "outputs": [],
   "source": [
    "k = bin(12)\n"
   ]
  },
  {
   "cell_type": "code",
   "execution_count": 325,
   "id": "3fbe69c1-6db0-4b78-974f-d1e013f0e5ab",
   "metadata": {},
   "outputs": [
    {
     "data": {
      "text/plain": [
       "'0b1100'"
      ]
     },
     "execution_count": 325,
     "metadata": {},
     "output_type": "execute_result"
    }
   ],
   "source": [
    "k"
   ]
  },
  {
   "cell_type": "code",
   "execution_count": 326,
   "id": "b016df5b-ae05-467a-b27b-8ee448fe85f9",
   "metadata": {},
   "outputs": [],
   "source": [
    "k1 = bin(67)"
   ]
  },
  {
   "cell_type": "code",
   "execution_count": 327,
   "id": "330ae532-bac3-4b8e-b820-4a0494d181a5",
   "metadata": {},
   "outputs": [
    {
     "data": {
      "text/plain": [
       "'0b1000011'"
      ]
     },
     "execution_count": 327,
     "metadata": {},
     "output_type": "execute_result"
    }
   ],
   "source": [
    "k1"
   ]
  },
  {
   "cell_type": "code",
   "execution_count": 328,
   "id": "b2df10d8-709d-478a-a113-39b293238a40",
   "metadata": {},
   "outputs": [
    {
     "ename": "TypeError",
     "evalue": "unsupported operand type(s) for &: 'str' and 'str'",
     "output_type": "error",
     "traceback": [
      "\u001b[1;31m---------------------------------------------------------------------------\u001b[0m",
      "\u001b[1;31mTypeError\u001b[0m                                 Traceback (most recent call last)",
      "Cell \u001b[1;32mIn[328], line 1\u001b[0m\n\u001b[1;32m----> 1\u001b[0m k \u001b[38;5;241m&\u001b[39m k1\n",
      "\u001b[1;31mTypeError\u001b[0m: unsupported operand type(s) for &: 'str' and 'str'"
     ]
    }
   ],
   "source": [
    "k & k1"
   ]
  },
  {
   "cell_type": "markdown",
   "id": "f7cb2aae-9718-48a7-a3f4-0d7dd5e76d88",
   "metadata": {},
   "source": [
    "45----101101\n",
    "67----100011\n",
    "\n",
    "45 & 67\n",
    "\n",
    "       101101------45\n",
    "   &   100011------67\n",
    "       -------\n",
    "       100001------33\n",
    "       -------"
   ]
  },
  {
   "cell_type": "code",
   "execution_count": 4,
   "id": "2260a046-54ce-453a-8b7e-ffe63e102078",
   "metadata": {},
   "outputs": [
    {
     "data": {
      "text/plain": [
       "33"
      ]
     },
     "execution_count": 4,
     "metadata": {},
     "output_type": "execute_result"
    }
   ],
   "source": [
    "int(0b100001)"
   ]
  },
  {
   "cell_type": "code",
   "execution_count": 5,
   "id": "8fa1ad91-91a0-4e70-b091-c472d4ec1ad4",
   "metadata": {},
   "outputs": [],
   "source": [
    "j1 = int(0b101101) & int(0b100011) "
   ]
  },
  {
   "cell_type": "code",
   "execution_count": 7,
   "id": "ce63c631-2080-453a-a1bc-00b44d018629",
   "metadata": {},
   "outputs": [
    {
     "data": {
      "text/plain": [
       "'0b100001'"
      ]
     },
     "execution_count": 7,
     "metadata": {},
     "output_type": "execute_result"
    }
   ],
   "source": [
    "bin(j1)"
   ]
  },
  {
   "cell_type": "markdown",
   "id": "29a9ef61-ff77-47de-84be-512060278b10",
   "metadata": {},
   "source": [
    "###### import math module"
   ]
  },
  {
   "cell_type": "code",
   "execution_count": 9,
   "id": "cf406338-b63d-46b4-8332-734d582741f9",
   "metadata": {},
   "outputs": [],
   "source": [
    "import math"
   ]
  },
  {
   "cell_type": "code",
   "execution_count": 11,
   "id": "177cbfc0-0c28-4ec1-b5cb-ed2b748a9965",
   "metadata": {},
   "outputs": [],
   "source": [
    "sq=math.sqrt(67)"
   ]
  },
  {
   "cell_type": "code",
   "execution_count": 12,
   "id": "390d9532-86da-4471-a113-46daddd92c18",
   "metadata": {},
   "outputs": [
    {
     "data": {
      "text/plain": [
       "8.18535277187245"
      ]
     },
     "execution_count": 12,
     "metadata": {},
     "output_type": "execute_result"
    }
   ],
   "source": [
    "sq"
   ]
  },
  {
   "cell_type": "code",
   "execution_count": 13,
   "id": "02f67282-06aa-4e96-ae33-32fe9f3ce0e1",
   "metadata": {},
   "outputs": [
    {
     "data": {
      "text/plain": [
       "8"
      ]
     },
     "execution_count": 13,
     "metadata": {},
     "output_type": "execute_result"
    }
   ],
   "source": [
    "int(sq)"
   ]
  },
  {
   "cell_type": "code",
   "execution_count": 14,
   "id": "e37a2d59-7c70-4b86-bf86-1dd604686823",
   "metadata": {},
   "outputs": [
    {
     "name": "stdout",
     "output_type": "stream",
     "text": [
      "8\n"
     ]
    }
   ],
   "source": [
    "print(math.floor(sq)) ##floor is the minimum value"
   ]
  },
  {
   "cell_type": "code",
   "execution_count": 15,
   "id": "95b593e7-a8d3-469a-ba9d-d5cd5c31994b",
   "metadata": {},
   "outputs": [
    {
     "name": "stdout",
     "output_type": "stream",
     "text": [
      "9\n"
     ]
    }
   ],
   "source": [
    "print(math.ceil(sq)) ##ceil is the highest value"
   ]
  },
  {
   "cell_type": "code",
   "execution_count": 16,
   "id": "271ff82e-d8ce-40bc-ae28-32a0fe67bc4c",
   "metadata": {},
   "outputs": [
    {
     "name": "stdout",
     "output_type": "stream",
     "text": [
      "3.141592653589793\n"
     ]
    }
   ],
   "source": [
    "print(math.pi) ##constant values"
   ]
  },
  {
   "cell_type": "code",
   "execution_count": 17,
   "id": "216d3289-50e5-4c42-b906-24d7f9ba27d0",
   "metadata": {},
   "outputs": [],
   "source": [
    "#let's minimize math to m\n",
    "\n",
    "import math as m"
   ]
  },
  {
   "cell_type": "code",
   "execution_count": 18,
   "id": "c9bf71b7-c8c4-4cbf-81c5-2db9d5e7fc1a",
   "metadata": {},
   "outputs": [],
   "source": [
    "from math import sqrt,pow"
   ]
  },
  {
   "cell_type": "code",
   "execution_count": 19,
   "id": "530eca47-4e11-43d3-be7c-3172f45a6c14",
   "metadata": {},
   "outputs": [
    {
     "data": {
      "text/plain": [
       "16.0"
      ]
     },
     "execution_count": 19,
     "metadata": {},
     "output_type": "execute_result"
    }
   ],
   "source": [
    "pow(4,2)"
   ]
  },
  {
   "cell_type": "code",
   "execution_count": 20,
   "id": "9f4918f8-99be-4045-9a42-26ebadcf9607",
   "metadata": {},
   "outputs": [
    {
     "data": {
      "text/plain": [
       "16"
      ]
     },
     "execution_count": 20,
     "metadata": {},
     "output_type": "execute_result"
    }
   ],
   "source": [
    "int(pow(4,2))"
   ]
  },
  {
   "cell_type": "code",
   "execution_count": 21,
   "id": "dfaa7967-6827-435d-a038-0a99721785a1",
   "metadata": {},
   "outputs": [
    {
     "data": {
      "text/plain": [
       "16"
      ]
     },
     "execution_count": 21,
     "metadata": {},
     "output_type": "execute_result"
    }
   ],
   "source": [
    "round(pow(4,2))##shows the valuein int form"
   ]
  },
  {
   "cell_type": "markdown",
   "id": "70186536-1ad0-40dc-8e1e-80c05907b34a",
   "metadata": {},
   "source": [
    "## Let's work with Input ()"
   ]
  },
  {
   "cell_type": "code",
   "execution_count": 27,
   "id": "3d1769e5-32e9-4cc7-9d9b-f8bc9bad3b20",
   "metadata": {},
   "outputs": [
    {
     "name": "stdin",
     "output_type": "stream",
     "text": [
      " 12\n",
      " 13\n"
     ]
    },
    {
     "name": "stdout",
     "output_type": "stream",
     "text": [
      "1213\n"
     ]
    }
   ],
   "source": [
    "d = input()\n",
    "f = input()\n",
    "g = d + f\n",
    "print(g)"
   ]
  },
  {
   "cell_type": "code",
   "execution_count": 28,
   "id": "8afa8638-e45f-4aae-9570-1d2d1b73c8f6",
   "metadata": {},
   "outputs": [
    {
     "name": "stdin",
     "output_type": "stream",
     "text": [
      "Enter the 1st number 23\n",
      "Enter the 2nd number 56\n"
     ]
    },
    {
     "name": "stdout",
     "output_type": "stream",
     "text": [
      "2356\n"
     ]
    }
   ],
   "source": [
    "x1 = input('Enter the 1st number') #whenevery you works in input function it always give you string \n",
    "y1 = input('Enter the 2nd number') # it wont understand as arithmetic operator\n",
    "z1 = x1 + y1\n",
    "print(z1)"
   ]
  },
  {
   "cell_type": "code",
   "execution_count": 29,
   "id": "d74555f0-9dff-4dbc-877a-22ee348b2d87",
   "metadata": {},
   "outputs": [
    {
     "data": {
      "text/plain": [
       "str"
      ]
     },
     "execution_count": 29,
     "metadata": {},
     "output_type": "execute_result"
    }
   ],
   "source": [
    "type(x1)\n",
    "type(y1)"
   ]
  },
  {
   "cell_type": "code",
   "execution_count": 30,
   "id": "7e31c529-dc61-4a34-9b63-2d9f1def97ee",
   "metadata": {},
   "outputs": [
    {
     "name": "stdin",
     "output_type": "stream",
     "text": [
      "Enter the 1st number 67\n",
      "Enter the 2nd number 89\n"
     ]
    },
    {
     "name": "stdout",
     "output_type": "stream",
     "text": [
      "156\n"
     ]
    }
   ],
   "source": [
    "x1 = input('Enter the 1st number') #whenevery you works in input function it always give you string \n",
    "a1 = int(x1)\n",
    "y1 = input('Enter the 2nd number') # it wont understand as arithmetic operator\n",
    "b1 = int(y1)\n",
    "z1 = a1 + b1\n",
    "print(z1)"
   ]
  },
  {
   "cell_type": "code",
   "execution_count": 31,
   "id": "dcc309f5-e3b4-4fa7-b829-dc54bd7a1d1a",
   "metadata": {},
   "outputs": [
    {
     "name": "stdin",
     "output_type": "stream",
     "text": [
      "Enter the 1st number 12\n",
      "Enter the 2nd number 67\n"
     ]
    },
    {
     "data": {
      "text/plain": [
       "79"
      ]
     },
     "execution_count": 31,
     "metadata": {},
     "output_type": "execute_result"
    }
   ],
   "source": [
    "x2 = int(input('Enter the 1st number'))\n",
    "y2 = int(input('Enter the 2nd number'))\n",
    "z2 = x2 + y2\n",
    "z2"
   ]
  },
  {
   "cell_type": "markdown",
   "id": "9eead796-a644-4e85-a751-21ca653770cf",
   "metadata": {},
   "source": [
    "###### Let's deal with String"
   ]
  },
  {
   "cell_type": "code",
   "execution_count": 32,
   "id": "378d3d07-3d90-465a-ac18-769a872a46e8",
   "metadata": {},
   "outputs": [
    {
     "name": "stdin",
     "output_type": "stream",
     "text": [
      "Enter a char shikha navneet\n"
     ]
    },
    {
     "name": "stdout",
     "output_type": "stream",
     "text": [
      "shikha navneet\n"
     ]
    }
   ],
   "source": [
    "str1 = input('Enter a char')\n",
    "print(str1)"
   ]
  },
  {
   "cell_type": "code",
   "execution_count": 36,
   "id": "c6a6e6a5-ec11-4dee-a4df-4738a186ead6",
   "metadata": {},
   "outputs": [
    {
     "name": "stdout",
     "output_type": "stream",
     "text": [
      "h\n"
     ]
    }
   ],
   "source": [
    "print(str1[4])"
   ]
  },
  {
   "cell_type": "code",
   "execution_count": 37,
   "id": "ee8ea221-cba1-4e8d-86bd-29b1764d03ac",
   "metadata": {},
   "outputs": [
    {
     "name": "stdout",
     "output_type": "stream",
     "text": [
      "ha \n"
     ]
    }
   ],
   "source": [
    "print(str1[4:7])"
   ]
  },
  {
   "cell_type": "code",
   "execution_count": 38,
   "id": "5c3e0c24-9b3f-4fb4-85fa-b002612cf697",
   "metadata": {},
   "outputs": [
    {
     "name": "stdout",
     "output_type": "stream",
     "text": [
      "t\n"
     ]
    }
   ],
   "source": [
    "print(str1[-1])"
   ]
  },
  {
   "cell_type": "code",
   "execution_count": 47,
   "id": "e6e9cc7a-49fb-4083-b9c6-1e0a78b8dcfb",
   "metadata": {},
   "outputs": [
    {
     "name": "stdout",
     "output_type": "stream",
     "text": [
      "shikha navnee\n"
     ]
    }
   ],
   "source": [
    "print(str1[:-1])"
   ]
  },
  {
   "cell_type": "code",
   "execution_count": 48,
   "id": "1a643e57-b7ea-4d0b-9d6e-8eb84142ab56",
   "metadata": {},
   "outputs": [
    {
     "name": "stdout",
     "output_type": "stream",
     "text": [
      "t\n"
     ]
    }
   ],
   "source": [
    "print(str1[-1:])"
   ]
  },
  {
   "cell_type": "code",
   "execution_count": 49,
   "id": "b7c569e9-ea06-4a41-8175-5451e4970690",
   "metadata": {},
   "outputs": [
    {
     "name": "stdin",
     "output_type": "stream",
     "text": [
      "Enter a char kushwaha\n"
     ]
    },
    {
     "name": "stdout",
     "output_type": "stream",
     "text": [
      "k\n"
     ]
    }
   ],
   "source": [
    "str=input('Enter a char')[0]\n",
    "print(str)"
   ]
  },
  {
   "cell_type": "code",
   "execution_count": 50,
   "id": "129b0b86-45e7-42c7-a7c1-fbf3836c620e",
   "metadata": {},
   "outputs": [
    {
     "name": "stdin",
     "output_type": "stream",
     "text": [
      "enter an expr 2+5-2\n"
     ]
    },
    {
     "name": "stdout",
     "output_type": "stream",
     "text": [
      "5\n"
     ]
    }
   ],
   "source": [
    "result = eval(input('enter an expr'))##eval deals with expressions\n",
    "print(result)"
   ]
  },
  {
   "cell_type": "code",
   "execution_count": null,
   "id": "09889272-6974-4436-8ade-49704d8f957d",
   "metadata": {},
   "outputs": [],
   "source": []
  }
 ],
 "metadata": {
  "kernelspec": {
   "display_name": "Python 3 (ipykernel)",
   "language": "python",
   "name": "python3"
  },
  "language_info": {
   "codemirror_mode": {
    "name": "ipython",
    "version": 3
   },
   "file_extension": ".py",
   "mimetype": "text/x-python",
   "name": "python",
   "nbconvert_exporter": "python",
   "pygments_lexer": "ipython3",
   "version": "3.11.5"
  },
  "widgets": {
   "application/vnd.jupyter.widget-state+json": {
    "state": {},
    "version_major": 2,
    "version_minor": 0
   }
  }
 },
 "nbformat": 4,
 "nbformat_minor": 5
}
