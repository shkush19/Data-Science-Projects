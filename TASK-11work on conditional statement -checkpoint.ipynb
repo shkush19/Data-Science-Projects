{
 "cells": [
  {
   "cell_type": "markdown",
   "id": "bdcacfd6-6cb1-4c99-bd72-47ffd326d1ae",
   "metadata": {},
   "source": [
    "_______Conditional Statements in Python______________"
   ]
  },
  {
   "cell_type": "code",
   "execution_count": 1,
   "id": "d6c6034f-a0d8-4ec7-ab80-32376abeba0f",
   "metadata": {},
   "outputs": [
    {
     "name": "stdout",
     "output_type": "stream",
     "text": [
      "I am Not in if\n"
     ]
    }
   ],
   "source": [
    "i = 10\n",
    "\n",
    "if (i <= 5): ##USe of single if\n",
    "    print(\"10 is less than 15\")\n",
    "print(\"I am Not in if\")"
   ]
  },
  {
   "cell_type": "code",
   "execution_count": 17,
   "id": "fe25bb89-d266-4cce-9a8c-cbef9b907fc1",
   "metadata": {},
   "outputs": [
    {
     "name": "stdout",
     "output_type": "stream",
     "text": [
      "Smaller number\n",
      "Smaller and equal\n",
      "Thirty Four\n"
     ]
    }
   ],
   "source": [
    "n = 34\n",
    "s = 67\n",
    "if (n < s):\n",
    "   print('Smaller number')\n",
    "if (n <= s):\n",
    "    print('Smaller and equal')\n",
    "if (n==34):\n",
    "    print('Thirty Four')\n",
    "if (n > s):\n",
    "   print('Greater number')\n",
    "if (n >= s):\n",
    "    print('Greater and equal')\n",
    "if (n!=34):\n",
    "    print('Thirty Four')\n"
   ]
  },
  {
   "cell_type": "markdown",
   "id": "602cbb27-f82d-4c60-8326-7165ae015529",
   "metadata": {},
   "source": [
    "______In above code even if some conditions are not true still internally it will execute and code optimization is slow________\n",
    "\n",
    "______Because, it checks all if conditions irrespective of true or false._______\n",
    "\n",
    "______Hence, to avoid this 'If-Else' has been introduced and suggested not to go with multiple if statements._______"
   ]
  },
  {
   "cell_type": "markdown",
   "id": "44f2c9db-bbdf-4d90-8e04-8cf2f057e327",
   "metadata": {},
   "source": [
    "___________+++++++IF-ELSE+++++++______________"
   ]
  },
  {
   "cell_type": "code",
   "execution_count": 18,
   "id": "3f0a5f12-1cca-45de-8d04-4eee006b55d6",
   "metadata": {},
   "outputs": [
    {
     "name": "stdout",
     "output_type": "stream",
     "text": [
      "i is greater than 15\n",
      "Code executed\n"
     ]
    }
   ],
   "source": [
    "i = 20\n",
    "if (i < 15):\n",
    "    print(\"i is smaller than 15\")\n",
    "    \n",
    "else:\n",
    "    print(\"i is greater than 15\")\n",
    "   \n",
    "print(\"Code executed\")"
   ]
  },
  {
   "cell_type": "markdown",
   "id": "88897432-436c-4d9e-8a93-33e249b5b97c",
   "metadata": {},
   "source": [
    "________Let's merge this concept with user input functions______"
   ]
  },
  {
   "cell_type": "code",
   "execution_count": 19,
   "id": "0df6af84-c12c-4340-9dbf-6a15302e0833",
   "metadata": {},
   "outputs": [
    {
     "name": "stdin",
     "output_type": "stream",
     "text": [
      "Enter your name Shikha\n"
     ]
    },
    {
     "name": "stdout",
     "output_type": "stream",
     "text": [
      "Hello, Shikha\n"
     ]
    }
   ],
   "source": [
    "name = input (\"Enter your name\")\n",
    "print(\"Hello,\",name)"
   ]
  },
  {
   "cell_type": "code",
   "execution_count": 29,
   "id": "27d30a66-0793-4c8c-a16f-5db95d67e753",
   "metadata": {},
   "outputs": [
    {
     "name": "stdin",
     "output_type": "stream",
     "text": [
      "Enter 1st number 67\n",
      "Enter 2nd number 89\n"
     ]
    },
    {
     "name": "stdout",
     "output_type": "stream",
     "text": [
      "89 smaller number\n"
     ]
    }
   ],
   "source": [
    "n1 = input(\"Enter 1st number\")\n",
    "n2 = input(\"Enter 2nd number\")\n",
    "if n1 > n2:\n",
    "    print(n1, \"greater number\")\n",
    "else:\n",
    "    print(n2, \"smaller number\")"
   ]
  },
  {
   "cell_type": "markdown",
   "id": "04950adb-76d2-4034-b036-32e240709b23",
   "metadata": {},
   "source": [
    "_______In above example, you observe we are etting wrong output,_______\n",
    "Because, after if block, else block don't have any condition.\n",
    "\n",
    "To avoid this situation we need \"IF-ELIF-ELSE\""
   ]
  },
  {
   "cell_type": "code",
   "execution_count": 38,
   "id": "cb66910b-3333-44e6-863a-e07dbe0ced25",
   "metadata": {},
   "outputs": [
    {
     "name": "stdin",
     "output_type": "stream",
     "text": [
      "Enter 1st number 45\n",
      "Enter 2nd number 90\n"
     ]
    },
    {
     "name": "stdout",
     "output_type": "stream",
     "text": [
      "90 greater number\n"
     ]
    }
   ],
   "source": [
    "n1 = input(\"Enter 1st number\")\n",
    "n2 = input(\"Enter 2nd number\")\n",
    "if n1 > n2:\n",
    "    print(n1, \"greater number\")\n",
    "elif n1 < n2:\n",
    "    print(n2, \"greater number\")\n",
    "else:\n",
    "    print(\"Both numbers are equal\")\n"
   ]
  },
  {
   "cell_type": "code",
   "execution_count": 41,
   "id": "8f1a5b85-767d-4954-a1f9-1b8ed49cff38",
   "metadata": {},
   "outputs": [
    {
     "name": "stdout",
     "output_type": "stream",
     "text": [
      "i is 20\n"
     ]
    }
   ],
   "source": [
    "i = 20\n",
    "if (i == 10):\n",
    "    print(\"i is 10\")\n",
    "elif (i == 15):\n",
    "    print(\"i is 15\")\n",
    "elif (i == 20):\n",
    "    print(\"i is 20\")\n",
    "else:\n",
    "    print(\"i is not present\")"
   ]
  },
  {
   "cell_type": "markdown",
   "id": "0a4a1d49-54ea-430b-adda-2886926357dd",
   "metadata": {},
   "source": [
    "______NESTED IF____________"
   ]
  },
  {
   "cell_type": "code",
   "execution_count": 40,
   "id": "8823a9ab-2f3a-43be-bcb0-a28080fcda91",
   "metadata": {},
   "outputs": [
    {
     "name": "stdout",
     "output_type": "stream",
     "text": [
      "i is smaller than 15\n",
      "i is smaller than 12 too\n"
     ]
    }
   ],
   "source": [
    "\n",
    "i = 10\n",
    "if (i == 10):\n",
    "    if (i < 15):\n",
    "        print(\"i is smaller than 15\")\n",
    "    if (i < 12):\n",
    "        print(\"i is smaller than 12 too\")\n",
    "    else:\n",
    "        print(\"i is greater than 15\")"
   ]
  },
  {
   "cell_type": "markdown",
   "id": "922f6f9b-f704-4853-8f8b-9bebcb448c74",
   "metadata": {},
   "source": [
    "_____________Short Hand IF__________"
   ]
  },
  {
   "cell_type": "code",
   "execution_count": 42,
   "id": "a3099439-0dc4-4739-b54c-0e682a9e2fd3",
   "metadata": {},
   "outputs": [
    {
     "name": "stdout",
     "output_type": "stream",
     "text": [
      "i is less than 15\n"
     ]
    }
   ],
   "source": [
    "i = 10\n",
    "if i < 15: print(\"i is less than 15\")"
   ]
  },
  {
   "cell_type": "code",
   "execution_count": 45,
   "id": "2d5c3e45-cbf1-4adb-b679-eabe9c5b682b",
   "metadata": {},
   "outputs": [
    {
     "name": "stdout",
     "output_type": "stream",
     "text": [
      "Shikha is My name\n"
     ]
    }
   ],
   "source": [
    "i = 'Shikha'\n",
    "if i == 'Shikha':print(i, \"is My name\")"
   ]
  },
  {
   "cell_type": "code",
   "execution_count": 46,
   "id": "34a7cbf7-594f-456d-b597-845a3beba8f1",
   "metadata": {},
   "outputs": [
    {
     "name": "stdin",
     "output_type": "stream",
     "text": [
      "Enter any name Shikha\n"
     ]
    },
    {
     "name": "stdout",
     "output_type": "stream",
     "text": [
      "Hello Shikha\n"
     ]
    }
   ],
   "source": [
    "i = input(\"Enter any name\")\n",
    "if i == i:print(\"Hello\", i) ##USing input functions"
   ]
  },
  {
   "cell_type": "code",
   "execution_count": 50,
   "id": "ade68cb3-5461-48d5-bfea-39afca5d0571",
   "metadata": {},
   "outputs": [
    {
     "name": "stdin",
     "output_type": "stream",
     "text": [
      "Enter 1st Number 12\n",
      "Enter 2nd Number 34\n"
     ]
    },
    {
     "name": "stdout",
     "output_type": "stream",
     "text": [
      "Smaller number 12\n"
     ]
    }
   ],
   "source": [
    "i =input(\"Enter 1st Number\")\n",
    "i1 =input(\"Enter 2nd Number\") \n",
    "if i < i1:print(\"Smaller number\",i)\n",
    "elif i > i1:print(\"Smaller number\",i1)\n",
    "else:\n",
    "    print(\"Enter Proper value\")\n",
    "    "
   ]
  },
  {
   "cell_type": "code",
   "execution_count": 54,
   "id": "de922321-4965-4542-8882-9e9de98fcb21",
   "metadata": {},
   "outputs": [
    {
     "name": "stdin",
     "output_type": "stream",
     "text": [
      "Enter your desired number to check even and odd 90\n"
     ]
    },
    {
     "name": "stdout",
     "output_type": "stream",
     "text": [
      "The number is even.\n"
     ]
    }
   ],
   "source": [
    "nu = int(input(\"Enter your desired number to check even and odd\"))#int is to conver the input value\n",
    "if nu % 2 == 0:\n",
    "    print(\"The number is even.\")\n",
    "else:\n",
    "    print(\"The number is odd.\")\n",
    "\n"
   ]
  },
  {
   "cell_type": "code",
   "execution_count": 55,
   "id": "5cf489b9-ff7c-4de2-a46d-03e0d87e748f",
   "metadata": {},
   "outputs": [
    {
     "name": "stdout",
     "output_type": "stream",
     "text": [
      "You are not eligible to vote.\n"
     ]
    }
   ],
   "source": [
    "age = 15\n",
    "if age >= 18:\n",
    "    print(\"You are eligible to vote.\")\n",
    "else:\n",
    "    print(\"You are not eligible to vote.\")"
   ]
  },
  {
   "cell_type": "code",
   "execution_count": null,
   "id": "a25aa866-c07d-4f07-94f0-927d5291914c",
   "metadata": {},
   "outputs": [],
   "source": []
  }
 ],
 "metadata": {
  "kernelspec": {
   "display_name": "Python 3 (ipykernel)",
   "language": "python",
   "name": "python3"
  },
  "language_info": {
   "codemirror_mode": {
    "name": "ipython",
    "version": 3
   },
   "file_extension": ".py",
   "mimetype": "text/x-python",
   "name": "python",
   "nbconvert_exporter": "python",
   "pygments_lexer": "ipython3",
   "version": "3.11.5"
  },
  "widgets": {
   "application/vnd.jupyter.widget-state+json": {
    "state": {},
    "version_major": 2,
    "version_minor": 0
   }
  }
 },
 "nbformat": 4,
 "nbformat_minor": 5
}
