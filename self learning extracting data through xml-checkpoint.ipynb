{
 "cells": [
  {
   "cell_type": "code",
   "execution_count": 1,
   "id": "0d58c7b7-b2ef-4279-a8c6-13827efd21f6",
   "metadata": {},
   "outputs": [],
   "source": [
    "import pandas as pand"
   ]
  },
  {
   "cell_type": "code",
   "execution_count": 6,
   "id": "93c10f71-f93a-48f3-bb01-95eadfc60a5d",
   "metadata": {},
   "outputs": [
    {
     "name": "stdout",
     "output_type": "stream",
     "text": [
      "  Author LastAuthor               Created  Version  AllowPNG  WindowHeight  \\\n",
      "0     hp         hp  2024-03-26T16:57:42Z     16.0       NaN           NaN   \n",
      "1   None       None                  None      NaN       NaN           NaN   \n",
      "2   None       None                  None      NaN       NaN        4190.0   \n",
      "3   None       None                  None      NaN       NaN           NaN   \n",
      "4   None       None                  None      NaN       NaN           NaN   \n",
      "\n",
      "   WindowWidth  WindowTopX  WindowTopY ProtectStructure ProtectWindows  Style  \\\n",
      "0          NaN         NaN         NaN              NaN            NaN   None   \n",
      "1          NaN         NaN         NaN              NaN            NaN   None   \n",
      "2      14380.0         0.0         0.0            False          False   None   \n",
      "3          NaN         NaN         NaN              NaN            NaN  \\n      \n",
      "4          NaN         NaN         NaN              NaN            NaN   None   \n",
      "\n",
      "          Name  Table WorksheetOptions  \n",
      "0         None   None             None  \n",
      "1         None   None             None  \n",
      "2         None   None             None  \n",
      "3         None   None             None  \n",
      "4  raw dataset  \\n               \\n     \n"
     ]
    }
   ],
   "source": [
    "gen_1 = pand.read_xml(r'C:\\Users\\hp\\Documents\\rawdataset.xml')\n",
    "print(gen_1)"
   ]
  },
  {
   "cell_type": "code",
   "execution_count": 7,
   "id": "858769d3-435f-461f-943b-6b9e279c99fb",
   "metadata": {},
   "outputs": [
    {
     "data": {
      "text/plain": [
       "Index(['Author', 'LastAuthor', 'Created', 'Version', 'AllowPNG',\n",
       "       'WindowHeight', 'WindowWidth', 'WindowTopX', 'WindowTopY',\n",
       "       'ProtectStructure', 'ProtectWindows', 'Style', 'Name', 'Table',\n",
       "       'WorksheetOptions'],\n",
       "      dtype='object')"
      ]
     },
     "execution_count": 7,
     "metadata": {},
     "output_type": "execute_result"
    }
   ],
   "source": [
    "gen_1.columns"
   ]
  },
  {
   "cell_type": "code",
   "execution_count": null,
   "id": "1c6d3309-c0ca-4a7a-abb9-567bc9029fa9",
   "metadata": {},
   "outputs": [],
   "source": []
  }
 ],
 "metadata": {
  "kernelspec": {
   "display_name": "Python 3 (ipykernel)",
   "language": "python",
   "name": "python3"
  },
  "language_info": {
   "codemirror_mode": {
    "name": "ipython",
    "version": 3
   },
   "file_extension": ".py",
   "mimetype": "text/x-python",
   "name": "python",
   "nbconvert_exporter": "python",
   "pygments_lexer": "ipython3",
   "version": "3.11.5"
  },
  "widgets": {
   "application/vnd.jupyter.widget-state+json": {
    "state": {},
    "version_major": 2,
    "version_minor": 0
   }
  }
 },
 "nbformat": 4,
 "nbformat_minor": 5
}
