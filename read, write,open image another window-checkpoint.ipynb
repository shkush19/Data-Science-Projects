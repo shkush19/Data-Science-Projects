{
 "cells": [
  {
   "cell_type": "markdown",
   "id": "aa1568fb-c7ca-4751-8b15-ca54b856eac0",
   "metadata": {},
   "source": [
    "# WITHOUT USING MATPLOTLIB WE WORK IMAGE WITH OPEN CV"
   ]
  },
  {
   "cell_type": "code",
   "execution_count": null,
   "id": "35403cdc-a30c-4f03-80c6-0f48dfc86b50",
   "metadata": {},
   "outputs": [],
   "source": [
    "import cv2 \n",
    "\n",
    "myimg = cv2.imread(r'C:\\Users\\A3MAX SOFTWARE TECH\\Desktop\\WORK\\1. KODI WORK\\1. NARESH\\10. WORKSHOP\\8. Exploring Generative AI through computer vision\\myimage.jpg')"
   ]
  },
  {
   "cell_type": "code",
   "execution_count": null,
   "id": "35f0dbc9-87de-4454-aab9-73158b6a4642",
   "metadata": {},
   "outputs": [],
   "source": [
    "wrong_img = cv2.imread(r'C:\\Users\\A3MAX SOFTWARE TECH\\Desktop\\WORK\\1. KODI WORK\\1. NARESH\\10. WORKSHOP\\8. Exploring Generative AI through computer vision\\dog.jpg')"
   ]
  },
  {
   "cell_type": "code",
   "execution_count": null,
   "id": "4775b501-06ce-4098-9072-6bfab1230a85",
   "metadata": {},
   "outputs": [],
   "source": [
    "type(wrong_img)"
   ]
  },
  {
   "cell_type": "code",
   "execution_count": null,
   "id": "6ef74d5c-70f1-43cf-944a-b5142a5dc47d",
   "metadata": {},
   "outputs": [],
   "source": [
    "type(myimg)"
   ]
  },
  {
   "cell_type": "code",
   "execution_count": 2,
   "id": "8b744ce0-f58e-4e31-a21b-fe1cfb565334",
   "metadata": {},
   "outputs": [
    {
     "data": {
      "text/plain": [
       "-1"
      ]
     },
     "execution_count": 2,
     "metadata": {},
     "output_type": "execute_result"
    }
   ],
   "source": [
    "import cv2 \n",
    "\n",
    "myimg = cv2.imread(r'C:\\Users\\A3MAX SOFTWARE TECH\\Desktop\\WORK\\1. KODI WORK\\1. NARESH\\10. WORKSHOP\\8. Exploring Generative AI through computer vision\\myimage.jpg')\n",
    "\n",
    "cv2.imshow('my image', myimg)\n",
    "\n",
    "cv2.waitKey()"
   ]
  },
  {
   "cell_type": "code",
   "execution_count": 3,
   "id": "31d37d00-20ce-49d0-b306-6f81ae317364",
   "metadata": {},
   "outputs": [],
   "source": [
    "import cv2 \n",
    "\n",
    "myimg = cv2.imread(r'C:\\Users\\A3MAX SOFTWARE TECH\\Desktop\\WORK\\1. KODI WORK\\1. NARESH\\10. WORKSHOP\\8. Exploring Generative AI through computer vision\\myimage.jpg')\n",
    "\n",
    "while True:\n",
    "    cv2.imshow('my image', myimg)\n",
    "\n",
    "    if cv2.waitKey(1) & 0xFF == 27 :\n",
    "        break\n",
    "\n",
    "cv2.destroyAllWindows()"
   ]
  },
  {
   "cell_type": "code",
   "execution_count": null,
   "id": "fa7fb2f1-313e-47b1-82c6-3e5b547e71a8",
   "metadata": {},
   "outputs": [],
   "source": []
  }
 ],
 "metadata": {
  "kernelspec": {
   "display_name": "Python 3 (ipykernel)",
   "language": "python",
   "name": "python3"
  },
  "language_info": {
   "codemirror_mode": {
    "name": "ipython",
    "version": 3
   },
   "file_extension": ".py",
   "mimetype": "text/x-python",
   "name": "python",
   "nbconvert_exporter": "python",
   "pygments_lexer": "ipython3",
   "version": "3.11.7"
  }
 },
 "nbformat": 4,
 "nbformat_minor": 5
}
