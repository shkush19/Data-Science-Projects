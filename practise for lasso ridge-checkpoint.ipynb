{
 "cells": [
  {
   "cell_type": "code",
   "execution_count": 49,
   "id": "f01f49a8-a0a2-4c7d-a365-8d74a3cc05b8",
   "metadata": {},
   "outputs": [],
   "source": [
    "#Import numerical libraries\n",
    "import pandas as pd\n",
    "import numpy as np\n",
    "\n",
    "#Import graphical plotting libraries\n",
    "import seaborn as sns\n",
    "import matplotlib.pyplot as plt\n",
    "%matplotlib inline\n",
    "\n",
    "#Import Linear Regression Machine Learning Libraries\n",
    "from sklearn import preprocessing\n",
    "from sklearn.preprocessing import PolynomialFeatures\n",
    "from sklearn.model_selection import train_test_split\n",
    "\n",
    "from sklearn.linear_model import LinearRegression, Ridge, Lasso\n",
    "from sklearn.metrics import r2_score"
   ]
  },
  {
   "cell_type": "code",
   "execution_count": 50,
   "id": "5554740a-9752-4cdf-8c2b-78b548314a53",
   "metadata": {},
   "outputs": [],
   "source": [
    "\n",
    "#Load data\n",
    "data=pd.read_csv(r'S:\\Naresh IT\\30th April\\30th\\lasso, ridge, elastic net\\TASK-22_LASSO,RIDGE\\car-mpg.csv')"
   ]
  },
  {
   "cell_type": "code",
   "execution_count": 51,
   "id": "20f036a6-b1e9-4bee-acfe-2b1e3cb832d6",
   "metadata": {},
   "outputs": [
    {
     "data": {
      "text/html": [
       "<div>\n",
       "<style scoped>\n",
       "    .dataframe tbody tr th:only-of-type {\n",
       "        vertical-align: middle;\n",
       "    }\n",
       "\n",
       "    .dataframe tbody tr th {\n",
       "        vertical-align: top;\n",
       "    }\n",
       "\n",
       "    .dataframe thead th {\n",
       "        text-align: right;\n",
       "    }\n",
       "</style>\n",
       "<table border=\"1\" class=\"dataframe\">\n",
       "  <thead>\n",
       "    <tr style=\"text-align: right;\">\n",
       "      <th></th>\n",
       "      <th>mpg</th>\n",
       "      <th>cyl</th>\n",
       "      <th>disp</th>\n",
       "      <th>hp</th>\n",
       "      <th>wt</th>\n",
       "      <th>acc</th>\n",
       "      <th>yr</th>\n",
       "      <th>origin</th>\n",
       "      <th>car_type</th>\n",
       "      <th>car_name</th>\n",
       "    </tr>\n",
       "  </thead>\n",
       "  <tbody>\n",
       "    <tr>\n",
       "      <th>0</th>\n",
       "      <td>18.0</td>\n",
       "      <td>8</td>\n",
       "      <td>307.0</td>\n",
       "      <td>130</td>\n",
       "      <td>3504</td>\n",
       "      <td>12.0</td>\n",
       "      <td>70</td>\n",
       "      <td>1</td>\n",
       "      <td>0</td>\n",
       "      <td>chevrolet chevelle malibu</td>\n",
       "    </tr>\n",
       "    <tr>\n",
       "      <th>1</th>\n",
       "      <td>15.0</td>\n",
       "      <td>8</td>\n",
       "      <td>350.0</td>\n",
       "      <td>165</td>\n",
       "      <td>3693</td>\n",
       "      <td>11.5</td>\n",
       "      <td>70</td>\n",
       "      <td>1</td>\n",
       "      <td>0</td>\n",
       "      <td>buick skylark 320</td>\n",
       "    </tr>\n",
       "    <tr>\n",
       "      <th>2</th>\n",
       "      <td>18.0</td>\n",
       "      <td>8</td>\n",
       "      <td>318.0</td>\n",
       "      <td>150</td>\n",
       "      <td>3436</td>\n",
       "      <td>11.0</td>\n",
       "      <td>70</td>\n",
       "      <td>1</td>\n",
       "      <td>0</td>\n",
       "      <td>plymouth satellite</td>\n",
       "    </tr>\n",
       "    <tr>\n",
       "      <th>3</th>\n",
       "      <td>16.0</td>\n",
       "      <td>8</td>\n",
       "      <td>304.0</td>\n",
       "      <td>150</td>\n",
       "      <td>3433</td>\n",
       "      <td>12.0</td>\n",
       "      <td>70</td>\n",
       "      <td>1</td>\n",
       "      <td>0</td>\n",
       "      <td>amc rebel sst</td>\n",
       "    </tr>\n",
       "    <tr>\n",
       "      <th>4</th>\n",
       "      <td>17.0</td>\n",
       "      <td>8</td>\n",
       "      <td>302.0</td>\n",
       "      <td>140</td>\n",
       "      <td>3449</td>\n",
       "      <td>10.5</td>\n",
       "      <td>70</td>\n",
       "      <td>1</td>\n",
       "      <td>0</td>\n",
       "      <td>ford torino</td>\n",
       "    </tr>\n",
       "  </tbody>\n",
       "</table>\n",
       "</div>"
      ],
      "text/plain": [
       "    mpg  cyl   disp   hp    wt   acc  yr  origin  car_type  \\\n",
       "0  18.0    8  307.0  130  3504  12.0  70       1         0   \n",
       "1  15.0    8  350.0  165  3693  11.5  70       1         0   \n",
       "2  18.0    8  318.0  150  3436  11.0  70       1         0   \n",
       "3  16.0    8  304.0  150  3433  12.0  70       1         0   \n",
       "4  17.0    8  302.0  140  3449  10.5  70       1         0   \n",
       "\n",
       "                    car_name  \n",
       "0  chevrolet chevelle malibu  \n",
       "1          buick skylark 320  \n",
       "2         plymouth satellite  \n",
       "3              amc rebel sst  \n",
       "4                ford torino  "
      ]
     },
     "execution_count": 51,
     "metadata": {},
     "output_type": "execute_result"
    }
   ],
   "source": [
    "data.head()"
   ]
  },
  {
   "cell_type": "code",
   "execution_count": 52,
   "id": "2cf1db09-ae69-460a-b6f5-9fde6a362529",
   "metadata": {},
   "outputs": [],
   "source": [
    "#Drop car name\n",
    "#Replace origin into 1,2,3.. dont forget get_dummies\n",
    "#Replace ? with nan\n",
    "#Replace all nan with median\n",
    "\n",
    "data = data.drop(['car_name'], axis = 1)\n",
    "data['origin'] = data['origin'].replace({1: 'america', 2: 'europe', 3: 'asia'})\n",
    "data = pd.get_dummies(data,columns = ['origin'])\n",
    "data = data.replace('?', np.nan)\n",
    "data = data.apply(lambda x: x.fillna(x.median()), axis = 0)"
   ]
  },
  {
   "cell_type": "code",
   "execution_count": 53,
   "id": "9d88c197-74a4-4dd1-a580-7f2f26ec6f1b",
   "metadata": {},
   "outputs": [
    {
     "data": {
      "text/html": [
       "<div>\n",
       "<style scoped>\n",
       "    .dataframe tbody tr th:only-of-type {\n",
       "        vertical-align: middle;\n",
       "    }\n",
       "\n",
       "    .dataframe tbody tr th {\n",
       "        vertical-align: top;\n",
       "    }\n",
       "\n",
       "    .dataframe thead th {\n",
       "        text-align: right;\n",
       "    }\n",
       "</style>\n",
       "<table border=\"1\" class=\"dataframe\">\n",
       "  <thead>\n",
       "    <tr style=\"text-align: right;\">\n",
       "      <th></th>\n",
       "      <th>mpg</th>\n",
       "      <th>cyl</th>\n",
       "      <th>disp</th>\n",
       "      <th>hp</th>\n",
       "      <th>wt</th>\n",
       "      <th>acc</th>\n",
       "      <th>yr</th>\n",
       "      <th>car_type</th>\n",
       "      <th>origin_america</th>\n",
       "      <th>origin_asia</th>\n",
       "      <th>origin_europe</th>\n",
       "    </tr>\n",
       "  </thead>\n",
       "  <tbody>\n",
       "    <tr>\n",
       "      <th>0</th>\n",
       "      <td>18.0</td>\n",
       "      <td>8</td>\n",
       "      <td>307.0</td>\n",
       "      <td>130</td>\n",
       "      <td>3504</td>\n",
       "      <td>12.0</td>\n",
       "      <td>70</td>\n",
       "      <td>0</td>\n",
       "      <td>True</td>\n",
       "      <td>False</td>\n",
       "      <td>False</td>\n",
       "    </tr>\n",
       "    <tr>\n",
       "      <th>1</th>\n",
       "      <td>15.0</td>\n",
       "      <td>8</td>\n",
       "      <td>350.0</td>\n",
       "      <td>165</td>\n",
       "      <td>3693</td>\n",
       "      <td>11.5</td>\n",
       "      <td>70</td>\n",
       "      <td>0</td>\n",
       "      <td>True</td>\n",
       "      <td>False</td>\n",
       "      <td>False</td>\n",
       "    </tr>\n",
       "    <tr>\n",
       "      <th>2</th>\n",
       "      <td>18.0</td>\n",
       "      <td>8</td>\n",
       "      <td>318.0</td>\n",
       "      <td>150</td>\n",
       "      <td>3436</td>\n",
       "      <td>11.0</td>\n",
       "      <td>70</td>\n",
       "      <td>0</td>\n",
       "      <td>True</td>\n",
       "      <td>False</td>\n",
       "      <td>False</td>\n",
       "    </tr>\n",
       "    <tr>\n",
       "      <th>3</th>\n",
       "      <td>16.0</td>\n",
       "      <td>8</td>\n",
       "      <td>304.0</td>\n",
       "      <td>150</td>\n",
       "      <td>3433</td>\n",
       "      <td>12.0</td>\n",
       "      <td>70</td>\n",
       "      <td>0</td>\n",
       "      <td>True</td>\n",
       "      <td>False</td>\n",
       "      <td>False</td>\n",
       "    </tr>\n",
       "    <tr>\n",
       "      <th>4</th>\n",
       "      <td>17.0</td>\n",
       "      <td>8</td>\n",
       "      <td>302.0</td>\n",
       "      <td>140</td>\n",
       "      <td>3449</td>\n",
       "      <td>10.5</td>\n",
       "      <td>70</td>\n",
       "      <td>0</td>\n",
       "      <td>True</td>\n",
       "      <td>False</td>\n",
       "      <td>False</td>\n",
       "    </tr>\n",
       "  </tbody>\n",
       "</table>\n",
       "</div>"
      ],
      "text/plain": [
       "    mpg  cyl   disp   hp    wt   acc  yr  car_type  origin_america  \\\n",
       "0  18.0    8  307.0  130  3504  12.0  70         0            True   \n",
       "1  15.0    8  350.0  165  3693  11.5  70         0            True   \n",
       "2  18.0    8  318.0  150  3436  11.0  70         0            True   \n",
       "3  16.0    8  304.0  150  3433  12.0  70         0            True   \n",
       "4  17.0    8  302.0  140  3449  10.5  70         0            True   \n",
       "\n",
       "   origin_asia  origin_europe  \n",
       "0        False          False  \n",
       "1        False          False  \n",
       "2        False          False  \n",
       "3        False          False  \n",
       "4        False          False  "
      ]
     },
     "execution_count": 53,
     "metadata": {},
     "output_type": "execute_result"
    }
   ],
   "source": [
    "data.head()"
   ]
  },
  {
   "cell_type": "code",
   "execution_count": 54,
   "id": "c1e0441b-7a75-46be-97c4-f9678ac2fc83",
   "metadata": {},
   "outputs": [],
   "source": [
    "X = data.drop(['mpg'], axis = 1) # independent variable\n",
    "y = data[['mpg']] #dependent variable"
   ]
  },
  {
   "cell_type": "code",
   "execution_count": 55,
   "id": "bc9b860b-6f1f-4fde-ab77-6badee128934",
   "metadata": {},
   "outputs": [],
   "source": [
    "#Scaling the data\n",
    "\n",
    "X_s = preprocessing.scale(X)\n",
    "X_s = pd.DataFrame(X_s, columns = X.columns) #converting scaled data into dataframe\n",
    "\n",
    "y_s = preprocessing.scale(y)\n",
    "y_s = pd.DataFrame(y_s, columns = y.columns) #ideally train, test data should be in columns"
   ]
  },
  {
   "cell_type": "code",
   "execution_count": 56,
   "id": "f388d0a3-6628-4273-881b-c7f6465ac2cc",
   "metadata": {},
   "outputs": [
    {
     "data": {
      "text/plain": [
       "(278, 10)"
      ]
     },
     "execution_count": 56,
     "metadata": {},
     "output_type": "execute_result"
    }
   ],
   "source": [
    "#Split into train, test set\n",
    "\n",
    "X_train, X_test, y_train,y_test = train_test_split(X_s, y_s, test_size = 0.30, random_state = 1)\n",
    "X_train.shape"
   ]
  },
  {
   "cell_type": "code",
   "execution_count": 57,
   "id": "bc602ae4-1cb5-445d-97ba-cf4969e3fc7b",
   "metadata": {},
   "outputs": [
    {
     "name": "stdout",
     "output_type": "stream",
     "text": [
      "The coefficient for cyl is 0.321022385691611\n",
      "The coefficient for disp is 0.32483430918483897\n",
      "The coefficient for hp is -0.22916950059437569\n",
      "The coefficient for wt is -0.7112101905072298\n",
      "The coefficient for acc is 0.014713682764191237\n",
      "The coefficient for yr is 0.3755811949510748\n",
      "The coefficient for car_type is 0.3814769484233099\n",
      "The coefficient for origin_america is -0.07472247547584178\n",
      "The coefficient for origin_asia is 0.044515252035677896\n",
      "The coefficient for origin_europe is 0.04834854953945386\n",
      "The intercept is 0.019284116103639764\n"
     ]
    }
   ],
   "source": [
    "#Fit simple linear model and find coefficients\n",
    "regression_model = LinearRegression()\n",
    "regression_model.fit(X_train, y_train)\n",
    "\n",
    "for idx, col_name in enumerate(X_train.columns):\n",
    "    print('The coefficient for {} is {}'.format(col_name, regression_model.coef_[0][idx]))\n",
    "    \n",
    "intercept = regression_model.intercept_[0]\n",
    "print('The intercept is {}'.format(intercept))"
   ]
  },
  {
   "cell_type": "code",
   "execution_count": 58,
   "id": "66f6a566-05da-4191-8abe-10e8e58008c2",
   "metadata": {},
   "outputs": [
    {
     "name": "stdout",
     "output_type": "stream",
     "text": [
      "Ridge model coef: [[ 0.31952312  0.32087941 -0.22903683 -0.70778671  0.01411737  0.37520765\n",
      "   0.38006161 -0.07455649  0.04447868  0.04817587]]\n"
     ]
    }
   ],
   "source": [
    "#alpha factor here is lambda (penalty term) which helps to reduce the magnitude of coeff\n",
    "\n",
    "ridge_model1 = Ridge(alpha = 0.1)\n",
    "ridge_model1.fit(X_train, y_train)\n",
    "\n",
    "print('Ridge model coef: {}'.format(ridge_model1.coef_))\n",
    "#As the data has 10 columns hence 10 coefficients appear here  "
   ]
  },
  {
   "cell_type": "code",
   "execution_count": 59,
   "id": "18bdc7a0-bd8c-4a96-a067-a8fa2f855eca",
   "metadata": {},
   "outputs": [
    {
     "name": "stdout",
     "output_type": "stream",
     "text": [
      "Ridge model coef: [[ 0.31801201  0.31700461 -0.22890034 -0.7044153   0.01353242  0.37483847\n",
      "   0.37865459 -0.07439446  0.04444374  0.0480065 ]]\n"
     ]
    }
   ],
   "source": [
    "#alpha factor here is lambda (penalty term) which helps to reduce the magnitude of coeff\n",
    "\n",
    "ridge_model2 = Ridge(alpha = 0.2)\n",
    "ridge_model2.fit(X_train, y_train)\n",
    "\n",
    "print('Ridge model coef: {}'.format(ridge_model2.coef_))\n",
    "#As the data has 10 columns hence 10 coefficients appear here  "
   ]
  },
  {
   "cell_type": "code",
   "execution_count": 60,
   "id": "23737cb5-a083-4a84-8fb5-50d57145ecbd",
   "metadata": {},
   "outputs": [
    {
     "name": "stdout",
     "output_type": "stream",
     "text": [
      "Ridge model coef: [[ 0.31649043  0.31320707 -0.22876025 -0.70109447  0.01295851  0.37447352\n",
      "   0.37725608 -0.07423624  0.04441039  0.04784031]]\n"
     ]
    }
   ],
   "source": [
    "#alpha factor here is lambda (penalty term) which helps to reduce the magnitude of coeff\n",
    "\n",
    "ridge_model3 = Ridge(alpha = 0.3)\n",
    "ridge_model3.fit(X_train, y_train)\n",
    "\n",
    "print('Ridge model coef: {}'.format(ridge_model3.coef_))\n",
    "#As the data has 10 columns hence 10 coefficients appear here  "
   ]
  },
  {
   "cell_type": "code",
   "execution_count": 61,
   "id": "dbf1b4dc-138b-4229-9117-14766af640a2",
   "metadata": {},
   "outputs": [
    {
     "name": "stdout",
     "output_type": "stream",
     "text": [
      "Ridge model coef: [[ 0.31495967  0.30948411 -0.22861679 -0.69782283  0.01239531  0.37411266\n",
      "   0.37586629 -0.07408168  0.04437854  0.0476772 ]]\n"
     ]
    }
   ],
   "source": [
    "#alpha factor here is lambda (penalty term) which helps to reduce the magnitude of coeff\n",
    "\n",
    "ridge_model4 = Ridge(alpha = 0.4)\n",
    "ridge_model4.fit(X_train, y_train)\n",
    "\n",
    "print('Ridge model coef: {}'.format(ridge_model4.coef_))\n",
    "#As the data has 10 columns hence 10 coefficients appear here  "
   ]
  },
  {
   "cell_type": "code",
   "execution_count": 62,
   "id": "e655ad6a-41ee-4089-8027-a48ecde0ea3d",
   "metadata": {},
   "outputs": [
    {
     "name": "stdout",
     "output_type": "stream",
     "text": [
      "Ridge model coef: [[ 0.31342092  0.3058332  -0.22847018 -0.694599    0.01184253  0.37375577\n",
      "   0.37448539 -0.07393064  0.04434815  0.04751706]]\n"
     ]
    }
   ],
   "source": [
    "#alpha factor here is lambda (penalty term) which helps to reduce the magnitude of coeff\n",
    "\n",
    "ridge_model5 = Ridge(alpha = 0.5)\n",
    "ridge_model5.fit(X_train, y_train)\n",
    "\n",
    "print('Ridge model coef: {}'.format(ridge_model5.coef_))\n",
    "#As the data has 10 columns hence 10 coefficients appear here  "
   ]
  },
  {
   "cell_type": "code",
   "execution_count": 63,
   "id": "0f5c2c1e-31f9-46f0-a715-e716d91460fe",
   "metadata": {},
   "outputs": [
    {
     "name": "stdout",
     "output_type": "stream",
     "text": [
      "Lasso model coef: [-0.         -0.         -0.01690287 -0.51890013  0.          0.28138241\n",
      "  0.1278489  -0.01642647  0.          0.        ]\n"
     ]
    }
   ],
   "source": [
    "#alpha factor here is lambda (penalty term) which helps to reduce the magnitude of coeff\n",
    "\n",
    "lasso_model1 = Lasso(alpha = 0.1)\n",
    "lasso_model1.fit(X_train, y_train)\n",
    "\n",
    "print('Lasso model coef: {}'.format(lasso_model1.coef_))\n",
    "#As the data has 10 columns hence 10 coefficients appear here   "
   ]
  },
  {
   "cell_type": "code",
   "execution_count": 64,
   "id": "878c6c19-4de4-42d8-8e9e-96572657accc",
   "metadata": {},
   "outputs": [
    {
     "name": "stdout",
     "output_type": "stream",
     "text": [
      "Lasso model coef: [-0.         -0.         -0.         -0.49040652  0.          0.20770417\n",
      "  0.09573255 -0.          0.          0.        ]\n"
     ]
    }
   ],
   "source": [
    "#alpha factor here is lambda (penalty term) which helps to reduce the magnitude of coeff\n",
    "\n",
    "lasso_model2 = Lasso(alpha = 0.2)\n",
    "lasso_model2.fit(X_train, y_train)\n",
    "\n",
    "print('Lasso model coef: {}'.format(lasso_model2.coef_))\n",
    "#As the data has 10 columns hence 10 coefficients appear here  "
   ]
  },
  {
   "cell_type": "code",
   "execution_count": 65,
   "id": "0860b5eb-d355-4099-88ae-23d8e18667df",
   "metadata": {},
   "outputs": [
    {
     "name": "stdout",
     "output_type": "stream",
     "text": [
      "Lasso model coef: [-0.         -0.         -0.         -0.44233698  0.          0.13343315\n",
      "  0.05823763 -0.          0.          0.        ]\n"
     ]
    }
   ],
   "source": [
    "#alpha factor here is lambda (penalty term) which helps to reduce the magnitude of coeff\n",
    "\n",
    "lasso_model3 = Lasso(alpha = 0.3)\n",
    "lasso_model3.fit(X_train, y_train)\n",
    "\n",
    "print('Lasso model coef: {}'.format(lasso_model3.coef_))\n",
    "#As the data has 10 columns hence 10 coefficients appear here  "
   ]
  },
  {
   "cell_type": "code",
   "execution_count": 66,
   "id": "61ec47e8-4f38-4b2b-9caf-f249c2944fcd",
   "metadata": {},
   "outputs": [
    {
     "name": "stdout",
     "output_type": "stream",
     "text": [
      "Lasso model coef: [-0.         -0.         -0.         -0.39425009  0.          0.05916007\n",
      "  0.02075746 -0.          0.          0.        ]\n"
     ]
    }
   ],
   "source": [
    "#alpha factor here is lambda (penalty term) which helps to reduce the magnitude of coeff\n",
    "\n",
    "lasso_model4 = Lasso(alpha = 0.4)\n",
    "lasso_model4.fit(X_train, y_train)\n",
    "\n",
    "print('Lasso model coef: {}'.format(lasso_model4.coef_))\n",
    "#As the data has 10 columns hence 10 coefficients appear here  "
   ]
  },
  {
   "cell_type": "code",
   "execution_count": 67,
   "id": "72b8118d-9559-4e47-b39c-c59641b77e35",
   "metadata": {},
   "outputs": [
    {
     "name": "stdout",
     "output_type": "stream",
     "text": [
      "Lasso model coef: [-0.         -0.         -0.         -0.32811279  0.          0.\n",
      "  0.         -0.          0.          0.        ]\n"
     ]
    }
   ],
   "source": [
    "#alpha factor here is lambda (penalty term) which helps to reduce the magnitude of coeff\n",
    "\n",
    "lasso_model5 = Lasso(alpha = 0.5)\n",
    "lasso_model5.fit(X_train, y_train)\n",
    "\n",
    "print('Lasso model coef: {}'.format(lasso_model5.coef_))\n",
    "#As the data has 10 columns hence 10 coefficients appear here  "
   ]
  },
  {
   "cell_type": "code",
   "execution_count": 74,
   "id": "e2ff3583-289d-4bcf-9bfc-d5bd57cdb698",
   "metadata": {},
   "outputs": [
    {
     "name": "stdout",
     "output_type": "stream",
     "text": [
      "******************************Comparision of Ridge, Lasso and regression model**********************************\n",
      "Simple Linear Model\n",
      "bias--- 0.8343770256960538\n",
      "variance--- 0.8513421387780066\n",
      "*************************\n",
      "Ridge Regression with alpha value 0.1\n",
      "bias--- 0.8343752890455172\n",
      "variance--- 0.851529719645985\n",
      "*************************\n",
      "Ridge Regression with alpha value 0.2\n",
      "bias--- 0.834370168398066\n",
      "variance--- 0.8517116840593091\n",
      "*************************\n",
      "Ridge Regression with alpha value 0.3\n",
      "bias--- 0.8343617931312616\n",
      "variance--- 0.8518882171608506\n",
      "*************************\n",
      "Ridge Regression with alpha value 0.4\n",
      "bias--- 0.8343502868181133\n",
      "variance--- 0.8520594956782541\n",
      "*************************\n",
      "Ridge Regression with alpha value 0.5\n",
      "bias--- 0.834335767576945\n",
      "variance--- 0.8522256884658114\n",
      "*************************\n",
      "Lasso Regression with alpha value 0.1\n",
      "bias--- 0.7938010766228453\n",
      "variance--- 0.8375229615977083\n",
      "*************************\n",
      "Lasso Regression with alpha value 0.2\n",
      "bias--- 0.7449291598497929\n",
      "variance--- 0.7889774437561077\n",
      "*************************\n",
      "Lasso Regression with alpha value 0.3\n",
      "bias--- 0.6663576440647773\n",
      "variance--- 0.7097092786422015\n",
      "*************************\n",
      "lasso Regression with alpha value 0.4\n",
      "bias--- 0.556352624509626\n",
      "variance--- 0.5965524844000425\n",
      "*************************\n",
      "lasso Regression with alpha value 0.5\n",
      "bias--- 0.4281327630181403\n",
      "variance--- 0.4621757556077828\n"
     ]
    }
   ],
   "source": [
    "#Model score - r^2 or coeff of determinant\n",
    "#r^2 = 1-(RSS/TSS) = Regression error/TSS \n",
    "\n",
    "print('******************************Comparision of Ridge, Lasso and regression model**********************************')\n",
    "#Simple Linear Model\n",
    "print('Simple Linear Model')\n",
    "print('bias---',regression_model.score(X_train, y_train))\n",
    "print('variance---',regression_model.score(X_test, y_test))\n",
    "print('*************************')\n",
    "\n",
    "#Ridge--alpha--0.1\n",
    "print('Ridge Regression with alpha value 0.1')\n",
    "print('bias---',ridge_model1.score(X_train, y_train))\n",
    "print('variance---',ridge_model1.score(X_test, y_test))\n",
    "print('*************************')\n",
    "\n",
    "#Ridge--alpha--0.2\n",
    "print('Ridge Regression with alpha value 0.2')\n",
    "print('bias---',ridge_model2.score(X_train, y_train))\n",
    "print('variance---',ridge_model2.score(X_test, y_test))\n",
    "print('*************************')\n",
    "\n",
    "#Ridge--alpha--0.3\n",
    "print('Ridge Regression with alpha value 0.3')\n",
    "print('bias---',ridge_model3.score(X_train, y_train))\n",
    "print('variance---',ridge_model3.score(X_test, y_test))\n",
    "print('*************************')\n",
    "\n",
    "#Ridge--alpha--0.4\n",
    "print('Ridge Regression with alpha value 0.4')\n",
    "print('bias---',ridge_model4.score(X_train, y_train))\n",
    "print('variance---',ridge_model4.score(X_test, y_test))\n",
    "print('*************************')\n",
    "\n",
    "#Ridge--alpha--0.5\n",
    "print('Ridge Regression with alpha value 0.5')\n",
    "print('bias---',ridge_model5.score(X_train, y_train))\n",
    "print('variance---',ridge_model5.score(X_test, y_test))\n",
    "\n",
    "print('*************************')\n",
    "#Lasso---alpha--0.1\n",
    "print('Lasso Regression with alpha value 0.1')\n",
    "print('bias---',lasso_model1.score(X_train, y_train))\n",
    "print('variance---',lasso_model1.score(X_test, y_test))\n",
    "print('*************************')\n",
    "\n",
    "#Lasso---alpha--0.2\n",
    "print('Lasso Regression with alpha value 0.2')\n",
    "print('bias---',lasso_model2.score(X_train, y_train))\n",
    "print('variance---',lasso_model2.score(X_test, y_test))\n",
    "print('*************************')\n",
    "\n",
    "#Lasso---alpha--0.3\n",
    "print('Lasso Regression with alpha value 0.3')\n",
    "print('bias---',lasso_model3.score(X_train, y_train))\n",
    "print('variance---',lasso_model3.score(X_test, y_test))\n",
    "print('*************************')\n",
    "\n",
    "#Lasso---alpha--0.4\n",
    "print('lasso Regression with alpha value 0.4')\n",
    "print('bias---',lasso_model4.score(X_train, y_train))\n",
    "print('variance---',lasso_model4.score(X_test, y_test))\n",
    "print('*************************')\n",
    "\n",
    "#Lasso---alpha--0.5\n",
    "print('lasso Regression with alpha value 0.5')\n",
    "print('bias---',lasso_model5.score(X_train, y_train))\n",
    "print('variance---',lasso_model5.score(X_test, y_test))\n"
   ]
  },
  {
   "cell_type": "code",
   "execution_count": 75,
   "id": "782f98a1-0eae-46cb-8d5f-16250eef5732",
   "metadata": {},
   "outputs": [
    {
     "data": {
      "text/html": [
       "<div>\n",
       "<style scoped>\n",
       "    .dataframe tbody tr th:only-of-type {\n",
       "        vertical-align: middle;\n",
       "    }\n",
       "\n",
       "    .dataframe tbody tr th {\n",
       "        vertical-align: top;\n",
       "    }\n",
       "\n",
       "    .dataframe thead th {\n",
       "        text-align: right;\n",
       "    }\n",
       "</style>\n",
       "<table border=\"1\" class=\"dataframe\">\n",
       "  <thead>\n",
       "    <tr style=\"text-align: right;\">\n",
       "      <th></th>\n",
       "      <th>cyl</th>\n",
       "      <th>disp</th>\n",
       "      <th>hp</th>\n",
       "      <th>wt</th>\n",
       "      <th>acc</th>\n",
       "      <th>yr</th>\n",
       "      <th>car_type</th>\n",
       "      <th>origin_america</th>\n",
       "      <th>origin_asia</th>\n",
       "      <th>origin_europe</th>\n",
       "      <th>mpg</th>\n",
       "    </tr>\n",
       "  </thead>\n",
       "  <tbody>\n",
       "    <tr>\n",
       "      <th>350</th>\n",
       "      <td>-0.856321</td>\n",
       "      <td>-0.849116</td>\n",
       "      <td>-1.081977</td>\n",
       "      <td>-0.893172</td>\n",
       "      <td>-0.242570</td>\n",
       "      <td>1.351199</td>\n",
       "      <td>0.941412</td>\n",
       "      <td>0.773559</td>\n",
       "      <td>-0.497643</td>\n",
       "      <td>-0.461968</td>\n",
       "      <td>1.432898</td>\n",
       "    </tr>\n",
       "    <tr>\n",
       "      <th>59</th>\n",
       "      <td>-0.856321</td>\n",
       "      <td>-0.925936</td>\n",
       "      <td>-1.317736</td>\n",
       "      <td>-0.847061</td>\n",
       "      <td>2.879909</td>\n",
       "      <td>-1.085858</td>\n",
       "      <td>0.941412</td>\n",
       "      <td>-1.292726</td>\n",
       "      <td>-0.497643</td>\n",
       "      <td>2.164651</td>\n",
       "      <td>-0.065919</td>\n",
       "    </tr>\n",
       "    <tr>\n",
       "      <th>120</th>\n",
       "      <td>-0.856321</td>\n",
       "      <td>-0.695475</td>\n",
       "      <td>0.201600</td>\n",
       "      <td>-0.121101</td>\n",
       "      <td>-0.024722</td>\n",
       "      <td>-0.815074</td>\n",
       "      <td>0.941412</td>\n",
       "      <td>-1.292726</td>\n",
       "      <td>-0.497643</td>\n",
       "      <td>2.164651</td>\n",
       "      <td>-0.578335</td>\n",
       "    </tr>\n",
       "    <tr>\n",
       "      <th>12</th>\n",
       "      <td>1.498191</td>\n",
       "      <td>1.983643</td>\n",
       "      <td>1.197027</td>\n",
       "      <td>0.934732</td>\n",
       "      <td>-2.203196</td>\n",
       "      <td>-1.627426</td>\n",
       "      <td>-1.062235</td>\n",
       "      <td>0.773559</td>\n",
       "      <td>-0.497643</td>\n",
       "      <td>-0.461968</td>\n",
       "      <td>-1.090751</td>\n",
       "    </tr>\n",
       "    <tr>\n",
       "      <th>349</th>\n",
       "      <td>-0.856321</td>\n",
       "      <td>-0.983552</td>\n",
       "      <td>-0.951000</td>\n",
       "      <td>-1.165111</td>\n",
       "      <td>0.156817</td>\n",
       "      <td>1.351199</td>\n",
       "      <td>0.941412</td>\n",
       "      <td>-1.292726</td>\n",
       "      <td>2.009471</td>\n",
       "      <td>-0.461968</td>\n",
       "      <td>1.356035</td>\n",
       "    </tr>\n",
       "  </tbody>\n",
       "</table>\n",
       "</div>"
      ],
      "text/plain": [
       "          cyl      disp        hp        wt       acc        yr  car_type  \\\n",
       "350 -0.856321 -0.849116 -1.081977 -0.893172 -0.242570  1.351199  0.941412   \n",
       "59  -0.856321 -0.925936 -1.317736 -0.847061  2.879909 -1.085858  0.941412   \n",
       "120 -0.856321 -0.695475  0.201600 -0.121101 -0.024722 -0.815074  0.941412   \n",
       "12   1.498191  1.983643  1.197027  0.934732 -2.203196 -1.627426 -1.062235   \n",
       "349 -0.856321 -0.983552 -0.951000 -1.165111  0.156817  1.351199  0.941412   \n",
       "\n",
       "     origin_america  origin_asia  origin_europe       mpg  \n",
       "350        0.773559    -0.497643      -0.461968  1.432898  \n",
       "59        -1.292726    -0.497643       2.164651 -0.065919  \n",
       "120       -1.292726    -0.497643       2.164651 -0.578335  \n",
       "12         0.773559    -0.497643      -0.461968 -1.090751  \n",
       "349       -1.292726     2.009471      -0.461968  1.356035  "
      ]
     },
     "execution_count": 75,
     "metadata": {},
     "output_type": "execute_result"
    }
   ],
   "source": [
    "data_train_test = pd.concat([X_train, y_train], axis =1)\n",
    "data_train_test.head()"
   ]
  },
  {
   "cell_type": "code",
   "execution_count": 83,
   "id": "9ff6832d-616f-4149-9928-c55bdffaff73",
   "metadata": {},
   "outputs": [
    {
     "data": {
      "text/html": [
       "<div>\n",
       "<style scoped>\n",
       "    .dataframe tbody tr th:only-of-type {\n",
       "        vertical-align: middle;\n",
       "    }\n",
       "\n",
       "    .dataframe tbody tr th {\n",
       "        vertical-align: top;\n",
       "    }\n",
       "\n",
       "    .dataframe thead th {\n",
       "        text-align: right;\n",
       "    }\n",
       "</style>\n",
       "<table border=\"1\" class=\"dataframe\">\n",
       "  <thead>\n",
       "    <tr style=\"text-align: right;\">\n",
       "      <th></th>\n",
       "      <th>Model</th>\n",
       "      <th>Bias (Train)</th>\n",
       "      <th>Variance (Test)</th>\n",
       "    </tr>\n",
       "  </thead>\n",
       "  <tbody>\n",
       "    <tr>\n",
       "      <th>0</th>\n",
       "      <td>Simple Linear</td>\n",
       "      <td>0.834377</td>\n",
       "      <td>0.851342</td>\n",
       "    </tr>\n",
       "    <tr>\n",
       "      <th>1</th>\n",
       "      <td>Ridge (alpha=0.3)</td>\n",
       "      <td>0.834362</td>\n",
       "      <td>0.851888</td>\n",
       "    </tr>\n",
       "    <tr>\n",
       "      <th>2</th>\n",
       "      <td>Ridge (alpha=0.4)</td>\n",
       "      <td>0.834350</td>\n",
       "      <td>0.852059</td>\n",
       "    </tr>\n",
       "    <tr>\n",
       "      <th>3</th>\n",
       "      <td>Ridge (alpha=0.5)</td>\n",
       "      <td>0.834336</td>\n",
       "      <td>0.852226</td>\n",
       "    </tr>\n",
       "    <tr>\n",
       "      <th>4</th>\n",
       "      <td>Lasso (alpha=0.1)</td>\n",
       "      <td>0.793801</td>\n",
       "      <td>0.837523</td>\n",
       "    </tr>\n",
       "    <tr>\n",
       "      <th>5</th>\n",
       "      <td>Lasso (alpha=0.2)</td>\n",
       "      <td>0.744929</td>\n",
       "      <td>0.788977</td>\n",
       "    </tr>\n",
       "    <tr>\n",
       "      <th>6</th>\n",
       "      <td>Lasso (alpha=0.3)</td>\n",
       "      <td>0.666358</td>\n",
       "      <td>0.709709</td>\n",
       "    </tr>\n",
       "    <tr>\n",
       "      <th>7</th>\n",
       "      <td>Lasso (alpha=0.4)</td>\n",
       "      <td>0.556353</td>\n",
       "      <td>0.596552</td>\n",
       "    </tr>\n",
       "    <tr>\n",
       "      <th>8</th>\n",
       "      <td>Lasso (alpha=0.5)</td>\n",
       "      <td>0.428133</td>\n",
       "      <td>0.462176</td>\n",
       "    </tr>\n",
       "  </tbody>\n",
       "</table>\n",
       "</div>"
      ],
      "text/plain": [
       "               Model  Bias (Train)  Variance (Test)\n",
       "0      Simple Linear      0.834377         0.851342\n",
       "1  Ridge (alpha=0.3)      0.834362         0.851888\n",
       "2  Ridge (alpha=0.4)      0.834350         0.852059\n",
       "3  Ridge (alpha=0.5)      0.834336         0.852226\n",
       "4  Lasso (alpha=0.1)      0.793801         0.837523\n",
       "5  Lasso (alpha=0.2)      0.744929         0.788977\n",
       "6  Lasso (alpha=0.3)      0.666358         0.709709\n",
       "7  Lasso (alpha=0.4)      0.556353         0.596552\n",
       "8  Lasso (alpha=0.5)      0.428133         0.462176"
      ]
     },
     "execution_count": 83,
     "metadata": {},
     "output_type": "execute_result"
    }
   ],
   "source": [
    "# Create a DataFrame to store the results\n",
    "import pandas as pd\n",
    "\n",
    "# Define lists for bias and variance scores\n",
    "bias_train_scores = [\n",
    "    regression_model.score(X_train, y_train),\n",
    "    ridge_model3.score(X_train, y_train),\n",
    "    ridge_model4.score(X_train, y_train),\n",
    "    ridge_model5.score(X_train, y_train),\n",
    "    lasso_model1.score(X_train, y_train),\n",
    "    lasso_model2.score(X_train, y_train),\n",
    "    lasso_model3.score(X_train, y_train),\n",
    "    lasso_model4.score(X_train, y_train),\n",
    "    lasso_model5.score(X_train, y_train)\n",
    "]\n",
    "\n",
    "variance_test_scores = [\n",
    "    regression_model.score(X_test, y_test),\n",
    "    ridge_model3.score(X_test, y_test),\n",
    "    ridge_model4.score(X_test, y_test),\n",
    "    ridge_model5.score(X_test, y_test),\n",
    "    lasso_model1.score(X_test, y_test),\n",
    "    lasso_model2.score(X_test, y_test),\n",
    "    lasso_model3.score(X_test, y_test),\n",
    "    lasso_model4.score(X_test, y_test),\n",
    "    lasso_model5.score(X_test, y_test)\n",
    "]\n",
    "\n",
    "# Create DataFrame to store bias and variance\n",
    "comparision_data = {\n",
    "    'Model': ['Simple Linear', 'Ridge (alpha=0.3)', 'Ridge (alpha=0.4)', 'Ridge (alpha=0.5)', \n",
    "              'Lasso (alpha=0.1)', 'Lasso (alpha=0.2)', 'Lasso (alpha=0.3)', \n",
    "              'Lasso (alpha=0.4)', 'Lasso (alpha=0.5)'],\n",
    "    'Bias (Train)': bias_train_scores,\n",
    "    'Variance (Test)': variance_test_scores\n",
    "}\n",
    "\n",
    "# Create DataFrame\n",
    "df = pd.DataFrame(comparision_data)\n",
    "\n",
    "# Display DataFrame\n",
    "df\n"
   ]
  },
  {
   "cell_type": "code",
   "execution_count": 84,
   "id": "d39b9bb5-c627-4412-8e40-2fd07076342a",
   "metadata": {},
   "outputs": [
    {
     "data": {
      "text/html": [
       "<div>\n",
       "<style scoped>\n",
       "    .dataframe tbody tr th:only-of-type {\n",
       "        vertical-align: middle;\n",
       "    }\n",
       "\n",
       "    .dataframe tbody tr th {\n",
       "        vertical-align: top;\n",
       "    }\n",
       "\n",
       "    .dataframe thead th {\n",
       "        text-align: right;\n",
       "    }\n",
       "</style>\n",
       "<table border=\"1\" class=\"dataframe\">\n",
       "  <thead>\n",
       "    <tr style=\"text-align: right;\">\n",
       "      <th></th>\n",
       "      <th>0</th>\n",
       "      <th>1</th>\n",
       "      <th>2</th>\n",
       "      <th>3</th>\n",
       "      <th>4</th>\n",
       "      <th>5</th>\n",
       "      <th>6</th>\n",
       "      <th>7</th>\n",
       "      <th>8</th>\n",
       "    </tr>\n",
       "  </thead>\n",
       "  <tbody>\n",
       "    <tr>\n",
       "      <th>Model</th>\n",
       "      <td>Simple Linear</td>\n",
       "      <td>Ridge (alpha=0.3)</td>\n",
       "      <td>Ridge (alpha=0.4)</td>\n",
       "      <td>Ridge (alpha=0.5)</td>\n",
       "      <td>Lasso (alpha=0.1)</td>\n",
       "      <td>Lasso (alpha=0.2)</td>\n",
       "      <td>Lasso (alpha=0.3)</td>\n",
       "      <td>Lasso (alpha=0.4)</td>\n",
       "      <td>Lasso (alpha=0.5)</td>\n",
       "    </tr>\n",
       "    <tr>\n",
       "      <th>Bias (Train)</th>\n",
       "      <td>0.834377</td>\n",
       "      <td>0.834362</td>\n",
       "      <td>0.83435</td>\n",
       "      <td>0.834336</td>\n",
       "      <td>0.793801</td>\n",
       "      <td>0.744929</td>\n",
       "      <td>0.666358</td>\n",
       "      <td>0.556353</td>\n",
       "      <td>0.428133</td>\n",
       "    </tr>\n",
       "    <tr>\n",
       "      <th>Variance (Test)</th>\n",
       "      <td>0.851342</td>\n",
       "      <td>0.851888</td>\n",
       "      <td>0.852059</td>\n",
       "      <td>0.852226</td>\n",
       "      <td>0.837523</td>\n",
       "      <td>0.788977</td>\n",
       "      <td>0.709709</td>\n",
       "      <td>0.596552</td>\n",
       "      <td>0.462176</td>\n",
       "    </tr>\n",
       "  </tbody>\n",
       "</table>\n",
       "</div>"
      ],
      "text/plain": [
       "                             0                  1                  2  \\\n",
       "Model            Simple Linear  Ridge (alpha=0.3)  Ridge (alpha=0.4)   \n",
       "Bias (Train)          0.834377           0.834362            0.83435   \n",
       "Variance (Test)       0.851342           0.851888           0.852059   \n",
       "\n",
       "                                 3                  4                  5  \\\n",
       "Model            Ridge (alpha=0.5)  Lasso (alpha=0.1)  Lasso (alpha=0.2)   \n",
       "Bias (Train)              0.834336           0.793801           0.744929   \n",
       "Variance (Test)           0.852226           0.837523           0.788977   \n",
       "\n",
       "                                 6                  7                  8  \n",
       "Model            Lasso (alpha=0.3)  Lasso (alpha=0.4)  Lasso (alpha=0.5)  \n",
       "Bias (Train)              0.666358           0.556353           0.428133  \n",
       "Variance (Test)           0.709709           0.596552           0.462176  "
      ]
     },
     "execution_count": 84,
     "metadata": {},
     "output_type": "execute_result"
    }
   ],
   "source": [
    "# Transpose the DataFrame\n",
    "df_transposed = df.T\n",
    "\n",
    "# Display the transposed DataFrame\n",
    "df_transposed"
   ]
  },
  {
   "cell_type": "code",
   "execution_count": 90,
   "id": "689eb2d5-6d2a-49ac-9082-a1d0e966ebc6",
   "metadata": {},
   "outputs": [
    {
     "name": "stdout",
     "output_type": "stream",
     "text": [
      "Coefficients for Simple Linear: [[ 0.32102239  0.32483431 -0.2291695  -0.71121019  0.01471368  0.37558119\n",
      "   0.38147695 -0.07472248  0.04451525  0.04834855]]\n",
      "Coefficients for Ridge (alpha=0.3): [[ 0.31649043  0.31320707 -0.22876025 -0.70109447  0.01295851  0.37447352\n",
      "   0.37725608 -0.07423624  0.04441039  0.04784031]]\n",
      "Coefficients for Ridge (alpha=0.4): [[ 0.31495967  0.30948411 -0.22861679 -0.69782283  0.01239531  0.37411266\n",
      "   0.37586629 -0.07408168  0.04437854  0.0476772 ]]\n",
      "Coefficients for Ridge (alpha=0.5): [[ 0.31342092  0.3058332  -0.22847018 -0.694599    0.01184253  0.37375577\n",
      "   0.37448539 -0.07393064  0.04434815  0.04751706]]\n",
      "Coefficients for Lasso (alpha=0.1): [-0.         -0.         -0.01690287 -0.51890013  0.          0.28138241\n",
      "  0.1278489  -0.01642647  0.          0.        ]\n",
      "Coefficients for Lasso (alpha=0.2): [-0.         -0.         -0.         -0.49040652  0.          0.20770417\n",
      "  0.09573255 -0.          0.          0.        ]\n",
      "Coefficients for Lasso (alpha=0.3): [-0.         -0.         -0.         -0.44233698  0.          0.13343315\n",
      "  0.05823763 -0.          0.          0.        ]\n",
      "Coefficients for Lasso (alpha=0.4): [-0.         -0.         -0.         -0.39425009  0.          0.05916007\n",
      "  0.02075746 -0.          0.          0.        ]\n",
      "Coefficients for Lasso (alpha=0.5): [-0.         -0.         -0.         -0.32811279  0.          0.\n",
      "  0.         -0.          0.          0.        ]\n"
     ]
    }
   ],
   "source": [
    "# Define dictionary to store coefficient values\n",
    "coefficients = {\n",
    "    'Simple Linear': regression_model.coef_,\n",
    "    'Ridge (alpha=0.3)': ridge_model3.coef_,\n",
    "    'Ridge (alpha=0.4)': ridge_model4.coef_,\n",
    "    'Ridge (alpha=0.5)': ridge_model5.coef_,\n",
    "    'Lasso (alpha=0.1)': lasso_model1.coef_,\n",
    "    'Lasso (alpha=0.2)': lasso_model2.coef_,\n",
    "    'Lasso (alpha=0.3)': lasso_model3.coef_,\n",
    "    'Lasso (alpha=0.4)': lasso_model4.coef_,\n",
    "    'Lasso (alpha=0.5)': lasso_model5.coef_\n",
    "}\n",
    "\n",
    "# Display coefficient values\n",
    "for model, coef in coefficients.items():\n",
    "    print(f\"Coefficients for {model}: {coef}\")"
   ]
  },
  {
   "cell_type": "code",
   "execution_count": 97,
   "id": "9f8a1601-917b-4b8e-bbc5-e39713ce52eb",
   "metadata": {},
   "outputs": [
    {
     "data": {
      "text/plain": [
       "Index(['cyl', 'disp', 'hp', 'wt', 'acc', 'yr', 'car_type', 'origin_america',\n",
       "       'origin_asia', 'origin_europe'],\n",
       "      dtype='object')"
      ]
     },
     "execution_count": 97,
     "metadata": {},
     "output_type": "execute_result"
    }
   ],
   "source": [
    "X_train.columns"
   ]
  },
  {
   "cell_type": "code",
   "execution_count": 107,
   "id": "d4551461-e421-46d6-8324-a714e938e7e6",
   "metadata": {},
   "outputs": [
    {
     "name": "stderr",
     "output_type": "stream",
     "text": [
      "C:\\Users\\hp\\AppData\\Local\\Temp\\ipykernel_9416\\1418665802.py:40: FutureWarning: Styler.applymap has been deprecated. Use Styler.map instead.\n",
      "  styled_coefficients_df = coefficients_df.style.applymap(highlight_zero)\n"
     ]
    },
    {
     "data": {
      "text/html": [
       "<style type=\"text/css\">\n",
       "#T_23eb7_row0_col0, #T_23eb7_row0_col1, #T_23eb7_row0_col2, #T_23eb7_row0_col3, #T_23eb7_row0_col4, #T_23eb7_row0_col5, #T_23eb7_row0_col6, #T_23eb7_row0_col7, #T_23eb7_row0_col8, #T_23eb7_row0_col9, #T_23eb7_row1_col0, #T_23eb7_row1_col1, #T_23eb7_row1_col2, #T_23eb7_row1_col3, #T_23eb7_row1_col4, #T_23eb7_row1_col5, #T_23eb7_row1_col6, #T_23eb7_row1_col7, #T_23eb7_row1_col8, #T_23eb7_row1_col9, #T_23eb7_row2_col0, #T_23eb7_row2_col1, #T_23eb7_row2_col2, #T_23eb7_row2_col3, #T_23eb7_row2_col4, #T_23eb7_row2_col5, #T_23eb7_row2_col6, #T_23eb7_row2_col7, #T_23eb7_row2_col8, #T_23eb7_row2_col9, #T_23eb7_row3_col0, #T_23eb7_row3_col1, #T_23eb7_row3_col2, #T_23eb7_row3_col3, #T_23eb7_row3_col4, #T_23eb7_row3_col5, #T_23eb7_row3_col6, #T_23eb7_row3_col7, #T_23eb7_row3_col8, #T_23eb7_row3_col9, #T_23eb7_row4_col0, #T_23eb7_row4_col1, #T_23eb7_row4_col2, #T_23eb7_row4_col3, #T_23eb7_row4_col4, #T_23eb7_row4_col5, #T_23eb7_row4_col6, #T_23eb7_row4_col7, #T_23eb7_row4_col8, #T_23eb7_row4_col9, #T_23eb7_row5_col0, #T_23eb7_row5_col1, #T_23eb7_row5_col2, #T_23eb7_row5_col3, #T_23eb7_row5_col4, #T_23eb7_row5_col5, #T_23eb7_row5_col6, #T_23eb7_row5_col7, #T_23eb7_row5_col8, #T_23eb7_row5_col9, #T_23eb7_row6_col2, #T_23eb7_row6_col3, #T_23eb7_row6_col5, #T_23eb7_row6_col6, #T_23eb7_row6_col7, #T_23eb7_row7_col3, #T_23eb7_row7_col5, #T_23eb7_row7_col6, #T_23eb7_row8_col3, #T_23eb7_row8_col5, #T_23eb7_row8_col6, #T_23eb7_row9_col3, #T_23eb7_row9_col5, #T_23eb7_row9_col6, #T_23eb7_row10_col3 {\n",
       "  color: black;\n",
       "}\n",
       "#T_23eb7_row6_col0, #T_23eb7_row6_col1, #T_23eb7_row6_col4, #T_23eb7_row6_col8, #T_23eb7_row6_col9, #T_23eb7_row7_col0, #T_23eb7_row7_col1, #T_23eb7_row7_col2, #T_23eb7_row7_col4, #T_23eb7_row7_col7, #T_23eb7_row7_col8, #T_23eb7_row7_col9, #T_23eb7_row8_col0, #T_23eb7_row8_col1, #T_23eb7_row8_col2, #T_23eb7_row8_col4, #T_23eb7_row8_col7, #T_23eb7_row8_col8, #T_23eb7_row8_col9, #T_23eb7_row9_col0, #T_23eb7_row9_col1, #T_23eb7_row9_col2, #T_23eb7_row9_col4, #T_23eb7_row9_col7, #T_23eb7_row9_col8, #T_23eb7_row9_col9, #T_23eb7_row10_col0, #T_23eb7_row10_col1, #T_23eb7_row10_col2, #T_23eb7_row10_col4, #T_23eb7_row10_col5, #T_23eb7_row10_col6, #T_23eb7_row10_col7, #T_23eb7_row10_col8, #T_23eb7_row10_col9 {\n",
       "  color: red;\n",
       "}\n",
       "</style>\n",
       "<table id=\"T_23eb7\">\n",
       "  <thead>\n",
       "    <tr>\n",
       "      <th class=\"blank level0\" >&nbsp;</th>\n",
       "      <th id=\"T_23eb7_level0_col0\" class=\"col_heading level0 col0\" >cyl</th>\n",
       "      <th id=\"T_23eb7_level0_col1\" class=\"col_heading level0 col1\" >disp</th>\n",
       "      <th id=\"T_23eb7_level0_col2\" class=\"col_heading level0 col2\" >hp</th>\n",
       "      <th id=\"T_23eb7_level0_col3\" class=\"col_heading level0 col3\" >wt</th>\n",
       "      <th id=\"T_23eb7_level0_col4\" class=\"col_heading level0 col4\" >acc</th>\n",
       "      <th id=\"T_23eb7_level0_col5\" class=\"col_heading level0 col5\" >year</th>\n",
       "      <th id=\"T_23eb7_level0_col6\" class=\"col_heading level0 col6\" >car_type</th>\n",
       "      <th id=\"T_23eb7_level0_col7\" class=\"col_heading level0 col7\" >origin_america</th>\n",
       "      <th id=\"T_23eb7_level0_col8\" class=\"col_heading level0 col8\" >origin_asia</th>\n",
       "      <th id=\"T_23eb7_level0_col9\" class=\"col_heading level0 col9\" >origin_europe</th>\n",
       "    </tr>\n",
       "  </thead>\n",
       "  <tbody>\n",
       "    <tr>\n",
       "      <th id=\"T_23eb7_level0_row0\" class=\"row_heading level0 row0\" >Simple Linear</th>\n",
       "      <td id=\"T_23eb7_row0_col0\" class=\"data row0 col0\" >0.321022</td>\n",
       "      <td id=\"T_23eb7_row0_col1\" class=\"data row0 col1\" >0.324834</td>\n",
       "      <td id=\"T_23eb7_row0_col2\" class=\"data row0 col2\" >-0.229170</td>\n",
       "      <td id=\"T_23eb7_row0_col3\" class=\"data row0 col3\" >-0.711210</td>\n",
       "      <td id=\"T_23eb7_row0_col4\" class=\"data row0 col4\" >0.014714</td>\n",
       "      <td id=\"T_23eb7_row0_col5\" class=\"data row0 col5\" >0.375581</td>\n",
       "      <td id=\"T_23eb7_row0_col6\" class=\"data row0 col6\" >0.381477</td>\n",
       "      <td id=\"T_23eb7_row0_col7\" class=\"data row0 col7\" >-0.074722</td>\n",
       "      <td id=\"T_23eb7_row0_col8\" class=\"data row0 col8\" >0.044515</td>\n",
       "      <td id=\"T_23eb7_row0_col9\" class=\"data row0 col9\" >0.048349</td>\n",
       "    </tr>\n",
       "    <tr>\n",
       "      <th id=\"T_23eb7_level0_row1\" class=\"row_heading level0 row1\" >Ridge (alpha=0.1)</th>\n",
       "      <td id=\"T_23eb7_row1_col0\" class=\"data row1 col0\" >0.319523</td>\n",
       "      <td id=\"T_23eb7_row1_col1\" class=\"data row1 col1\" >0.320879</td>\n",
       "      <td id=\"T_23eb7_row1_col2\" class=\"data row1 col2\" >-0.229037</td>\n",
       "      <td id=\"T_23eb7_row1_col3\" class=\"data row1 col3\" >-0.707787</td>\n",
       "      <td id=\"T_23eb7_row1_col4\" class=\"data row1 col4\" >0.014117</td>\n",
       "      <td id=\"T_23eb7_row1_col5\" class=\"data row1 col5\" >0.375208</td>\n",
       "      <td id=\"T_23eb7_row1_col6\" class=\"data row1 col6\" >0.380062</td>\n",
       "      <td id=\"T_23eb7_row1_col7\" class=\"data row1 col7\" >-0.074556</td>\n",
       "      <td id=\"T_23eb7_row1_col8\" class=\"data row1 col8\" >0.044479</td>\n",
       "      <td id=\"T_23eb7_row1_col9\" class=\"data row1 col9\" >0.048176</td>\n",
       "    </tr>\n",
       "    <tr>\n",
       "      <th id=\"T_23eb7_level0_row2\" class=\"row_heading level0 row2\" >Ridge (alpha=0.2)</th>\n",
       "      <td id=\"T_23eb7_row2_col0\" class=\"data row2 col0\" >0.318012</td>\n",
       "      <td id=\"T_23eb7_row2_col1\" class=\"data row2 col1\" >0.317005</td>\n",
       "      <td id=\"T_23eb7_row2_col2\" class=\"data row2 col2\" >-0.228900</td>\n",
       "      <td id=\"T_23eb7_row2_col3\" class=\"data row2 col3\" >-0.704415</td>\n",
       "      <td id=\"T_23eb7_row2_col4\" class=\"data row2 col4\" >0.013532</td>\n",
       "      <td id=\"T_23eb7_row2_col5\" class=\"data row2 col5\" >0.374838</td>\n",
       "      <td id=\"T_23eb7_row2_col6\" class=\"data row2 col6\" >0.378655</td>\n",
       "      <td id=\"T_23eb7_row2_col7\" class=\"data row2 col7\" >-0.074394</td>\n",
       "      <td id=\"T_23eb7_row2_col8\" class=\"data row2 col8\" >0.044444</td>\n",
       "      <td id=\"T_23eb7_row2_col9\" class=\"data row2 col9\" >0.048006</td>\n",
       "    </tr>\n",
       "    <tr>\n",
       "      <th id=\"T_23eb7_level0_row3\" class=\"row_heading level0 row3\" >Ridge (alpha=0.3)</th>\n",
       "      <td id=\"T_23eb7_row3_col0\" class=\"data row3 col0\" >0.316490</td>\n",
       "      <td id=\"T_23eb7_row3_col1\" class=\"data row3 col1\" >0.313207</td>\n",
       "      <td id=\"T_23eb7_row3_col2\" class=\"data row3 col2\" >-0.228760</td>\n",
       "      <td id=\"T_23eb7_row3_col3\" class=\"data row3 col3\" >-0.701094</td>\n",
       "      <td id=\"T_23eb7_row3_col4\" class=\"data row3 col4\" >0.012959</td>\n",
       "      <td id=\"T_23eb7_row3_col5\" class=\"data row3 col5\" >0.374474</td>\n",
       "      <td id=\"T_23eb7_row3_col6\" class=\"data row3 col6\" >0.377256</td>\n",
       "      <td id=\"T_23eb7_row3_col7\" class=\"data row3 col7\" >-0.074236</td>\n",
       "      <td id=\"T_23eb7_row3_col8\" class=\"data row3 col8\" >0.044410</td>\n",
       "      <td id=\"T_23eb7_row3_col9\" class=\"data row3 col9\" >0.047840</td>\n",
       "    </tr>\n",
       "    <tr>\n",
       "      <th id=\"T_23eb7_level0_row4\" class=\"row_heading level0 row4\" >Ridge (alpha=0.4)</th>\n",
       "      <td id=\"T_23eb7_row4_col0\" class=\"data row4 col0\" >0.314960</td>\n",
       "      <td id=\"T_23eb7_row4_col1\" class=\"data row4 col1\" >0.309484</td>\n",
       "      <td id=\"T_23eb7_row4_col2\" class=\"data row4 col2\" >-0.228617</td>\n",
       "      <td id=\"T_23eb7_row4_col3\" class=\"data row4 col3\" >-0.697823</td>\n",
       "      <td id=\"T_23eb7_row4_col4\" class=\"data row4 col4\" >0.012395</td>\n",
       "      <td id=\"T_23eb7_row4_col5\" class=\"data row4 col5\" >0.374113</td>\n",
       "      <td id=\"T_23eb7_row4_col6\" class=\"data row4 col6\" >0.375866</td>\n",
       "      <td id=\"T_23eb7_row4_col7\" class=\"data row4 col7\" >-0.074082</td>\n",
       "      <td id=\"T_23eb7_row4_col8\" class=\"data row4 col8\" >0.044379</td>\n",
       "      <td id=\"T_23eb7_row4_col9\" class=\"data row4 col9\" >0.047677</td>\n",
       "    </tr>\n",
       "    <tr>\n",
       "      <th id=\"T_23eb7_level0_row5\" class=\"row_heading level0 row5\" >Ridge (alpha=0.5)</th>\n",
       "      <td id=\"T_23eb7_row5_col0\" class=\"data row5 col0\" >0.313421</td>\n",
       "      <td id=\"T_23eb7_row5_col1\" class=\"data row5 col1\" >0.305833</td>\n",
       "      <td id=\"T_23eb7_row5_col2\" class=\"data row5 col2\" >-0.228470</td>\n",
       "      <td id=\"T_23eb7_row5_col3\" class=\"data row5 col3\" >-0.694599</td>\n",
       "      <td id=\"T_23eb7_row5_col4\" class=\"data row5 col4\" >0.011843</td>\n",
       "      <td id=\"T_23eb7_row5_col5\" class=\"data row5 col5\" >0.373756</td>\n",
       "      <td id=\"T_23eb7_row5_col6\" class=\"data row5 col6\" >0.374485</td>\n",
       "      <td id=\"T_23eb7_row5_col7\" class=\"data row5 col7\" >-0.073931</td>\n",
       "      <td id=\"T_23eb7_row5_col8\" class=\"data row5 col8\" >0.044348</td>\n",
       "      <td id=\"T_23eb7_row5_col9\" class=\"data row5 col9\" >0.047517</td>\n",
       "    </tr>\n",
       "    <tr>\n",
       "      <th id=\"T_23eb7_level0_row6\" class=\"row_heading level0 row6\" >Lasso (alpha=0.1)</th>\n",
       "      <td id=\"T_23eb7_row6_col0\" class=\"data row6 col0\" >-0.000000</td>\n",
       "      <td id=\"T_23eb7_row6_col1\" class=\"data row6 col1\" >-0.000000</td>\n",
       "      <td id=\"T_23eb7_row6_col2\" class=\"data row6 col2\" >-0.016903</td>\n",
       "      <td id=\"T_23eb7_row6_col3\" class=\"data row6 col3\" >-0.518900</td>\n",
       "      <td id=\"T_23eb7_row6_col4\" class=\"data row6 col4\" >0.000000</td>\n",
       "      <td id=\"T_23eb7_row6_col5\" class=\"data row6 col5\" >0.281382</td>\n",
       "      <td id=\"T_23eb7_row6_col6\" class=\"data row6 col6\" >0.127849</td>\n",
       "      <td id=\"T_23eb7_row6_col7\" class=\"data row6 col7\" >-0.016426</td>\n",
       "      <td id=\"T_23eb7_row6_col8\" class=\"data row6 col8\" >0.000000</td>\n",
       "      <td id=\"T_23eb7_row6_col9\" class=\"data row6 col9\" >0.000000</td>\n",
       "    </tr>\n",
       "    <tr>\n",
       "      <th id=\"T_23eb7_level0_row7\" class=\"row_heading level0 row7\" >Lasso (alpha=0.2)</th>\n",
       "      <td id=\"T_23eb7_row7_col0\" class=\"data row7 col0\" >-0.000000</td>\n",
       "      <td id=\"T_23eb7_row7_col1\" class=\"data row7 col1\" >-0.000000</td>\n",
       "      <td id=\"T_23eb7_row7_col2\" class=\"data row7 col2\" >-0.000000</td>\n",
       "      <td id=\"T_23eb7_row7_col3\" class=\"data row7 col3\" >-0.490407</td>\n",
       "      <td id=\"T_23eb7_row7_col4\" class=\"data row7 col4\" >0.000000</td>\n",
       "      <td id=\"T_23eb7_row7_col5\" class=\"data row7 col5\" >0.207704</td>\n",
       "      <td id=\"T_23eb7_row7_col6\" class=\"data row7 col6\" >0.095733</td>\n",
       "      <td id=\"T_23eb7_row7_col7\" class=\"data row7 col7\" >-0.000000</td>\n",
       "      <td id=\"T_23eb7_row7_col8\" class=\"data row7 col8\" >0.000000</td>\n",
       "      <td id=\"T_23eb7_row7_col9\" class=\"data row7 col9\" >0.000000</td>\n",
       "    </tr>\n",
       "    <tr>\n",
       "      <th id=\"T_23eb7_level0_row8\" class=\"row_heading level0 row8\" >Lasso (alpha=0.3)</th>\n",
       "      <td id=\"T_23eb7_row8_col0\" class=\"data row8 col0\" >-0.000000</td>\n",
       "      <td id=\"T_23eb7_row8_col1\" class=\"data row8 col1\" >-0.000000</td>\n",
       "      <td id=\"T_23eb7_row8_col2\" class=\"data row8 col2\" >-0.000000</td>\n",
       "      <td id=\"T_23eb7_row8_col3\" class=\"data row8 col3\" >-0.442337</td>\n",
       "      <td id=\"T_23eb7_row8_col4\" class=\"data row8 col4\" >0.000000</td>\n",
       "      <td id=\"T_23eb7_row8_col5\" class=\"data row8 col5\" >0.133433</td>\n",
       "      <td id=\"T_23eb7_row8_col6\" class=\"data row8 col6\" >0.058238</td>\n",
       "      <td id=\"T_23eb7_row8_col7\" class=\"data row8 col7\" >-0.000000</td>\n",
       "      <td id=\"T_23eb7_row8_col8\" class=\"data row8 col8\" >0.000000</td>\n",
       "      <td id=\"T_23eb7_row8_col9\" class=\"data row8 col9\" >0.000000</td>\n",
       "    </tr>\n",
       "    <tr>\n",
       "      <th id=\"T_23eb7_level0_row9\" class=\"row_heading level0 row9\" >Lasso (alpha=0.4)</th>\n",
       "      <td id=\"T_23eb7_row9_col0\" class=\"data row9 col0\" >-0.000000</td>\n",
       "      <td id=\"T_23eb7_row9_col1\" class=\"data row9 col1\" >-0.000000</td>\n",
       "      <td id=\"T_23eb7_row9_col2\" class=\"data row9 col2\" >-0.000000</td>\n",
       "      <td id=\"T_23eb7_row9_col3\" class=\"data row9 col3\" >-0.394250</td>\n",
       "      <td id=\"T_23eb7_row9_col4\" class=\"data row9 col4\" >0.000000</td>\n",
       "      <td id=\"T_23eb7_row9_col5\" class=\"data row9 col5\" >0.059160</td>\n",
       "      <td id=\"T_23eb7_row9_col6\" class=\"data row9 col6\" >0.020757</td>\n",
       "      <td id=\"T_23eb7_row9_col7\" class=\"data row9 col7\" >-0.000000</td>\n",
       "      <td id=\"T_23eb7_row9_col8\" class=\"data row9 col8\" >0.000000</td>\n",
       "      <td id=\"T_23eb7_row9_col9\" class=\"data row9 col9\" >0.000000</td>\n",
       "    </tr>\n",
       "    <tr>\n",
       "      <th id=\"T_23eb7_level0_row10\" class=\"row_heading level0 row10\" >Lasso (alpha=0.5)</th>\n",
       "      <td id=\"T_23eb7_row10_col0\" class=\"data row10 col0\" >-0.000000</td>\n",
       "      <td id=\"T_23eb7_row10_col1\" class=\"data row10 col1\" >-0.000000</td>\n",
       "      <td id=\"T_23eb7_row10_col2\" class=\"data row10 col2\" >-0.000000</td>\n",
       "      <td id=\"T_23eb7_row10_col3\" class=\"data row10 col3\" >-0.328113</td>\n",
       "      <td id=\"T_23eb7_row10_col4\" class=\"data row10 col4\" >0.000000</td>\n",
       "      <td id=\"T_23eb7_row10_col5\" class=\"data row10 col5\" >0.000000</td>\n",
       "      <td id=\"T_23eb7_row10_col6\" class=\"data row10 col6\" >0.000000</td>\n",
       "      <td id=\"T_23eb7_row10_col7\" class=\"data row10 col7\" >-0.000000</td>\n",
       "      <td id=\"T_23eb7_row10_col8\" class=\"data row10 col8\" >0.000000</td>\n",
       "      <td id=\"T_23eb7_row10_col9\" class=\"data row10 col9\" >0.000000</td>\n",
       "    </tr>\n",
       "  </tbody>\n",
       "</table>\n"
      ],
      "text/plain": [
       "<pandas.io.formats.style.Styler at 0x208fb7a6090>"
      ]
     },
     "execution_count": 107,
     "metadata": {},
     "output_type": "execute_result"
    }
   ],
   "source": [
    "import pandas as pd\n",
    "\n",
    "# Define dictionary to store coefficient values\n",
    "coefficients = {\n",
    "    'Simple Linear': regression_model.coef_.flatten(),\n",
    "    'Ridge (alpha=0.1)': ridge_model1.coef_.flatten(),\n",
    "    'Ridge (alpha=0.2)': ridge_model2.coef_.flatten(),\n",
    "    'Ridge (alpha=0.3)': ridge_model3.coef_.flatten(),\n",
    "    'Ridge (alpha=0.4)': ridge_model4.coef_.flatten(),\n",
    "    'Ridge (alpha=0.5)': ridge_model5.coef_.flatten(),\n",
    "    'Lasso (alpha=0.1)': lasso_model1.coef_.flatten(),\n",
    "    'Lasso (alpha=0.2)': lasso_model2.coef_.flatten(),\n",
    "    'Lasso (alpha=0.3)': lasso_model3.coef_.flatten(),\n",
    "    'Lasso (alpha=0.4)': lasso_model4.coef_.flatten(),\n",
    "    'Lasso (alpha=0.5)': lasso_model5.coef_.flatten()\n",
    "}\n",
    "\n",
    "# Define original dataset column names\n",
    "original_column_names = ['cyl', 'disp', 'hp', 'wt', 'acc', \n",
    "                         'year', 'car_type', 'origin_america', 'origin_asia', 'origin_europe']\n",
    "\n",
    "# Convert dictionary to DataFrame\n",
    "coefficients_df = pd.DataFrame(coefficients)\n",
    "\n",
    "# Transpose the DataFrame\n",
    "coefficients_df = coefficients_df.transpose()\n",
    "\n",
    "# Set the column names\n",
    "coefficients_df.columns = original_column_names\n",
    "\n",
    "# Display DataFrame\n",
    "coefficients_df\n",
    "\n",
    "# Define a custom style function to highlight 0 values\n",
    "def highlight_zero(val):\n",
    "    color = 'red' if val == 0 else 'black'\n",
    "    return 'color: %s' % color\n",
    "\n",
    "# Apply the custom style function to the DataFrame\n",
    "styled_coefficients_df = coefficients_df.style.applymap(highlight_zero)\n",
    "\n",
    "# Display styled DataFrame\n",
    "styled_coefficients_df\n"
   ]
  },
  {
   "cell_type": "code",
   "execution_count": 108,
   "id": "45507443-65ac-4699-a87e-8c341d03d67d",
   "metadata": {},
   "outputs": [
    {
     "data": {
      "text/plain": [
       "Intercept         0.019284\n",
       "cyl               0.321022\n",
       "disp              0.324834\n",
       "hp               -0.229170\n",
       "wt               -0.711210\n",
       "acc               0.014714\n",
       "yr                0.375581\n",
       "car_type          0.381477\n",
       "origin_america   -0.074722\n",
       "origin_europe     0.048349\n",
       "origin_asia       0.044515\n",
       "dtype: float64"
      ]
     },
     "execution_count": 108,
     "metadata": {},
     "output_type": "execute_result"
    }
   ],
   "source": [
    "import statsmodels.formula.api as smf\n",
    "ols1 = smf.ols(formula = 'mpg ~ cyl+disp+hp+wt+acc+yr+car_type+origin_america+origin_europe+origin_asia', data = data_train_test).fit()\n",
    "ols1.params"
   ]
  },
  {
   "cell_type": "code",
   "execution_count": 109,
   "id": "e9114869-dad0-4295-93de-d4085f864b71",
   "metadata": {},
   "outputs": [
    {
     "name": "stdout",
     "output_type": "stream",
     "text": [
      "                            OLS Regression Results                            \n",
      "==============================================================================\n",
      "Dep. Variable:                    mpg   R-squared:                       0.834\n",
      "Model:                            OLS   Adj. R-squared:                  0.829\n",
      "Method:                 Least Squares   F-statistic:                     150.0\n",
      "Date:                Wed, 01 May 2024   Prob (F-statistic):           3.12e-99\n",
      "Time:                        15:41:55   Log-Likelihood:                -146.89\n",
      "No. Observations:                 278   AIC:                             313.8\n",
      "Df Residuals:                     268   BIC:                             350.1\n",
      "Df Model:                           9                                         \n",
      "Covariance Type:            nonrobust                                         \n",
      "==================================================================================\n",
      "                     coef    std err          t      P>|t|      [0.025      0.975]\n",
      "----------------------------------------------------------------------------------\n",
      "Intercept          0.0193      0.025      0.765      0.445      -0.030       0.069\n",
      "cyl                0.3210      0.112      2.856      0.005       0.100       0.542\n",
      "disp               0.3248      0.128      2.544      0.012       0.073       0.576\n",
      "hp                -0.2292      0.079     -2.915      0.004      -0.384      -0.074\n",
      "wt                -0.7112      0.088     -8.118      0.000      -0.884      -0.539\n",
      "acc                0.0147      0.039      0.373      0.709      -0.063       0.092\n",
      "yr                 0.3756      0.029     13.088      0.000       0.319       0.432\n",
      "car_type           0.3815      0.067      5.728      0.000       0.250       0.513\n",
      "origin_america    -0.0747      0.020     -3.723      0.000      -0.114      -0.035\n",
      "origin_europe      0.0483      0.021      2.270      0.024       0.006       0.090\n",
      "origin_asia        0.0445      0.020      2.175      0.031       0.004       0.085\n",
      "==============================================================================\n",
      "Omnibus:                       22.678   Durbin-Watson:                   2.105\n",
      "Prob(Omnibus):                  0.000   Jarque-Bera (JB):               36.139\n",
      "Skew:                           0.513   Prob(JB):                     1.42e-08\n",
      "Kurtosis:                       4.438   Cond. No.                     1.59e+16\n",
      "==============================================================================\n",
      "\n",
      "Notes:\n",
      "[1] Standard Errors assume that the covariance matrix of the errors is correctly specified.\n",
      "[2] The smallest eigenvalue is 6.14e-30. This might indicate that there are\n",
      "strong multicollinearity problems or that the design matrix is singular.\n"
     ]
    }
   ],
   "source": [
    "print(ols1.summary())"
   ]
  },
  {
   "cell_type": "code",
   "execution_count": 110,
   "id": "eb94fa2e-9b51-4c59-bb6d-173303d181bb",
   "metadata": {},
   "outputs": [
    {
     "name": "stdout",
     "output_type": "stream",
     "text": [
      "Root Mean Squared Error: 0.37766934254087847\n"
     ]
    }
   ],
   "source": [
    "#Lets check Sum of Squared Errors (SSE) by predicting value of y for test cases and subtracting from the actual y for the test cases\n",
    "mse  = np.mean((regression_model.predict(X_test)-y_test)**2)\n",
    "\n",
    "# root of mean_sq_error is standard deviation i.e. avg variance between predicted and actual\n",
    "import math\n",
    "rmse = math.sqrt(mse)\n",
    "print('Root Mean Squared Error: {}'.format(rmse))"
   ]
  },
  {
   "cell_type": "code",
   "execution_count": 88,
   "id": "42abd479-4822-4340-bc51-f1cd8f594cbd",
   "metadata": {},
   "outputs": [
    {
     "data": {
      "text/plain": [
       "<Axes: xlabel='acc', ylabel='mpg'>"
      ]
     },
     "execution_count": 88,
     "metadata": {},
     "output_type": "execute_result"
    },
    {
     "data": {
      "image/png": "[encoded data removed]",
      "text/plain": [
       "<Figure size 1000x800 with 1 Axes>"
      ]
     },
     "metadata": {},
     "output_type": "display_data"
    },
    {
     "data": {
      "image/png": "[encoded data removed]",
      "text/plain": [
       "<Figure size 1000x800 with 1 Axes>"
      ]
     },
     "metadata": {},
     "output_type": "display_data"
    }
   ],
   "source": [
    "# Is OLS a good model ? Lets check the residuals for some of these predictor.\n",
    "\n",
    "fig = plt.figure(figsize=(10,8))\n",
    "sns.residplot(x= X_test['hp'], y= y_test['mpg'], color='purple', lowess=True )\n",
    "\n",
    "\n",
    "fig = plt.figure(figsize=(10,8))\n",
    "sns.residplot(x= X_test['acc'], y= y_test['mpg'], color='blue', lowess=True )"
   ]
  },
  {
   "cell_type": "code",
   "execution_count": 111,
   "id": "e50b8f72-072a-44c0-922e-6c78f907b6a6",
   "metadata": {},
   "outputs": [
    {
     "data": {
      "text/plain": [
       "<matplotlib.collections.PathCollection at 0x208fb8dfad0>"
      ]
     },
     "execution_count": 111,
     "metadata": {},
     "output_type": "execute_result"
    },
    {
     "data": {
      "image/png": "[encoded data removed]",
      "text/plain": [
       "<Figure size 640x480 with 1 Axes>"
      ]
     },
     "metadata": {},
     "output_type": "display_data"
    }
   ],
   "source": [
    "# predict mileage (mpg) for a set of attributes not in the training or test set\n",
    "y_pred = regression_model.predict(X_test)\n",
    "\n",
    "# Since this is regression, plot the predicted y value vs actual y values for the test data\n",
    "# A good model's prediction will be close to actual leading to high R and R2 values\n",
    "#plt.rcParams['figure.dpi'] = 500\n",
    "plt.scatter(y_test['mpg'], y_pred)"
   ]
  },
  {
   "cell_type": "code",
   "execution_count": null,
   "id": "6e50c16a-fdd4-44a1-b79b-10277eeaa35b",
   "metadata": {},
   "outputs": [],
   "source": []
  }
 ],
 "metadata": {
  "kernelspec": {
   "display_name": "Python 3 (ipykernel)",
   "language": "python",
   "name": "python3"
  },
  "language_info": {
   "codemirror_mode": {
    "name": "ipython",
    "version": 3
   },
   "file_extension": ".py",
   "mimetype": "text/x-python",
   "name": "python",
   "nbconvert_exporter": "python",
   "pygments_lexer": "ipython3",
   "version": "3.11.5"
  },
  "widgets": {
   "application/vnd.jupyter.widget-state+json": {
    "state": {},
    "version_major": 2,
    "version_minor": 0
   }
  }
 },
 "nbformat": 4,
 "nbformat_minor": 5
}
