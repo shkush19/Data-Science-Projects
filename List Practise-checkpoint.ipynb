{
 "cells": [
  {
   "cell_type": "markdown",
   "id": "7992ba92",
   "metadata": {},
   "source": [
    "👍A single list may contain DataTypes like Integers, Strings, as well as Objects.\n",
    "\n",
    "append(): Adds an element to the end of the list.\n",
    "extend(): Adds elements from another list to the end of the list.\n",
    "insert(): Inserts an element at a specified position.\n",
    "remove(): Removes the first occurrence of a specified value.\n",
    "pop(): Removes and returns the element at a specified index.\n",
    "clear(): Removes all elements from the list.\n",
    "index(): Returns the index of the first occurrence of a value.\n",
    "count(): Returns the number of occurrences of a value.\n",
    "sort(): Sorts the list in ascending order.\n",
    "reverse(): Reverses the order of elements in the list."
   ]
  },
  {
   "cell_type": "markdown",
   "id": "455e8ccb",
   "metadata": {},
   "source": [
    "### Blank List"
   ]
  },
  {
   "cell_type": "code",
   "execution_count": 14,
   "id": "fc22768f",
   "metadata": {},
   "outputs": [
    {
     "data": {
      "text/plain": [
       "[]"
      ]
     },
     "execution_count": 14,
     "metadata": {},
     "output_type": "execute_result"
    }
   ],
   "source": [
    "li_1 = []\n",
    "li_1"
   ]
  },
  {
   "cell_type": "code",
   "execution_count": 15,
   "id": "320b91fe",
   "metadata": {},
   "outputs": [
    {
     "data": {
      "text/plain": [
       "list"
      ]
     },
     "execution_count": 15,
     "metadata": {},
     "output_type": "execute_result"
    }
   ],
   "source": [
    "type(li_1)"
   ]
  },
  {
   "cell_type": "code",
   "execution_count": 16,
   "id": "637882c7",
   "metadata": {},
   "outputs": [
    {
     "data": {
      "text/plain": [
       "2880483263424"
      ]
     },
     "execution_count": 16,
     "metadata": {},
     "output_type": "execute_result"
    }
   ],
   "source": [
    "id(li_1)"
   ]
  },
  {
   "cell_type": "code",
   "execution_count": 17,
   "id": "3904cf96",
   "metadata": {},
   "outputs": [
    {
     "data": {
      "text/plain": [
       "[[100, 200.78, (8+2j), True, 'Amrita']]"
      ]
     },
     "execution_count": 17,
     "metadata": {},
     "output_type": "execute_result"
    }
   ],
   "source": [
    "li_1.append([100, 200.78, 8+2j, True, 'Amrita'])\n",
    "li_1"
   ]
  },
  {
   "cell_type": "code",
   "execution_count": 28,
   "id": "255d0ce4",
   "metadata": {},
   "outputs": [
    {
     "data": {
      "text/plain": [
       "[[30, 89, 45, 'Shikha']]"
      ]
     },
     "execution_count": 28,
     "metadata": {},
     "output_type": "execute_result"
    }
   ],
   "source": [
    "li_2 = []\n",
    "li_2.append([30, 89, 45, 'Shikha'])\n",
    "li_2"
   ]
  },
  {
   "cell_type": "code",
   "execution_count": 22,
   "id": "322c34ea",
   "metadata": {},
   "outputs": [
    {
     "data": {
      "text/plain": [
       "[[4.8, 5.9, 3.78]]"
      ]
     },
     "execution_count": 22,
     "metadata": {},
     "output_type": "execute_result"
    }
   ],
   "source": [
    "li_3 = []\n",
    "li_3.append([4.8, 5.9, 3.78])\n",
    "li_3"
   ]
  },
  {
   "cell_type": "code",
   "execution_count": 23,
   "id": "0cca5098",
   "metadata": {},
   "outputs": [
    {
     "data": {
      "text/plain": [
       "[[145, 90, 67, 35, 0, 'Navneet']]"
      ]
     },
     "execution_count": 23,
     "metadata": {},
     "output_type": "execute_result"
    }
   ],
   "source": [
    "li_4 = []\n",
    "li_4.append([145, 90, 67, 35, 0, 'Navneet'])\n",
    "li_4"
   ]
  },
  {
   "cell_type": "code",
   "execution_count": 30,
   "id": "a137315b",
   "metadata": {},
   "outputs": [
    {
     "data": {
      "text/plain": [
       "1"
      ]
     },
     "execution_count": 30,
     "metadata": {},
     "output_type": "execute_result"
    }
   ],
   "source": [
    "len(li_2)\n",
    "## why am I getting output as 1\n"
   ]
  },
  {
   "cell_type": "markdown",
   "id": "a3896ceb",
   "metadata": {},
   "source": [
    "## This is the difference when you use append function to add an elements, where, you pass complete list at once, you will get '1' as an output if you try to run len()."
   ]
  },
  {
   "cell_type": "code",
   "execution_count": 60,
   "id": "9ea3eda6",
   "metadata": {},
   "outputs": [
    {
     "data": {
      "text/plain": [
       "[]"
      ]
     },
     "execution_count": 60,
     "metadata": {},
     "output_type": "execute_result"
    }
   ],
   "source": [
    "s = []\n",
    "s"
   ]
  },
  {
   "cell_type": "code",
   "execution_count": 61,
   "id": "c784c57b",
   "metadata": {},
   "outputs": [
    {
     "data": {
      "text/plain": [
       "[45, 67, 23, 90, 'ShikhaKushwaha', 'NavneetKushwaha', (7+4j)]"
      ]
     },
     "execution_count": 61,
     "metadata": {},
     "output_type": "execute_result"
    }
   ],
   "source": [
    "s.append(45)\n",
    "s.append(67)\n",
    "s.append(23)\n",
    "s.append(90)\n",
    "s.append('ShikhaKushwaha')\n",
    "s.append('NavneetKushwaha')\n",
    "s.append(7+4j)\n",
    "s"
   ]
  },
  {
   "cell_type": "code",
   "execution_count": 38,
   "id": "e8bd65ca",
   "metadata": {},
   "outputs": [
    {
     "data": {
      "text/plain": [
       "7"
      ]
     },
     "execution_count": 38,
     "metadata": {},
     "output_type": "execute_result"
    }
   ],
   "source": [
    "len(s)"
   ]
  },
  {
   "cell_type": "markdown",
   "id": "7e852f05",
   "metadata": {},
   "source": [
    "#### Here, the output is as expected because, under append() only one element has been paased."
   ]
  },
  {
   "cell_type": "code",
   "execution_count": 39,
   "id": "6a0091b5",
   "metadata": {},
   "outputs": [
    {
     "data": {
      "text/plain": [
       "1"
      ]
     },
     "execution_count": 39,
     "metadata": {},
     "output_type": "execute_result"
    }
   ],
   "source": [
    "len(li_1)"
   ]
  },
  {
   "cell_type": "code",
   "execution_count": 40,
   "id": "0ce6b557",
   "metadata": {},
   "outputs": [
    {
     "data": {
      "text/plain": [
       "1"
      ]
     },
     "execution_count": 40,
     "metadata": {},
     "output_type": "execute_result"
    }
   ],
   "source": [
    "len(li_2)"
   ]
  },
  {
   "cell_type": "code",
   "execution_count": 41,
   "id": "21e2eedf",
   "metadata": {},
   "outputs": [
    {
     "data": {
      "text/plain": [
       "1"
      ]
     },
     "execution_count": 41,
     "metadata": {},
     "output_type": "execute_result"
    }
   ],
   "source": [
    "len(li_3)"
   ]
  },
  {
   "cell_type": "code",
   "execution_count": 42,
   "id": "35da0867",
   "metadata": {},
   "outputs": [
    {
     "data": {
      "text/plain": [
       "1"
      ]
     },
     "execution_count": 42,
     "metadata": {},
     "output_type": "execute_result"
    }
   ],
   "source": [
    "len(li_4)"
   ]
  },
  {
   "cell_type": "code",
   "execution_count": 43,
   "id": "a1e221fb",
   "metadata": {},
   "outputs": [
    {
     "name": "stdout",
     "output_type": "stream",
     "text": [
      "[[4.8, 5.9, 3.78]]\n"
     ]
    }
   ],
   "source": [
    "for i in li_3:\n",
    "    print(li_3)\n"
   ]
  },
  {
   "cell_type": "code",
   "execution_count": 62,
   "id": "2ebe7b0a",
   "metadata": {},
   "outputs": [
    {
     "data": {
      "text/plain": [
       "[]"
      ]
     },
     "execution_count": 62,
     "metadata": {},
     "output_type": "execute_result"
    }
   ],
   "source": [
    "s1 = []\n",
    "s1\n"
   ]
  },
  {
   "cell_type": "code",
   "execution_count": 63,
   "id": "2cfb4198",
   "metadata": {},
   "outputs": [
    {
     "data": {
      "text/plain": [
       "[2, 9, 34, 78, 'shrishti']"
      ]
     },
     "execution_count": 63,
     "metadata": {},
     "output_type": "execute_result"
    }
   ],
   "source": [
    "s1.append(2)\n",
    "s1.append(9)\n",
    "s1.append(34)\n",
    "s1.append(78)\n",
    "s1.append('shrishti')\n",
    "s1"
   ]
  },
  {
   "cell_type": "code",
   "execution_count": 64,
   "id": "1e5af117",
   "metadata": {},
   "outputs": [
    {
     "data": {
      "text/plain": [
       "[45, 67, 23, 90, 'ShikhaKushwaha', 'NavneetKushwaha', (7+4j)]"
      ]
     },
     "execution_count": 64,
     "metadata": {},
     "output_type": "execute_result"
    }
   ],
   "source": [
    "s3 = s.copy()\n",
    "s3"
   ]
  },
  {
   "cell_type": "code",
   "execution_count": 65,
   "id": "52eef409",
   "metadata": {},
   "outputs": [
    {
     "data": {
      "text/plain": [
       "[45, 67, 23, 90, 'ShikhaKushwaha', 'NavneetKushwaha', (7+4j)]"
      ]
     },
     "execution_count": 65,
     "metadata": {},
     "output_type": "execute_result"
    }
   ],
   "source": [
    "s.count(67)\n",
    "s3"
   ]
  },
  {
   "cell_type": "code",
   "execution_count": 66,
   "id": "3fe665cb",
   "metadata": {},
   "outputs": [
    {
     "data": {
      "text/plain": [
       "[45, 67, 23, 90, 'ShikhaKushwaha', 'NavneetKushwaha', (7+4j), 23]"
      ]
     },
     "execution_count": 66,
     "metadata": {},
     "output_type": "execute_result"
    }
   ],
   "source": [
    "s.append(23)\n",
    "s"
   ]
  },
  {
   "cell_type": "code",
   "execution_count": 67,
   "id": "dae89791",
   "metadata": {},
   "outputs": [
    {
     "data": {
      "text/plain": [
       "2"
      ]
     },
     "execution_count": 67,
     "metadata": {},
     "output_type": "execute_result"
    }
   ],
   "source": [
    "s.count(23)"
   ]
  },
  {
   "cell_type": "code",
   "execution_count": 68,
   "id": "93763ded",
   "metadata": {},
   "outputs": [
    {
     "data": {
      "text/plain": [
       "[45,\n",
       " 67,\n",
       " 23,\n",
       " 90,\n",
       " 'ShikhaKushwaha',\n",
       " 'NavneetKushwaha',\n",
       " (7+4j),\n",
       " 23,\n",
       " 2,\n",
       " 9,\n",
       " 34,\n",
       " 78,\n",
       " 'shrishti']"
      ]
     },
     "execution_count": 68,
     "metadata": {},
     "output_type": "execute_result"
    }
   ],
   "source": [
    "s.extend(s1)\n",
    "s"
   ]
  },
  {
   "cell_type": "code",
   "execution_count": 69,
   "id": "ef6c48e0",
   "metadata": {},
   "outputs": [
    {
     "data": {
      "text/plain": [
       "[]"
      ]
     },
     "execution_count": 69,
     "metadata": {},
     "output_type": "execute_result"
    }
   ],
   "source": [
    "s3.clear()\n",
    "s3"
   ]
  },
  {
   "cell_type": "code",
   "execution_count": null,
   "id": "f4ae02a1",
   "metadata": {},
   "outputs": [],
   "source": []
  }
 ],
 "metadata": {
  "kernelspec": {
   "display_name": "Python 3 (ipykernel)",
   "language": "python",
   "name": "python3"
  },
  "language_info": {
   "codemirror_mode": {
    "name": "ipython",
    "version": 3
   },
   "file_extension": ".py",
   "mimetype": "text/x-python",
   "name": "python",
   "nbconvert_exporter": "python",
   "pygments_lexer": "ipython3",
   "version": "3.11.5"
  }
 },
 "nbformat": 4,
 "nbformat_minor": 5
}
