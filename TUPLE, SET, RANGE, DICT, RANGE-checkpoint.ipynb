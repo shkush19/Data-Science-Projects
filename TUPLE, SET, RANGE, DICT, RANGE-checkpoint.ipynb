{
 "cells": [
  {
   "cell_type": "markdown",
   "id": "6bf17018",
   "metadata": {},
   "source": [
    "#### Tuple"
   ]
  },
  {
   "cell_type": "code",
   "execution_count": 134,
   "id": "cde0822d",
   "metadata": {},
   "outputs": [],
   "source": [
    "tup1 = ()"
   ]
  },
  {
   "cell_type": "code",
   "execution_count": 12,
   "id": "917ad746",
   "metadata": {},
   "outputs": [],
   "source": [
    "tup1 = (10,20,30)"
   ]
  },
  {
   "cell_type": "code",
   "execution_count": 13,
   "id": "0ebb2a81",
   "metadata": {},
   "outputs": [
    {
     "data": {
      "text/plain": [
       "(10, 20, 30)"
      ]
     },
     "execution_count": 13,
     "metadata": {},
     "output_type": "execute_result"
    }
   ],
   "source": [
    "tup1"
   ]
  },
  {
   "cell_type": "code",
   "execution_count": 14,
   "id": "d1b5bcda",
   "metadata": {},
   "outputs": [],
   "source": [
    "tup2 = (2.34,6.45,8.4)"
   ]
  },
  {
   "cell_type": "code",
   "execution_count": 16,
   "id": "3d99ba18",
   "metadata": {},
   "outputs": [
    {
     "data": {
      "text/plain": [
       "(2.34, 6.45, 8.4)"
      ]
     },
     "execution_count": 16,
     "metadata": {},
     "output_type": "execute_result"
    }
   ],
   "source": [
    "tup2"
   ]
  },
  {
   "cell_type": "code",
   "execution_count": 17,
   "id": "2a54a290",
   "metadata": {},
   "outputs": [
    {
     "data": {
      "text/plain": [
       "(True, False, True, True, False)"
      ]
     },
     "execution_count": 17,
     "metadata": {},
     "output_type": "execute_result"
    }
   ],
   "source": [
    "tup3 = (True, False, True, True, False)\n",
    "tup3"
   ]
  },
  {
   "cell_type": "code",
   "execution_count": 18,
   "id": "fbdf5a0c",
   "metadata": {},
   "outputs": [
    {
     "data": {
      "text/plain": [
       "('Shikha', 'Navneet', 'Amrita')"
      ]
     },
     "execution_count": 18,
     "metadata": {},
     "output_type": "execute_result"
    }
   ],
   "source": [
    "tup4 = ('Shikha', 'Navneet', 'Amrita')\n",
    "tup4"
   ]
  },
  {
   "cell_type": "code",
   "execution_count": 19,
   "id": "b03228de",
   "metadata": {},
   "outputs": [
    {
     "data": {
      "text/plain": [
       "(56, 90, 45, ['Welcome', 'NareshIT'], [20, 67])"
      ]
     },
     "execution_count": 19,
     "metadata": {},
     "output_type": "execute_result"
    }
   ],
   "source": [
    "tup5 = (56,90,45, ['Welcome','NareshIT'], [20, 67])\n",
    "tup5"
   ]
  },
  {
   "cell_type": "code",
   "execution_count": 20,
   "id": "4b1686d1",
   "metadata": {},
   "outputs": [
    {
     "data": {
      "text/plain": [
       "5"
      ]
     },
     "execution_count": 20,
     "metadata": {},
     "output_type": "execute_result"
    }
   ],
   "source": [
    "len(tup5)"
   ]
  },
  {
   "cell_type": "code",
   "execution_count": 23,
   "id": "44cb3787",
   "metadata": {},
   "outputs": [
    {
     "ename": "IndexError",
     "evalue": "list index out of range",
     "output_type": "error",
     "traceback": [
      "\u001b[1;31m---------------------------------------------------------------------------\u001b[0m",
      "\u001b[1;31mIndexError\u001b[0m                                Traceback (most recent call last)",
      "Cell \u001b[1;32mIn[23], line 1\u001b[0m\n\u001b[1;32m----> 1\u001b[0m tup5([\u001b[38;5;241m4\u001b[39m][\u001b[38;5;241m4\u001b[39m])\n",
      "\u001b[1;31mIndexError\u001b[0m: list index out of range"
     ]
    }
   ],
   "source": [
    "tup5([4][4])"
   ]
  },
  {
   "cell_type": "code",
   "execution_count": 31,
   "id": "0bf37e23",
   "metadata": {},
   "outputs": [
    {
     "data": {
      "text/plain": [
       "()"
      ]
     },
     "execution_count": 31,
     "metadata": {},
     "output_type": "execute_result"
    }
   ],
   "source": [
    "tup6 = ()\n",
    "tup6"
   ]
  },
  {
   "cell_type": "code",
   "execution_count": 35,
   "id": "a0cd04a8",
   "metadata": {},
   "outputs": [
    {
     "data": {
      "text/plain": [
       "('Welcome', 'to', 'NareshIT')"
      ]
     },
     "execution_count": 35,
     "metadata": {},
     "output_type": "execute_result"
    }
   ],
   "source": [
    "tup6 = ('Welcome' , 'to' , 'NareshIT')\n",
    "tup6"
   ]
  },
  {
   "cell_type": "code",
   "execution_count": 36,
   "id": "f758d5a7",
   "metadata": {},
   "outputs": [
    {
     "data": {
      "text/plain": [
       "('Welcome', 'to')"
      ]
     },
     "execution_count": 36,
     "metadata": {},
     "output_type": "execute_result"
    }
   ],
   "source": [
    "tup6[0:2]"
   ]
  },
  {
   "cell_type": "code",
   "execution_count": 37,
   "id": "64f41101",
   "metadata": {},
   "outputs": [
    {
     "data": {
      "text/plain": [
       "'to'"
      ]
     },
     "execution_count": 37,
     "metadata": {},
     "output_type": "execute_result"
    }
   ],
   "source": [
    "tup6[-2]"
   ]
  },
  {
   "cell_type": "code",
   "execution_count": 38,
   "id": "0a1df689",
   "metadata": {},
   "outputs": [
    {
     "data": {
      "text/plain": [
       "('Welcome', 'to')"
      ]
     },
     "execution_count": 38,
     "metadata": {},
     "output_type": "execute_result"
    }
   ],
   "source": [
    "tup6[0:2]"
   ]
  },
  {
   "cell_type": "code",
   "execution_count": 39,
   "id": "bd30167b",
   "metadata": {},
   "outputs": [
    {
     "name": "stdout",
     "output_type": "stream",
     "text": [
      "(0, 'Welcome')\n",
      "(1, 'to')\n",
      "(2, 'NareshIT')\n"
     ]
    }
   ],
   "source": [
    "for i in enumerate(tup6):\n",
    "    print(i)"
   ]
  },
  {
   "cell_type": "code",
   "execution_count": 40,
   "id": "589aabdb",
   "metadata": {},
   "outputs": [
    {
     "data": {
      "text/plain": [
       "1"
      ]
     },
     "execution_count": 40,
     "metadata": {},
     "output_type": "execute_result"
    }
   ],
   "source": [
    "tup6.count('Welcome')"
   ]
  },
  {
   "cell_type": "code",
   "execution_count": 43,
   "id": "c8f10b4f",
   "metadata": {},
   "outputs": [
    {
     "data": {
      "text/plain": [
       "2"
      ]
     },
     "execution_count": 43,
     "metadata": {},
     "output_type": "execute_result"
    }
   ],
   "source": [
    "tup6.index('NareshIT')"
   ]
  },
  {
   "cell_type": "code",
   "execution_count": 45,
   "id": "55873df9",
   "metadata": {},
   "outputs": [
    {
     "data": {
      "text/plain": [
       "False"
      ]
     },
     "execution_count": 45,
     "metadata": {},
     "output_type": "execute_result"
    }
   ],
   "source": [
    "'one' in tup6"
   ]
  },
  {
   "cell_type": "code",
   "execution_count": 47,
   "id": "941e9ba0",
   "metadata": {},
   "outputs": [
    {
     "data": {
      "text/plain": [
       "True"
      ]
     },
     "execution_count": 47,
     "metadata": {},
     "output_type": "execute_result"
    }
   ],
   "source": [
    "'Welcome' in tup6"
   ]
  },
  {
   "cell_type": "code",
   "execution_count": 49,
   "id": "049b1b0d",
   "metadata": {},
   "outputs": [
    {
     "data": {
      "text/plain": [
       "()"
      ]
     },
     "execution_count": 49,
     "metadata": {},
     "output_type": "execute_result"
    }
   ],
   "source": [
    "tup7 = ()\n",
    "tup7"
   ]
  },
  {
   "cell_type": "code",
   "execution_count": 50,
   "id": "3e681481",
   "metadata": {},
   "outputs": [
    {
     "data": {
      "text/plain": [
       "(30, 60, 20, 100)"
      ]
     },
     "execution_count": 50,
     "metadata": {},
     "output_type": "execute_result"
    }
   ],
   "source": [
    "tup7 = (30,60,20,100)\n",
    "tup7"
   ]
  },
  {
   "cell_type": "code",
   "execution_count": 53,
   "id": "7d93f80b",
   "metadata": {},
   "outputs": [
    {
     "data": {
      "text/plain": [
       "[20, 30, 60, 100]"
      ]
     },
     "execution_count": 53,
     "metadata": {},
     "output_type": "execute_result"
    }
   ],
   "source": [
    "sorted(tup7)"
   ]
  },
  {
   "cell_type": "code",
   "execution_count": 55,
   "id": "2e17565d",
   "metadata": {},
   "outputs": [
    {
     "data": {
      "text/plain": [
       "[100, 60, 30, 20]"
      ]
     },
     "execution_count": 55,
     "metadata": {},
     "output_type": "execute_result"
    }
   ],
   "source": [
    "sorted(tup7,reverse=True)"
   ]
  },
  {
   "cell_type": "code",
   "execution_count": 57,
   "id": "d0741ecf",
   "metadata": {},
   "outputs": [
    {
     "name": "stdout",
     "output_type": "stream",
     "text": [
      "yes\n",
      "Code Executed\n"
     ]
    }
   ],
   "source": [
    "try:\n",
    "    if all(tup6)==True:\n",
    "        print('yes')\n",
    "    else:\n",
    "        print('No')\n",
    "except:\n",
    "    print('Not required')\n",
    "finally:\n",
    "    print(\"Code Executed\")"
   ]
  },
  {
   "cell_type": "code",
   "execution_count": 58,
   "id": "0b6e0d27",
   "metadata": {},
   "outputs": [
    {
     "name": "stdout",
     "output_type": "stream",
     "text": [
      "No\n",
      "Code Executed\n"
     ]
    }
   ],
   "source": [
    "try:\n",
    "    if all(tup6)==False:\n",
    "        print('yes')\n",
    "    else:\n",
    "        print('No')\n",
    "except:\n",
    "    print('Not required')\n",
    "finally:\n",
    "    print(\"Code Executed\")"
   ]
  },
  {
   "cell_type": "code",
   "execution_count": 59,
   "id": "de332ff6",
   "metadata": {},
   "outputs": [
    {
     "name": "stdout",
     "output_type": "stream",
     "text": [
      "No\n",
      "Code Executed\n"
     ]
    }
   ],
   "source": [
    "try:\n",
    "    if any(tup6)==False:\n",
    "        print('yes')\n",
    "    else:\n",
    "        print('No')\n",
    "except:\n",
    "    print('Not required')\n",
    "finally:\n",
    "    print(\"Code Executed\")"
   ]
  },
  {
   "cell_type": "code",
   "execution_count": 60,
   "id": "ba4bcb54",
   "metadata": {},
   "outputs": [
    {
     "name": "stdout",
     "output_type": "stream",
     "text": [
      "yes\n",
      "Code Executed\n"
     ]
    }
   ],
   "source": [
    "try:\n",
    "    if any(tup6)==True:\n",
    "        print('yes')\n",
    "    else:\n",
    "        print('No')\n",
    "except:\n",
    "    print('Not required')\n",
    "finally:\n",
    "    print(\"Code Executed\")"
   ]
  },
  {
   "cell_type": "code",
   "execution_count": 61,
   "id": "50509cd4",
   "metadata": {},
   "outputs": [
    {
     "name": "stdout",
     "output_type": "stream",
     "text": [
      "Not required\n",
      "Code Executed\n"
     ]
    }
   ],
   "source": [
    "try:\n",
    "    if any(tup6)==array:\n",
    "        print('yes')\n",
    "    else:\n",
    "        print('No')\n",
    "except:\n",
    "    print('Not required')\n",
    "finally:\n",
    "    print(\"Code Executed\")"
   ]
  },
  {
   "cell_type": "markdown",
   "id": "287bf719",
   "metadata": {},
   "source": [
    "### Set"
   ]
  },
  {
   "cell_type": "code",
   "execution_count": 64,
   "id": "e8055fcd",
   "metadata": {},
   "outputs": [
    {
     "data": {
      "text/plain": [
       "{}"
      ]
     },
     "execution_count": 64,
     "metadata": {},
     "output_type": "execute_result"
    }
   ],
   "source": [
    "set1 = {}\n",
    "set1"
   ]
  },
  {
   "cell_type": "code",
   "execution_count": 67,
   "id": "76f2a1cf",
   "metadata": {},
   "outputs": [],
   "source": [
    "set1 = {1,3,5,7,9}"
   ]
  },
  {
   "cell_type": "code",
   "execution_count": 68,
   "id": "a2396cb5",
   "metadata": {},
   "outputs": [
    {
     "data": {
      "text/plain": [
       "{1, 3, 5, 7, 9}"
      ]
     },
     "execution_count": 68,
     "metadata": {},
     "output_type": "execute_result"
    }
   ],
   "source": [
    "set1"
   ]
  },
  {
   "cell_type": "code",
   "execution_count": 69,
   "id": "db5a3be6",
   "metadata": {},
   "outputs": [
    {
     "data": {
      "text/plain": [
       "{2, 4, 6, 8, 10}"
      ]
     },
     "execution_count": 69,
     "metadata": {},
     "output_type": "execute_result"
    }
   ],
   "source": [
    "set2 = {2,4,6,8,10}\n",
    "set2"
   ]
  },
  {
   "cell_type": "code",
   "execution_count": 70,
   "id": "d9549fc1",
   "metadata": {},
   "outputs": [
    {
     "data": {
      "text/plain": [
       "{'Computer', 'Information', 'Science', 'Technology'}"
      ]
     },
     "execution_count": 70,
     "metadata": {},
     "output_type": "execute_result"
    }
   ],
   "source": [
    "set3 = {'Information', 'Technology', 'Computer', 'Science'}\n",
    "set3"
   ]
  },
  {
   "cell_type": "code",
   "execution_count": 72,
   "id": "970dd298",
   "metadata": {},
   "outputs": [
    {
     "data": {
      "text/plain": [
       "4"
      ]
     },
     "execution_count": 72,
     "metadata": {},
     "output_type": "execute_result"
    }
   ],
   "source": [
    "len(set3)"
   ]
  },
  {
   "cell_type": "code",
   "execution_count": 73,
   "id": "871690a8",
   "metadata": {},
   "outputs": [
    {
     "data": {
      "text/plain": [
       "{1, 3, 5, 7, 9, 11}"
      ]
     },
     "execution_count": 73,
     "metadata": {},
     "output_type": "execute_result"
    }
   ],
   "source": [
    "set1.add(11)\n",
    "set1"
   ]
  },
  {
   "cell_type": "code",
   "execution_count": 74,
   "id": "28309ee7",
   "metadata": {},
   "outputs": [],
   "source": [
    "set0 = {}"
   ]
  },
  {
   "cell_type": "code",
   "execution_count": 75,
   "id": "07a7c814",
   "metadata": {},
   "outputs": [
    {
     "data": {
      "text/plain": [
       "{}"
      ]
     },
     "execution_count": 75,
     "metadata": {},
     "output_type": "execute_result"
    }
   ],
   "source": [
    "set0"
   ]
  },
  {
   "cell_type": "code",
   "execution_count": 76,
   "id": "eb3dad20",
   "metadata": {},
   "outputs": [
    {
     "data": {
      "text/plain": [
       "{'Can', 'Deleted', 'be'}"
      ]
     },
     "execution_count": 76,
     "metadata": {},
     "output_type": "execute_result"
    }
   ],
   "source": [
    "set0 = {\"Can\", \"be\", \"Deleted\"}\n",
    "set0"
   ]
  },
  {
   "cell_type": "code",
   "execution_count": 77,
   "id": "13f80746",
   "metadata": {},
   "outputs": [],
   "source": [
    "set0.clear()"
   ]
  },
  {
   "cell_type": "code",
   "execution_count": 78,
   "id": "026e81ef",
   "metadata": {},
   "outputs": [
    {
     "data": {
      "text/plain": [
       "set()"
      ]
     },
     "execution_count": 78,
     "metadata": {},
     "output_type": "execute_result"
    }
   ],
   "source": [
    "set0"
   ]
  },
  {
   "cell_type": "code",
   "execution_count": 79,
   "id": "d8bb8a20",
   "metadata": {},
   "outputs": [],
   "source": [
    "myset = set1.copy()"
   ]
  },
  {
   "cell_type": "code",
   "execution_count": 80,
   "id": "60e49414",
   "metadata": {},
   "outputs": [
    {
     "data": {
      "text/plain": [
       "{1, 3, 5, 7, 9, 11}"
      ]
     },
     "execution_count": 80,
     "metadata": {},
     "output_type": "execute_result"
    }
   ],
   "source": [
    "myset"
   ]
  },
  {
   "cell_type": "code",
   "execution_count": 81,
   "id": "dc724917",
   "metadata": {},
   "outputs": [
    {
     "data": {
      "text/plain": [
       "{1, 3, 5, 7, 9, 11}"
      ]
     },
     "execution_count": 81,
     "metadata": {},
     "output_type": "execute_result"
    }
   ],
   "source": [
    "set1"
   ]
  },
  {
   "cell_type": "code",
   "execution_count": 82,
   "id": "e79921a3",
   "metadata": {},
   "outputs": [
    {
     "data": {
      "text/plain": [
       "{2, 4, 6, 8, 10}"
      ]
     },
     "execution_count": 82,
     "metadata": {},
     "output_type": "execute_result"
    }
   ],
   "source": [
    "set2"
   ]
  },
  {
   "cell_type": "code",
   "execution_count": 84,
   "id": "0604eb6d",
   "metadata": {},
   "outputs": [],
   "source": [
    "set1.add(6)"
   ]
  },
  {
   "cell_type": "code",
   "execution_count": 85,
   "id": "3c544ab1",
   "metadata": {},
   "outputs": [
    {
     "data": {
      "text/plain": [
       "{1, 3, 5, 6, 7, 9, 11}"
      ]
     },
     "execution_count": 85,
     "metadata": {},
     "output_type": "execute_result"
    }
   ],
   "source": [
    "set1"
   ]
  },
  {
   "cell_type": "code",
   "execution_count": 86,
   "id": "08eb26a8",
   "metadata": {},
   "outputs": [
    {
     "data": {
      "text/plain": [
       "{1, 3, 5, 7, 9, 11}"
      ]
     },
     "execution_count": 86,
     "metadata": {},
     "output_type": "execute_result"
    }
   ],
   "source": [
    "set1.difference(set2)"
   ]
  },
  {
   "cell_type": "code",
   "execution_count": 87,
   "id": "9310ea7b",
   "metadata": {},
   "outputs": [],
   "source": [
    "set1.difference_update(set2)"
   ]
  },
  {
   "cell_type": "code",
   "execution_count": 88,
   "id": "eb89b292",
   "metadata": {},
   "outputs": [],
   "source": [
    "set1.add(9)"
   ]
  },
  {
   "cell_type": "code",
   "execution_count": 89,
   "id": "db980bd7",
   "metadata": {},
   "outputs": [
    {
     "data": {
      "text/plain": [
       "{1, 3, 5, 7, 9, 11}"
      ]
     },
     "execution_count": 89,
     "metadata": {},
     "output_type": "execute_result"
    }
   ],
   "source": [
    "set1"
   ]
  },
  {
   "cell_type": "code",
   "execution_count": 90,
   "id": "2fe32561",
   "metadata": {},
   "outputs": [
    {
     "data": {
      "text/plain": [
       "{1, 3, 5, 7, 9, 11}"
      ]
     },
     "execution_count": 90,
     "metadata": {},
     "output_type": "execute_result"
    }
   ],
   "source": [
    "set1.difference(set2)"
   ]
  },
  {
   "cell_type": "code",
   "execution_count": 91,
   "id": "a3bc2126",
   "metadata": {},
   "outputs": [],
   "source": [
    "set1.difference_update(set2)"
   ]
  },
  {
   "cell_type": "code",
   "execution_count": 92,
   "id": "acec93c8",
   "metadata": {},
   "outputs": [],
   "source": [
    "set1.discard(1)"
   ]
  },
  {
   "cell_type": "code",
   "execution_count": 93,
   "id": "d4c8116f",
   "metadata": {},
   "outputs": [
    {
     "data": {
      "text/plain": [
       "{3, 5, 7, 9, 11}"
      ]
     },
     "execution_count": 93,
     "metadata": {},
     "output_type": "execute_result"
    }
   ],
   "source": [
    "set1"
   ]
  },
  {
   "cell_type": "code",
   "execution_count": 95,
   "id": "24fec007",
   "metadata": {},
   "outputs": [
    {
     "data": {
      "text/plain": [
       "set()"
      ]
     },
     "execution_count": 95,
     "metadata": {},
     "output_type": "execute_result"
    }
   ],
   "source": [
    "set1.intersection(set2)"
   ]
  },
  {
   "cell_type": "code",
   "execution_count": 100,
   "id": "c627d31d",
   "metadata": {},
   "outputs": [
    {
     "data": {
      "text/plain": [
       "{3, 5, 7, 9, 11}"
      ]
     },
     "execution_count": 100,
     "metadata": {},
     "output_type": "execute_result"
    }
   ],
   "source": [
    "set1"
   ]
  },
  {
   "cell_type": "code",
   "execution_count": 97,
   "id": "5297fd23",
   "metadata": {},
   "outputs": [
    {
     "data": {
      "text/plain": [
       "{2, 4, 6, 8, 10}"
      ]
     },
     "execution_count": 97,
     "metadata": {},
     "output_type": "execute_result"
    }
   ],
   "source": [
    "set2"
   ]
  },
  {
   "cell_type": "code",
   "execution_count": 98,
   "id": "198882ff",
   "metadata": {},
   "outputs": [],
   "source": [
    "set2.add(9)"
   ]
  },
  {
   "cell_type": "code",
   "execution_count": 99,
   "id": "ee4154c5",
   "metadata": {},
   "outputs": [
    {
     "data": {
      "text/plain": [
       "{2, 4, 6, 8, 9, 10}"
      ]
     },
     "execution_count": 99,
     "metadata": {},
     "output_type": "execute_result"
    }
   ],
   "source": [
    "set2"
   ]
  },
  {
   "cell_type": "code",
   "execution_count": 101,
   "id": "46199ac6",
   "metadata": {},
   "outputs": [
    {
     "data": {
      "text/plain": [
       "{9}"
      ]
     },
     "execution_count": 101,
     "metadata": {},
     "output_type": "execute_result"
    }
   ],
   "source": [
    "set2.intersection(set1)"
   ]
  },
  {
   "cell_type": "code",
   "execution_count": 103,
   "id": "c9e2e8c9",
   "metadata": {},
   "outputs": [
    {
     "data": {
      "text/plain": [
       "True"
      ]
     },
     "execution_count": 103,
     "metadata": {},
     "output_type": "execute_result"
    }
   ],
   "source": [
    "set1.isdisjoint(set3)"
   ]
  },
  {
   "cell_type": "code",
   "execution_count": 105,
   "id": "c08ea8bc",
   "metadata": {},
   "outputs": [
    {
     "data": {
      "text/plain": [
       "False"
      ]
     },
     "execution_count": 105,
     "metadata": {},
     "output_type": "execute_result"
    }
   ],
   "source": [
    "set1.issubset(set2)"
   ]
  },
  {
   "cell_type": "code",
   "execution_count": 106,
   "id": "42be3854",
   "metadata": {},
   "outputs": [],
   "source": [
    "s1 = {1,3,5,7,9}\n",
    "s2 = {1,2,3,4,5,6,7,8,9,10}"
   ]
  },
  {
   "cell_type": "code",
   "execution_count": 107,
   "id": "3debc12a",
   "metadata": {},
   "outputs": [
    {
     "data": {
      "text/plain": [
       "{1, 3, 5, 7, 9}"
      ]
     },
     "execution_count": 107,
     "metadata": {},
     "output_type": "execute_result"
    }
   ],
   "source": [
    "s1"
   ]
  },
  {
   "cell_type": "code",
   "execution_count": 108,
   "id": "1f4576b0",
   "metadata": {},
   "outputs": [
    {
     "data": {
      "text/plain": [
       "{1, 2, 3, 4, 5, 6, 7, 8, 9, 10}"
      ]
     },
     "execution_count": 108,
     "metadata": {},
     "output_type": "execute_result"
    }
   ],
   "source": [
    "s2"
   ]
  },
  {
   "cell_type": "code",
   "execution_count": 109,
   "id": "7b9452f3",
   "metadata": {},
   "outputs": [
    {
     "data": {
      "text/plain": [
       "False"
      ]
     },
     "execution_count": 109,
     "metadata": {},
     "output_type": "execute_result"
    }
   ],
   "source": [
    "s2.issubset(s1)"
   ]
  },
  {
   "cell_type": "code",
   "execution_count": 110,
   "id": "65af69ff",
   "metadata": {},
   "outputs": [
    {
     "data": {
      "text/plain": [
       "True"
      ]
     },
     "execution_count": 110,
     "metadata": {},
     "output_type": "execute_result"
    }
   ],
   "source": [
    "s1.issubset(s2)"
   ]
  },
  {
   "cell_type": "code",
   "execution_count": 111,
   "id": "78dc1aae",
   "metadata": {},
   "outputs": [
    {
     "data": {
      "text/plain": [
       "True"
      ]
     },
     "execution_count": 111,
     "metadata": {},
     "output_type": "execute_result"
    }
   ],
   "source": [
    "s2.issuperset(s1)"
   ]
  },
  {
   "cell_type": "code",
   "execution_count": 113,
   "id": "05b53086",
   "metadata": {},
   "outputs": [
    {
     "data": {
      "text/plain": [
       "1"
      ]
     },
     "execution_count": 113,
     "metadata": {},
     "output_type": "execute_result"
    }
   ],
   "source": [
    "s2.pop()"
   ]
  },
  {
   "cell_type": "code",
   "execution_count": 114,
   "id": "df6d1838",
   "metadata": {},
   "outputs": [
    {
     "data": {
      "text/plain": [
       "2"
      ]
     },
     "execution_count": 114,
     "metadata": {},
     "output_type": "execute_result"
    }
   ],
   "source": [
    "s2.pop()"
   ]
  },
  {
   "cell_type": "code",
   "execution_count": 115,
   "id": "5de15f00",
   "metadata": {},
   "outputs": [
    {
     "data": {
      "text/plain": [
       "{3, 4, 5, 6, 7, 8, 9, 10}"
      ]
     },
     "execution_count": 115,
     "metadata": {},
     "output_type": "execute_result"
    }
   ],
   "source": [
    "s2"
   ]
  },
  {
   "cell_type": "code",
   "execution_count": 116,
   "id": "da3ba7a0",
   "metadata": {},
   "outputs": [],
   "source": [
    "s2.remove(5)"
   ]
  },
  {
   "cell_type": "code",
   "execution_count": 117,
   "id": "bc9ce6e2",
   "metadata": {},
   "outputs": [
    {
     "data": {
      "text/plain": [
       "{3, 4, 6, 7, 8, 9, 10}"
      ]
     },
     "execution_count": 117,
     "metadata": {},
     "output_type": "execute_result"
    }
   ],
   "source": [
    "s2"
   ]
  },
  {
   "cell_type": "code",
   "execution_count": 119,
   "id": "04c19c4d",
   "metadata": {},
   "outputs": [
    {
     "data": {
      "text/plain": [
       "{3, 4, 6, 7, 8, 9, 10}"
      ]
     },
     "execution_count": 119,
     "metadata": {},
     "output_type": "execute_result"
    }
   ],
   "source": [
    "s2"
   ]
  },
  {
   "cell_type": "code",
   "execution_count": 120,
   "id": "91e5d843",
   "metadata": {},
   "outputs": [
    {
     "data": {
      "text/plain": [
       "{1, 3, 5, 7, 9}"
      ]
     },
     "execution_count": 120,
     "metadata": {},
     "output_type": "execute_result"
    }
   ],
   "source": [
    "s1"
   ]
  },
  {
   "cell_type": "code",
   "execution_count": 121,
   "id": "a9c855df",
   "metadata": {},
   "outputs": [
    {
     "data": {
      "text/plain": [
       "{1, 4, 5, 6, 8, 10}"
      ]
     },
     "execution_count": 121,
     "metadata": {},
     "output_type": "execute_result"
    }
   ],
   "source": [
    "s2.symmetric_difference(s1)\n",
    "\n",
    "## What is the difference between symmetric_difference() and difference(), where, both returns same output\n"
   ]
  },
  {
   "cell_type": "code",
   "execution_count": 123,
   "id": "c5a9f041",
   "metadata": {},
   "outputs": [
    {
     "data": {
      "text/plain": [
       "{1, 3, 4, 5, 6, 7, 8, 9, 10}"
      ]
     },
     "execution_count": 123,
     "metadata": {},
     "output_type": "execute_result"
    }
   ],
   "source": [
    "s1.union(s2)"
   ]
  },
  {
   "cell_type": "code",
   "execution_count": 124,
   "id": "3526eddd",
   "metadata": {},
   "outputs": [],
   "source": [
    "s1.update(s2)"
   ]
  },
  {
   "cell_type": "code",
   "execution_count": 125,
   "id": "2dbc48d6",
   "metadata": {},
   "outputs": [
    {
     "data": {
      "text/plain": [
       "{1, 3, 4, 5, 6, 7, 8, 9, 10}"
      ]
     },
     "execution_count": 125,
     "metadata": {},
     "output_type": "execute_result"
    }
   ],
   "source": [
    "s1"
   ]
  },
  {
   "cell_type": "code",
   "execution_count": 126,
   "id": "bb9f2d74",
   "metadata": {},
   "outputs": [
    {
     "data": {
      "text/plain": [
       "{3, 4, 6, 7, 8, 9, 10}"
      ]
     },
     "execution_count": 126,
     "metadata": {},
     "output_type": "execute_result"
    }
   ],
   "source": [
    "s2"
   ]
  },
  {
   "cell_type": "code",
   "execution_count": 130,
   "id": "f66df385",
   "metadata": {},
   "outputs": [
    {
     "data": {
      "text/plain": [
       "{3, 4, 6, 7, 8, 9, 10, 67, 89}"
      ]
     },
     "execution_count": 130,
     "metadata": {},
     "output_type": "execute_result"
    }
   ],
   "source": [
    "s2.add(89)\n",
    "s2.add(67)\n",
    "s2"
   ]
  },
  {
   "cell_type": "code",
   "execution_count": 131,
   "id": "0fa15b8e",
   "metadata": {},
   "outputs": [
    {
     "data": {
      "text/plain": [
       "{1, 3, 4, 5, 6, 7, 8, 9, 10}"
      ]
     },
     "execution_count": 131,
     "metadata": {},
     "output_type": "execute_result"
    }
   ],
   "source": [
    "s1"
   ]
  },
  {
   "cell_type": "code",
   "execution_count": 132,
   "id": "f2249105",
   "metadata": {},
   "outputs": [],
   "source": [
    "s2.update(s1)"
   ]
  },
  {
   "cell_type": "code",
   "execution_count": 133,
   "id": "9ead106f",
   "metadata": {},
   "outputs": [
    {
     "data": {
      "text/plain": [
       "{1, 3, 4, 5, 6, 7, 8, 9, 10, 67, 89}"
      ]
     },
     "execution_count": 133,
     "metadata": {},
     "output_type": "execute_result"
    }
   ],
   "source": [
    "s2"
   ]
  },
  {
   "cell_type": "markdown",
   "id": "ef23aebc",
   "metadata": {},
   "source": [
    "#### Dict"
   ]
  },
  {
   "cell_type": "code",
   "execution_count": 135,
   "id": "f2efcbfc",
   "metadata": {},
   "outputs": [],
   "source": [
    "mydict1 = {}"
   ]
  },
  {
   "cell_type": "code",
   "execution_count": 136,
   "id": "2bb5fcbe",
   "metadata": {},
   "outputs": [
    {
     "data": {
      "text/plain": [
       "{}"
      ]
     },
     "execution_count": 136,
     "metadata": {},
     "output_type": "execute_result"
    }
   ],
   "source": [
    "mydict1"
   ]
  },
  {
   "cell_type": "code",
   "execution_count": 137,
   "id": "dc1637a7",
   "metadata": {},
   "outputs": [
    {
     "data": {
      "text/plain": [
       "dict"
      ]
     },
     "execution_count": 137,
     "metadata": {},
     "output_type": "execute_result"
    }
   ],
   "source": [
    "type(mydict1)"
   ]
  },
  {
   "cell_type": "code",
   "execution_count": 138,
   "id": "34c474ed",
   "metadata": {},
   "outputs": [],
   "source": [
    "mydict2 = {}"
   ]
  },
  {
   "cell_type": "code",
   "execution_count": 139,
   "id": "271ede63",
   "metadata": {},
   "outputs": [
    {
     "data": {
      "text/plain": [
       "{}"
      ]
     },
     "execution_count": 139,
     "metadata": {},
     "output_type": "execute_result"
    }
   ],
   "source": [
    "mydict2"
   ]
  },
  {
   "cell_type": "code",
   "execution_count": 141,
   "id": "2ab6a492",
   "metadata": {},
   "outputs": [
    {
     "data": {
      "text/plain": [
       "{1: 'Apple', 2: 'Banana', 3: 'Litchi'}"
      ]
     },
     "execution_count": 141,
     "metadata": {},
     "output_type": "execute_result"
    }
   ],
   "source": [
    "mydict1 = {1:'Apple',2:\"Banana\",3:'Litchi'}\n",
    "mydict1"
   ]
  },
  {
   "cell_type": "code",
   "execution_count": 142,
   "id": "eae4525a",
   "metadata": {},
   "outputs": [
    {
     "data": {
      "text/plain": [
       "dict_items([(1, 'Apple'), (2, 'Banana'), (3, 'Litchi')])"
      ]
     },
     "execution_count": 142,
     "metadata": {},
     "output_type": "execute_result"
    }
   ],
   "source": [
    "mydict1.items()"
   ]
  },
  {
   "cell_type": "code",
   "execution_count": 143,
   "id": "66ce5207",
   "metadata": {},
   "outputs": [],
   "source": [
    "mydict3 = {}\n"
   ]
  },
  {
   "cell_type": "code",
   "execution_count": 144,
   "id": "961b0f82",
   "metadata": {},
   "outputs": [
    {
     "data": {
      "text/plain": [
       "{}"
      ]
     },
     "execution_count": 144,
     "metadata": {},
     "output_type": "execute_result"
    }
   ],
   "source": [
    "mydict3"
   ]
  },
  {
   "cell_type": "code",
   "execution_count": 145,
   "id": "d1e4ee82",
   "metadata": {},
   "outputs": [
    {
     "data": {
      "text/plain": [
       "{3: 'Three', 4: 'Four', 5: 'Five'}"
      ]
     },
     "execution_count": 145,
     "metadata": {},
     "output_type": "execute_result"
    }
   ],
   "source": [
    "mydict3 = {3:'Three', 4:'Four', 5:'Five'}\n",
    "mydict3"
   ]
  },
  {
   "cell_type": "code",
   "execution_count": 146,
   "id": "e06f5be5",
   "metadata": {},
   "outputs": [],
   "source": [
    "mydict3.clear()"
   ]
  },
  {
   "cell_type": "code",
   "execution_count": 147,
   "id": "9fd4cece",
   "metadata": {},
   "outputs": [
    {
     "data": {
      "text/plain": [
       "{}"
      ]
     },
     "execution_count": 147,
     "metadata": {},
     "output_type": "execute_result"
    }
   ],
   "source": [
    "mydict3"
   ]
  },
  {
   "cell_type": "code",
   "execution_count": 148,
   "id": "6d195a05",
   "metadata": {},
   "outputs": [
    {
     "data": {
      "text/plain": [
       "{3: 'Three', 4: 'Four', 5: 'Five'}"
      ]
     },
     "execution_count": 148,
     "metadata": {},
     "output_type": "execute_result"
    }
   ],
   "source": [
    "mydict3 = {3:'Three', 4:'Four', 5:'Five'}\n",
    "mydict3"
   ]
  },
  {
   "cell_type": "code",
   "execution_count": 154,
   "id": "b82af595",
   "metadata": {},
   "outputs": [
    {
     "data": {
      "text/plain": [
       "{}"
      ]
     },
     "execution_count": 154,
     "metadata": {},
     "output_type": "execute_result"
    }
   ],
   "source": [
    "mydict4 = {}\n",
    "mydict4"
   ]
  },
  {
   "cell_type": "code",
   "execution_count": 155,
   "id": "d1ee060f",
   "metadata": {},
   "outputs": [],
   "source": [
    "mydict4 = mydict3.copy()"
   ]
  },
  {
   "cell_type": "code",
   "execution_count": 156,
   "id": "760041e4",
   "metadata": {},
   "outputs": [
    {
     "data": {
      "text/plain": [
       "{3: 'Three', 4: 'Four', 5: 'Five'}"
      ]
     },
     "execution_count": 156,
     "metadata": {},
     "output_type": "execute_result"
    }
   ],
   "source": [
    "mydict4"
   ]
  },
  {
   "cell_type": "code",
   "execution_count": 162,
   "id": "6c6e736e",
   "metadata": {},
   "outputs": [
    {
     "data": {
      "text/plain": [
       "'Five'"
      ]
     },
     "execution_count": 162,
     "metadata": {},
     "output_type": "execute_result"
    }
   ],
   "source": [
    "mydict3.get(5)"
   ]
  },
  {
   "cell_type": "code",
   "execution_count": 165,
   "id": "c8919db1",
   "metadata": {},
   "outputs": [
    {
     "data": {
      "text/plain": [
       "dict_items([(3, 'Three'), (4, 'Four'), (5, 'Five')])"
      ]
     },
     "execution_count": 165,
     "metadata": {},
     "output_type": "execute_result"
    }
   ],
   "source": [
    "mydict3.items()"
   ]
  },
  {
   "cell_type": "code",
   "execution_count": 167,
   "id": "9b824970",
   "metadata": {},
   "outputs": [
    {
     "data": {
      "text/plain": [
       "dict_keys([3, 4, 5])"
      ]
     },
     "execution_count": 167,
     "metadata": {},
     "output_type": "execute_result"
    }
   ],
   "source": [
    "mydict3.keys()"
   ]
  },
  {
   "cell_type": "code",
   "execution_count": 169,
   "id": "a4993334",
   "metadata": {},
   "outputs": [
    {
     "data": {
      "text/plain": [
       "'Three'"
      ]
     },
     "execution_count": 169,
     "metadata": {},
     "output_type": "execute_result"
    }
   ],
   "source": [
    "mydict3.pop(3)"
   ]
  },
  {
   "cell_type": "code",
   "execution_count": 170,
   "id": "d1d9c595",
   "metadata": {},
   "outputs": [
    {
     "data": {
      "text/plain": [
       "{4: 'Four', 5: 'Five'}"
      ]
     },
     "execution_count": 170,
     "metadata": {},
     "output_type": "execute_result"
    }
   ],
   "source": [
    "mydict3"
   ]
  },
  {
   "cell_type": "code",
   "execution_count": 173,
   "id": "160d60d6",
   "metadata": {},
   "outputs": [
    {
     "data": {
      "text/plain": [
       "(5, 'Five')"
      ]
     },
     "execution_count": 173,
     "metadata": {},
     "output_type": "execute_result"
    }
   ],
   "source": [
    "mydict3.popitem()"
   ]
  },
  {
   "cell_type": "code",
   "execution_count": 174,
   "id": "1fc3fcdd",
   "metadata": {},
   "outputs": [
    {
     "data": {
      "text/plain": [
       "{4: 'Four'}"
      ]
     },
     "execution_count": 174,
     "metadata": {},
     "output_type": "execute_result"
    }
   ],
   "source": [
    "mydict3"
   ]
  },
  {
   "cell_type": "code",
   "execution_count": 175,
   "id": "91fc468e",
   "metadata": {},
   "outputs": [
    {
     "data": {
      "text/plain": [
       "{40: 'Potato', 79: 'Carrot', 12: 'Radish', 23: 'Capsicum'}"
      ]
     },
     "execution_count": 175,
     "metadata": {},
     "output_type": "execute_result"
    }
   ],
   "source": [
    "mydict2 = {40:'Potato', 79:'Carrot', 12:'Radish', 23:'Capsicum'}\n",
    "mydict2"
   ]
  },
  {
   "cell_type": "code",
   "execution_count": 176,
   "id": "2d440a9b",
   "metadata": {},
   "outputs": [
    {
     "data": {
      "text/plain": [
       "'Potato'"
      ]
     },
     "execution_count": 176,
     "metadata": {},
     "output_type": "execute_result"
    }
   ],
   "source": [
    "mydict2.setdefault(40) ##returns same as get function?\n"
   ]
  },
  {
   "cell_type": "code",
   "execution_count": 177,
   "id": "dcbb095b",
   "metadata": {},
   "outputs": [
    {
     "data": {
      "text/plain": [
       "{40: 'Potato', 79: 'Carrot', 12: 'Radish', 23: 'Capsicum'}"
      ]
     },
     "execution_count": 177,
     "metadata": {},
     "output_type": "execute_result"
    }
   ],
   "source": [
    "mydict2"
   ]
  },
  {
   "cell_type": "code",
   "execution_count": 180,
   "id": "2b3cd7d9",
   "metadata": {},
   "outputs": [
    {
     "data": {
      "text/plain": [
       "'Potato'"
      ]
     },
     "execution_count": 180,
     "metadata": {},
     "output_type": "execute_result"
    }
   ],
   "source": [
    "mydict2.get(40)"
   ]
  },
  {
   "cell_type": "code",
   "execution_count": 182,
   "id": "f89415e5",
   "metadata": {},
   "outputs": [
    {
     "ename": "SyntaxError",
     "evalue": "invalid syntax (3147601160.py, line 1)",
     "output_type": "error",
     "traceback": [
      "\u001b[1;36m  Cell \u001b[1;32mIn[182], line 1\u001b[1;36m\u001b[0m\n\u001b[1;33m    mydict2.update(79:'Tomato')\u001b[0m\n\u001b[1;37m                     ^\u001b[0m\n\u001b[1;31mSyntaxError\u001b[0m\u001b[1;31m:\u001b[0m invalid syntax\n"
     ]
    }
   ],
   "source": [
    "mydict2.update() ##How to use update function()"
   ]
  },
  {
   "cell_type": "code",
   "execution_count": 183,
   "id": "c426876f",
   "metadata": {},
   "outputs": [
    {
     "data": {
      "text/plain": [
       "{0: 'W',\n",
       " 1: 'o',\n",
       " 2: 'r',\n",
       " 3: 'k',\n",
       " 4: 'i',\n",
       " 5: 'n',\n",
       " 6: 'g',\n",
       " 7: ' ',\n",
       " 8: 'i',\n",
       " 9: 'n',\n",
       " 10: ' ',\n",
       " 11: 'N',\n",
       " 12: 'a',\n",
       " 13: 'r',\n",
       " 14: 'e',\n",
       " 15: 's',\n",
       " 16: 'h',\n",
       " 17: 'I',\n",
       " 18: 'T'}"
      ]
     },
     "execution_count": 183,
     "metadata": {},
     "output_type": "execute_result"
    }
   ],
   "source": [
    "str2 = \"Working in NareshIT\"\n",
    "mydict7 = {k:v for (k,v) in enumerate(str2)}\n",
    "mydict7"
   ]
  },
  {
   "cell_type": "markdown",
   "id": "4db26fdb",
   "metadata": {},
   "source": [
    "###### Range"
   ]
  },
  {
   "cell_type": "code",
   "execution_count": 186,
   "id": "9be15278",
   "metadata": {},
   "outputs": [
    {
     "data": {
      "text/plain": [
       "range(0, 20)"
      ]
     },
     "execution_count": 186,
     "metadata": {},
     "output_type": "execute_result"
    }
   ],
   "source": [
    "r1 = range(20)\n",
    "r1"
   ]
  },
  {
   "cell_type": "code",
   "execution_count": 187,
   "id": "314f5023",
   "metadata": {},
   "outputs": [
    {
     "data": {
      "text/plain": [
       "[0, 1, 2, 3, 4, 5, 6, 7, 8, 9, 10, 11, 12, 13, 14, 15, 16, 17, 18, 19]"
      ]
     },
     "execution_count": 187,
     "metadata": {},
     "output_type": "execute_result"
    }
   ],
   "source": [
    "list(r1)"
   ]
  },
  {
   "cell_type": "code",
   "execution_count": 191,
   "id": "c99540e6",
   "metadata": {},
   "outputs": [
    {
     "data": {
      "text/plain": [
       "[0, 3, 6, 9, 12, 15, 18]"
      ]
     },
     "execution_count": 191,
     "metadata": {},
     "output_type": "execute_result"
    }
   ],
   "source": [
    "r2 = list(range(0, 20, 3))\n",
    "r2"
   ]
  },
  {
   "cell_type": "code",
   "execution_count": 192,
   "id": "9f992b29",
   "metadata": {},
   "outputs": [
    {
     "data": {
      "text/plain": [
       "[0, 5, 10, 15]"
      ]
     },
     "execution_count": 192,
     "metadata": {},
     "output_type": "execute_result"
    }
   ],
   "source": [
    "r2 = list(range(0, 20, 5))\n",
    "r2"
   ]
  },
  {
   "cell_type": "code",
   "execution_count": 195,
   "id": "f2d621d7",
   "metadata": {},
   "outputs": [
    {
     "data": {
      "text/plain": [
       "[0, 5, 10, 15]"
      ]
     },
     "execution_count": 195,
     "metadata": {},
     "output_type": "execute_result"
    }
   ],
   "source": [
    "r3 = list(range(0, 20, 5))\n",
    "r3"
   ]
  },
  {
   "cell_type": "code",
   "execution_count": 202,
   "id": "fba1c077",
   "metadata": {},
   "outputs": [
    {
     "ename": "TypeError",
     "evalue": "descriptor 'index' for 'list' objects doesn't apply to a 'int' object",
     "output_type": "error",
     "traceback": [
      "\u001b[1;31m---------------------------------------------------------------------------\u001b[0m",
      "\u001b[1;31mTypeError\u001b[0m                                 Traceback (most recent call last)",
      "Cell \u001b[1;32mIn[202], line 1\u001b[0m\n\u001b[1;32m----> 1\u001b[0m r4 \u001b[38;5;241m=\u001b[39m \u001b[38;5;28mlist\u001b[39m\u001b[38;5;241m.\u001b[39mindex(\u001b[38;5;241m20\u001b[39m)\n\u001b[0;32m      2\u001b[0m r4\n",
      "\u001b[1;31mTypeError\u001b[0m: descriptor 'index' for 'list' objects doesn't apply to a 'int' object"
     ]
    }
   ],
   "source": [
    "r4 = list.index(20)\n",
    "r4"
   ]
  },
  {
   "cell_type": "code",
   "execution_count": 1,
   "id": "7313de32",
   "metadata": {},
   "outputs": [
    {
     "data": {
      "text/plain": [
       "9"
      ]
     },
     "execution_count": 1,
     "metadata": {},
     "output_type": "execute_result"
    }
   ],
   "source": [
    "3**2"
   ]
  },
  {
   "cell_type": "code",
   "execution_count": 4,
   "id": "a23002cf-c25c-4286-865f-16a80c49398c",
   "metadata": {},
   "outputs": [],
   "source": [
    "my_list = []"
   ]
  },
  {
   "cell_type": "code",
   "execution_count": 6,
   "id": "410e6e88-422f-4a81-965f-93958c7fee8a",
   "metadata": {},
   "outputs": [],
   "source": [
    "my_list = [1, 2, 3, 4]"
   ]
  },
  {
   "cell_type": "code",
   "execution_count": 7,
   "id": "f6aa1746-5b07-4f7d-b7fe-7b09aa7046b5",
   "metadata": {},
   "outputs": [],
   "source": [
    "my_list.append([5, 6])\n"
   ]
  },
  {
   "cell_type": "code",
   "execution_count": 8,
   "id": "7b7cadef-da0b-4e7d-b127-5661d5811ea8",
   "metadata": {},
   "outputs": [
    {
     "ename": "TypeError",
     "evalue": "'int' object is not subscriptable",
     "output_type": "error",
     "traceback": [
      "\u001b[1;31m---------------------------------------------------------------------------\u001b[0m",
      "\u001b[1;31mTypeError\u001b[0m                                 Traceback (most recent call last)",
      "Cell \u001b[1;32mIn[8], line 1\u001b[0m\n\u001b[1;32m----> 1\u001b[0m \u001b[38;5;28mprint\u001b[39m(my_list[\u001b[38;5;241m3\u001b[39m][\u001b[38;5;241m1\u001b[39m])\n",
      "\u001b[1;31mTypeError\u001b[0m: 'int' object is not subscriptable"
     ]
    }
   ],
   "source": [
    "print(my_list[3][1])"
   ]
  },
  {
   "cell_type": "code",
   "execution_count": null,
   "id": "1ba54f12-ef28-48e7-9d02-b74b5932a79b",
   "metadata": {},
   "outputs": [],
   "source": []
  }
 ],
 "metadata": {
  "kernelspec": {
   "display_name": "Python 3 (ipykernel)",
   "language": "python",
   "name": "python3"
  },
  "language_info": {
   "codemirror_mode": {
    "name": "ipython",
    "version": 3
   },
   "file_extension": ".py",
   "mimetype": "text/x-python",
   "name": "python",
   "nbconvert_exporter": "python",
   "pygments_lexer": "ipython3",
   "version": "3.11.5"
  }
 },
 "nbformat": 4,
 "nbformat_minor": 5
}
