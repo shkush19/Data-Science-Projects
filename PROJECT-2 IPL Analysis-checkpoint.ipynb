{
 "cells": [
  {
   "cell_type": "markdown",
   "id": "f1be1ecf-f8b0-4cf2-b70b-fe9d6946f93b",
   "metadata": {},
   "source": [
    "###### PROJECT-2 : IPL DATA ANALYSIS USING NUMPY + MATPLOTLIB "
   ]
  },
  {
   "cell_type": "code",
   "execution_count": 9,
   "id": "52358a64-5797-48df-8710-d261e94ab162",
   "metadata": {},
   "outputs": [],
   "source": [
    "import numpy as np"
   ]
  },
  {
   "cell_type": "code",
   "execution_count": 5,
   "id": "89d28bf2-80ee-47a9-813c-b460008c97d0",
   "metadata": {},
   "outputs": [],
   "source": [
    "#Seasons\n",
    "Seasons = [\"2010\",\"2011\",\"2012\",\"2013\",\"2014\",\"2015\",\"2016\"]\n",
    "Sdict = {\"2010\":0,\"2011\":1,\"2012\":2,\"2013\":3,\"2014\":4,\"2015\":5,\"2016\":6}"
   ]
  },
  {
   "cell_type": "code",
   "execution_count": 6,
   "id": "0e8342c0-7835-4261-bbca-7e2b9465b4e2",
   "metadata": {},
   "outputs": [],
   "source": [
    "#Players\n",
    "Players = [\"Dhoni\", \"Rahul\", \"Sachin\", \"Virat\", \"Sami\", \"Rohit\"]\n",
    "Pdict = {\"Dhoni\":0,\"Rahul\":1,\"Sachin\":2,\"Virat\":3,\"Sami\":4,\"Rohit\":5}"
   ]
  },
  {
   "cell_type": "code",
   "execution_count": 17,
   "id": "42dd1bb5-1095-403c-9830-64ac3db59f7b",
   "metadata": {},
   "outputs": [],
   "source": [
    "#Salaries\n",
    "Dhoni_Salary = [13456789,34567434,67896786,12345687,97567453]\n",
    "Rahul_Salary = [12312367,98767895,34566543,67893456,13568456]\n",
    "Sachin_Salary = [13456234,98766789,13455432,12367843,98766789]\n",
    "Virat_Salary = [12344321,87655678,34561234,98765432,13456543]\n",
    "Sami_Salary = [12345678,98766789,12344365,134567654,98761234]\n",
    "Rohit_Salary = [87655678,34562345,87655678,13459876,13458765]"
   ]
  },
  {
   "cell_type": "code",
   "execution_count": 19,
   "id": "b33f9a0b-df63-4ab7-a279-bf5f0d280658",
   "metadata": {},
   "outputs": [],
   "source": [
    "#Matrix\n",
    "Salary = np.array([Dhoni_Salary, Rahul_Salary, Sachin_Salary, Virat_Salary, Sami_Salary, Rohit_Salary])"
   ]
  },
  {
   "cell_type": "code",
   "execution_count": 12,
   "id": "500e15f2-5b87-4ad5-a247-325a4c773eb8",
   "metadata": {},
   "outputs": [],
   "source": [
    "#Games\n",
    "Dhoni_Games = [90,70,68,34,23,12,45]\n",
    "Rahul_Games = [78,56,45,23,37,78,56]\n",
    "Sachin_Games = [12,45,34,57,45,23,78]\n",
    "Virat_Games = [67,24,34,67,89,98,95]\n",
    "Sami_Games = [14,54,52,64,75,98,26]\n",
    "Rohit_Games = [97,46,57,86,25,90,46]"
   ]
  },
  {
   "cell_type": "code",
   "execution_count": 13,
   "id": "5c12f423-5cb7-4d37-80df-d38ca20d18ef",
   "metadata": {},
   "outputs": [],
   "source": [
    "Games = np.array([Dhoni_Games, Rahul_Games, Sachin_Games, Virat_Games, Sami_Games, Rohit_Games])"
   ]
  },
  {
   "cell_type": "code",
   "execution_count": 15,
   "id": "e36400fd-0cba-478e-8a58-f0cb5af91a61",
   "metadata": {},
   "outputs": [],
   "source": [
    "#Points\n",
    "Dhoni_Points = [5678,3456,2345,6789,1234,2347,8976]\n",
    "Rahul_Points = [1345,8765,4578,2468,9764,4679,6754]\n",
    "Sachin_Points = [3412,6534,9856,4590,3467,1235,9654]\n",
    "Virat_Points = [5436,9867,4576,9834,8967,1235,9675]\n",
    "Sami_Points = [3467,8756,4689,9564,1367,2589,8567]\n",
    "Rohit_Points = [4676,7654,3678,6784,2567,9876,5678]\n",
    "#Matrix\n",
    "Points = np.array([Dhoni_Points, Rahul_Points, Sachin_Points, Virat_Points,  Sami_Points, Rohit_Points])"
   ]
  },
  {
   "cell_type": "code",
   "execution_count": 20,
   "id": "7efd4dc8-1753-4cbe-9a14-ec604b2991d6",
   "metadata": {},
   "outputs": [
    {
     "data": {
      "text/plain": [
       "array([[ 13456789,  34567434,  67896786,  12345687,  97567453],\n",
       "       [ 12312367,  98767895,  34566543,  67893456,  13568456],\n",
       "       [ 13456234,  98766789,  13455432,  12367843,  98766789],\n",
       "       [ 12344321,  87655678,  34561234,  98765432,  13456543],\n",
       "       [ 12345678,  98766789,  12344365, 134567654,  98761234],\n",
       "       [ 87655678,  34562345,  87655678,  13459876,  13458765]])"
      ]
     },
     "execution_count": 20,
     "metadata": {},
     "output_type": "execute_result"
    }
   ],
   "source": [
    "Salary"
   ]
  },
  {
   "cell_type": "code",
   "execution_count": 21,
   "id": "89f26191-023b-4a17-a87d-f31589d67008",
   "metadata": {},
   "outputs": [
    {
     "data": {
      "text/plain": [
       "array([[90, 70, 68, 34, 23, 12, 45],\n",
       "       [78, 56, 45, 23, 37, 78, 56],\n",
       "       [12, 45, 34, 57, 45, 23, 78],\n",
       "       [67, 24, 34, 67, 89, 98, 95],\n",
       "       [14, 54, 52, 64, 75, 98, 26],\n",
       "       [97, 46, 57, 86, 25, 90, 46]])"
      ]
     },
     "execution_count": 21,
     "metadata": {},
     "output_type": "execute_result"
    }
   ],
   "source": [
    "Games"
   ]
  },
  {
   "cell_type": "code",
   "execution_count": 22,
   "id": "c0a0b999-8b98-4744-ac9f-34cb3d37622c",
   "metadata": {},
   "outputs": [
    {
     "data": {
      "text/plain": [
       "array([[5678, 3456, 2345, 6789, 1234, 2347, 8976],\n",
       "       [1345, 8765, 4578, 2468, 9764, 4679, 6754],\n",
       "       [3412, 6534, 9856, 4590, 3467, 1235, 9654],\n",
       "       [5436, 9867, 4576, 9834, 8967, 1235, 9675],\n",
       "       [3467, 8756, 4689, 9564, 1367, 2589, 8567],\n",
       "       [4676, 7654, 3678, 6784, 2567, 9876, 5678]])"
      ]
     },
     "execution_count": 22,
     "metadata": {},
     "output_type": "execute_result"
    }
   ],
   "source": [
    "Points"
   ]
  },
  {
   "cell_type": "code",
   "execution_count": 23,
   "id": "902879c1-42a3-475a-91a9-48c9b12d1c2a",
   "metadata": {},
   "outputs": [
    {
     "name": "stdout",
     "output_type": "stream",
     "text": [
      "[ 0  1  2  3  4  5  6  7  8  9 10 11 12 13 14 15 16 17 18 19]\n"
     ]
    }
   ],
   "source": [
    "mydata = np.arange(0,20)\n",
    "print(mydata)"
   ]
  },
  {
   "cell_type": "code",
   "execution_count": 24,
   "id": "8a47f7c8-3787-45a4-b960-208c4d107123",
   "metadata": {},
   "outputs": [
    {
     "data": {
      "text/plain": [
       "array([[ 0,  1,  2,  3],\n",
       "       [ 4,  5,  6,  7],\n",
       "       [ 8,  9, 10, 11],\n",
       "       [12, 13, 14, 15],\n",
       "       [16, 17, 18, 19]])"
      ]
     },
     "execution_count": 24,
     "metadata": {},
     "output_type": "execute_result"
    }
   ],
   "source": [
    "np.reshape(mydata,(5,4))"
   ]
  },
  {
   "cell_type": "code",
   "execution_count": 25,
   "id": "f3333aaa-68d0-4f01-9c2b-e4fea50a0ca3",
   "metadata": {},
   "outputs": [
    {
     "data": {
      "text/plain": [
       "array([ 0,  1,  2,  3,  4,  5,  6,  7,  8,  9, 10, 11, 12, 13, 14, 15, 16,\n",
       "       17, 18, 19])"
      ]
     },
     "execution_count": 25,
     "metadata": {},
     "output_type": "execute_result"
    }
   ],
   "source": [
    "mydata"
   ]
  },
  {
   "cell_type": "code",
   "execution_count": 28,
   "id": "294c3e1c-bf34-4316-b5ca-53fafbe8f507",
   "metadata": {},
   "outputs": [
    {
     "data": {
      "text/plain": [
       "array([[ 0,  1,  2,  3,  4],\n",
       "       [ 5,  6,  7,  8,  9],\n",
       "       [10, 11, 12, 13, 14],\n",
       "       [15, 16, 17, 18, 19]])"
      ]
     },
     "execution_count": 28,
     "metadata": {},
     "output_type": "execute_result"
    }
   ],
   "source": [
    "MATR1 = np.reshape(mydata, (4,5), order = 'A')\n",
    "MATR1"
   ]
  },
  {
   "cell_type": "code",
   "execution_count": 29,
   "id": "a6651db9-3a25-4818-8cbe-88b02c010c47",
   "metadata": {},
   "outputs": [
    {
     "data": {
      "text/plain": [
       "13"
      ]
     },
     "execution_count": 29,
     "metadata": {},
     "output_type": "execute_result"
    }
   ],
   "source": [
    "#If I want only no.13\n",
    "MATR1[2,3]"
   ]
  },
  {
   "cell_type": "code",
   "execution_count": 30,
   "id": "4f62173a-1a75-41dd-b3d1-e62d8ab42282",
   "metadata": {},
   "outputs": [
    {
     "data": {
      "text/plain": [
       "6"
      ]
     },
     "execution_count": 30,
     "metadata": {},
     "output_type": "execute_result"
    }
   ],
   "source": [
    "#If I want only no.6\n",
    "MATR1[1,1]"
   ]
  },
  {
   "cell_type": "code",
   "execution_count": 31,
   "id": "9048c60f-d076-478f-b474-d490ce0165cb",
   "metadata": {},
   "outputs": [
    {
     "data": {
      "text/plain": [
       "18"
      ]
     },
     "execution_count": 31,
     "metadata": {},
     "output_type": "execute_result"
    }
   ],
   "source": [
    "#If I want only no.18\n",
    "MATR1[-1,-2]"
   ]
  },
  {
   "cell_type": "code",
   "execution_count": 32,
   "id": "af44d6c1-f2af-4bdd-812f-95dfe4eca2a6",
   "metadata": {},
   "outputs": [
    {
     "data": {
      "text/plain": [
       "array([[ 0,  1,  2,  3,  4],\n",
       "       [ 5,  6,  7,  8,  9],\n",
       "       [10, 11, 12, 13, 14],\n",
       "       [15, 16, 17, 18, 19]])"
      ]
     },
     "execution_count": 32,
     "metadata": {},
     "output_type": "execute_result"
    }
   ],
   "source": [
    "MATR1"
   ]
  },
  {
   "cell_type": "code",
   "execution_count": 33,
   "id": "c7970787-6466-46cd-9bbb-1baed9de71ee",
   "metadata": {},
   "outputs": [
    {
     "data": {
      "text/plain": [
       "array([ 0,  1,  2,  3,  4,  5,  6,  7,  8,  9, 10, 11, 12, 13, 14, 15, 16,\n",
       "       17, 18, 19])"
      ]
     },
     "execution_count": 33,
     "metadata": {},
     "output_type": "execute_result"
    }
   ],
   "source": [
    "mydata"
   ]
  },
  {
   "cell_type": "code",
   "execution_count": 34,
   "id": "e144b925-fd55-4f41-894c-543fc8f008ce",
   "metadata": {},
   "outputs": [
    {
     "data": {
      "text/plain": [
       "array([[ 0,  5, 10, 15],\n",
       "       [ 1,  6, 11, 16],\n",
       "       [ 2,  7, 12, 17],\n",
       "       [ 3,  8, 13, 18],\n",
       "       [ 4,  9, 14, 19]])"
      ]
     },
     "execution_count": 34,
     "metadata": {},
     "output_type": "execute_result"
    }
   ],
   "source": [
    "MATR2 = np.reshape(mydata, (5,4), order = 'F')\n",
    "MATR2"
   ]
  },
  {
   "cell_type": "code",
   "execution_count": 35,
   "id": "c7a2e41c-d73d-4664-9cda-61deb7fae26d",
   "metadata": {},
   "outputs": [
    {
     "data": {
      "text/plain": [
       "13"
      ]
     },
     "execution_count": 35,
     "metadata": {},
     "output_type": "execute_result"
    }
   ],
   "source": [
    "MATR2[3,2]"
   ]
  },
  {
   "cell_type": "code",
   "execution_count": 36,
   "id": "f562768a-9787-4cb5-9422-6ef00b9cefe2",
   "metadata": {},
   "outputs": [
    {
     "data": {
      "text/plain": [
       "12"
      ]
     },
     "execution_count": 36,
     "metadata": {},
     "output_type": "execute_result"
    }
   ],
   "source": [
    "MATR2[2,2]"
   ]
  },
  {
   "cell_type": "code",
   "execution_count": 37,
   "id": "2231dde6-462e-4252-b10c-abecf5807d39",
   "metadata": {},
   "outputs": [
    {
     "data": {
      "text/plain": [
       "array([[ 2,  7, 12, 17],\n",
       "       [ 3,  8, 13, 18]])"
      ]
     },
     "execution_count": 37,
     "metadata": {},
     "output_type": "execute_result"
    }
   ],
   "source": [
    "MATR2[2:4]"
   ]
  },
  {
   "cell_type": "code",
   "execution_count": 38,
   "id": "82bf11c1-84ee-4684-b31b-fb55c3396828",
   "metadata": {},
   "outputs": [
    {
     "data": {
      "text/plain": [
       "array([[ 0,  5, 10, 15],\n",
       "       [ 1,  6, 11, 16],\n",
       "       [ 2,  7, 12, 17],\n",
       "       [ 3,  8, 13, 18],\n",
       "       [ 4,  9, 14, 19]])"
      ]
     },
     "execution_count": 38,
     "metadata": {},
     "output_type": "execute_result"
    }
   ],
   "source": [
    "MATR2"
   ]
  },
  {
   "cell_type": "code",
   "execution_count": 39,
   "id": "826d29e8-3dd7-49af-835c-a4ecd168007e",
   "metadata": {},
   "outputs": [
    {
     "data": {
      "text/plain": [
       "array([[ 3,  8, 13, 18]])"
      ]
     },
     "execution_count": 39,
     "metadata": {},
     "output_type": "execute_result"
    }
   ],
   "source": [
    "MATR2[3:4]"
   ]
  },
  {
   "cell_type": "code",
   "execution_count": 41,
   "id": "f9ec63eb-6b74-4c40-87c7-1ef1f3385435",
   "metadata": {},
   "outputs": [
    {
     "data": {
      "text/plain": [
       "19"
      ]
     },
     "execution_count": 41,
     "metadata": {},
     "output_type": "execute_result"
    }
   ],
   "source": [
    "MATR2[4,3]"
   ]
  },
  {
   "cell_type": "code",
   "execution_count": 42,
   "id": "d0dd8f45-de55-40a8-b82b-b05a9985d7e3",
   "metadata": {},
   "outputs": [
    {
     "data": {
      "text/plain": [
       "array([[ 0,  5, 10, 15],\n",
       "       [ 1,  6, 11, 16],\n",
       "       [ 2,  7, 12, 17],\n",
       "       [ 3,  8, 13, 18],\n",
       "       [ 4,  9, 14, 19]])"
      ]
     },
     "execution_count": 42,
     "metadata": {},
     "output_type": "execute_result"
    }
   ],
   "source": [
    "MATR2"
   ]
  },
  {
   "cell_type": "code",
   "execution_count": 43,
   "id": "d762c069-edbc-4e9f-a288-49039d1d2ebd",
   "metadata": {},
   "outputs": [
    {
     "data": {
      "text/plain": [
       "2"
      ]
     },
     "execution_count": 43,
     "metadata": {},
     "output_type": "execute_result"
    }
   ],
   "source": [
    "MATR2[-3,-4]"
   ]
  },
  {
   "cell_type": "code",
   "execution_count": 44,
   "id": "34619fc1-28fa-4531-a33c-d66cbb341f4c",
   "metadata": {},
   "outputs": [
    {
     "data": {
      "text/plain": [
       "11"
      ]
     },
     "execution_count": 44,
     "metadata": {},
     "output_type": "execute_result"
    }
   ],
   "source": [
    "MATR2[-4,-2]"
   ]
  },
  {
   "cell_type": "code",
   "execution_count": 45,
   "id": "774b1863-95e0-457b-8d21-0fe4b8fe7125",
   "metadata": {},
   "outputs": [
    {
     "data": {
      "text/plain": [
       "array([[ 2,  7, 12, 17],\n",
       "       [ 3,  8, 13, 18]])"
      ]
     },
     "execution_count": 45,
     "metadata": {},
     "output_type": "execute_result"
    }
   ],
   "source": [
    "MATR2[2:4]"
   ]
  },
  {
   "cell_type": "code",
   "execution_count": 46,
   "id": "8d6351f5-f0f5-456b-bccc-3ada83e4484e",
   "metadata": {},
   "outputs": [
    {
     "data": {
      "text/plain": [
       "array([ 0,  1,  2,  3,  4,  5,  6,  7,  8,  9, 10, 11, 12, 13, 14, 15, 16,\n",
       "       17, 18, 19])"
      ]
     },
     "execution_count": 46,
     "metadata": {},
     "output_type": "execute_result"
    }
   ],
   "source": [
    "mydata"
   ]
  },
  {
   "cell_type": "code",
   "execution_count": 47,
   "id": "263d10cd-bde4-44a7-b476-23b1ff0aae28",
   "metadata": {},
   "outputs": [
    {
     "data": {
      "text/plain": [
       "array([[ 0,  1,  2,  3,  4],\n",
       "       [ 5,  6,  7,  8,  9],\n",
       "       [10, 11, 12, 13, 14],\n",
       "       [15, 16, 17, 18, 19]])"
      ]
     },
     "execution_count": 47,
     "metadata": {},
     "output_type": "execute_result"
    }
   ],
   "source": [
    "MATR3 = np.reshape(mydata, (4,5), order = 'C')\n",
    "MATR3 ## C shaped"
   ]
  },
  {
   "cell_type": "code",
   "execution_count": 48,
   "id": "4a4fb584-3a4b-4f20-bc50-23e0af13bac7",
   "metadata": {},
   "outputs": [
    {
     "data": {
      "text/plain": [
       "array([[ 0,  5, 10, 15],\n",
       "       [ 1,  6, 11, 16],\n",
       "       [ 2,  7, 12, 17],\n",
       "       [ 3,  8, 13, 18],\n",
       "       [ 4,  9, 14, 19]])"
      ]
     },
     "execution_count": 48,
     "metadata": {},
     "output_type": "execute_result"
    }
   ],
   "source": [
    "MATR2 ## F Shaped"
   ]
  },
  {
   "cell_type": "code",
   "execution_count": 50,
   "id": "0b0bd288-7cd9-4dc6-bcc0-0ee4683485a3",
   "metadata": {},
   "outputs": [
    {
     "data": {
      "text/plain": [
       "array([[ 0,  1,  2,  3,  4],\n",
       "       [ 5,  6,  7,  8,  9],\n",
       "       [10, 11, 12, 13, 14],\n",
       "       [15, 16, 17, 18, 19]])"
      ]
     },
     "execution_count": 50,
     "metadata": {},
     "output_type": "execute_result"
    }
   ],
   "source": [
    "MATR1 ## A Shaped"
   ]
  },
  {
   "cell_type": "code",
   "execution_count": 60,
   "id": "c8b4a4bb-97d8-4c61-8fb1-96a20ce57538",
   "metadata": {},
   "outputs": [],
   "source": [
    "b1 = ['Hello', 'Everyone', 'Shikha here']\n",
    "b2 = ['I', 'am studying', 'FSDS']\n",
    "b3 = ['2','4','6']\n",
    "b4 = ['True','False','True']"
   ]
  },
  {
   "cell_type": "code",
   "execution_count": 61,
   "id": "4f781275-1c17-4424-aaa1-36544e708d4f",
   "metadata": {},
   "outputs": [
    {
     "data": {
      "text/plain": [
       "[['Hello', 'Everyone', 'Shikha here'],\n",
       " ['I', 'am studying', 'FSDS'],\n",
       " ['2', '4', '6'],\n",
       " ['True', 'False', 'True']]"
      ]
     },
     "execution_count": 61,
     "metadata": {},
     "output_type": "execute_result"
    }
   ],
   "source": [
    "[b1,b2,b3,b4]"
   ]
  },
  {
   "cell_type": "code",
   "execution_count": 62,
   "id": "a26e545e-b86b-45cc-b664-cceae053c0b6",
   "metadata": {},
   "outputs": [
    {
     "data": {
      "text/plain": [
       "array([['Hello', 'Everyone', 'Shikha here'],\n",
       "       ['I', 'am studying', 'FSDS'],\n",
       "       ['2', '4', '6'],\n",
       "       ['True', 'False', 'True']], dtype='<U11')"
      ]
     },
     "execution_count": 62,
     "metadata": {},
     "output_type": "execute_result"
    }
   ],
   "source": [
    "np.array([b1,b2,b3,b4]) # u11-unicode 11 character :"
   ]
  },
  {
   "cell_type": "code",
   "execution_count": 63,
   "id": "ab9f79ad-ef14-4558-848e-0e74f40973b4",
   "metadata": {},
   "outputs": [
    {
     "data": {
      "text/plain": [
       "array([[90, 70, 68, 34, 23, 12, 45],\n",
       "       [78, 56, 45, 23, 37, 78, 56],\n",
       "       [12, 45, 34, 57, 45, 23, 78],\n",
       "       [67, 24, 34, 67, 89, 98, 95],\n",
       "       [14, 54, 52, 64, 75, 98, 26],\n",
       "       [97, 46, 57, 86, 25, 90, 46]])"
      ]
     },
     "execution_count": 63,
     "metadata": {},
     "output_type": "execute_result"
    }
   ],
   "source": [
    "Games"
   ]
  },
  {
   "cell_type": "code",
   "execution_count": 64,
   "id": "40f64722-4fef-4b7e-bbe1-517620730ad6",
   "metadata": {},
   "outputs": [
    {
     "data": {
      "text/plain": [
       "array([67, 24, 34, 67, 89, 98, 95])"
      ]
     },
     "execution_count": 64,
     "metadata": {},
     "output_type": "execute_result"
    }
   ],
   "source": [
    "Games[3]"
   ]
  },
  {
   "cell_type": "code",
   "execution_count": 65,
   "id": "be911cbe-15e4-4b0a-b39d-6b78fc783702",
   "metadata": {},
   "outputs": [
    {
     "data": {
      "text/plain": [
       "array([97, 46, 57, 86, 25, 90, 46])"
      ]
     },
     "execution_count": 65,
     "metadata": {},
     "output_type": "execute_result"
    }
   ],
   "source": [
    "Games[5]"
   ]
  },
  {
   "cell_type": "code",
   "execution_count": 66,
   "id": "0e66d024-8c5e-4067-8e00-ba18a7120183",
   "metadata": {},
   "outputs": [
    {
     "data": {
      "text/plain": [
       "array([[12, 45, 34, 57, 45, 23, 78],\n",
       "       [67, 24, 34, 67, 89, 98, 95]])"
      ]
     },
     "execution_count": 66,
     "metadata": {},
     "output_type": "execute_result"
    }
   ],
   "source": [
    "Games[2:4]"
   ]
  },
  {
   "cell_type": "code",
   "execution_count": 67,
   "id": "e942a941-41f5-41d7-9b8c-ad74ef565640",
   "metadata": {},
   "outputs": [
    {
     "data": {
      "text/plain": [
       "array([[90, 70, 68, 34, 23, 12, 45],\n",
       "       [78, 56, 45, 23, 37, 78, 56],\n",
       "       [12, 45, 34, 57, 45, 23, 78],\n",
       "       [67, 24, 34, 67, 89, 98, 95],\n",
       "       [14, 54, 52, 64, 75, 98, 26],\n",
       "       [97, 46, 57, 86, 25, 90, 46]])"
      ]
     },
     "execution_count": 67,
     "metadata": {},
     "output_type": "execute_result"
    }
   ],
   "source": [
    "Games"
   ]
  },
  {
   "cell_type": "code",
   "execution_count": 68,
   "id": "d2694473-6a50-423b-9734-6dd68f8a14fc",
   "metadata": {},
   "outputs": [
    {
     "data": {
      "text/plain": [
       "98"
      ]
     },
     "execution_count": 68,
     "metadata": {},
     "output_type": "execute_result"
    }
   ],
   "source": [
    "Games[3,5]"
   ]
  },
  {
   "cell_type": "code",
   "execution_count": 69,
   "id": "10e320f6-bec9-4d14-88dc-3d2f48f47663",
   "metadata": {},
   "outputs": [
    {
     "data": {
      "text/plain": [
       "45"
      ]
     },
     "execution_count": 69,
     "metadata": {},
     "output_type": "execute_result"
    }
   ],
   "source": [
    "Games[2,4]"
   ]
  },
  {
   "cell_type": "code",
   "execution_count": 70,
   "id": "e04b6646-fe2f-4200-8f48-ef713741cbca",
   "metadata": {},
   "outputs": [
    {
     "data": {
      "text/plain": [
       "array([[12, 45, 34, 57, 45, 23, 78],\n",
       "       [67, 24, 34, 67, 89, 98, 95],\n",
       "       [14, 54, 52, 64, 75, 98, 26]])"
      ]
     },
     "execution_count": 70,
     "metadata": {},
     "output_type": "execute_result"
    }
   ],
   "source": [
    "Games[2:5]"
   ]
  },
  {
   "cell_type": "code",
   "execution_count": 71,
   "id": "6e1cfde0-3a9f-4c31-8a16-ac4eb8a2922f",
   "metadata": {},
   "outputs": [
    {
     "data": {
      "text/plain": [
       "array([[78, 56, 45, 23, 37, 78, 56],\n",
       "       [12, 45, 34, 57, 45, 23, 78],\n",
       "       [67, 24, 34, 67, 89, 98, 95]])"
      ]
     },
     "execution_count": 71,
     "metadata": {},
     "output_type": "execute_result"
    }
   ],
   "source": [
    "Games[1:4]"
   ]
  },
  {
   "cell_type": "code",
   "execution_count": 72,
   "id": "cd0d1418-20ad-4202-8eea-a4fb08c2a44b",
   "metadata": {},
   "outputs": [
    {
     "data": {
      "text/plain": [
       "array([[90, 70, 68, 34, 23, 12, 45],\n",
       "       [78, 56, 45, 23, 37, 78, 56],\n",
       "       [12, 45, 34, 57, 45, 23, 78],\n",
       "       [67, 24, 34, 67, 89, 98, 95],\n",
       "       [14, 54, 52, 64, 75, 98, 26],\n",
       "       [97, 46, 57, 86, 25, 90, 46]])"
      ]
     },
     "execution_count": 72,
     "metadata": {},
     "output_type": "execute_result"
    }
   ],
   "source": [
    "Games"
   ]
  },
  {
   "cell_type": "code",
   "execution_count": 73,
   "id": "e5987a63-7718-46b9-8c3a-d899bc448584",
   "metadata": {},
   "outputs": [
    {
     "data": {
      "text/plain": [
       "array([67, 24, 34, 67, 89, 98, 95])"
      ]
     },
     "execution_count": 73,
     "metadata": {},
     "output_type": "execute_result"
    }
   ],
   "source": [
    "Games[3]"
   ]
  },
  {
   "cell_type": "code",
   "execution_count": 74,
   "id": "f95a3680-66ae-4e93-af0a-27b5ab1251c2",
   "metadata": {},
   "outputs": [
    {
     "data": {
      "text/plain": [
       "46"
      ]
     },
     "execution_count": 74,
     "metadata": {},
     "output_type": "execute_result"
    }
   ],
   "source": [
    "Games[5,-1]"
   ]
  },
  {
   "cell_type": "code",
   "execution_count": 75,
   "id": "cc1a5c5e-85cc-43ae-9764-4730a0559a83",
   "metadata": {},
   "outputs": [
    {
     "data": {
      "text/plain": [
       "34"
      ]
     },
     "execution_count": 75,
     "metadata": {},
     "output_type": "execute_result"
    }
   ],
   "source": [
    "Games[-3,-5]"
   ]
  },
  {
   "cell_type": "code",
   "execution_count": 76,
   "id": "0c0cb49c-3d9a-4f9c-9685-603ad7e6665c",
   "metadata": {},
   "outputs": [
    {
     "data": {
      "text/plain": [
       "46"
      ]
     },
     "execution_count": 76,
     "metadata": {},
     "output_type": "execute_result"
    }
   ],
   "source": [
    "Games[-1,-6]"
   ]
  },
  {
   "cell_type": "code",
   "execution_count": 77,
   "id": "f75cc3b2-40c7-4d8c-89f9-b6d751befbe6",
   "metadata": {},
   "outputs": [
    {
     "data": {
      "text/plain": [
       "array([[5678, 3456, 2345, 6789, 1234, 2347, 8976],\n",
       "       [1345, 8765, 4578, 2468, 9764, 4679, 6754],\n",
       "       [3412, 6534, 9856, 4590, 3467, 1235, 9654],\n",
       "       [5436, 9867, 4576, 9834, 8967, 1235, 9675],\n",
       "       [3467, 8756, 4689, 9564, 1367, 2589, 8567],\n",
       "       [4676, 7654, 3678, 6784, 2567, 9876, 5678]])"
      ]
     },
     "execution_count": 77,
     "metadata": {},
     "output_type": "execute_result"
    }
   ],
   "source": [
    "Points"
   ]
  },
  {
   "cell_type": "code",
   "execution_count": 78,
   "id": "b991a0a5-1dd6-4437-8192-f42a3d9693de",
   "metadata": {},
   "outputs": [
    {
     "data": {
      "text/plain": [
       "array([3467, 8756, 4689, 9564, 1367, 2589, 8567])"
      ]
     },
     "execution_count": 78,
     "metadata": {},
     "output_type": "execute_result"
    }
   ],
   "source": [
    "Points[4]"
   ]
  },
  {
   "cell_type": "code",
   "execution_count": 79,
   "id": "b3870032-ee57-4505-a780-64b991ed167b",
   "metadata": {},
   "outputs": [
    {
     "data": {
      "text/plain": [
       "array([[5436, 9867, 4576, 9834, 8967, 1235, 9675],\n",
       "       [3467, 8756, 4689, 9564, 1367, 2589, 8567]])"
      ]
     },
     "execution_count": 79,
     "metadata": {},
     "output_type": "execute_result"
    }
   ],
   "source": [
    "Points[3:5]"
   ]
  },
  {
   "cell_type": "code",
   "execution_count": 80,
   "id": "132e6092-9dbd-4d80-a9b1-0e13aeea8d98",
   "metadata": {},
   "outputs": [
    {
     "data": {
      "text/plain": [
       "8567"
      ]
     },
     "execution_count": 80,
     "metadata": {},
     "output_type": "execute_result"
    }
   ],
   "source": [
    "Points[4,6]"
   ]
  },
  {
   "cell_type": "code",
   "execution_count": 81,
   "id": "a50f8de1-a24a-4599-9bb3-584d6906aff9",
   "metadata": {},
   "outputs": [
    {
     "data": {
      "text/plain": [
       "3678"
      ]
     },
     "execution_count": 81,
     "metadata": {},
     "output_type": "execute_result"
    }
   ],
   "source": [
    "Points[5,2]"
   ]
  },
  {
   "cell_type": "code",
   "execution_count": 83,
   "id": "d0e3a014-1b0a-49f3-ba3b-bc030e431b85",
   "metadata": {},
   "outputs": [
    {
     "data": {
      "text/plain": [
       "{'key1': 'val1', 'key2': 'val2', 'key3': 'val3'}"
      ]
     },
     "execution_count": 83,
     "metadata": {},
     "output_type": "execute_result"
    }
   ],
   "source": [
    "#########DICT#####################\n",
    "\n",
    "dict1 = {'key1':'val1', 'key2' :'val2', 'key3':'val3'}\n",
    "dict1"
   ]
  },
  {
   "cell_type": "code",
   "execution_count": 84,
   "id": "7f99d963-5675-443b-ae5e-da3e4d9e8d64",
   "metadata": {},
   "outputs": [
    {
     "data": {
      "text/plain": [
       "'val2'"
      ]
     },
     "execution_count": 84,
     "metadata": {},
     "output_type": "execute_result"
    }
   ],
   "source": [
    "dict1['key2']"
   ]
  },
  {
   "cell_type": "code",
   "execution_count": 85,
   "id": "896ce0ad-fe66-43ad-bb30-843792f2631b",
   "metadata": {},
   "outputs": [
    {
     "data": {
      "text/plain": [
       "{'Shikha': 2, 'hyd': 'we are hear', 'Delhi': True}"
      ]
     },
     "execution_count": 85,
     "metadata": {},
     "output_type": "execute_result"
    }
   ],
   "source": [
    "dict2 = {'Shikha':2, 'hyd':'we are hear', 'Delhi':True}\n",
    "dict2"
   ]
  },
  {
   "cell_type": "code",
   "execution_count": 86,
   "id": "2f82f454-5c21-4021-900f-6ea049e4ab94",
   "metadata": {},
   "outputs": [
    {
     "data": {
      "text/plain": [
       "{'Navneet': 'we have been here', 'Sweden': True, 'Kolkata': True}"
      ]
     },
     "execution_count": 86,
     "metadata": {},
     "output_type": "execute_result"
    }
   ],
   "source": [
    "dict3 = {'Navneet':'we have been here', 'Sweden':True, 'Kolkata':True}\n",
    "dict3"
   ]
  },
  {
   "cell_type": "code",
   "execution_count": 87,
   "id": "5be37353-a54a-4a05-91ad-ef94cfe00b74",
   "metadata": {},
   "outputs": [
    {
     "data": {
      "text/plain": [
       "True"
      ]
     },
     "execution_count": 87,
     "metadata": {},
     "output_type": "execute_result"
    }
   ],
   "source": [
    "dict3['Sweden']"
   ]
  },
  {
   "cell_type": "code",
   "execution_count": 88,
   "id": "c184cecd-7964-468b-b895-f1275721de96",
   "metadata": {},
   "outputs": [
    {
     "data": {
      "text/plain": [
       "array([[90, 70, 68, 34, 23, 12, 45],\n",
       "       [78, 56, 45, 23, 37, 78, 56],\n",
       "       [12, 45, 34, 57, 45, 23, 78],\n",
       "       [67, 24, 34, 67, 89, 98, 95],\n",
       "       [14, 54, 52, 64, 75, 98, 26],\n",
       "       [97, 46, 57, 86, 25, 90, 46]])"
      ]
     },
     "execution_count": 88,
     "metadata": {},
     "output_type": "execute_result"
    }
   ],
   "source": [
    "Games"
   ]
  },
  {
   "cell_type": "code",
   "execution_count": 89,
   "id": "b2723e70-f471-4bd3-a0aa-87356301a0d9",
   "metadata": {},
   "outputs": [
    {
     "data": {
      "text/plain": [
       "{'Dhoni': 0, 'Rahul': 1, 'Sachin': 2, 'Virat': 3, 'Sami': 4, 'Rohit': 5}"
      ]
     },
     "execution_count": 89,
     "metadata": {},
     "output_type": "execute_result"
    }
   ],
   "source": [
    "Pdict"
   ]
  },
  {
   "cell_type": "code",
   "execution_count": 91,
   "id": "77203467-ca5f-4ae2-9108-cf3161ec4d72",
   "metadata": {},
   "outputs": [
    {
     "data": {
      "text/plain": [
       "3"
      ]
     },
     "execution_count": 91,
     "metadata": {},
     "output_type": "execute_result"
    }
   ],
   "source": [
    "Pdict['Virat']"
   ]
  },
  {
   "cell_type": "code",
   "execution_count": 93,
   "id": "650adee8-4db4-4aab-8a39-2f43b6246795",
   "metadata": {},
   "outputs": [
    {
     "data": {
      "text/plain": [
       "array([67, 24, 34, 67, 89, 98, 95])"
      ]
     },
     "execution_count": 93,
     "metadata": {},
     "output_type": "execute_result"
    }
   ],
   "source": [
    "Games[3]"
   ]
  },
  {
   "cell_type": "code",
   "execution_count": 94,
   "id": "089a2038-d76b-42ca-9a1f-e326b1f84684",
   "metadata": {},
   "outputs": [
    {
     "data": {
      "text/plain": [
       "2"
      ]
     },
     "execution_count": 94,
     "metadata": {},
     "output_type": "execute_result"
    }
   ],
   "source": [
    "Pdict['Sachin']"
   ]
  },
  {
   "cell_type": "code",
   "execution_count": 95,
   "id": "043b23b1-07e2-41f5-81aa-df229935d6f6",
   "metadata": {},
   "outputs": [
    {
     "data": {
      "text/plain": [
       "array([12, 45, 34, 57, 45, 23, 78])"
      ]
     },
     "execution_count": 95,
     "metadata": {},
     "output_type": "execute_result"
    }
   ],
   "source": [
    "Games[2]"
   ]
  },
  {
   "cell_type": "code",
   "execution_count": 96,
   "id": "4c707f76-41e4-41c5-a6e2-fd76da716a3d",
   "metadata": {},
   "outputs": [
    {
     "data": {
      "text/plain": [
       "array([67, 24, 34, 67, 89, 98, 95])"
      ]
     },
     "execution_count": 96,
     "metadata": {},
     "output_type": "execute_result"
    }
   ],
   "source": [
    "Games[Pdict['Virat']]"
   ]
  },
  {
   "cell_type": "code",
   "execution_count": 97,
   "id": "a4b06851-40dc-41ce-b424-163f5af0ad27",
   "metadata": {},
   "outputs": [
    {
     "data": {
      "text/plain": [
       "array([[ 13456789,  34567434,  67896786,  12345687,  97567453],\n",
       "       [ 12312367,  98767895,  34566543,  67893456,  13568456],\n",
       "       [ 13456234,  98766789,  13455432,  12367843,  98766789],\n",
       "       [ 12344321,  87655678,  34561234,  98765432,  13456543],\n",
       "       [ 12345678,  98766789,  12344365, 134567654,  98761234],\n",
       "       [ 87655678,  34562345,  87655678,  13459876,  13458765]])"
      ]
     },
     "execution_count": 97,
     "metadata": {},
     "output_type": "execute_result"
    }
   ],
   "source": [
    "Salary"
   ]
  },
  {
   "cell_type": "code",
   "execution_count": 98,
   "id": "92fa2a43-8fe5-47ff-97b6-437e93e0862f",
   "metadata": {},
   "outputs": [
    {
     "data": {
      "text/plain": [
       "13459876"
      ]
     },
     "execution_count": 98,
     "metadata": {},
     "output_type": "execute_result"
    }
   ],
   "source": [
    "Salary[5,3]"
   ]
  },
  {
   "cell_type": "code",
   "execution_count": 99,
   "id": "b07062df-de35-40d1-b7b9-5cc8ed3f7127",
   "metadata": {},
   "outputs": [
    {
     "data": {
      "text/plain": [
       "98766789"
      ]
     },
     "execution_count": 99,
     "metadata": {},
     "output_type": "execute_result"
    }
   ],
   "source": [
    "Salary[Pdict['Sachin']][Sdict['2011']]"
   ]
  },
  {
   "cell_type": "code",
   "execution_count": 100,
   "id": "8fa71e0d-32e4-408d-ad08-e241bf44d4c6",
   "metadata": {},
   "outputs": [
    {
     "data": {
      "text/plain": [
       "array([[ 13456789,  34567434,  67896786,  12345687,  97567453],\n",
       "       [ 12312367,  98767895,  34566543,  67893456,  13568456],\n",
       "       [ 13456234,  98766789,  13455432,  12367843,  98766789],\n",
       "       [ 12344321,  87655678,  34561234,  98765432,  13456543],\n",
       "       [ 12345678,  98766789,  12344365, 134567654,  98761234],\n",
       "       [ 87655678,  34562345,  87655678,  13459876,  13458765]])"
      ]
     },
     "execution_count": 100,
     "metadata": {},
     "output_type": "execute_result"
    }
   ],
   "source": [
    "Salary"
   ]
  },
  {
   "cell_type": "code",
   "execution_count": 101,
   "id": "4dd72d60-4985-4e8d-b207-7b26aaa4a359",
   "metadata": {},
   "outputs": [
    {
     "data": {
      "text/plain": [
       "array([[90, 70, 68, 34, 23, 12, 45],\n",
       "       [78, 56, 45, 23, 37, 78, 56],\n",
       "       [12, 45, 34, 57, 45, 23, 78],\n",
       "       [67, 24, 34, 67, 89, 98, 95],\n",
       "       [14, 54, 52, 64, 75, 98, 26],\n",
       "       [97, 46, 57, 86, 25, 90, 46]])"
      ]
     },
     "execution_count": 101,
     "metadata": {},
     "output_type": "execute_result"
    }
   ],
   "source": [
    "Games"
   ]
  },
  {
   "cell_type": "code",
   "execution_count": 104,
   "id": "8d1e4377-6ba0-47e6-bfba-48de2d874ea4",
   "metadata": {},
   "outputs": [
    {
     "data": {
      "text/plain": [
       "493820.4857142857"
      ]
     },
     "execution_count": 104,
     "metadata": {},
     "output_type": "execute_result"
    }
   ],
   "source": [
    "Salary[0,1]/Games[0,1]"
   ]
  },
  {
   "cell_type": "code",
   "execution_count": 108,
   "id": "092ed2f5-0cb3-4a5b-a509-fda02dd14f3a",
   "metadata": {},
   "outputs": [],
   "source": [
    "import warnings\n",
    "warnings.filterwarnings('ignore')"
   ]
  },
  {
   "cell_type": "code",
   "execution_count": 109,
   "id": "e5a8a605-ceeb-4907-aba2-84e3531a8fa9",
   "metadata": {},
   "outputs": [],
   "source": [
    "import numpy as np\n",
    "import matplotlib.pyplot as plot1"
   ]
  },
  {
   "cell_type": "code",
   "execution_count": 110,
   "id": "110fc79a-7dee-4bd2-bb1a-34149e2558db",
   "metadata": {},
   "outputs": [
    {
     "data": {
      "text/plain": [
       "array([[ 13456789,  34567434,  67896786,  12345687,  97567453],\n",
       "       [ 12312367,  98767895,  34566543,  67893456,  13568456],\n",
       "       [ 13456234,  98766789,  13455432,  12367843,  98766789],\n",
       "       [ 12344321,  87655678,  34561234,  98765432,  13456543],\n",
       "       [ 12345678,  98766789,  12344365, 134567654,  98761234],\n",
       "       [ 87655678,  34562345,  87655678,  13459876,  13458765]])"
      ]
     },
     "execution_count": 110,
     "metadata": {},
     "output_type": "execute_result"
    }
   ],
   "source": [
    "Salary"
   ]
  },
  {
   "cell_type": "code",
   "execution_count": 111,
   "id": "dad974a4-5e0c-4965-8d6f-3d53758acca0",
   "metadata": {},
   "outputs": [
    {
     "data": {
      "text/plain": [
       "array([ 12345678,  98766789,  12344365, 134567654,  98761234])"
      ]
     },
     "execution_count": 111,
     "metadata": {},
     "output_type": "execute_result"
    }
   ],
   "source": [
    "Salary[4]"
   ]
  },
  {
   "cell_type": "code",
   "execution_count": 112,
   "id": "09d80496-6fc0-46ae-83df-91ff9eb832b9",
   "metadata": {},
   "outputs": [
    {
     "data": {
      "text/plain": [
       "array([[90, 70, 68, 34, 23, 12, 45],\n",
       "       [78, 56, 45, 23, 37, 78, 56],\n",
       "       [12, 45, 34, 57, 45, 23, 78],\n",
       "       [67, 24, 34, 67, 89, 98, 95],\n",
       "       [14, 54, 52, 64, 75, 98, 26],\n",
       "       [97, 46, 57, 86, 25, 90, 46]])"
      ]
     },
     "execution_count": 112,
     "metadata": {},
     "output_type": "execute_result"
    }
   ],
   "source": [
    "Games"
   ]
  },
  {
   "cell_type": "code",
   "execution_count": 113,
   "id": "e98bf1c9-ea77-43fa-9bf9-9de204f847a0",
   "metadata": {},
   "outputs": [
    {
     "data": {
      "text/plain": [
       "array([97, 46, 57, 86, 25, 90, 46])"
      ]
     },
     "execution_count": 113,
     "metadata": {},
     "output_type": "execute_result"
    }
   ],
   "source": [
    "Games[5]"
   ]
  },
  {
   "cell_type": "code",
   "execution_count": 115,
   "id": "a6617d32-1c3f-411d-8907-a437ce88766a",
   "metadata": {},
   "outputs": [
    {
     "data": {
      "text/plain": [
       "[<matplotlib.lines.Line2D at 0x1d7b0a15b50>]"
      ]
     },
     "execution_count": 115,
     "metadata": {},
     "output_type": "execute_result"
    },
    {
     "data": {
      "image/png": "[encoded data removed]",
      "text/plain": [
       "<Figure size 640x480 with 1 Axes>"
      ]
     },
     "metadata": {},
     "output_type": "display_data"
    }
   ],
   "source": [
    "plot1.plot(Games[0])"
   ]
  },
  {
   "cell_type": "markdown",
   "id": "5fcc1664-eec4-4159-b177-b861c54428a5",
   "metadata": {},
   "source": [
    "# Detrend observed in no.of Games played by dhoni-----------.##Sudden increade in no.of matches after 5th Season----WHY??\n"
   ]
  },
  {
   "cell_type": "code",
   "execution_count": 119,
   "id": "80c21727-c8cf-4287-92c3-db888983e047",
   "metadata": {},
   "outputs": [
    {
     "data": {
      "text/plain": [
       "array([[ 13456789,  34567434,  67896786,  12345687,  97567453],\n",
       "       [ 12312367,  98767895,  34566543,  67893456,  13568456],\n",
       "       [ 13456234,  98766789,  13455432,  12367843,  98766789],\n",
       "       [ 12344321,  87655678,  34561234,  98765432,  13456543],\n",
       "       [ 12345678,  98766789,  12344365, 134567654,  98761234],\n",
       "       [ 87655678,  34562345,  87655678,  13459876,  13458765]])"
      ]
     },
     "execution_count": 119,
     "metadata": {},
     "output_type": "execute_result"
    }
   ],
   "source": [
    "Salary"
   ]
  },
  {
   "cell_type": "code",
   "execution_count": 118,
   "id": "c98e59ec-0ccf-455d-b9ee-b62a0df09f46",
   "metadata": {},
   "outputs": [
    {
     "data": {
      "text/plain": [
       "[<matplotlib.lines.Line2D at 0x1d7b0b95010>]"
      ]
     },
     "execution_count": 118,
     "metadata": {},
     "output_type": "execute_result"
    },
    {
     "data": {
      "image/png": "[encoded data removed]",
      "text/plain": [
       "<Figure size 640x480 with 1 Axes>"
      ]
     },
     "metadata": {},
     "output_type": "display_data"
    }
   ],
   "source": [
    "plot1.plot(Salary[3],c='purple')"
   ]
  },
  {
   "cell_type": "code",
   "execution_count": null,
   "id": "e66c9501-ead6-4865-be3b-2908a898094b",
   "metadata": {},
   "outputs": [],
   "source": []
  },
  {
   "cell_type": "code",
   "execution_count": 123,
   "id": "46fa240d-4cb7-44b3-b200-b810c1cbd3ee",
   "metadata": {},
   "outputs": [],
   "source": [
    "%matplotlib inline\n",
    "plot1.rcParams['figure.figsize'] = 11,4"
   ]
  },
  {
   "cell_type": "code",
   "execution_count": 125,
   "id": "9a1e3aa9-d24b-4f5e-92b9-15175d53182b",
   "metadata": {},
   "outputs": [
    {
     "data": {
      "text/plain": [
       "[<matplotlib.lines.Line2D at 0x1d7b5b77990>]"
      ]
     },
     "execution_count": 125,
     "metadata": {},
     "output_type": "execute_result"
    },
    {
     "data": {
      "image/png": "[encoded data removed]",
      "text/plain": [
       "<Figure size 1100x400 with 1 Axes>"
      ]
     },
     "metadata": {},
     "output_type": "display_data"
    }
   ],
   "source": [
    "plot1.plot(Salary[4], c='Cyan', ls = 'dashed')"
   ]
  },
  {
   "cell_type": "code",
   "execution_count": 128,
   "id": "10d12b2f-d544-4cc4-bfcf-98e4ac30e665",
   "metadata": {},
   "outputs": [
    {
     "data": {
      "text/plain": [
       "[<matplotlib.lines.Line2D at 0x1d7b6005690>]"
      ]
     },
     "execution_count": 128,
     "metadata": {},
     "output_type": "execute_result"
    },
    {
     "data": {
      "image/png": "[encoded data removed]",
      "text/plain": [
       "<Figure size 1100x400 with 1 Axes>"
      ]
     },
     "metadata": {},
     "output_type": "display_data"
    }
   ],
   "source": [
    "plot1.plot(Salary[1], c='Green', ls = '--', marker = 'd')"
   ]
  },
  {
   "cell_type": "code",
   "execution_count": 130,
   "id": "8bfdd18d-def9-469b-8122-9bb41922d6fd",
   "metadata": {},
   "outputs": [
    {
     "data": {
      "image/png": "[encoded data removed]",
      "text/plain": [
       "<Figure size 1100x400 with 1 Axes>"
      ]
     },
     "metadata": {},
     "output_type": "display_data"
    }
   ],
   "source": [
    "plot1.plot(Salary[2], c='magenta', ls = '--', marker = 'o', ms = 10)\n",
    "plot1.show()"
   ]
  },
  {
   "cell_type": "code",
   "execution_count": 131,
   "id": "1888e061-6af8-4f33-93a4-43e78f6d0ba7",
   "metadata": {},
   "outputs": [
    {
     "data": {
      "text/plain": [
       "[0, 1, 2, 3, 4, 5, 6]"
      ]
     },
     "execution_count": 131,
     "metadata": {},
     "output_type": "execute_result"
    }
   ],
   "source": [
    "list(range(0,7))"
   ]
  },
  {
   "cell_type": "code",
   "execution_count": 132,
   "id": "3aefd7a8-f657-40cb-9899-2b976add8de4",
   "metadata": {},
   "outputs": [
    {
     "data": {
      "text/plain": [
       "{'2010': 0, '2011': 1, '2012': 2, '2013': 3, '2014': 4, '2015': 5, '2016': 6}"
      ]
     },
     "execution_count": 132,
     "metadata": {},
     "output_type": "execute_result"
    }
   ],
   "source": [
    "Sdict"
   ]
  },
  {
   "cell_type": "code",
   "execution_count": 133,
   "id": "f9686c1f-b4e3-4284-aea8-181e3aff3d26",
   "metadata": {},
   "outputs": [
    {
     "data": {
      "text/plain": [
       "{'Dhoni': 0, 'Rahul': 1, 'Sachin': 2, 'Virat': 3, 'Sami': 4, 'Rohit': 5}"
      ]
     },
     "execution_count": 133,
     "metadata": {},
     "output_type": "execute_result"
    }
   ],
   "source": [
    "Pdict"
   ]
  },
  {
   "cell_type": "code",
   "execution_count": 136,
   "id": "5afa0610-126c-44c5-b673-7e499fc3edfa",
   "metadata": {},
   "outputs": [
    {
     "data": {
      "image/png": "[encoded data removed]",
      "text/plain": [
       "<Figure size 1100x400 with 1 Axes>"
      ]
     },
     "metadata": {},
     "output_type": "display_data"
    }
   ],
   "source": [
    "plot1.plot(Salary[0], c='Green', ls = '--', marker = 's', ms = 7)\n",
    "plot1.xticks(list(range(0,7)), Seasons) \n",
    "plot1.show() "
   ]
  },
  {
   "cell_type": "code",
   "execution_count": 138,
   "id": "75305d2a-3911-45b9-8af5-3e37214e1118",
   "metadata": {},
   "outputs": [
    {
     "data": {
      "image/png": "[encoded data removed]",
      "text/plain": [
       "<Figure size 1100x400 with 1 Axes>"
      ]
     },
     "metadata": {},
     "output_type": "display_data"
    }
   ],
   "source": [
    "plot1.plot(Salary[0], c='Green', ls = '--', marker = 's', ms = 7)\n",
    "plot1.xticks(list(range(0,7)), Seasons,rotation='vertical') \n",
    "plot1.show() "
   ]
  },
  {
   "cell_type": "code",
   "execution_count": 139,
   "id": "e22c0ec6-2915-430d-98ba-8103e44b9871",
   "metadata": {},
   "outputs": [
    {
     "data": {
      "text/plain": [
       "array([[90, 70, 68, 34, 23, 12, 45],\n",
       "       [78, 56, 45, 23, 37, 78, 56],\n",
       "       [12, 45, 34, 57, 45, 23, 78],\n",
       "       [67, 24, 34, 67, 89, 98, 95],\n",
       "       [14, 54, 52, 64, 75, 98, 26],\n",
       "       [97, 46, 57, 86, 25, 90, 46]])"
      ]
     },
     "execution_count": 139,
     "metadata": {},
     "output_type": "execute_result"
    }
   ],
   "source": [
    "Games"
   ]
  },
  {
   "cell_type": "code",
   "execution_count": 141,
   "id": "7b753616-f202-4d78-8dc7-ba35289bf07d",
   "metadata": {},
   "outputs": [
    {
     "data": {
      "image/png": "[encoded data removed]",
      "text/plain": [
       "<Figure size 1100x400 with 1 Axes>"
      ]
     },
     "metadata": {},
     "output_type": "display_data"
    }
   ],
   "source": [
    "plot1.plot(Salary[4], c='Magenta', ls = ':',marker = 's',ms=8,label = Players[4])\n",
    "plot1.xticks(list(range(0,7)), Seasons,rotation='horizontal')\n",
    "plot1.show()"
   ]
  },
  {
   "cell_type": "code",
   "execution_count": 142,
   "id": "e9c555de-2d74-4ac6-b4fa-97ea3c69fef7",
   "metadata": {},
   "outputs": [
    {
     "data": {
      "text/plain": [
       "array([ 12345678,  98766789,  12344365, 134567654,  98761234])"
      ]
     },
     "execution_count": 142,
     "metadata": {},
     "output_type": "execute_result"
    }
   ],
   "source": [
    "Salary[4]"
   ]
  },
  {
   "cell_type": "code",
   "execution_count": 143,
   "id": "af6889c6-9a58-4fc6-9d69-1161a7c3f5fc",
   "metadata": {},
   "outputs": [
    {
     "data": {
      "text/plain": [
       "array([13456234, 98766789, 13455432, 12367843, 98766789])"
      ]
     },
     "execution_count": 143,
     "metadata": {},
     "output_type": "execute_result"
    }
   ],
   "source": [
    "Salary[2]"
   ]
  },
  {
   "cell_type": "code",
   "execution_count": 145,
   "id": "bd0cf2d1-584c-4524-90d3-808e1701647c",
   "metadata": {},
   "outputs": [
    {
     "data": {
      "text/plain": [
       "[<matplotlib.lines.Line2D at 0x1d7b645ad10>]"
      ]
     },
     "execution_count": 145,
     "metadata": {},
     "output_type": "execute_result"
    },
    {
     "data": {
      "image/png": "[encoded data removed]",
      "text/plain": [
       "<Figure size 1100x400 with 1 Axes>"
      ]
     },
     "metadata": {},
     "output_type": "display_data"
    }
   ],
   "source": [
    "plot1.plot(Points[2],c='orange',ls = ':',marker = 'd', ms=11,label = Players[2])"
   ]
  },
  {
   "cell_type": "code",
   "execution_count": 146,
   "id": "2aba3a8f-cdb7-44b7-9ab4-c4af7bbde784",
   "metadata": {},
   "outputs": [
    {
     "data": {
      "image/png": "[encoded data removed]",
      "text/plain": [
       "<Figure size 1100x400 with 1 Axes>"
      ]
     },
     "metadata": {},
     "output_type": "display_data"
    }
   ],
   "source": [
    "plot1.plot(Salary[4], c='Magenta', ls = ':',marker = 's',ms=8,label = Players[4])\n",
    "plot1.plot(Salary[2],c='orange',ls = ':',marker = 'd', ms=11,label = Players[2])\n",
    "plot1.xticks(list(range(0,7)), Seasons,rotation='horizontal')\n",
    "plot1.show()"
   ]
  },
  {
   "cell_type": "code",
   "execution_count": 147,
   "id": "f4e84e36-6cfd-482a-a106-128e3750a495",
   "metadata": {},
   "outputs": [
    {
     "data": {
      "image/png": "[encoded data removed]",
      "text/plain": [
       "<Figure size 1100x400 with 1 Axes>"
      ]
     },
     "metadata": {},
     "output_type": "display_data"
    }
   ],
   "source": [
    "##Adding Legends in the Graph for more clarity.\n",
    "\n",
    "plot1.plot(Salary[4], c='Magenta', ls = ':',marker = 's',ms=8,label = Players[4])\n",
    "plot1.plot(Salary[2],c='orange',ls = ':',marker = 'd', ms=11,label = Players[2])\n",
    "plot1.xticks(list(range(0,7)), Seasons,rotation='horizontal')\n",
    "plot1.legend()\n",
    "plot1.show()"
   ]
  },
  {
   "cell_type": "code",
   "execution_count": 150,
   "id": "b5021a8d-e8a7-4872-9050-807cf4c6246e",
   "metadata": {},
   "outputs": [
    {
     "data": {
      "image/png": "[encoded data removed]",
      "text/plain": [
       "<Figure size 1100x400 with 1 Axes>"
      ]
     },
     "metadata": {},
     "output_type": "display_data"
    }
   ],
   "source": [
    "plot1.plot(Salary[4], c='Magenta', ls = ':',marker = 's',ms=8,label = Players[4])\n",
    "plot1.plot(Salary[2],c='orange',ls = ':',marker = 'd', ms=11,label = Players[2])\n",
    "plot1.xticks(list(range(0,7)), Seasons,rotation='horizontal')\n",
    "plot1.legend(loc = 'lower left',bbox_to_anchor=(1,0))\n",
    "plot1.show()"
   ]
  },
  {
   "cell_type": "markdown",
   "id": "93ce8273-a77e-40bc-8a2f-1b7914606e6b",
   "metadata": {},
   "source": [
    "# We observed, equal trend in Salary of Sami and Sachin till 2012.---------------###Observed UpTrend in Sami's Salary post 2012.---------###Sachin's Salary was consisten till 2013.----------###Sudden Detrend observed in Sami's Salary post 2013 and uptrend observed in Sachin's Salary, WHY??????????"
   ]
  }
 ],
 "metadata": {
  "kernelspec": {
   "display_name": "Python 3 (ipykernel)",
   "language": "python",
   "name": "python3"
  },
  "language_info": {
   "codemirror_mode": {
    "name": "ipython",
    "version": 3
   },
   "file_extension": ".py",
   "mimetype": "text/x-python",
   "name": "python",
   "nbconvert_exporter": "python",
   "pygments_lexer": "ipython3",
   "version": "3.11.5"
  },
  "widgets": {
   "application/vnd.jupyter.widget-state+json": {
    "state": {},
    "version_major": 2,
    "version_minor": 0
   }
  }
 },
 "nbformat": 4,
 "nbformat_minor": 5
}
