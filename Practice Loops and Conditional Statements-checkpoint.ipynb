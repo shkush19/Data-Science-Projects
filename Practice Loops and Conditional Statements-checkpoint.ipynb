{
 "cells": [
  {
   "cell_type": "markdown",
   "id": "14330246-3de0-4db2-a03e-bab0a21e4aa7",
   "metadata": {},
   "source": [
    "_____Loops and Conditional Statements________"
   ]
  },
  {
   "cell_type": "markdown",
   "id": "bc3f719a-49d3-456a-804c-cd8fdb469951",
   "metadata": {},
   "source": [
    "#if\n",
    "\n",
    "#if else\n",
    "\n",
    "#if elif else\n",
    "\n",
    "#Nested if"
   ]
  },
  {
   "cell_type": "code",
   "execution_count": 2,
   "id": "d7b67797-c6f4-4394-8295-f749801f7655",
   "metadata": {},
   "outputs": [
    {
     "name": "stdout",
     "output_type": "stream",
     "text": [
      "Shikha Kushwaha\n"
     ]
    }
   ],
   "source": [
    "if True:\n",
    "    print('Shikha Kushwaha')"
   ]
  },
  {
   "cell_type": "code",
   "execution_count": 3,
   "id": "74b67428-8112-4f71-a41d-84842b1f3cf7",
   "metadata": {},
   "outputs": [
    {
     "name": "stdout",
     "output_type": "stream",
     "text": [
      "Done\n"
     ]
    }
   ],
   "source": [
    "if False:\n",
    "    print('Shikha Kushwaha')\n",
    "print('Done')"
   ]
  },
  {
   "cell_type": "code",
   "execution_count": 4,
   "id": "7faaa9b3-3fe4-4ab1-bcbd-1889460df455",
   "metadata": {},
   "outputs": [
    {
     "name": "stdout",
     "output_type": "stream",
     "text": [
      "Shikha Kushwaha\n",
      "Done\n"
     ]
    }
   ],
   "source": [
    "if True:\n",
    "    print('Shikha Kushwaha')\n",
    "print('Done')"
   ]
  },
  {
   "cell_type": "code",
   "execution_count": 5,
   "id": "8cd5dc19-f46a-4d9c-a367-c6f1ec4d81f7",
   "metadata": {},
   "outputs": [
    {
     "name": "stdout",
     "output_type": "stream",
     "text": [
      "Even number\n"
     ]
    }
   ],
   "source": [
    "#Even numbers\n",
    "\n",
    "x=6\n",
    "r=x%2\n",
    "if r==0:\n",
    "    print('Even number')"
   ]
  },
  {
   "cell_type": "code",
   "execution_count": 6,
   "id": "0c298b3f-c27d-4c6d-b61f-60fb5f06a005",
   "metadata": {},
   "outputs": [],
   "source": [
    "x=5\n",
    "r=x%2\n",
    "if r==0:\n",
    "    print('Even number')\n",
    "\n",
    "##this code is wrong as it is not giving any output if condition is false"
   ]
  },
  {
   "cell_type": "code",
   "execution_count": 8,
   "id": "c57200db-2870-42f2-bbf1-76aefb593fc2",
   "metadata": {},
   "outputs": [
    {
     "name": "stdout",
     "output_type": "stream",
     "text": [
      "odd number\n"
     ]
    }
   ],
   "source": [
    "x=7\n",
    "r=x%2\n",
    "if r==0:\n",
    "    print('Even number')\n",
    "print('odd number')\n",
    "##This is okay but not pro if condition is false"
   ]
  },
  {
   "cell_type": "code",
   "execution_count": 10,
   "id": "12f29aa5-b96d-4874-a9aa-c749b0ecc250",
   "metadata": {},
   "outputs": [
    {
     "name": "stdout",
     "output_type": "stream",
     "text": [
      "Even number\n",
      "odd number\n"
     ]
    }
   ],
   "source": [
    "x=8\n",
    "r=x%2\n",
    "if r==0:\n",
    "    print('Even number')\n",
    "print('odd number')\n",
    "\n",
    "##if condition is true then both block is printing"
   ]
  },
  {
   "cell_type": "code",
   "execution_count": 12,
   "id": "2299f3de-ff16-442c-862b-e83fa7ae09ea",
   "metadata": {},
   "outputs": [
    {
     "name": "stdout",
     "output_type": "stream",
     "text": [
      "odd number\n"
     ]
    }
   ],
   "source": [
    "x=9\n",
    "r=x%2\n",
    "if r==0:\n",
    "    print('Even number')\n",
    "else:\n",
    "    print('odd number')\n",
    "\n",
    "##This is pretty good"
   ]
  },
  {
   "cell_type": "code",
   "execution_count": 14,
   "id": "9ddd8a06-8f0c-4a40-a574-9539b62bf807",
   "metadata": {},
   "outputs": [
    {
     "name": "stdout",
     "output_type": "stream",
     "text": [
      "Even number\n"
     ]
    }
   ],
   "source": [
    "x=10\n",
    "r=x%2\n",
    "if r==0:\n",
    "    print('Even number')\n",
    "if r==1:\n",
    "    print('odd number')\n",
    "\n",
    "##Multiple if"
   ]
  },
  {
   "cell_type": "code",
   "execution_count": 15,
   "id": "18143c19-01fb-444c-99e8-5331691cc7c8",
   "metadata": {},
   "outputs": [
    {
     "name": "stdout",
     "output_type": "stream",
     "text": [
      "odd number\n"
     ]
    }
   ],
   "source": [
    "x=9\n",
    "r=x%2\n",
    "if r==0:\n",
    "    print('Even number')\n",
    "if r==1:\n",
    "    print('odd number')\n",
    "\n",
    "##Multiple if"
   ]
  },
  {
   "cell_type": "code",
   "execution_count": 16,
   "id": "4e32727c-a655-4396-b755-bcdd56ccd8cb",
   "metadata": {},
   "outputs": [
    {
     "name": "stdout",
     "output_type": "stream",
     "text": [
      "odd number\n"
     ]
    }
   ],
   "source": [
    "##Instead of above we can write below code\n",
    "\n",
    "x=9\n",
    "r=x%2\n",
    "if r==0:\n",
    "    print('Even number')\n",
    "if r!=0:\n",
    "    print('odd number')\n",
    "\n",
    "##but we see that many statements we use and due to which code optimization is very slow"
   ]
  },
  {
   "cell_type": "markdown",
   "id": "ea3a869e-b6e1-419c-8723-18eb97145205",
   "metadata": {},
   "source": [
    "___Code optimization___"
   ]
  },
  {
   "cell_type": "markdown",
   "id": "f30b05b3-8be8-4ef6-8088-960738213915",
   "metadata": {},
   "source": [
    "##Because of multiple if , code will check all the conditions ,irrespective of condition is true or false and this leads to slowdown the execution speed.\n",
    "\n",
    "##In order to correct this we implement else block with if.\n",
    "\n",
    "##if we observe the code its too many line cuz many of the coder always they wanted to reduce the code lenght which is very good practise. instead of 2 if we can use if-- else"
   ]
  },
  {
   "cell_type": "code",
   "execution_count": 19,
   "id": "ec36efb9-bf19-491d-816f-c49d6341dd2e",
   "metadata": {},
   "outputs": [
    {
     "name": "stdout",
     "output_type": "stream",
     "text": [
      "odd number\n"
     ]
    }
   ],
   "source": [
    "x=9\n",
    "r=x%2\n",
    "if r==0:\n",
    "    print('Even number')\n",
    "else:\n",
    "    print('odd number')\n",
    "\n",
    "##this is excellent"
   ]
  },
  {
   "cell_type": "markdown",
   "id": "7c541678-417a-4dd3-8a58-58292b980b8d",
   "metadata": {},
   "source": [
    "___Nested if___"
   ]
  },
  {
   "cell_type": "markdown",
   "id": "733d79cf-2640-420a-897d-c1c93a89e76c",
   "metadata": {},
   "source": [
    "##if we have 2 condition so we need to implment with nested if "
   ]
  },
  {
   "cell_type": "code",
   "execution_count": 21,
   "id": "97083f0d-e4d1-496b-ae85-0b1ea93341cf",
   "metadata": {},
   "outputs": [
    {
     "name": "stdout",
     "output_type": "stream",
     "text": [
      "Odd Number\n"
     ]
    }
   ],
   "source": [
    "x=5\n",
    "r=x%2\n",
    "\n",
    "if r==0:\n",
    "    print(\"Even Number\")\n",
    "    if x>3:\n",
    "        print(\"Hey Shikha! Greater number is:\", x)\n",
    "else:\n",
    "    print('Odd Number')\n",
    "##In this code we have implemented if inside if  block"
   ]
  },
  {
   "cell_type": "code",
   "execution_count": 22,
   "id": "26e59e10-a5aa-4bb1-8c2d-7af355a06f40",
   "metadata": {},
   "outputs": [
    {
     "name": "stdout",
     "output_type": "stream",
     "text": [
      "Even Number\n",
      "Hey Shikha! Greater number is: 8\n"
     ]
    }
   ],
   "source": [
    "x=8\n",
    "r=x%2\n",
    "\n",
    "if r==0:\n",
    "    print(\"Even Number\")\n",
    "    if x>3:\n",
    "        print(\"Hey Shikha! Greater number is:\", x)\n",
    "else:\n",
    "    print('Odd Number')\n",
    "##In this code we have implemented if inside if  block"
   ]
  },
  {
   "cell_type": "code",
   "execution_count": 23,
   "id": "905e96f5-5588-4d32-810e-0a9cffcd3243",
   "metadata": {},
   "outputs": [
    {
     "name": "stdout",
     "output_type": "stream",
     "text": [
      "Even Number\n"
     ]
    }
   ],
   "source": [
    "x=2\n",
    "r=x%2\n",
    "\n",
    "if r==0:\n",
    "    print(\"Even Number\")\n",
    "    if x>3:\n",
    "        print(\"Hey Shikha! Greater number is:\", x)\n",
    "else:\n",
    "    print('Odd Number')\n",
    "##In this code only first if will excute nested will not as the nested if condition is false\n"
   ]
  },
  {
   "cell_type": "code",
   "execution_count": 24,
   "id": "98cc0553-f691-403f-ac0f-a41a1698e4f2",
   "metadata": {},
   "outputs": [
    {
     "name": "stdout",
     "output_type": "stream",
     "text": [
      "Even number\n",
      "greater number\n"
     ]
    }
   ],
   "source": [
    "x = 6\n",
    "r = x % 2\n",
    "\n",
    "if r == 0:\n",
    "    print('Even number')\n",
    "    if x>5 :\n",
    "        print('greater number')\n",
    "    else:\n",
    "       print('not greater ')\n",
    "else:\n",
    "    print('odd number')"
   ]
  },
  {
   "cell_type": "code",
   "execution_count": 25,
   "id": "82c491e8-052f-45f8-8f61-44763a8ceda1",
   "metadata": {},
   "outputs": [
    {
     "name": "stdout",
     "output_type": "stream",
     "text": [
      "odd number\n"
     ]
    }
   ],
   "source": [
    "x = 3\n",
    "r = x % 2\n",
    "\n",
    "if r == 0:\n",
    "    print('Even number')\n",
    "    if x>5 :\n",
    "        print('greater number')\n",
    "    else:\n",
    "       print('not greater ')\n",
    "else:\n",
    "    print('odd number')"
   ]
  },
  {
   "cell_type": "markdown",
   "id": "f0ac40df-68e8-4cb8-b626-ac3219edfddb",
   "metadata": {},
   "source": [
    "We do have concept of ( IF - ELIF- ELSE) \n",
    "e.g i want to print ( 1--> one , 2 --> two, 3--> three, 4--> four, 5- five)\n",
    "\n",
    "#when you use if it will check all condition but if we mention elif then it wont check all condition"
   ]
  },
  {
   "cell_type": "code",
   "execution_count": 27,
   "id": "3c71dc09-af77-4a32-8dc2-afbbd3e61a17",
   "metadata": {},
   "outputs": [],
   "source": [
    "x = 5\n",
    "\n",
    "if x == 1:\n",
    "    print('one')\n",
    "if x == 2:\n",
    "    print('Two')\n",
    "if x == 3:\n",
    "    print('Three')\n",
    "if x == 4:\n",
    "    print('four')\n",
    "\n",
    "##No output as no any condition is true."
   ]
  },
  {
   "cell_type": "code",
   "execution_count": 28,
   "id": "89455197-e9d8-41ca-9ae9-bcaefce6fc49",
   "metadata": {},
   "outputs": [
    {
     "name": "stdout",
     "output_type": "stream",
     "text": [
      "Two\n"
     ]
    }
   ],
   "source": [
    "x = 2\n",
    "\n",
    "if x == 1:\n",
    "    print('one')#Check\n",
    "if x == 2:###########Execute\n",
    "    print('Two')\n",
    "if x == 3:##################Check########\n",
    "    print('Three')\n",
    "if x == 4:##################Check########\n",
    "    print('four')\n"
   ]
  },
  {
   "cell_type": "code",
   "execution_count": 29,
   "id": "9698a1a9-7002-4049-87c3-8b9007819486",
   "metadata": {},
   "outputs": [
    {
     "name": "stdout",
     "output_type": "stream",
     "text": [
      "five\n"
     ]
    }
   ],
   "source": [
    "x = 5\n",
    "\n",
    "if x == 1:#Check\n",
    "    print('one')\n",
    "if x == 2:#Check\n",
    "    print('Two')\n",
    "if x == 3:#Check\n",
    "    print('Three')\n",
    "if x == 4:#Check\n",
    "    print('four')\n",
    "if x == 5:###########Execute\n",
    "    print('five')\n",
    "if x == 6:##################Check########\n",
    "    print('Six')"
   ]
  },
  {
   "cell_type": "markdown",
   "id": "3e726db6-78e4-4343-997a-b5c9cf9ad3b8",
   "metadata": {},
   "source": [
    "##To avoid such situations and for code optimization we use elif else"
   ]
  },
  {
   "cell_type": "code",
   "execution_count": 30,
   "id": "66e9c071-947e-4952-b143-c88db742c4f7",
   "metadata": {},
   "outputs": [
    {
     "name": "stdout",
     "output_type": "stream",
     "text": [
      "five\n"
     ]
    }
   ],
   "source": [
    "x = 5\n",
    "\n",
    "if x == 1:#Check\n",
    "    print('one')\n",
    "elif x == 2:#Check\n",
    "    print('Two')\n",
    "elif x == 3:#Check\n",
    "    print('Three')\n",
    "elif x == 4:#Check\n",
    "    print('four')\n",
    "elif x == 5:###########Execute\n",
    "    print('five')\n",
    "elif x == 6:#########----No Check-----########\n",
    "    print('Six')"
   ]
  },
  {
   "cell_type": "code",
   "execution_count": 31,
   "id": "9874aa23-cdd8-4dad-a323-e1167b121d5f",
   "metadata": {},
   "outputs": [],
   "source": [
    "x = 7\n",
    "\n",
    "if(x == 1):\n",
    "    print('one')\n",
    "elif(x == 2):\n",
    "    print('Two')\n",
    "elif(x == 3):\n",
    "    print('Three')\n",
    "elif(x == 4):\n",
    "    print('four')"
   ]
  },
  {
   "cell_type": "code",
   "execution_count": 32,
   "id": "1a1474fc-bae5-43fc-953e-bc6fd949dccf",
   "metadata": {},
   "outputs": [
    {
     "name": "stdout",
     "output_type": "stream",
     "text": [
      "wrong output\n"
     ]
    }
   ],
   "source": [
    "x = 7\n",
    "\n",
    "if(x == 1):\n",
    "    print('one')\n",
    "elif(x == 2):\n",
    "    print('Two')\n",
    "elif(x == 3):\n",
    "    print('Three')\n",
    "elif(x == 4):\n",
    "    print('four')\n",
    "else:\n",
    "    print('wrong output')"
   ]
  },
  {
   "cell_type": "code",
   "execution_count": 33,
   "id": "c317f052-e976-4f85-81f4-21dbdfa42f06",
   "metadata": {},
   "outputs": [
    {
     "name": "stdout",
     "output_type": "stream",
     "text": [
      "Three\n"
     ]
    }
   ],
   "source": [
    "x = 3\n",
    "\n",
    "if(x == 1):\n",
    "    print('one')\n",
    "elif(x == 2):\n",
    "    print('Two')\n",
    "elif(x == 3):\n",
    "    print('Three')\n",
    "elif(x == 4):\n",
    "    print('four')\n",
    "else:\n",
    "    print('wrong output')\n"
   ]
  },
  {
   "cell_type": "code",
   "execution_count": 34,
   "id": "53a429eb-de84-4608-8fc9-8262946c6729",
   "metadata": {},
   "outputs": [
    {
     "name": "stdout",
     "output_type": "stream",
     "text": [
      "wrong output\n"
     ]
    }
   ],
   "source": [
    "x = 10\n",
    "\n",
    "if(x == 1):\n",
    "    print('one')\n",
    "elif(x == 2):\n",
    "    print('Two')\n",
    "elif(x == 3):\n",
    "    print('Three')\n",
    "elif(x == 4):\n",
    "    print('four')\n",
    "   \n",
    "else:\n",
    "    print('wrong output')"
   ]
  },
  {
   "cell_type": "markdown",
   "id": "33b537f2-2d70-4f0b-8f22-cc0fb8a170e5",
   "metadata": {},
   "source": [
    "__Short hand if__"
   ]
  },
  {
   "cell_type": "code",
   "execution_count": 36,
   "id": "77bcd2a9-99dc-4ac1-ab8f-bf07c16e7821",
   "metadata": {},
   "outputs": [
    {
     "name": "stdout",
     "output_type": "stream",
     "text": [
      "a is greater than b\n"
     ]
    }
   ],
   "source": [
    "a = 50\n",
    "b = 40\n",
    "if a > b: print(\"a is greater than b\")##in one line combined print with if"
   ]
  },
  {
   "cell_type": "markdown",
   "id": "03196f07-68f5-42ab-95fe-d4067b871e35",
   "metadata": {},
   "source": [
    "____LOOPS____"
   ]
  },
  {
   "cell_type": "code",
   "execution_count": 37,
   "id": "83c78b16-991e-4ba0-a915-ec71858c9425",
   "metadata": {},
   "outputs": [
    {
     "name": "stdout",
     "output_type": "stream",
     "text": [
      "Shikha Kushwaha\n",
      "Shikha Kushwaha\n",
      "Shikha Kushwaha\n",
      "Shikha Kushwaha\n",
      "Shikha Kushwaha\n"
     ]
    }
   ],
   "source": [
    "##if you want to print \"Shikha Kushwaha\" 5 times you can write like:-\n",
    "\n",
    "print('Shikha Kushwaha')\n",
    "print('Shikha Kushwaha')\n",
    "print('Shikha Kushwaha')\n",
    "print('Shikha Kushwaha')\n",
    "print('Shikha Kushwaha')"
   ]
  },
  {
   "cell_type": "code",
   "execution_count": 38,
   "id": "e239927a-276b-4734-b112-cae26cb91d09",
   "metadata": {},
   "outputs": [
    {
     "name": "stdout",
     "output_type": "stream",
     "text": [
      "data science\n",
      "data science\n",
      "data science\n",
      "data science\n",
      "data science\n"
     ]
    }
   ],
   "source": [
    "##But what if you want it 100 times or 1000 times then you need loops.\n",
    "\n",
    "i = 1  #initialize\n",
    "while i<=5: #condition\n",
    "    print('data science')\n",
    "    i=i+1 #value of i is incrementing"
   ]
  },
  {
   "cell_type": "code",
   "execution_count": 39,
   "id": "7705cec9-69c9-4f85-b0e3-fcf3ce6cc544",
   "metadata": {},
   "outputs": [
    {
     "name": "stdout",
     "output_type": "stream",
     "text": [
      "Shikha Kushwaha\n",
      "Shikha Kushwaha\n",
      "Shikha Kushwaha\n",
      "Shikha Kushwaha\n",
      "Shikha Kushwaha\n",
      "Shikha Kushwaha\n"
     ]
    }
   ],
   "source": [
    "i = 6\n",
    "while i>=1:\n",
    "    print(\"Shikha Kushwaha\")\n",
    "    i=i-1 #value of i is decrementing"
   ]
  },
  {
   "cell_type": "code",
   "execution_count": 40,
   "id": "d38e6d41-5c10-4a4b-bc47-1ba83120e6eb",
   "metadata": {},
   "outputs": [
    {
     "name": "stdout",
     "output_type": "stream",
     "text": [
      "Shikha Kushwaha 9\n",
      "Shikha Kushwaha 8\n",
      "Shikha Kushwaha 7\n",
      "Shikha Kushwaha 6\n",
      "Shikha Kushwaha 5\n",
      "Shikha Kushwaha 4\n",
      "Shikha Kushwaha 3\n",
      "Shikha Kushwaha 2\n",
      "Shikha Kushwaha 1\n"
     ]
    }
   ],
   "source": [
    "i = 9\n",
    "while i>=1:\n",
    "    print(\"Shikha Kushwaha\", i)\n",
    "    i=i-1 #value of i is decrementing"
   ]
  },
  {
   "cell_type": "code",
   "execution_count": 3,
   "id": "00727875-dd48-4e20-8d16-4d5b803e350a",
   "metadata": {},
   "outputs": [
    {
     "name": "stdout",
     "output_type": "stream",
     "text": [
      "Shikha Kushwaha 9\n",
      "Shikha Kushwaha 8\n",
      "Shikha Kushwaha 7\n",
      "Shikha Kushwaha 6\n",
      "Shikha Kushwaha 5\n",
      "Shikha Kushwaha 4\n",
      "Shikha Kushwaha 3\n",
      "Shikha Kushwaha 2\n",
      "Shikha Kushwaha 1\n"
     ]
    }
   ],
   "source": [
    "i = 9\n",
    "while i>=1:\n",
    "    print(\"Shikha Kushwaha\", i)\n",
    "    i=i-1 #value of i is decrementing"
   ]
  },
  {
   "cell_type": "code",
   "execution_count": null,
   "id": "76057b6d-a9d8-4111-a736-14b318c1e9fb",
   "metadata": {},
   "outputs": [],
   "source": [
    "#i = 9\n",
    "#while i>=1:\n",
    " #   print(\"Shikha Kushwaha\", i)\n",
    "  #  i=i+1 #value of i is incrementing\n",
    "\n",
    "##never ever run this code as it will print the output infinite.\n",
    "\n",
    "_______#Because, here i value is 9 and while loop checks i greater than equals to 1 which is true, but, here i is getting incrementing continously which leads \n",
    "#to infinite loop .........__________"
   ]
  },
  {
   "cell_type": "code",
   "execution_count": 5,
   "id": "474bd4ec-42f1-4023-b693-4fa6820ce408",
   "metadata": {},
   "outputs": [
    {
     "name": "stdout",
     "output_type": "stream",
     "text": [
      "Shikha\n",
      "Kushwaha\n",
      "Kushwaha\n",
      "Kushwaha\n",
      "Kushwaha\n",
      "Kushwaha\n",
      "Kushwaha\n",
      "\n",
      "Shikha\n",
      "Kushwaha\n",
      "Kushwaha\n",
      "Kushwaha\n",
      "Kushwaha\n",
      "Kushwaha\n",
      "Kushwaha\n",
      "\n",
      "Shikha\n",
      "Kushwaha\n",
      "Kushwaha\n",
      "Kushwaha\n",
      "Kushwaha\n",
      "Kushwaha\n",
      "Kushwaha\n",
      "\n",
      "Shikha\n",
      "Kushwaha\n",
      "Kushwaha\n",
      "Kushwaha\n",
      "Kushwaha\n",
      "Kushwaha\n",
      "Kushwaha\n",
      "\n",
      "Shikha\n",
      "Kushwaha\n",
      "Kushwaha\n",
      "Kushwaha\n",
      "Kushwaha\n",
      "Kushwaha\n",
      "Kushwaha\n",
      "\n",
      "Shikha\n",
      "Kushwaha\n",
      "Kushwaha\n",
      "Kushwaha\n",
      "Kushwaha\n",
      "Kushwaha\n",
      "Kushwaha\n",
      "\n"
     ]
    }
   ],
   "source": [
    "i=1\n",
    "while i<=6:\n",
    "    print('Shikha')\n",
    "    j =2\n",
    "    while j<=7:\n",
    "        print('Kushwaha')\n",
    "        j=j+1\n",
    "\n",
    "    i=i+1\n",
    "    print()"
   ]
  },
  {
   "cell_type": "code",
   "execution_count": 7,
   "id": "14a9e37f-b798-4459-88fa-70cb8edb261c",
   "metadata": {},
   "outputs": [
    {
     "name": "stdout",
     "output_type": "stream",
     "text": [
      "Shikha Kushwaha Kushwaha Kushwaha Kushwaha Kushwaha Kushwaha \n",
      "Shikha Kushwaha Kushwaha Kushwaha Kushwaha Kushwaha Kushwaha \n",
      "Shikha Kushwaha Kushwaha Kushwaha Kushwaha Kushwaha Kushwaha \n",
      "Shikha Kushwaha Kushwaha Kushwaha Kushwaha Kushwaha Kushwaha \n",
      "Shikha Kushwaha Kushwaha Kushwaha Kushwaha Kushwaha Kushwaha \n",
      "Shikha Kushwaha Kushwaha Kushwaha Kushwaha Kushwaha Kushwaha \n"
     ]
    }
   ],
   "source": [
    "i=1\n",
    "while i<=6:\n",
    "    print('Shikha ', end=\"\")\n",
    "    j =2\n",
    "    while j<=7:\n",
    "        print('Kushwaha ',end=\"\")\n",
    "        j=j+1\n",
    "\n",
    "    i=i+1\n",
    "    print()"
   ]
  },
  {
   "cell_type": "code",
   "execution_count": 8,
   "id": "c2766a43-b38e-4c13-b0f4-dba029a24563",
   "metadata": {},
   "outputs": [
    {
     "name": "stdout",
     "output_type": "stream",
     "text": [
      "data science\n",
      "technology\n",
      "technology\n",
      "\n",
      "data science\n",
      "technology\n",
      "technology\n",
      "\n",
      "data science\n",
      "technology\n",
      "technology\n",
      "\n"
     ]
    }
   ],
   "source": [
    "i = 3\n",
    "while i<=5:\n",
    "    print('data science') # when we mention end then new line will not create\n",
    "    j = 3\n",
    "    while j<=4:\n",
    "        print('technology')\n",
    "        j = j + 1\n",
    "        \n",
    "    i = i + 1\n",
    "    print()"
   ]
  },
  {
   "cell_type": "code",
   "execution_count": 9,
   "id": "68cec048-6c7b-40f0-a84b-17751e277df5",
   "metadata": {},
   "outputs": [
    {
     "name": "stdout",
     "output_type": "stream",
     "text": [
      "data science\n",
      "technology\n",
      "technology\n",
      "technology\n",
      "technology\n",
      "technology\n",
      "technology\n",
      "\n",
      "data science\n",
      "technology\n",
      "technology\n",
      "technology\n",
      "technology\n",
      "technology\n",
      "technology\n",
      "\n",
      "data science\n",
      "technology\n",
      "technology\n",
      "technology\n",
      "technology\n",
      "technology\n",
      "technology\n",
      "\n",
      "data science\n",
      "technology\n",
      "technology\n",
      "technology\n",
      "technology\n",
      "technology\n",
      "technology\n",
      "\n",
      "data science\n",
      "technology\n",
      "technology\n",
      "technology\n",
      "technology\n",
      "technology\n",
      "technology\n",
      "\n",
      "data science\n",
      "technology\n",
      "technology\n",
      "technology\n",
      "technology\n",
      "technology\n",
      "technology\n",
      "\n"
     ]
    }
   ],
   "source": [
    "i = 6\n",
    "while i>=1:\n",
    "    print('data science') # when we mention end then new line will not create\n",
    "    j = 6\n",
    "    while j>=1:\n",
    "        print('technology')\n",
    "        j = j - 1\n",
    "        \n",
    "    i = i - 1\n",
    "    print()"
   ]
  },
  {
   "cell_type": "code",
   "execution_count": 10,
   "id": "2d9d607d-10af-46c5-bba6-277c202d6b1b",
   "metadata": {},
   "outputs": [
    {
     "name": "stdout",
     "output_type": "stream",
     "text": [
      " datascience technology technology technology technology\n",
      " datascience technology technology technology technology\n",
      " datascience technology technology technology technology\n",
      " datascience technology technology technology technology\n",
      " datascience technology technology technology technology\n"
     ]
    }
   ],
   "source": [
    "i = 1\n",
    "while i<=5:\n",
    "    print(' datascience', end = \"\") # when we mention end then new line will not create\n",
    "    j = 1\n",
    "    while j<=4:\n",
    "        print(' technology', end=\"\")\n",
    "        j = j + 1\n",
    "        \n",
    "    i = i + 1\n",
    "    print()"
   ]
  },
  {
   "cell_type": "code",
   "execution_count": 12,
   "id": "9e66dc0a-5a66-4938-87f4-44be15b5b75b",
   "metadata": {},
   "outputs": [
    {
     "name": "stdout",
     "output_type": "stream",
     "text": [
      "0 1 2 \n",
      "0 2 4 \n"
     ]
    }
   ],
   "source": [
    "# lets use while loop using some numbers\n",
    "i = 1\n",
    "while i <= 2 :\n",
    "    j = 0\n",
    "    while  j <= 2 :\n",
    "        print(i*j, end=\" \")\n",
    "        j += 1\n",
    "    print()\n",
    "    i += 1"
   ]
  },
  {
   "cell_type": "code",
   "execution_count": 13,
   "id": "5bc88bc2-756e-45e9-87a5-7d6c2ee9bfe8",
   "metadata": {},
   "outputs": [
    {
     "name": "stdout",
     "output_type": "stream",
     "text": [
      "0 1 2 3 \n",
      "0 2 4 6 \n",
      "0 3 6 9 \n",
      "0 4 8 12 \n"
     ]
    }
   ],
   "source": [
    "i = 1\n",
    "while i <= 4 :\n",
    "    j = 0\n",
    "    while  j <= 3 :\n",
    "        print(i*j, end=\" \")\n",
    "        j += 1\n",
    "    print()\n",
    "    i += 1"
   ]
  },
  {
   "cell_type": "code",
   "execution_count": 3,
   "id": "d07e96fd-4231-4687-9eb1-2f6abee6b454",
   "metadata": {},
   "outputs": [
    {
     "name": "stdout",
     "output_type": "stream",
     "text": [
      "H\n",
      "l\n",
      "o\n"
     ]
    },
    {
     "ename": "IndexError",
     "evalue": "string index out of range",
     "output_type": "error",
     "traceback": [
      "\u001b[1;31m---------------------------------------------------------------------------\u001b[0m",
      "\u001b[1;31mIndexError\u001b[0m                                Traceback (most recent call last)",
      "Cell \u001b[1;32mIn[3], line 9\u001b[0m\n\u001b[0;32m      7\u001b[0m \u001b[38;5;28;01mif\u001b[39;00m i \u001b[38;5;241m==\u001b[39m \u001b[38;5;241m3\u001b[39m:\n\u001b[0;32m      8\u001b[0m     i \u001b[38;5;241m=\u001b[39m i \u001b[38;5;241m+\u001b[39m \u001b[38;5;241m1\u001b[39m\n\u001b[1;32m----> 9\u001b[0m \u001b[38;5;28mprint\u001b[39m(word[i])\n\u001b[0;32m     10\u001b[0m i \u001b[38;5;241m=\u001b[39m i \u001b[38;5;241m+\u001b[39m \u001b[38;5;241m1\u001b[39m\n",
      "\u001b[1;31mIndexError\u001b[0m: string index out of range"
     ]
    }
   ],
   "source": [
    "i = 0\n",
    "word = 'Hello'\n",
    "while i <= len(word):\n",
    "    if i == 1:\n",
    "        i = i + 1\n",
    "    \n",
    "    if i == 3:\n",
    "        i = i + 1\n",
    "    print(word[i])\n",
    "    i = i + 1\n",
    "    \n",
    "#print(word)\n",
    "\n",
    "#  skip 2 letters e and l in word--Hello"
   ]
  },
  {
   "cell_type": "code",
   "execution_count": 41,
   "id": "874e04ef-baf8-4977-91ab-9394dcdcaef8",
   "metadata": {},
   "outputs": [],
   "source": [
    "word = 'Hello'"
   ]
  },
  {
   "cell_type": "code",
   "execution_count": 38,
   "id": "0719f98f-5684-4f29-b4a6-f372c32769b5",
   "metadata": {},
   "outputs": [
    {
     "data": {
      "text/plain": [
       "5"
      ]
     },
     "execution_count": 38,
     "metadata": {},
     "output_type": "execute_result"
    }
   ],
   "source": [
    "len(word)"
   ]
  },
  {
   "cell_type": "code",
   "execution_count": 5,
   "id": "db1b948c-ec7d-487f-a7db-54ac892755b7",
   "metadata": {},
   "outputs": [
    {
     "name": "stdin",
     "output_type": "stream",
     "text": [
      "Enter a number:  8\n",
      "Enter zero to Quit:  5\n",
      "Enter zero to Quit:  0\n"
     ]
    }
   ],
   "source": [
    "n=int(input(\"Enter a number: \"))\n",
    "while n!=0:\n",
    "    n=int(input(\"Enter zero to Quit: \"))"
   ]
  },
  {
   "cell_type": "code",
   "execution_count": 6,
   "id": "125ac564-a486-4e21-b505-35b1f37083d6",
   "metadata": {},
   "outputs": [
    {
     "name": "stdin",
     "output_type": "stream",
     "text": [
      "Enter a number:  89\n"
     ]
    },
    {
     "name": "stdout",
     "output_type": "stream",
     "text": [
      "Binary value:  1011001\n"
     ]
    }
   ],
   "source": [
    "num = int(input(\"Enter a number: \"))\n",
    "b = 0\n",
    "p = 1\n",
    "n = num\n",
    "\n",
    "while n>0:\n",
    "    rem = n%2\n",
    "    b += rem * p\n",
    "    p = p*10\n",
    "    n = n//2\n",
    "\n",
    "print(\"Binary value: \",b)\n",
    "\n",
    "#Binary number conversion"
   ]
  },
  {
   "cell_type": "code",
   "execution_count": 7,
   "id": "15532318-cd3a-488c-867a-69652ba2297d",
   "metadata": {},
   "outputs": [
    {
     "name": "stdout",
     "output_type": "stream",
     "text": [
      "0 1 2 3 \n",
      "0 2 4 6 \n",
      "0 3 6 9 \n",
      "0 4 8 12 \n"
     ]
    }
   ],
   "source": [
    "i = 1\n",
    "while i <= 4 :\n",
    "    j = 0\n",
    "    while  j <= 3 :\n",
    "        print(i*j, end=\" \")\n",
    "        j += 1\n",
    "    print()\n",
    "    i += 1"
   ]
  },
  {
   "cell_type": "markdown",
   "id": "b0d7a684-6285-4ecf-b61f-439757ef93fa",
   "metadata": {},
   "source": [
    "___FOR Loop____"
   ]
  },
  {
   "cell_type": "code",
   "execution_count": 11,
   "id": "2ec5e047-8407-4519-9269-c923e91ff292",
   "metadata": {},
   "outputs": [
    {
     "name": "stdout",
     "output_type": "stream",
     "text": [
      "S\n",
      "h\n",
      "i\n",
      "k\n",
      "h\n",
      "a\n"
     ]
    }
   ],
   "source": [
    "name='Shikha'\n",
    "for i in name:\n",
    "    print(i)"
   ]
  },
  {
   "cell_type": "code",
   "execution_count": 12,
   "id": "35f74558-b0a0-4237-8df0-32f2ea265443",
   "metadata": {},
   "outputs": [
    {
     "name": "stdout",
     "output_type": "stream",
     "text": [
      "10\n",
      "40\n",
      "9.6\n",
      "Shikha\n"
     ]
    }
   ],
   "source": [
    "name2=[10,40,9.6,'Shikha']\n",
    "for i in name2:\n",
    "    print(i)"
   ]
  },
  {
   "cell_type": "code",
   "execution_count": 13,
   "id": "cd33b79e-76f9-4d75-be51-ad7cbb153948",
   "metadata": {},
   "outputs": [
    {
     "name": "stdout",
     "output_type": "stream",
     "text": [
      "2\n",
      "8\n",
      "9.4\n",
      "hello\n"
     ]
    }
   ],
   "source": [
    "for i in [2,8,9.4,'hello']:\n",
    "    print(i)"
   ]
  },
  {
   "cell_type": "code",
   "execution_count": 14,
   "id": "3a4e16e1-4895-4131-8688-e98570d53ed8",
   "metadata": {},
   "outputs": [
    {
     "data": {
      "text/plain": [
       "range(0, 8)"
      ]
     },
     "execution_count": 14,
     "metadata": {},
     "output_type": "execute_result"
    }
   ],
   "source": [
    "range(8)"
   ]
  },
  {
   "cell_type": "code",
   "execution_count": 15,
   "id": "8ea36a94-10ce-4457-aa02-2e3f24d46652",
   "metadata": {},
   "outputs": [
    {
     "name": "stdout",
     "output_type": "stream",
     "text": [
      "0\n",
      "1\n",
      "2\n",
      "3\n",
      "4\n",
      "5\n",
      "6\n",
      "7\n"
     ]
    }
   ],
   "source": [
    "for i in range(8):\n",
    "    print(i)"
   ]
  },
  {
   "cell_type": "code",
   "execution_count": 16,
   "id": "193982da-2ea0-4176-8c7f-ef3f247fe3dd",
   "metadata": {},
   "outputs": [
    {
     "name": "stdout",
     "output_type": "stream",
     "text": [
      "7\n",
      "8\n",
      "9\n",
      "10\n",
      "11\n",
      "12\n",
      "13\n",
      "14\n",
      "15\n",
      "16\n",
      "17\n",
      "18\n"
     ]
    }
   ],
   "source": [
    "for i in range(7,19):\n",
    "    print(i)"
   ]
  },
  {
   "cell_type": "code",
   "execution_count": 17,
   "id": "770bcf00-fb95-44e6-9887-1c15af51782f",
   "metadata": {},
   "outputs": [
    {
     "name": "stdout",
     "output_type": "stream",
     "text": [
      "3\n",
      "4\n",
      "5\n",
      "6\n",
      "7\n",
      "8\n"
     ]
    }
   ],
   "source": [
    "for i in range(3,9):\n",
    "    print(i)"
   ]
  },
  {
   "cell_type": "code",
   "execution_count": 18,
   "id": "38ca25e8-6463-4aec-8a45-04c1293319f7",
   "metadata": {},
   "outputs": [
    {
     "name": "stdout",
     "output_type": "stream",
     "text": [
      "0\n",
      "8\n",
      "16\n"
     ]
    }
   ],
   "source": [
    "for i in range(20):\n",
    "    if i%8==0:\n",
    "        print(i)"
   ]
  },
  {
   "cell_type": "code",
   "execution_count": 20,
   "id": "a6304790-e330-421f-bf20-22a9524858cb",
   "metadata": {},
   "outputs": [
    {
     "name": "stdout",
     "output_type": "stream",
     "text": [
      "1\n",
      "2\n",
      "3\n",
      "4\n",
      "5\n",
      "6\n",
      "7\n",
      "9\n",
      "10\n",
      "11\n",
      "12\n",
      "13\n",
      "14\n",
      "15\n",
      "17\n",
      "18\n",
      "19\n"
     ]
    }
   ],
   "source": [
    "for i in range(20):\n",
    "    if i%8!=0:\n",
    "        print(i)"
   ]
  },
  {
   "cell_type": "markdown",
   "id": "9349e0f4-e090-4358-8f91-932dbe94fc60",
   "metadata": {},
   "source": [
    "___Break, Continue and Pass___"
   ]
  },
  {
   "cell_type": "markdown",
   "id": "f3cd09f5-fbde-4468-89d6-3da0c1a0674c",
   "metadata": {},
   "source": [
    "BREAK STATEMNT - if you apply break statment in a loop then it will end the loop\n",
    "# Pass = skips block of code( function, class etc)\n",
    "# Continue= skips 1 step/iteration during loop \n",
    "# Break= jumps out of the function/loop"
   ]
  },
  {
   "cell_type": "code",
   "execution_count": 21,
   "id": "dbdd309d-c839-4203-bd69-6fd28eaf1ca3",
   "metadata": {},
   "outputs": [
    {
     "name": "stdin",
     "output_type": "stream",
     "text": [
      "How many chocolates do you need? 8\n"
     ]
    },
    {
     "name": "stdout",
     "output_type": "stream",
     "text": [
      "Chocolate\n",
      "Chocolate\n",
      "Chocolate\n",
      "Chocolate\n",
      "Chocolate\n",
      "Chocolate\n",
      "Chocolate\n",
      "Chocolate\n"
     ]
    }
   ],
   "source": [
    "##Vending machine\n",
    "\n",
    "x=int(input(\"How many chocolates do you need?\"))\n",
    "i=1\n",
    "while i<=x:\n",
    "    print('Chocolate')\n",
    "    i+=1"
   ]
  },
  {
   "cell_type": "code",
   "execution_count": 4,
   "id": "9c76482b-58e7-4191-99e6-30c795451302",
   "metadata": {},
   "outputs": [
    {
     "name": "stdin",
     "output_type": "stream",
     "text": [
      "How many chocolate you need:? 5\n"
     ]
    },
    {
     "name": "stdout",
     "output_type": "stream",
     "text": [
      "chocolates\n",
      "chocolates\n",
      "chocolates\n",
      "chocolates\n",
      "chocolates\n"
     ]
    }
   ],
   "source": [
    "stock=5\n",
    "x=int(input('How many chocolate you need:?'))\n",
    "i=1\n",
    "while i<=x and x<=stock:\n",
    "    print('chocolates')\n",
    "    i+=1\n",
    "\n",
    "##In this if you want to show any out of stock message then you need to use if statement\n",
    "##inside the while loop, this is possible only in python."
   ]
  },
  {
   "cell_type": "code",
   "execution_count": 3,
   "id": "2457e830-95f4-41fc-8d4d-4d22c5a26ca2",
   "metadata": {},
   "outputs": [
    {
     "name": "stdin",
     "output_type": "stream",
     "text": [
      "How many chocolate you need:? 6\n"
     ]
    },
    {
     "name": "stdout",
     "output_type": "stream",
     "text": [
      "No stock\n",
      "Code Executed\n"
     ]
    }
   ],
   "source": [
    "stock=5\n",
    "x=int(input('How many chocolate you need:?'))\n",
    "i=1\n",
    "while i<=x:\n",
    "     if x>stock:\n",
    "        print('No stock') \n",
    "        break\n",
    "     print('chocolates')\n",
    "     i+=1\n",
    "print(\"Code Executed\")"
   ]
  },
  {
   "cell_type": "code",
   "execution_count": 5,
   "id": "f2d1084a-d505-4718-9478-a362fae86c48",
   "metadata": {},
   "outputs": [
    {
     "name": "stdout",
     "output_type": "stream",
     "text": [
      "3\n",
      "4\n",
      "5\n",
      "6\n",
      "7\n",
      "8\n",
      "9\n",
      "10\n"
     ]
    }
   ],
   "source": [
    "for i in range(3,11):\n",
    "    print(i)"
   ]
  },
  {
   "cell_type": "code",
   "execution_count": 10,
   "id": "5e65e187-3c14-4184-bf43-a13540cfd09b",
   "metadata": {},
   "outputs": [
    {
     "name": "stdout",
     "output_type": "stream",
     "text": [
      "3\n",
      "4\n",
      "5\n",
      "6\n"
     ]
    }
   ],
   "source": [
    "for i in range(3,11):\n",
    "    if i==7:\n",
    "        break\n",
    "    print(i)\n",
    "\n",
    "#to print 5 numbers in a given range"
   ]
  },
  {
   "cell_type": "code",
   "execution_count": 11,
   "id": "842b91ea-12c1-4d47-8683-00cb66934015",
   "metadata": {},
   "outputs": [
    {
     "name": "stdout",
     "output_type": "stream",
     "text": [
      "shikha 1\n",
      "shikha 2\n",
      "shikha 3\n",
      "shikha 4\n",
      "shikha 5\n",
      "shikha 6\n",
      "shikha 8\n",
      "shikha 9\n",
      "shikha 10\n",
      "shikha 11\n",
      "shikha 12\n",
      "shikha 13\n",
      "shikha 14\n"
     ]
    }
   ],
   "source": [
    "for i in range(1,15):\n",
    "    if i==7:\n",
    "        continue\n",
    "    print('shikha',i)"
   ]
  },
  {
   "cell_type": "code",
   "execution_count": 17,
   "id": "aeffa4da-d9ab-461e-b5b8-2ed6e9c5ecaa",
   "metadata": {},
   "outputs": [
    {
     "name": "stdout",
     "output_type": "stream",
     "text": [
      "1\n",
      "2\n",
      "3\n",
      "4\n",
      "5\n",
      "6\n",
      "7\n",
      "8\n",
      "9\n",
      "10\n"
     ]
    }
   ],
   "source": [
    "for i in range(1,11):\n",
    "    pass\n",
    "    print(i)"
   ]
  },
  {
   "cell_type": "code",
   "execution_count": 19,
   "id": "9fb95130-1e31-4d25-b348-9b42a550fc30",
   "metadata": {},
   "outputs": [
    {
     "name": "stdout",
     "output_type": "stream",
     "text": [
      "3 6 9 12 15 18 21 24 27 30 33 36 39 end\n"
     ]
    }
   ],
   "source": [
    "for i in range(3,41):\n",
    "    if i%3==0:\n",
    "        print(i,end=\" \")\n",
    "print('end')"
   ]
  },
  {
   "cell_type": "code",
   "execution_count": 21,
   "id": "e4835113-70e4-4749-b3b4-f7aa042da1c2",
   "metadata": {},
   "outputs": [
    {
     "name": "stdout",
     "output_type": "stream",
     "text": [
      "4 5 7 8 10 11 13 14 16 17 19 20 22 23 25 26 28 29 31 32 34 35 37 38 40 end\n"
     ]
    }
   ],
   "source": [
    "for i in range(3,41):\n",
    "    if i%3==0:\n",
    "        continue\n",
    "    print(i,end=\" \")\n",
    "print('end')"
   ]
  },
  {
   "cell_type": "code",
   "execution_count": 23,
   "id": "eb51b321-f4df-4d0d-95db-7dbcb6ed2a4f",
   "metadata": {},
   "outputs": [
    {
     "name": "stdout",
     "output_type": "stream",
     "text": [
      "4 5 8 10 11 13 16 17 19 20 22 23 25 26 29 31 32 34 37 38 40 end\n"
     ]
    }
   ],
   "source": [
    "for i in range(3,41):\n",
    "    if i%3==0 or i%7==0:\n",
    "        continue\n",
    "    print(i,end=\" \")\n",
    "print('end')"
   ]
  },
  {
   "cell_type": "code",
   "execution_count": 26,
   "id": "65f5063a-4fe5-4d9c-afee-f1e0c6a25bf6",
   "metadata": {},
   "outputs": [
    {
     "name": "stdout",
     "output_type": "stream",
     "text": [
      "3 4 5 6 7 8 9 10 11 12 13 14 15 16 17 18 19 20 22 23 24 25 26 27 28 29 30 31 32 33 34 35 36 37 38 39 40 end\n"
     ]
    }
   ],
   "source": [
    "for i in range(3,41):\n",
    "    if i%3==0 and i%7==0:\n",
    "        continue\n",
    "    print(i,end=\" \")\n",
    "print('end')"
   ]
  },
  {
   "cell_type": "code",
   "execution_count": 30,
   "id": "6701480b-dc72-4648-89b3-f58723f05cab",
   "metadata": {},
   "outputs": [
    {
     "name": "stdout",
     "output_type": "stream",
     "text": [
      "4 5 7 8 10 11 13 14 16 17 19 20 22 23 25 26 28 29 31 32 34 35 37 38 40 end\n"
     ]
    }
   ],
   "source": [
    "for i in range(3,41):\n",
    "    if i%3==0:\n",
    "        continue\n",
    "    print(i,end=\" \")\n",
    "print('end')"
   ]
  },
  {
   "cell_type": "code",
   "execution_count": 32,
   "id": "e3d5ea8b-b5b2-4911-a663-7a105c1fea51",
   "metadata": {},
   "outputs": [
    {
     "name": "stdout",
     "output_type": "stream",
     "text": [
      "1 3 5 7 9 11 13 15 17 19 21 23 25 27 29 31 33 35 37 39 41 43 45 47 49 bye\n"
     ]
    }
   ],
   "source": [
    "# i dont want to print the values which are odd numbers that means print only even numbers\n",
    "for i in range(1,51):\n",
    "    \n",
    "    if (i%2 == 0):\n",
    "        pass\n",
    "    else:\n",
    "        print(i, end=\" \")\n",
    "print('bye')"
   ]
  },
  {
   "cell_type": "markdown",
   "id": "89bf4ac7-cdc2-46c3-a983-4e9b35dcda5e",
   "metadata": {},
   "source": [
    "__Pattern Printing__"
   ]
  },
  {
   "cell_type": "markdown",
   "id": "43afaf2f-6028-44f2-afac-d8a45f51907c",
   "metadata": {},
   "source": [
    "$ $ $ $\n",
    "$ $ $ $\n",
    "$ $ $ $\n",
    "$ $ $ $"
   ]
  },
  {
   "cell_type": "code",
   "execution_count": 33,
   "id": "76c4f537-1ebf-4952-9946-5f38c8488bfc",
   "metadata": {},
   "outputs": [
    {
     "name": "stdout",
     "output_type": "stream",
     "text": [
      "$ $ $ $\n",
      "$ $ $ $\n",
      "$ $ $ $\n",
      "$ $ $ $\n"
     ]
    }
   ],
   "source": [
    "print('$ $ $ $')\n",
    "print('$ $ $ $')\n",
    "print('$ $ $ $')\n",
    "print('$ $ $ $')"
   ]
  },
  {
   "cell_type": "code",
   "execution_count": 34,
   "id": "9a645198-f8b2-46fd-85a6-72da27f8fddd",
   "metadata": {},
   "outputs": [
    {
     "name": "stdout",
     "output_type": "stream",
     "text": [
      "$\n",
      "$\n",
      "$\n",
      "$\n",
      "$\n"
     ]
    }
   ],
   "source": [
    "for j in range(5):\n",
    "    print('$')\n"
   ]
  },
  {
   "cell_type": "code",
   "execution_count": 35,
   "id": "efe10ddc-3531-4226-bc92-f18b9264ff2b",
   "metadata": {},
   "outputs": [
    {
     "name": "stdout",
     "output_type": "stream",
     "text": [
      "$ $ $ $ $ $\n",
      "$\n",
      "$\n",
      "$\n",
      "$\n"
     ]
    }
   ],
   "source": [
    "for j in range(5):\n",
    "    print('$',end=\" \")\n",
    "for i in range(5):\n",
    "    print('$')\n"
   ]
  },
  {
   "cell_type": "code",
   "execution_count": 36,
   "id": "aaf20261-7392-447b-853d-6be68460bbad",
   "metadata": {},
   "outputs": [
    {
     "name": "stdout",
     "output_type": "stream",
     "text": [
      "$\n",
      "$\n",
      "$\n",
      "$\n",
      "$\n",
      "$ $ $ $ $ "
     ]
    }
   ],
   "source": [
    "for j in range(5):\n",
    "    print('$')\n",
    "for i in range(5):\n",
    "    print('$',end=\" \")\n"
   ]
  },
  {
   "cell_type": "code",
   "execution_count": 53,
   "id": "12a6378e-8c8a-4ae9-9a7d-fe4fed0e9dc6",
   "metadata": {},
   "outputs": [
    {
     "name": "stdout",
     "output_type": "stream",
     "text": [
      "$\n",
      "$\n",
      "$\n",
      "$\n",
      "$\n",
      "$ $ $ $ $ "
     ]
    }
   ],
   "source": [
    "for j in range(5):\n",
    "    print('$')\n",
    "for i in range(5):\n",
    "    print('$',end=\" \")\n"
   ]
  },
  {
   "cell_type": "code",
   "execution_count": 38,
   "id": "b4f9de0f-64df-454b-9b5b-4a2449404a48",
   "metadata": {},
   "outputs": [
    {
     "name": "stdout",
     "output_type": "stream",
     "text": [
      "$\n",
      "$\n",
      "$\n",
      "$\n",
      "$\n",
      "$ $ $ $ $ $\n",
      "$\n",
      "$\n",
      "$\n",
      "$\n",
      "$ $ $ $ $ "
     ]
    }
   ],
   "source": [
    "for j in range(5):\n",
    "    print('$')\n",
    "for i in range(5):\n",
    "    print('$',end=\" \")\n",
    "for l in range(5):\n",
    "    print('$')\n",
    "    l-1\n",
    "for k in range(5):\n",
    "    print('$',end=\" \")\n",
    "    k-1"
   ]
  },
  {
   "cell_type": "code",
   "execution_count": 39,
   "id": "33c97b37-1a10-4ed3-aa3c-d6c40915a58e",
   "metadata": {},
   "outputs": [
    {
     "name": "stdout",
     "output_type": "stream",
     "text": [
      "$ $ $ $ \n",
      "$ $ $ $ "
     ]
    }
   ],
   "source": [
    "for j in range(4):\n",
    "    print('$', end=\" \")\n",
    "    \n",
    "print()\n",
    "    \n",
    "for j in range(4):\n",
    "    print('$', end=\" \")"
   ]
  },
  {
   "cell_type": "code",
   "execution_count": 40,
   "id": "a1b05dbb-2587-44ad-9631-6b8fe3b7bda6",
   "metadata": {},
   "outputs": [
    {
     "name": "stdout",
     "output_type": "stream",
     "text": [
      "$ $ $ $ \n",
      "$ $ $ $ \n",
      "$ $ $ $ \n",
      "$ $ $ $ "
     ]
    }
   ],
   "source": [
    "for j in range(4):\n",
    "    print('$', end=\" \")\n",
    "    \n",
    "print()\n",
    "    \n",
    "for j in range(4):\n",
    "    print('$', end=\" \")\n",
    "print()\n",
    "for j in range(4):\n",
    "    print('$', end=\" \")\n",
    "    \n",
    "print()\n",
    "    \n",
    "for j in range(4):\n",
    "    print('$', end=\" \")"
   ]
  },
  {
   "cell_type": "code",
   "execution_count": 41,
   "id": "e72bf4d1-0d23-49c7-887b-75d336604d5f",
   "metadata": {},
   "outputs": [
    {
     "name": "stdout",
     "output_type": "stream",
     "text": [
      "$ $ $ $ $ $ $ \n",
      "$ $ $ $ $ $ $ \n",
      "$ $ $ $ $ $ $ \n",
      "$ $ $ $ $ $ $ \n",
      "$ $ $ $ $ $ $ \n",
      "$ $ $ $ $ $ $ \n",
      "$ $ $ $ $ $ $ \n"
     ]
    }
   ],
   "source": [
    "for i in range(7):\n",
    "    for j in range(7):\n",
    "        print('$', end=\" \")\n",
    "    print()"
   ]
  },
  {
   "cell_type": "code",
   "execution_count": 42,
   "id": "ce36515c-96ff-4a3c-9c05-8b16396d8e01",
   "metadata": {},
   "outputs": [
    {
     "data": {
      "text/plain": [
       "[0, 1, 2, 3, 4]"
      ]
     },
     "execution_count": 42,
     "metadata": {},
     "output_type": "execute_result"
    }
   ],
   "source": [
    "list(range(5))"
   ]
  },
  {
   "cell_type": "code",
   "execution_count": 43,
   "id": "16b3e26e-25cf-40da-b0b5-fb03a8093f47",
   "metadata": {},
   "outputs": [
    {
     "name": "stdout",
     "output_type": "stream",
     "text": [
      "\n",
      "$ \n",
      "$ $ \n",
      "$ $ $ \n",
      "$ $ $ $ \n"
     ]
    }
   ],
   "source": [
    "for i in range(5):\n",
    "    for j in range(i):\n",
    "        print('$',end=\" \")\n",
    "    print()"
   ]
  },
  {
   "cell_type": "code",
   "execution_count": 44,
   "id": "453e8732-5ae5-4f61-a15a-3ebc3846f717",
   "metadata": {},
   "outputs": [
    {
     "name": "stdout",
     "output_type": "stream",
     "text": [
      "$ \n",
      "$ $ \n",
      "$ $ $ \n",
      "$ $ $ $ \n",
      "$ $ $ $ $ \n"
     ]
    }
   ],
   "source": [
    "for i in range(5):\n",
    "    for j in range(i+1):\n",
    "        print('$',end=\" \")\n",
    "    print()"
   ]
  },
  {
   "cell_type": "code",
   "execution_count": 45,
   "id": "6bb7d8cd-d1ea-4fb0-b526-996fc8cc0fce",
   "metadata": {},
   "outputs": [
    {
     "name": "stdout",
     "output_type": "stream",
     "text": [
      "\n",
      "\n",
      "$ \n",
      "$ $ \n",
      "$ $ $ \n"
     ]
    }
   ],
   "source": [
    "for i in range(5):\n",
    "    for j in range(i-1):\n",
    "        print('$',end=\" \")\n",
    "    print()"
   ]
  },
  {
   "cell_type": "code",
   "execution_count": 47,
   "id": "5e8703f4-4029-4b9d-b8f9-e7749cb21ebb",
   "metadata": {},
   "outputs": [
    {
     "name": "stdout",
     "output_type": "stream",
     "text": [
      "$ $ $ $ $ \n",
      "$ $ $ $ $ \n",
      "$ $ $ $ $ \n",
      "$ $ $ $ $ \n",
      "$ $ $ $ $ \n"
     ]
    }
   ],
   "source": [
    "for i in range(j+1):\n",
    "    for j in range(5):\n",
    "        print('$',end=\" \")\n",
    "    print()"
   ]
  },
  {
   "cell_type": "code",
   "execution_count": null,
   "id": "022bbac2-26ba-4cc5-9fc6-19881014b29a",
   "metadata": {},
   "outputs": [],
   "source": []
  },
  {
   "cell_type": "code",
   "execution_count": 54,
   "id": "d15d49f6-4e78-44d7-8358-88ee310a3b8b",
   "metadata": {},
   "outputs": [
    {
     "name": "stdout",
     "output_type": "stream",
     "text": [
      "#  \n",
      "#  #  \n",
      "#  #  #  \n",
      "#  #  #  #  \n"
     ]
    }
   ],
   "source": [
    "for i in range(4):\n",
    "    for j in range(i+1):\n",
    "        print('#', end=\"  \")\n",
    "    print()"
   ]
  },
  {
   "cell_type": "code",
   "execution_count": 57,
   "id": "6567dbb0-3755-4a1d-b2ac-9fbf66bda0b4",
   "metadata": {},
   "outputs": [
    {
     "name": "stdout",
     "output_type": "stream",
     "text": [
      "#  #  #  #  #  #  #  #  \n",
      "#  #  #  #  #  #  #  \n",
      "#  #  #  #  #  #  \n",
      "#  #  #  #  #  \n",
      "#  #  #  #  \n",
      "#  #  #  \n",
      "#  #  \n",
      "#  \n"
     ]
    }
   ],
   "source": [
    "for i in range(8):\n",
    "    for j in range(8-i):\n",
    "        print('#', end=\"  \")\n",
    "    print()"
   ]
  },
  {
   "cell_type": "code",
   "execution_count": 64,
   "id": "5881d10a-cf70-44c6-9bfa-a16523b86f0e",
   "metadata": {},
   "outputs": [
    {
     "name": "stdout",
     "output_type": "stream",
     "text": [
      "#  #  #  #  \n",
      "#  #  #  \n",
      "#  #  \n",
      "#  \n",
      "#  #  #  #  \n",
      "#  #  #  \n",
      "#  #  \n",
      "#  \n",
      "#  #  #  #  \n",
      "#  #  #  \n",
      "#  #  \n",
      "#  \n",
      "#  #  #  #  \n",
      "#  #  #  \n",
      "#  #  \n",
      "#  \n",
      "#  #  #  #  \n",
      "#  #  #  \n",
      "#  #  \n",
      "#  \n",
      "#  #  #  #  \n",
      "#  #  #  \n",
      "#  #  \n",
      "#  \n",
      "#  #  #  #  \n",
      "#  #  #  \n",
      "#  #  \n",
      "#  \n",
      "#  #  #  #  \n",
      "#  #  #  \n",
      "#  #  \n",
      "#  \n",
      "#  #  #  #  \n",
      "#  #  #  \n",
      "#  #  \n",
      "#  \n",
      "#  #  #  #  \n",
      "#  #  #  \n",
      "#  #  \n",
      "#  \n"
     ]
    }
   ],
   "source": [
    "for i in range(4):\n",
    "    for j in range(i+1):\n",
    "        for i in range(4):\n",
    "            for j in range(4-i):\n",
    "                print('#', end=\"  \")\n",
    "            print()"
   ]
  },
  {
   "cell_type": "code",
   "execution_count": 74,
   "id": "01cd4c7b-91bd-45f3-ae15-51168c2aa139",
   "metadata": {},
   "outputs": [
    {
     "ename": "IndentationError",
     "evalue": "expected an indented block after 'for' statement on line 5 (649512634.py, line 6)",
     "output_type": "error",
     "traceback": [
      "\u001b[1;36m  Cell \u001b[1;32mIn[74], line 6\u001b[1;36m\u001b[0m\n\u001b[1;33m    print('#', end=\"  \")\u001b[0m\n\u001b[1;37m    ^\u001b[0m\n\u001b[1;31mIndentationError\u001b[0m\u001b[1;31m:\u001b[0m expected an indented block after 'for' statement on line 5\n"
     ]
    }
   ],
   "source": [
    "for i in range(4):\n",
    "    for j in range(i+1):\n",
    "        print('#', end=\"  \")\n",
    "    for i in range(4):\n",
    "        for j in range(4-i):\n",
    "        print('#', end=\"  \")\n",
    "        print()"
   ]
  },
  {
   "cell_type": "code",
   "execution_count": 79,
   "id": "0dbb1056-ddd8-45ff-8e87-dd39782f12a2",
   "metadata": {},
   "outputs": [
    {
     "name": "stdout",
     "output_type": "stream",
     "text": [
      "$ \n",
      "$ $ \n",
      "$ $ $ \n",
      "$ $ $ $ \n",
      "$ $ $ $ $ \n",
      "$ $ $ $ $ $ \n",
      "$ $ $ $ $ $ $ \n",
      "$ $ $ $ $ $ $ $ \n",
      "$ $ $ $ $ $ $ $ $ $ \n",
      "$ $ $ $ $ $ $ $ $ \n",
      "$ $ $ $ $ $ $ $ \n",
      "$ $ $ $ $ $ $ \n",
      "$ $ $ $ $ $ \n",
      "$ $ $ $ $ \n",
      "$ $ $ $ \n",
      "$ $ $ \n",
      "$ $ \n"
     ]
    }
   ],
   "source": [
    "for i in range(8):\n",
    "    for j in range(i+1):\n",
    "        print('$',end=\" \")\n",
    "    print()\n",
    "for i in range(8):\n",
    "    for j in range(8-i+1):\n",
    "        print('$', end=\" \")\n",
    "    print()"
   ]
  },
  {
   "cell_type": "code",
   "execution_count": 93,
   "id": "7a40cfdd-81be-4357-96d2-5e5f18d5ee95",
   "metadata": {},
   "outputs": [
    {
     "name": "stdout",
     "output_type": "stream",
     "text": [
      "$ \n",
      "$ $ \n",
      "$ $ $ \n",
      "$ $ $ $ \n",
      "$ $ $ $ $ \n",
      "$ $ $ $ $ $ \n",
      "$ $ $ $ $ $ $ \n",
      "$ $ $ $ $ $ $ $ \n",
      "$ $ $ $ $ $ $ $ $ \n",
      "$ $ $ $ $ $ $ $ $ $ \n",
      "$ $ $ $ $ $ $ $ $ $ $ \n",
      "$ $ $ $ $ $ $ $ $ $ $ $ \n",
      "$ $ $ $ $ $ $ $ $ $ $ $ $ \n",
      "$ $ $ $ $ $ $ $ $ $ $ $ $ $ \n",
      "$ $ $ $ $ $ $ $ $ $ $ $ $ $ $ \n",
      "$ $ $ $ $ $ $ $ $ $ $ $ $ $ $ $ \n",
      "$ $ $ $ $ $ $ $ $ $ $ $ $ $ $ $ $ \n",
      "$ $ $ $ $ $ $ $ $ $ $ $ $ $ $ $ $ $ \n",
      "$ $ $ $ $ $ $ $ $ $ $ $ $ $ $ $ $ $ $ \n",
      "$\n",
      "$\n",
      "$\n",
      "$\n",
      "$\n",
      "$\n",
      "$\n",
      "$\n",
      "$\n",
      "$\n",
      "$\n",
      "$\n",
      "$\n",
      "$\n",
      "$\n",
      "$\n",
      "$\n",
      "$\n",
      "$\n",
      "$\n",
      "$\n",
      "$\n",
      "$\n",
      "$\n",
      "$\n",
      "$\n",
      "$\n",
      "$\n",
      "$\n",
      "$\n",
      "$\n",
      "$\n",
      "$\n",
      "$\n",
      "$\n",
      "$\n",
      "$\n",
      "$\n",
      "$\n",
      "$\n",
      "$\n",
      "$\n",
      "$\n"
     ]
    }
   ],
   "source": [
    "for i in range(19):\n",
    "    for j in range(i+1):\n",
    "        print('$',end=\" \")\n",
    "    print()\n",
    "for i in range(5):\n",
    "    for j in range(5-i):\n",
    "        print('$')\n",
    "for i in range(8):\n",
    "    for j in range(i):\n",
    "        print('$')\n"
   ]
  },
  {
   "cell_type": "code",
   "execution_count": 112,
   "id": "09b2ff6e-d33a-4335-9aa1-af69ad4e6d29",
   "metadata": {},
   "outputs": [
    {
     "name": "stdout",
     "output_type": "stream",
     "text": [
      "\n",
      "$ \n",
      "$ $ \n",
      "$ $ $ \n",
      "$ $ $ $ \n",
      "$ $ $ $ $ \n",
      "$ $ $ $ $ $ \n",
      "$ $ $ $ $ $ $ \n",
      "$ $ $ $ $ $ $ $ \n",
      "$ $ $ $ $ $ $ $ $ \n",
      "$ $ $ $ $ $ $ $ $ $ \n",
      "$ $ $ $ $ $ $ $ $ $ $ \n",
      "$ $ $ $ $ $ $ $ $ $ $ $ \n",
      "$ $ $ $ $ $ $ $ $ $ $ $ $ \n",
      "$ $ $ $ $ $ $ $ $ $ $ $ $ $ \n",
      "$ $ $ $ $ $ $ $ $ $ $ $ $ $ $ \n",
      "$ $ $ $ $ $ $ $ $ $ $ $ $ $ $ $ \n",
      "$ $ $ $ $ $ $ $ $ $ $ $ $ $ $ $ $ \n",
      "$ $ $ $ $ $ $ $ $ $ $ $ $ $ $ $ $ $ \n",
      "$\n",
      "$\n",
      "$\n",
      "$\n",
      "$\n",
      "$\n",
      "$\n",
      "$\n",
      "$\n",
      "$\n",
      "$\n",
      "$\n",
      "$\n",
      "$\n",
      "$\n"
     ]
    }
   ],
   "source": [
    "for i in range(19):\n",
    "    for j in range(i):\n",
    "        print('$',end=\" \")\n",
    "    print()\n",
    "for i in range(6):\n",
    "    for j in range(i):\n",
    "        print('$')"
   ]
  },
  {
   "cell_type": "code",
   "execution_count": 111,
   "id": "e027507c-2d8a-4938-adce-798e8467afd5",
   "metadata": {},
   "outputs": [
    {
     "name": "stdout",
     "output_type": "stream",
     "text": [
      "#  #  #  #  \n",
      "#  #  #  \n",
      "#  #  \n",
      "#  \n",
      "#  #  #  #  \n",
      "#  #  #  \n",
      "#  #  \n",
      "#  \n",
      "#  #  #  #  \n",
      "#  #  #  \n",
      "#  #  \n",
      "#  \n",
      "#  #  #  #  \n",
      "#  #  #  \n",
      "#  #  \n",
      "#  \n",
      "#  #  #  #  \n",
      "#  #  #  \n",
      "#  #  \n",
      "#  \n",
      "#  #  #  #  \n",
      "#  #  #  \n",
      "#  #  \n",
      "#  \n",
      "#  #  #  #  \n",
      "#  #  #  \n",
      "#  #  \n",
      "#  \n",
      "#  #  #  #  \n",
      "#  #  #  \n",
      "#  #  \n",
      "#  \n",
      "#  #  #  #  \n",
      "#  #  #  \n",
      "#  #  \n",
      "#  \n",
      "#  #  #  #  \n",
      "#  #  #  \n",
      "#  #  \n",
      "#  \n"
     ]
    }
   ],
   "source": [
    "for i in range(4):\n",
    "    for j in range(i+1):\n",
    "        for i in range(4):\n",
    "            for j in range(4-i):\n",
    "                print('#', end=\"  \")\n",
    "            print()"
   ]
  },
  {
   "cell_type": "code",
   "execution_count": 103,
   "id": "7f899183-03d2-4118-9f53-258dc7966b99",
   "metadata": {},
   "outputs": [
    {
     "name": "stdout",
     "output_type": "stream",
     "text": [
      "#  #  #  #  \n",
      "#  #  #  \n",
      "#  #  \n",
      "#  \n",
      "#  #  #  #  \n",
      "#  #  #  \n",
      "#  #  \n",
      "#  \n",
      "#  #  #  #  \n",
      "#  #  #  \n",
      "#  #  \n",
      "#  \n",
      "#  #  #  #  \n",
      "#  #  #  \n",
      "#  #  \n",
      "#  \n",
      "#  #  #  #  \n",
      "#  #  #  \n",
      "#  #  \n",
      "#  \n",
      "#  #  #  #  \n",
      "#  #  #  \n",
      "#  #  \n",
      "#  \n"
     ]
    }
   ],
   "source": [
    "for i in range(4):\n",
    "    for j in range(i):\n",
    "        for i in range(4):\n",
    "            for j in range(4-i):\n",
    "                print('#', end=\"  \")\n",
    "            print()"
   ]
  },
  {
   "cell_type": "code",
   "execution_count": 107,
   "id": "c130b99d-c8aa-4fa6-88d9-050658401d3d",
   "metadata": {},
   "outputs": [
    {
     "ename": "IndentationError",
     "evalue": "expected an indented block after 'for' statement on line 3 (3911644357.py, line 4)",
     "output_type": "error",
     "traceback": [
      "\u001b[1;36m  Cell \u001b[1;32mIn[107], line 4\u001b[1;36m\u001b[0m\n\u001b[1;33m    for j in range(4-i):\u001b[0m\n\u001b[1;37m    ^\u001b[0m\n\u001b[1;31mIndentationError\u001b[0m\u001b[1;31m:\u001b[0m expected an indented block after 'for' statement on line 3\n"
     ]
    }
   ],
   "source": [
    "for i in range(4):\n",
    "    for j in range(i):\n",
    "        for i in range(4):\n",
    "    for j in range(4-i):\n",
    "        print('#', end=\"  \")\n",
    "        print()"
   ]
  },
  {
   "cell_type": "code",
   "execution_count": 114,
   "id": "fd4add7c-4a61-49ba-856b-4f60d1f0b8d3",
   "metadata": {},
   "outputs": [
    {
     "name": "stdout",
     "output_type": "stream",
     "text": [
      "\n",
      "$ \n",
      "$ $ \n",
      "$ $ $ \n",
      "$ $ $ $ \n",
      "$ $ $ $ $ \n",
      "$ $ $ $ $ $ \n",
      "$ $ $ $ $ $ $ \n",
      "$ $ $ $ $ $ $ $ \n",
      "$ $ $ $ $ $ $ $ $ \n",
      "$ $ $ $ $ $ $ $ $ $ \n",
      "$ $ $ $ $ $ $ $ $ $ $ \n",
      "$ $ $ $ $ $ $ $ $ $ $ $ \n",
      "$ $ $ $ $ $ $ $ $ $ $ $ $ \n",
      "$ $ $ $ $ $ $ $ $ $ $ $ $ $ \n",
      "$ $ $ $ $ $ $ $ $ $ $ $ $ $ $ \n",
      "$ $ $ $ $ $ $ $ $ $ $ $ $ $ $ $ \n",
      "$ $ $ $ $ $ $ $ $ $ $ $ $ $ $ $ $ \n",
      "$ $ $ $ $ $ $ $ $ $ $ $ $ $ $ $ $ $ \n",
      "$\n",
      "$\n",
      "$\n",
      "$\n",
      "$\n",
      "$\n",
      "$\n",
      "$\n",
      "$\n",
      "$\n",
      "$\n",
      "$\n",
      "$\n",
      "$\n",
      "$\n"
     ]
    }
   ],
   "source": [
    "for s in range(19):\n",
    "    for d in range(s):\n",
    "        print('$',end=\" \")\n",
    "    print()\n",
    "for s in range(6):\n",
    "    for d in range(s):\n",
    "        print('$')"
   ]
  },
  {
   "cell_type": "code",
   "execution_count": 119,
   "id": "75eebef0-a7a9-4cda-92a0-8f8c89a186c3",
   "metadata": {},
   "outputs": [
    {
     "name": "stdout",
     "output_type": "stream",
     "text": [
      "\n",
      "$ \n",
      "$ $ \n",
      "$ $ $ \n",
      "$ $ $ $ \n",
      "$ $ $ $ $ \n",
      "$ $ $ $ $ $ \n",
      "$ $ $ $ $ $ $ \n",
      "$ $ $ $ $ $ $ $ \n",
      "$ $ $ $ $ $ $ $ $ \n",
      "$ $ $ $ $ $ $ $ $ $ \n",
      "$ $ $ $ $ $ $ $ $ $ $ \n",
      "$ $ $ $ $ $ $ $ $ $ $ $ \n",
      "$ $ $ $ $ $ $ $ $ $ $ $ $ \n",
      "$ $ $ $ $ $ $ $ $ $ $ $ $ $ \n",
      "$ $ $ $ $ $ $ $ $ $ $ $ $ $ $ \n",
      "$ $ $ $ $ $ $ $ $ $ $ $ $ $ $ $ \n",
      "$ $ $ $ $ $ $ $ $ $ $ $ $ $ $ $ $ \n",
      "$ $ $ $ $ $ $ $ $ $ $ $ $ $ $ $ $ $ \n",
      "  $\n",
      "  $\n",
      "  $\n",
      "  $\n",
      "  $\n",
      "  $\n",
      "  $\n",
      "  $\n",
      "  $\n",
      "  $\n",
      "  $\n",
      "  $\n",
      "  $\n",
      "  $\n",
      "  $\n"
     ]
    }
   ],
   "source": [
    "for s in range(19):\n",
    "    for d in range(s):\n",
    "        print('$',end=\" \")\n",
    "    print()\n",
    "for s in range(6):\n",
    "    for d in range(s):\n",
    "        print('  $')"
   ]
  },
  {
   "cell_type": "code",
   "execution_count": 134,
   "id": "6a239932-8e3c-44d6-abc6-9f902f0ca55b",
   "metadata": {},
   "outputs": [
    {
     "name": "stdout",
     "output_type": "stream",
     "text": [
      "\n",
      "$ \n",
      "$ $ \n",
      "$ $ $ \n",
      "$ $ $ $ \n",
      "$ $ $ $ $ \n",
      "$ $ $ $ $ $ \n",
      "$ $ $ $ $ $ $ \n",
      "$ $ $ $ $ $ $ $ \n",
      "$ $ $ $ $ $ $ $ $ \n",
      "$ $ $ $ $ $ $ $ $ $ \n",
      "$ $ $ $ $ $ $ $ $ $ $ \n",
      "$ $ $ $ $ $ $ $ $ $ $ $ \n",
      "$ $ $ $ $ $ $ $ $ $ $ $ $ \n",
      "$ $ $ $ $ $ $ $ $ $ $ $ $ $ \n",
      "$ $ $ $ $ $ $ $ $ $ $ $ $ $ $ \n",
      "$ $ $ $ $ $ $ $ $ $ $ $ $ $ $ $ \n",
      "$ $ $ $ $ $ $ $ $ $ $ $ $ $ $ $ $ \n",
      "$ $ $ $ $ $ $ $ $ $ $ $ $ $ $ $ $ $ \n",
      "  $\n",
      "  $\n",
      "  $\n",
      "  $\n",
      "  $\n",
      "  $\n",
      "  $\n",
      "  $\n",
      "  $\n",
      "  $\n",
      "  $\n",
      "  $\n",
      "  $\n",
      "  $\n",
      "  $\n",
      "$$$$$$$$$$$$$$$$\n",
      "$$$$$$$$$$$$$$$$\n",
      "$$$$$$$$$$$$$$$$\n",
      "$$$$$$$$$$$$$$$$\n",
      "$$$$$$$$$$$$$$$$\n"
     ]
    }
   ],
   "source": [
    "for s in range(19):\n",
    "    for d in range(s):\n",
    "        print('$',end=\" \")\n",
    "    print()\n",
    "for s in range(6):\n",
    "    for d in range(s):\n",
    "        print('  $')\n",
    "for i in range(j+1):\n",
    "    for j in range(4):\n",
    "        print('$$$$',end=\"\")\n",
    "    print()"
   ]
  },
  {
   "cell_type": "markdown",
   "id": "74803708-f593-47d6-856c-26b761c2d7b7",
   "metadata": {},
   "source": [
    "___For Else___"
   ]
  },
  {
   "cell_type": "code",
   "execution_count": 136,
   "id": "e9e4cf02-adf5-419d-90d7-24afdba4475e",
   "metadata": {},
   "outputs": [
    {
     "name": "stdout",
     "output_type": "stream",
     "text": [
      "15\n"
     ]
    }
   ],
   "source": [
    "nums = [12,15,18,21,26]\n",
    "for num in nums:\n",
    "    if num % 5 == 0:\n",
    "        print(num) "
   ]
  },
  {
   "cell_type": "code",
   "execution_count": 137,
   "id": "84a57d39-84ac-4a10-819c-ecd0d7d7e59c",
   "metadata": {},
   "outputs": [
    {
     "name": "stdout",
     "output_type": "stream",
     "text": [
      "25\n",
      "30\n",
      "35\n"
     ]
    }
   ],
   "source": [
    "nums = [12,14,18,21,25,30,35]\n",
    "for num in nums:\n",
    "    if num % 5 == 0:\n",
    "        print(num) "
   ]
  },
  {
   "cell_type": "code",
   "execution_count": 138,
   "id": "d392d3bb-09bd-4582-9c5e-9334ff8431f3",
   "metadata": {},
   "outputs": [
    {
     "name": "stdout",
     "output_type": "stream",
     "text": [
      "25\n",
      "20\n"
     ]
    }
   ],
   "source": [
    "nums = [12,14,18,21,25,20]\n",
    "for num in nums:\n",
    "    if num % 5 == 0:\n",
    "        print(num)  "
   ]
  },
  {
   "cell_type": "code",
   "execution_count": 139,
   "id": "f9227d01-1011-47d1-97ab-c2e30e91a32c",
   "metadata": {},
   "outputs": [
    {
     "name": "stdout",
     "output_type": "stream",
     "text": [
      "25\n"
     ]
    }
   ],
   "source": [
    "nums = [12,14,18,21,25,20]\n",
    "for num in nums:\n",
    "    if num % 5 == 0:\n",
    "        print(num)  \n",
    "        break"
   ]
  },
  {
   "cell_type": "code",
   "execution_count": 140,
   "id": "cde90f74-0fdd-4311-bb95-c08e784ed7ac",
   "metadata": {},
   "outputs": [
    {
     "name": "stdout",
     "output_type": "stream",
     "text": [
      "20\n"
     ]
    }
   ],
   "source": [
    "nums = [12,14,18,21,20,25]\n",
    "for num in nums:\n",
    "    if num % 5 == 0:\n",
    "        print(num)  \n",
    "        break"
   ]
  },
  {
   "cell_type": "code",
   "execution_count": 141,
   "id": "c6cc92eb-912f-44e5-ae0b-5ff2d511e6f0",
   "metadata": {},
   "outputs": [
    {
     "name": "stdout",
     "output_type": "stream",
     "text": [
      "10\n"
     ]
    }
   ],
   "source": [
    "nums = [10,14,18,21,5,10]\n",
    "for num in nums:\n",
    "    if num % 5 == 0:\n",
    "        print(num)  \n",
    "        break #it will print only 1 number then it break   \n",
    "\n"
   ]
  },
  {
   "cell_type": "code",
   "execution_count": 143,
   "id": "6e4f008f-4b49-434a-bbf9-c0080aada99b",
   "metadata": {},
   "outputs": [],
   "source": [
    "nums = [7,14,18,21,23,27] #hear there is no number which is divisible by 5 we got output as blank\n",
    "for num in nums:\n",
    "    if num % 5 == 0:\n",
    "        print(num)  \n",
    "        break"
   ]
  },
  {
   "cell_type": "code",
   "execution_count": 144,
   "id": "bdc01b5b-26cf-4cfc-ad05-e7f3eca7d634",
   "metadata": {},
   "outputs": [
    {
     "name": "stdout",
     "output_type": "stream",
     "text": [
      "Number Not Found\n",
      "Number Not Found\n",
      "Number Not Found\n",
      "Number Not Found\n",
      "Number Not Found\n",
      "Number Not Found\n"
     ]
    }
   ],
   "source": [
    "nums = [7,14,18,21,23,27] #hear there is no number which is divisible by 5 we got output as blank\n",
    "for num in nums:\n",
    "    if num % 5 == 0:\n",
    "        print(num)  \n",
    "        break\n",
    "    else:\n",
    "        print('Number Not Found') #every iteration it cheking condition        "
   ]
  },
  {
   "cell_type": "code",
   "execution_count": 145,
   "id": "b3914ae2-cf4f-4c99-b1f7-9c2951beed8c",
   "metadata": {},
   "outputs": [
    {
     "name": "stdout",
     "output_type": "stream",
     "text": [
      "Number Not Found\n",
      "Number Not Found\n"
     ]
    }
   ],
   "source": [
    "nums = [7,14] #hear there is no number which is divisible by 5 we got output as blank\n",
    "for num in nums:\n",
    "    if num % 5 == 0:\n",
    "        print(num)  \n",
    "        break\n",
    "    else:\n",
    "        print('Number Not Found') #every iteration it cheking condition "
   ]
  },
  {
   "cell_type": "code",
   "execution_count": 146,
   "id": "b812f3e1-1c9e-4b9b-a208-6c926e45093a",
   "metadata": {},
   "outputs": [
    {
     "name": "stdout",
     "output_type": "stream",
     "text": [
      "Number Not Found\n"
     ]
    }
   ],
   "source": [
    "nums = [7,14,18,21,23,27] #hear there is no number which is divisible by 5 we got output as blank\n",
    "for num in nums:\n",
    "    if num % 5 == 0:\n",
    "        print(num)  \n",
    "        break\n",
    "else:\n",
    "        print('Number Not Found') # hear else we dont write in if block but we can write in for block only"
   ]
  },
  {
   "cell_type": "code",
   "execution_count": 149,
   "id": "db097580-c5e5-4e2e-9938-0c8984d0ae82",
   "metadata": {},
   "outputs": [
    {
     "name": "stdout",
     "output_type": "stream",
     "text": [
      "10\n",
      "20\n",
      "Not Found\n"
     ]
    }
   ],
   "source": [
    "nums = [10,14,18,21,20,27] #hear there is no number which is divisible by 5 we got output as blank\n",
    "for num in nums:\n",
    "    if num % 5 == 0:\n",
    "        print(num)  \n",
    "        #break\n",
    "else:\n",
    "        print('Not Found')"
   ]
  },
  {
   "cell_type": "code",
   "execution_count": 150,
   "id": "d118fee8-6244-402b-b1de-3a74b0dc1c0d",
   "metadata": {},
   "outputs": [
    {
     "name": "stdout",
     "output_type": "stream",
     "text": [
      "10\n",
      "20\n",
      "30\n",
      "Not Found\n"
     ]
    }
   ],
   "source": [
    "nums = [10,14,18,21,20,27,30] #hear there is no number which is divisible by 5 we got output as blank\n",
    "for num in nums:\n",
    "    if num % 5 == 0:\n",
    "        print(num)  \n",
    "        #break\n",
    "else:\n",
    "        print('Not Found')"
   ]
  },
  {
   "cell_type": "code",
   "execution_count": 151,
   "id": "7d03ac3b-a831-41ec-92f4-b2d90404a02c",
   "metadata": {},
   "outputs": [
    {
     "name": "stdout",
     "output_type": "stream",
     "text": [
      "10\n"
     ]
    }
   ],
   "source": [
    "nums = [10,14,18,21,20,27] #hear there is no number which is divisible by 5 we got output as blank\n",
    "for num in nums:\n",
    "    if num % 5 == 0:\n",
    "        print(num)  \n",
    "        break\n",
    "else:\n",
    "        print('Not Found')"
   ]
  },
  {
   "cell_type": "code",
   "execution_count": 152,
   "id": "38ae8444-9f2c-4d06-956b-e7d781c313eb",
   "metadata": {},
   "outputs": [
    {
     "name": "stdout",
     "output_type": "stream",
     "text": [
      "Not prime Number\n"
     ]
    }
   ],
   "source": [
    "num = 12\n",
    "for i in range(2,num):\n",
    "    if num % i == 0:\n",
    "        print('Not prime Number')\n",
    "        break\n",
    "else:\n",
    "    print('Prime Number')"
   ]
  },
  {
   "cell_type": "code",
   "execution_count": 153,
   "id": "2e3d1531-0880-4a96-b832-37f43af65b3c",
   "metadata": {},
   "outputs": [
    {
     "name": "stdout",
     "output_type": "stream",
     "text": [
      "Prime Number\n"
     ]
    }
   ],
   "source": [
    "num = 13\n",
    "for i in range(2,num):\n",
    "    if num % i == 0:\n",
    "        print('Not prime Number')\n",
    "        break\n",
    "else:\n",
    "    print('Prime Number')"
   ]
  },
  {
   "cell_type": "code",
   "execution_count": 154,
   "id": "ed4e8897-0c38-45f0-b85b-5be7dd0991f2",
   "metadata": {},
   "outputs": [
    {
     "name": "stdin",
     "output_type": "stream",
     "text": [
      "Enter the length of the array 4\n",
      "Enter the next value 5\n",
      "Enter the next value 6\n",
      "Enter the next value 7\n",
      "Enter the next value 8\n",
      "Enter the next value 4\n"
     ]
    },
    {
     "name": "stdout",
     "output_type": "stream",
     "text": [
      "array('i', [5, 6, 7, 8, 4])\n"
     ]
    }
   ],
   "source": [
    "from array import * \n",
    "arr = array('i',[])\n",
    "\n",
    "n = int(input('Enter the length of the array'))\n",
    "\n",
    "for i in range(5):\n",
    "    x = int(input('Enter the next value'))\n",
    "    arr.append(x)\n",
    "print(arr)"
   ]
  },
  {
   "cell_type": "code",
   "execution_count": 155,
   "id": "c53b4cee-544f-479a-8f00-d1d5a82e5a14",
   "metadata": {},
   "outputs": [
    {
     "name": "stdin",
     "output_type": "stream",
     "text": [
      "Enter the length of the array 5\n",
      "Enter the next value 6\n",
      "Enter the next value 3\n",
      "Enter the next value 2\n",
      "Enter the next value 4\n",
      "Enter the next value 5\n"
     ]
    },
    {
     "name": "stdout",
     "output_type": "stream",
     "text": [
      "array('i', [6, 3, 2, 4, 5])\n"
     ]
    }
   ],
   "source": [
    "from array import * \n",
    "arr = array('i',[])\n",
    "\n",
    "n = int(input('Enter the length of the array'))\n",
    "\n",
    "for i in range(5):\n",
    "    x = int(input('Enter the next value'))\n",
    "    arr.append(x)\n",
    "print(arr)"
   ]
  },
  {
   "cell_type": "code",
   "execution_count": 162,
   "id": "3adef7bb-dcc0-44c6-9da7-55340bbe2e38",
   "metadata": {},
   "outputs": [
    {
     "name": "stdin",
     "output_type": "stream",
     "text": [
      "Enter the length of the array 8\n",
      "Enter the next value 12\n",
      "Enter the next value 3\n",
      "Enter the next value 4\n",
      "Enter the next value 5\n",
      "Enter the next value 6\n",
      "Enter the next value 7\n",
      "Enter the next value 3\n",
      "Enter the next value 2\n"
     ]
    },
    {
     "name": "stdout",
     "output_type": "stream",
     "text": [
      "array('i', [12, 3, 4, 5, 6, 7, 3, 2])\n"
     ]
    }
   ],
   "source": [
    "from array import * \n",
    "arr = array('i',[])\n",
    "\n",
    "n = int(input('Enter the length of the array'))\n",
    "\n",
    "for i in range(n):\n",
    "    x = int(input('Enter the next value'))\n",
    "    arr.append(x)\n",
    "print(arr)"
   ]
  },
  {
   "cell_type": "code",
   "execution_count": 163,
   "id": "0a3cdca9-b828-4548-96d6-612a7d3bb171",
   "metadata": {},
   "outputs": [
    {
     "name": "stdout",
     "output_type": "stream",
     "text": [
      "[1 2 3 4 5]\n"
     ]
    },
    {
     "data": {
      "text/plain": [
       "numpy.ndarray"
      ]
     },
     "execution_count": 163,
     "metadata": {},
     "output_type": "execute_result"
    }
   ],
   "source": [
    "from numpy import *\n",
    "arr = array([1,2,3,4,5])\n",
    "print(arr)\n",
    "type(arr)"
   ]
  },
  {
   "cell_type": "code",
   "execution_count": 164,
   "id": "4a0a3851-3e1d-403a-942a-ccb73925341d",
   "metadata": {},
   "outputs": [
    {
     "name": "stdout",
     "output_type": "stream",
     "text": [
      "int32\n"
     ]
    }
   ],
   "source": [
    "print(arr.dtype)"
   ]
  },
  {
   "cell_type": "code",
   "execution_count": 165,
   "id": "8afb79e5-7952-4786-9ad8-2bde901053f0",
   "metadata": {},
   "outputs": [
    {
     "name": "stdout",
     "output_type": "stream",
     "text": [
      "[1.  2.  3.  4.  5.9]\n"
     ]
    }
   ],
   "source": [
    "arr = array([1,2,3,4,5.9])\n",
    "print(arr)"
   ]
  },
  {
   "cell_type": "code",
   "execution_count": 166,
   "id": "ea10de6e-9dbf-4335-98c9-7690b88d501e",
   "metadata": {},
   "outputs": [
    {
     "name": "stdout",
     "output_type": "stream",
     "text": [
      "float64\n"
     ]
    }
   ],
   "source": [
    "print(arr.dtype)"
   ]
  },
  {
   "cell_type": "code",
   "execution_count": 167,
   "id": "cf1ac08b-3cf3-4a17-8279-f11c3998f90a",
   "metadata": {},
   "outputs": [
    {
     "data": {
      "text/plain": [
       "array([1. , 2. , 3. , 4. , 5.9])"
      ]
     },
     "execution_count": 167,
     "metadata": {},
     "output_type": "execute_result"
    }
   ],
   "source": [
    "arr2 = array([1,2,3,4,5.9],float)\n",
    "arr2"
   ]
  },
  {
   "cell_type": "code",
   "execution_count": 168,
   "id": "6436fce0-4bda-45d7-b6fc-31002a03b4e4",
   "metadata": {},
   "outputs": [
    {
     "data": {
      "text/plain": [
       "array([1, 2, 3, 4, 5])"
      ]
     },
     "execution_count": 168,
     "metadata": {},
     "output_type": "execute_result"
    }
   ],
   "source": [
    "arr3 = array([1,2,3,4,5.6],int)\n",
    "arr3"
   ]
  },
  {
   "cell_type": "code",
   "execution_count": 169,
   "id": "484221c4-529c-4ab5-bac8-6063819c7077",
   "metadata": {},
   "outputs": [],
   "source": [
    "import numpy as np"
   ]
  },
  {
   "cell_type": "code",
   "execution_count": 170,
   "id": "101a167a-5e72-4aee-8b6e-cbc29d5c10d8",
   "metadata": {},
   "outputs": [
    {
     "data": {
      "text/plain": [
       "array([ 0.        ,  1.77777778,  3.55555556,  5.33333333,  7.11111111,\n",
       "        8.88888889, 10.66666667, 12.44444444, 14.22222222, 16.        ])"
      ]
     },
     "execution_count": 170,
     "metadata": {},
     "output_type": "execute_result"
    }
   ],
   "source": [
    "arr4 = np.linspace(0, 16, 10) # break the code between 10 spaces between 0 to 16 but why decimal becuase we break into parts thats why it is floats\n",
    "arr4"
   ]
  },
  {
   "cell_type": "code",
   "execution_count": 171,
   "id": "743a73ad-9fa0-474a-a6f9-8d6cba8d35a1",
   "metadata": {},
   "outputs": [
    {
     "data": {
      "text/plain": [
       "array([0, 2, 4, 6, 8])"
      ]
     },
     "execution_count": 171,
     "metadata": {},
     "output_type": "execute_result"
    }
   ],
   "source": [
    "arr5 = np.arange(0,10,2) # arange - as range\n",
    "arr5"
   ]
  },
  {
   "cell_type": "code",
   "execution_count": 172,
   "id": "b929cdc1-60a8-4ab0-a306-657f445d638c",
   "metadata": {},
   "outputs": [
    {
     "data": {
      "text/plain": [
       "array([0., 0., 0., 0., 0.])"
      ]
     },
     "execution_count": 172,
     "metadata": {},
     "output_type": "execute_result"
    }
   ],
   "source": [
    "arr6 = np.zeros(5)\n",
    "arr6"
   ]
  },
  {
   "cell_type": "code",
   "execution_count": 173,
   "id": "08e60f03-2ae0-404c-8f59-a52ebe240dd5",
   "metadata": {},
   "outputs": [
    {
     "data": {
      "text/plain": [
       "array([1., 1., 1., 1., 1.])"
      ]
     },
     "execution_count": 173,
     "metadata": {},
     "output_type": "execute_result"
    }
   ],
   "source": [
    "arr7 = np.ones(5)\n",
    "arr7"
   ]
  },
  {
   "cell_type": "code",
   "execution_count": null,
   "id": "d620109e-7d9f-40e8-99a5-947a21cb2a5f",
   "metadata": {},
   "outputs": [],
   "source": []
  }
 ],
 "metadata": {
  "kernelspec": {
   "display_name": "Python 3 (ipykernel)",
   "language": "python",
   "name": "python3"
  },
  "language_info": {
   "codemirror_mode": {
    "name": "ipython",
    "version": 3
   },
   "file_extension": ".py",
   "mimetype": "text/x-python",
   "name": "python",
   "nbconvert_exporter": "python",
   "pygments_lexer": "ipython3",
   "version": "3.11.5"
  },
  "widgets": {
   "application/vnd.jupyter.widget-state+json": {
    "state": {},
    "version_major": 2,
    "version_minor": 0
   }
  }
 },
 "nbformat": 4,
 "nbformat_minor": 5
}
